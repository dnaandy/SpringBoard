{
 "cells": [
  {
   "cell_type": "code",
   "execution_count": 1,
   "metadata": {},
   "outputs": [],
   "source": [
    "import numpy as np\n",
    "import pandas as pd\n",
    "import matplotlib.pyplot as plt\n",
    "import seaborn as sns\n",
    "from datetime import datetime\n",
    "import math\n",
    "\n",
    "import  warnings\n",
    "warnings.simplefilter('ignore')\n",
    "\n",
    "%matplotlib inline"
   ]
  },
  {
   "cell_type": "markdown",
   "metadata": {},
   "source": [
    "**Zoom daily stock price from 01/23/2020 to 09/17/2021, downloaded from Yahoo Finance**\n",
    "\n",
    "**Covid-19 daily cases from 01/23/2020 (first available date) to 09/17/2021, downloaded from US-CDC covid data tracker**\n",
    "\n",
    "**We will check the relation between daily new cases and Zoom stock prices.**\n",
    "\n",
    "**Possible hypothesis 0: There is no significant correlation between Zoom daily stock prices and daily new Covid-19 cases from 01/23/2020 to 09/17/2021; alternative hypothesis 1: There is significant correlation between Zoom daily stock prices and daily new Covid-19 cases from 01/23/2020 to 09/17/2021**"
   ]
  },
  {
   "cell_type": "code",
   "execution_count": 2,
   "metadata": {},
   "outputs": [],
   "source": [
    "zm = pd.read_csv('data/ZM.csv')\n",
    "covid = pd.read_csv('data/data_table_for_daily_case_trends__the_united_states.csv')"
   ]
  },
  {
   "cell_type": "code",
   "execution_count": 3,
   "metadata": {
    "scrolled": true
   },
   "outputs": [
    {
     "name": "stdout",
     "output_type": "stream",
     "text": [
      "<class 'pandas.core.frame.DataFrame'>\n",
      "RangeIndex: 417 entries, 0 to 416\n",
      "Data columns (total 7 columns):\n",
      " #   Column     Non-Null Count  Dtype  \n",
      "---  ------     --------------  -----  \n",
      " 0   Date       417 non-null    object \n",
      " 1   Open       417 non-null    float64\n",
      " 2   High       417 non-null    float64\n",
      " 3   Low        417 non-null    float64\n",
      " 4   Close      417 non-null    float64\n",
      " 5   Adj Close  417 non-null    float64\n",
      " 6   Volume     417 non-null    int64  \n",
      "dtypes: float64(5), int64(1), object(1)\n",
      "memory usage: 22.9+ KB\n"
     ]
    }
   ],
   "source": [
    "zm.info()"
   ]
  },
  {
   "cell_type": "code",
   "execution_count": 4,
   "metadata": {},
   "outputs": [
    {
     "data": {
      "text/html": [
       "<div>\n",
       "<style scoped>\n",
       "    .dataframe tbody tr th:only-of-type {\n",
       "        vertical-align: middle;\n",
       "    }\n",
       "\n",
       "    .dataframe tbody tr th {\n",
       "        vertical-align: top;\n",
       "    }\n",
       "\n",
       "    .dataframe thead th {\n",
       "        text-align: right;\n",
       "    }\n",
       "</style>\n",
       "<table border=\"1\" class=\"dataframe\">\n",
       "  <thead>\n",
       "    <tr style=\"text-align: right;\">\n",
       "      <th></th>\n",
       "      <th>Date</th>\n",
       "      <th>Open</th>\n",
       "      <th>High</th>\n",
       "      <th>Low</th>\n",
       "      <th>Close</th>\n",
       "      <th>Adj Close</th>\n",
       "      <th>Volume</th>\n",
       "    </tr>\n",
       "  </thead>\n",
       "  <tbody>\n",
       "    <tr>\n",
       "      <th>0</th>\n",
       "      <td>2020-01-23</td>\n",
       "      <td>75.669998</td>\n",
       "      <td>75.970001</td>\n",
       "      <td>74.209999</td>\n",
       "      <td>74.470001</td>\n",
       "      <td>74.470001</td>\n",
       "      <td>1279000</td>\n",
       "    </tr>\n",
       "    <tr>\n",
       "      <th>1</th>\n",
       "      <td>2020-01-24</td>\n",
       "      <td>74.970001</td>\n",
       "      <td>76.184998</td>\n",
       "      <td>72.375000</td>\n",
       "      <td>73.000000</td>\n",
       "      <td>73.000000</td>\n",
       "      <td>1660200</td>\n",
       "    </tr>\n",
       "    <tr>\n",
       "      <th>2</th>\n",
       "      <td>2020-01-27</td>\n",
       "      <td>71.330002</td>\n",
       "      <td>72.132004</td>\n",
       "      <td>70.320000</td>\n",
       "      <td>70.440002</td>\n",
       "      <td>70.440002</td>\n",
       "      <td>1750700</td>\n",
       "    </tr>\n",
       "    <tr>\n",
       "      <th>3</th>\n",
       "      <td>2020-01-28</td>\n",
       "      <td>71.000000</td>\n",
       "      <td>72.480003</td>\n",
       "      <td>70.260002</td>\n",
       "      <td>71.510002</td>\n",
       "      <td>71.510002</td>\n",
       "      <td>1598200</td>\n",
       "    </tr>\n",
       "    <tr>\n",
       "      <th>4</th>\n",
       "      <td>2020-01-29</td>\n",
       "      <td>72.510002</td>\n",
       "      <td>74.139999</td>\n",
       "      <td>71.212997</td>\n",
       "      <td>73.580002</td>\n",
       "      <td>73.580002</td>\n",
       "      <td>1373400</td>\n",
       "    </tr>\n",
       "  </tbody>\n",
       "</table>\n",
       "</div>"
      ],
      "text/plain": [
       "         Date       Open       High        Low      Close  Adj Close   Volume\n",
       "0  2020-01-23  75.669998  75.970001  74.209999  74.470001  74.470001  1279000\n",
       "1  2020-01-24  74.970001  76.184998  72.375000  73.000000  73.000000  1660200\n",
       "2  2020-01-27  71.330002  72.132004  70.320000  70.440002  70.440002  1750700\n",
       "3  2020-01-28  71.000000  72.480003  70.260002  71.510002  71.510002  1598200\n",
       "4  2020-01-29  72.510002  74.139999  71.212997  73.580002  73.580002  1373400"
      ]
     },
     "execution_count": 4,
     "metadata": {},
     "output_type": "execute_result"
    }
   ],
   "source": [
    "zm.head()"
   ]
  },
  {
   "cell_type": "code",
   "execution_count": 5,
   "metadata": {
    "scrolled": true
   },
   "outputs": [
    {
     "data": {
      "text/html": [
       "<div>\n",
       "<style scoped>\n",
       "    .dataframe tbody tr th:only-of-type {\n",
       "        vertical-align: middle;\n",
       "    }\n",
       "\n",
       "    .dataframe tbody tr th {\n",
       "        vertical-align: top;\n",
       "    }\n",
       "\n",
       "    .dataframe thead th {\n",
       "        text-align: right;\n",
       "    }\n",
       "</style>\n",
       "<table border=\"1\" class=\"dataframe\">\n",
       "  <thead>\n",
       "    <tr style=\"text-align: right;\">\n",
       "      <th></th>\n",
       "      <th>Date</th>\n",
       "      <th>Open</th>\n",
       "      <th>High</th>\n",
       "      <th>Low</th>\n",
       "      <th>Close</th>\n",
       "      <th>Adj Close</th>\n",
       "      <th>Volume</th>\n",
       "    </tr>\n",
       "  </thead>\n",
       "  <tbody>\n",
       "    <tr>\n",
       "      <th>412</th>\n",
       "      <td>2021-09-10</td>\n",
       "      <td>296.910004</td>\n",
       "      <td>306.263000</td>\n",
       "      <td>296.809998</td>\n",
       "      <td>301.500000</td>\n",
       "      <td>301.500000</td>\n",
       "      <td>6089600</td>\n",
       "    </tr>\n",
       "    <tr>\n",
       "      <th>413</th>\n",
       "      <td>2021-09-13</td>\n",
       "      <td>300.160004</td>\n",
       "      <td>300.274994</td>\n",
       "      <td>289.820007</td>\n",
       "      <td>290.239990</td>\n",
       "      <td>290.239990</td>\n",
       "      <td>4916100</td>\n",
       "    </tr>\n",
       "    <tr>\n",
       "      <th>414</th>\n",
       "      <td>2021-09-14</td>\n",
       "      <td>290.338013</td>\n",
       "      <td>291.880005</td>\n",
       "      <td>280.920013</td>\n",
       "      <td>281.440002</td>\n",
       "      <td>281.440002</td>\n",
       "      <td>6036800</td>\n",
       "    </tr>\n",
       "    <tr>\n",
       "      <th>415</th>\n",
       "      <td>2021-09-15</td>\n",
       "      <td>282.329987</td>\n",
       "      <td>283.070007</td>\n",
       "      <td>277.019989</td>\n",
       "      <td>279.119995</td>\n",
       "      <td>279.119995</td>\n",
       "      <td>4647400</td>\n",
       "    </tr>\n",
       "    <tr>\n",
       "      <th>416</th>\n",
       "      <td>2021-09-16</td>\n",
       "      <td>277.679993</td>\n",
       "      <td>279.290009</td>\n",
       "      <td>273.500000</td>\n",
       "      <td>278.220001</td>\n",
       "      <td>278.220001</td>\n",
       "      <td>4676300</td>\n",
       "    </tr>\n",
       "  </tbody>\n",
       "</table>\n",
       "</div>"
      ],
      "text/plain": [
       "           Date        Open        High         Low       Close   Adj Close  \\\n",
       "412  2021-09-10  296.910004  306.263000  296.809998  301.500000  301.500000   \n",
       "413  2021-09-13  300.160004  300.274994  289.820007  290.239990  290.239990   \n",
       "414  2021-09-14  290.338013  291.880005  280.920013  281.440002  281.440002   \n",
       "415  2021-09-15  282.329987  283.070007  277.019989  279.119995  279.119995   \n",
       "416  2021-09-16  277.679993  279.290009  273.500000  278.220001  278.220001   \n",
       "\n",
       "      Volume  \n",
       "412  6089600  \n",
       "413  4916100  \n",
       "414  6036800  \n",
       "415  4647400  \n",
       "416  4676300  "
      ]
     },
     "execution_count": 5,
     "metadata": {},
     "output_type": "execute_result"
    }
   ],
   "source": [
    "zm.tail()"
   ]
  },
  {
   "cell_type": "code",
   "execution_count": 6,
   "metadata": {},
   "outputs": [
    {
     "data": {
      "text/plain": [
       "Date         0\n",
       "Open         0\n",
       "High         0\n",
       "Low          0\n",
       "Close        0\n",
       "Adj Close    0\n",
       "Volume       0\n",
       "dtype: int64"
      ]
     },
     "execution_count": 6,
     "metadata": {},
     "output_type": "execute_result"
    }
   ],
   "source": [
    "zm.isnull().sum()"
   ]
  },
  {
   "cell_type": "code",
   "execution_count": 7,
   "metadata": {},
   "outputs": [
    {
     "name": "stdout",
     "output_type": "stream",
     "text": [
      "<class 'pandas.core.frame.DataFrame'>\n",
      "RangeIndex: 604 entries, 0 to 603\n",
      "Data columns (total 5 columns):\n",
      " #   Column            Non-Null Count  Dtype \n",
      "---  ------            --------------  ----- \n",
      " 0   State             604 non-null    object\n",
      " 1   Date              604 non-null    object\n",
      " 2   New Cases         604 non-null    int64 \n",
      " 3   7-Day Moving Avg  604 non-null    int64 \n",
      " 4   Historic Cases    604 non-null    int64 \n",
      "dtypes: int64(3), object(2)\n",
      "memory usage: 23.7+ KB\n"
     ]
    }
   ],
   "source": [
    "covid.info()"
   ]
  },
  {
   "cell_type": "code",
   "execution_count": 8,
   "metadata": {},
   "outputs": [
    {
     "data": {
      "text/html": [
       "<div>\n",
       "<style scoped>\n",
       "    .dataframe tbody tr th:only-of-type {\n",
       "        vertical-align: middle;\n",
       "    }\n",
       "\n",
       "    .dataframe tbody tr th {\n",
       "        vertical-align: top;\n",
       "    }\n",
       "\n",
       "    .dataframe thead th {\n",
       "        text-align: right;\n",
       "    }\n",
       "</style>\n",
       "<table border=\"1\" class=\"dataframe\">\n",
       "  <thead>\n",
       "    <tr style=\"text-align: right;\">\n",
       "      <th></th>\n",
       "      <th>State</th>\n",
       "      <th>Date</th>\n",
       "      <th>New Cases</th>\n",
       "      <th>7-Day Moving Avg</th>\n",
       "      <th>Historic Cases</th>\n",
       "    </tr>\n",
       "  </thead>\n",
       "  <tbody>\n",
       "    <tr>\n",
       "      <th>0</th>\n",
       "      <td>United States</td>\n",
       "      <td>Sep 17 2021</td>\n",
       "      <td>151488</td>\n",
       "      <td>140234</td>\n",
       "      <td>1030</td>\n",
       "    </tr>\n",
       "    <tr>\n",
       "      <th>1</th>\n",
       "      <td>United States</td>\n",
       "      <td>Sep 16 2021</td>\n",
       "      <td>159675</td>\n",
       "      <td>142888</td>\n",
       "      <td>1313</td>\n",
       "    </tr>\n",
       "    <tr>\n",
       "      <th>2</th>\n",
       "      <td>United States</td>\n",
       "      <td>Sep 15 2021</td>\n",
       "      <td>162408</td>\n",
       "      <td>147154</td>\n",
       "      <td>1604</td>\n",
       "    </tr>\n",
       "    <tr>\n",
       "      <th>3</th>\n",
       "      <td>United States</td>\n",
       "      <td>Sep 14 2021</td>\n",
       "      <td>154535</td>\n",
       "      <td>149678</td>\n",
       "      <td>1430</td>\n",
       "    </tr>\n",
       "    <tr>\n",
       "      <th>4</th>\n",
       "      <td>United States</td>\n",
       "      <td>Sep 13 2021</td>\n",
       "      <td>111822</td>\n",
       "      <td>143054</td>\n",
       "      <td>164</td>\n",
       "    </tr>\n",
       "  </tbody>\n",
       "</table>\n",
       "</div>"
      ],
      "text/plain": [
       "           State         Date  New Cases  7-Day Moving Avg  Historic Cases\n",
       "0  United States  Sep 17 2021     151488            140234            1030\n",
       "1  United States  Sep 16 2021     159675            142888            1313\n",
       "2  United States  Sep 15 2021     162408            147154            1604\n",
       "3  United States  Sep 14 2021     154535            149678            1430\n",
       "4  United States  Sep 13 2021     111822            143054             164"
      ]
     },
     "execution_count": 8,
     "metadata": {},
     "output_type": "execute_result"
    }
   ],
   "source": [
    "covid.head()"
   ]
  },
  {
   "cell_type": "code",
   "execution_count": 9,
   "metadata": {},
   "outputs": [
    {
     "data": {
      "text/html": [
       "<div>\n",
       "<style scoped>\n",
       "    .dataframe tbody tr th:only-of-type {\n",
       "        vertical-align: middle;\n",
       "    }\n",
       "\n",
       "    .dataframe tbody tr th {\n",
       "        vertical-align: top;\n",
       "    }\n",
       "\n",
       "    .dataframe thead th {\n",
       "        text-align: right;\n",
       "    }\n",
       "</style>\n",
       "<table border=\"1\" class=\"dataframe\">\n",
       "  <thead>\n",
       "    <tr style=\"text-align: right;\">\n",
       "      <th></th>\n",
       "      <th>State</th>\n",
       "      <th>Date</th>\n",
       "      <th>New Cases</th>\n",
       "      <th>7-Day Moving Avg</th>\n",
       "      <th>Historic Cases</th>\n",
       "    </tr>\n",
       "  </thead>\n",
       "  <tbody>\n",
       "    <tr>\n",
       "      <th>599</th>\n",
       "      <td>United States</td>\n",
       "      <td>Jan 27 2020</td>\n",
       "      <td>0</td>\n",
       "      <td>1</td>\n",
       "      <td>0</td>\n",
       "    </tr>\n",
       "    <tr>\n",
       "      <th>600</th>\n",
       "      <td>United States</td>\n",
       "      <td>Jan 26 2020</td>\n",
       "      <td>3</td>\n",
       "      <td>1</td>\n",
       "      <td>0</td>\n",
       "    </tr>\n",
       "    <tr>\n",
       "      <th>601</th>\n",
       "      <td>United States</td>\n",
       "      <td>Jan 25 2020</td>\n",
       "      <td>0</td>\n",
       "      <td>1</td>\n",
       "      <td>0</td>\n",
       "    </tr>\n",
       "    <tr>\n",
       "      <th>602</th>\n",
       "      <td>United States</td>\n",
       "      <td>Jan 24 2020</td>\n",
       "      <td>1</td>\n",
       "      <td>1</td>\n",
       "      <td>0</td>\n",
       "    </tr>\n",
       "    <tr>\n",
       "      <th>603</th>\n",
       "      <td>United States</td>\n",
       "      <td>Jan 23 2020</td>\n",
       "      <td>1</td>\n",
       "      <td>1</td>\n",
       "      <td>0</td>\n",
       "    </tr>\n",
       "  </tbody>\n",
       "</table>\n",
       "</div>"
      ],
      "text/plain": [
       "             State         Date  New Cases  7-Day Moving Avg  Historic Cases\n",
       "599  United States  Jan 27 2020          0                 1               0\n",
       "600  United States  Jan 26 2020          3                 1               0\n",
       "601  United States  Jan 25 2020          0                 1               0\n",
       "602  United States  Jan 24 2020          1                 1               0\n",
       "603  United States  Jan 23 2020          1                 1               0"
      ]
     },
     "execution_count": 9,
     "metadata": {},
     "output_type": "execute_result"
    }
   ],
   "source": [
    "covid.tail()"
   ]
  },
  {
   "cell_type": "code",
   "execution_count": 10,
   "metadata": {},
   "outputs": [
    {
     "data": {
      "text/plain": [
       "State               0\n",
       "Date                0\n",
       "New Cases           0\n",
       "7-Day Moving Avg    0\n",
       "Historic Cases      0\n",
       "dtype: int64"
      ]
     },
     "execution_count": 10,
     "metadata": {},
     "output_type": "execute_result"
    }
   ],
   "source": [
    "covid.isnull().sum()"
   ]
  },
  {
   "cell_type": "code",
   "execution_count": 11,
   "metadata": {},
   "outputs": [],
   "source": [
    "# change the datetime strings to datetime\n",
    "zm.Date = pd.to_datetime(zm.Date)\n",
    "covid.Date = pd.to_datetime(covid.Date)"
   ]
  },
  {
   "cell_type": "code",
   "execution_count": 12,
   "metadata": {
    "scrolled": true
   },
   "outputs": [
    {
     "name": "stdout",
     "output_type": "stream",
     "text": [
      "<class 'pandas.core.frame.DataFrame'>\n",
      "RangeIndex: 417 entries, 0 to 416\n",
      "Data columns (total 7 columns):\n",
      " #   Column     Non-Null Count  Dtype         \n",
      "---  ------     --------------  -----         \n",
      " 0   Date       417 non-null    datetime64[ns]\n",
      " 1   Open       417 non-null    float64       \n",
      " 2   High       417 non-null    float64       \n",
      " 3   Low        417 non-null    float64       \n",
      " 4   Close      417 non-null    float64       \n",
      " 5   Adj Close  417 non-null    float64       \n",
      " 6   Volume     417 non-null    int64         \n",
      "dtypes: datetime64[ns](1), float64(5), int64(1)\n",
      "memory usage: 22.9 KB\n"
     ]
    }
   ],
   "source": [
    "zm.info()"
   ]
  },
  {
   "cell_type": "code",
   "execution_count": 13,
   "metadata": {},
   "outputs": [
    {
     "name": "stdout",
     "output_type": "stream",
     "text": [
      "<class 'pandas.core.frame.DataFrame'>\n",
      "RangeIndex: 604 entries, 0 to 603\n",
      "Data columns (total 5 columns):\n",
      " #   Column            Non-Null Count  Dtype         \n",
      "---  ------            --------------  -----         \n",
      " 0   State             604 non-null    object        \n",
      " 1   Date              604 non-null    datetime64[ns]\n",
      " 2   New Cases         604 non-null    int64         \n",
      " 3   7-Day Moving Avg  604 non-null    int64         \n",
      " 4   Historic Cases    604 non-null    int64         \n",
      "dtypes: datetime64[ns](1), int64(3), object(1)\n",
      "memory usage: 23.7+ KB\n"
     ]
    }
   ],
   "source": [
    "covid.info()"
   ]
  },
  {
   "cell_type": "code",
   "execution_count": 14,
   "metadata": {},
   "outputs": [
    {
     "data": {
      "text/html": [
       "<div>\n",
       "<style scoped>\n",
       "    .dataframe tbody tr th:only-of-type {\n",
       "        vertical-align: middle;\n",
       "    }\n",
       "\n",
       "    .dataframe tbody tr th {\n",
       "        vertical-align: top;\n",
       "    }\n",
       "\n",
       "    .dataframe thead th {\n",
       "        text-align: right;\n",
       "    }\n",
       "</style>\n",
       "<table border=\"1\" class=\"dataframe\">\n",
       "  <thead>\n",
       "    <tr style=\"text-align: right;\">\n",
       "      <th></th>\n",
       "      <th>Date</th>\n",
       "      <th>Open</th>\n",
       "      <th>High</th>\n",
       "      <th>Low</th>\n",
       "      <th>Close</th>\n",
       "      <th>Adj Close</th>\n",
       "      <th>Volume</th>\n",
       "    </tr>\n",
       "  </thead>\n",
       "  <tbody>\n",
       "    <tr>\n",
       "      <th>0</th>\n",
       "      <td>2020-01-23</td>\n",
       "      <td>75.669998</td>\n",
       "      <td>75.970001</td>\n",
       "      <td>74.209999</td>\n",
       "      <td>74.470001</td>\n",
       "      <td>74.470001</td>\n",
       "      <td>1279000</td>\n",
       "    </tr>\n",
       "    <tr>\n",
       "      <th>1</th>\n",
       "      <td>2020-01-24</td>\n",
       "      <td>74.970001</td>\n",
       "      <td>76.184998</td>\n",
       "      <td>72.375000</td>\n",
       "      <td>73.000000</td>\n",
       "      <td>73.000000</td>\n",
       "      <td>1660200</td>\n",
       "    </tr>\n",
       "    <tr>\n",
       "      <th>2</th>\n",
       "      <td>2020-01-27</td>\n",
       "      <td>71.330002</td>\n",
       "      <td>72.132004</td>\n",
       "      <td>70.320000</td>\n",
       "      <td>70.440002</td>\n",
       "      <td>70.440002</td>\n",
       "      <td>1750700</td>\n",
       "    </tr>\n",
       "    <tr>\n",
       "      <th>3</th>\n",
       "      <td>2020-01-28</td>\n",
       "      <td>71.000000</td>\n",
       "      <td>72.480003</td>\n",
       "      <td>70.260002</td>\n",
       "      <td>71.510002</td>\n",
       "      <td>71.510002</td>\n",
       "      <td>1598200</td>\n",
       "    </tr>\n",
       "    <tr>\n",
       "      <th>4</th>\n",
       "      <td>2020-01-29</td>\n",
       "      <td>72.510002</td>\n",
       "      <td>74.139999</td>\n",
       "      <td>71.212997</td>\n",
       "      <td>73.580002</td>\n",
       "      <td>73.580002</td>\n",
       "      <td>1373400</td>\n",
       "    </tr>\n",
       "  </tbody>\n",
       "</table>\n",
       "</div>"
      ],
      "text/plain": [
       "        Date       Open       High        Low      Close  Adj Close   Volume\n",
       "0 2020-01-23  75.669998  75.970001  74.209999  74.470001  74.470001  1279000\n",
       "1 2020-01-24  74.970001  76.184998  72.375000  73.000000  73.000000  1660200\n",
       "2 2020-01-27  71.330002  72.132004  70.320000  70.440002  70.440002  1750700\n",
       "3 2020-01-28  71.000000  72.480003  70.260002  71.510002  71.510002  1598200\n",
       "4 2020-01-29  72.510002  74.139999  71.212997  73.580002  73.580002  1373400"
      ]
     },
     "execution_count": 14,
     "metadata": {},
     "output_type": "execute_result"
    }
   ],
   "source": [
    "zm.head()"
   ]
  },
  {
   "cell_type": "code",
   "execution_count": 15,
   "metadata": {},
   "outputs": [
    {
     "data": {
      "text/html": [
       "<div>\n",
       "<style scoped>\n",
       "    .dataframe tbody tr th:only-of-type {\n",
       "        vertical-align: middle;\n",
       "    }\n",
       "\n",
       "    .dataframe tbody tr th {\n",
       "        vertical-align: top;\n",
       "    }\n",
       "\n",
       "    .dataframe thead th {\n",
       "        text-align: right;\n",
       "    }\n",
       "</style>\n",
       "<table border=\"1\" class=\"dataframe\">\n",
       "  <thead>\n",
       "    <tr style=\"text-align: right;\">\n",
       "      <th></th>\n",
       "      <th>State</th>\n",
       "      <th>Date</th>\n",
       "      <th>New Cases</th>\n",
       "      <th>7-Day Moving Avg</th>\n",
       "      <th>Historic Cases</th>\n",
       "    </tr>\n",
       "  </thead>\n",
       "  <tbody>\n",
       "    <tr>\n",
       "      <th>0</th>\n",
       "      <td>United States</td>\n",
       "      <td>2021-09-17</td>\n",
       "      <td>151488</td>\n",
       "      <td>140234</td>\n",
       "      <td>1030</td>\n",
       "    </tr>\n",
       "    <tr>\n",
       "      <th>1</th>\n",
       "      <td>United States</td>\n",
       "      <td>2021-09-16</td>\n",
       "      <td>159675</td>\n",
       "      <td>142888</td>\n",
       "      <td>1313</td>\n",
       "    </tr>\n",
       "    <tr>\n",
       "      <th>2</th>\n",
       "      <td>United States</td>\n",
       "      <td>2021-09-15</td>\n",
       "      <td>162408</td>\n",
       "      <td>147154</td>\n",
       "      <td>1604</td>\n",
       "    </tr>\n",
       "    <tr>\n",
       "      <th>3</th>\n",
       "      <td>United States</td>\n",
       "      <td>2021-09-14</td>\n",
       "      <td>154535</td>\n",
       "      <td>149678</td>\n",
       "      <td>1430</td>\n",
       "    </tr>\n",
       "    <tr>\n",
       "      <th>4</th>\n",
       "      <td>United States</td>\n",
       "      <td>2021-09-13</td>\n",
       "      <td>111822</td>\n",
       "      <td>143054</td>\n",
       "      <td>164</td>\n",
       "    </tr>\n",
       "  </tbody>\n",
       "</table>\n",
       "</div>"
      ],
      "text/plain": [
       "           State       Date  New Cases  7-Day Moving Avg  Historic Cases\n",
       "0  United States 2021-09-17     151488            140234            1030\n",
       "1  United States 2021-09-16     159675            142888            1313\n",
       "2  United States 2021-09-15     162408            147154            1604\n",
       "3  United States 2021-09-14     154535            149678            1430\n",
       "4  United States 2021-09-13     111822            143054             164"
      ]
     },
     "execution_count": 15,
     "metadata": {},
     "output_type": "execute_result"
    }
   ],
   "source": [
    "covid.head()"
   ]
  },
  {
   "cell_type": "markdown",
   "metadata": {},
   "source": [
    "**Zoom stock data is sorted from early to latest, while covid data is the opposite.**\n",
    "\n",
    "**Zoom stock data skipped all non-trading dates, such as Saterday, Sunday, and federal holidays, while covid data is completely day to day.**\n",
    "\n",
    "**So, we will join the Zoom data to covid data and fill in the missing dates with the data of the previous days (ffill)**"
   ]
  },
  {
   "cell_type": "code",
   "execution_count": 16,
   "metadata": {},
   "outputs": [],
   "source": [
    "df = covid.merge(zm, how='left', on='Date')"
   ]
  },
  {
   "cell_type": "code",
   "execution_count": 17,
   "metadata": {},
   "outputs": [
    {
     "data": {
      "text/html": [
       "<div>\n",
       "<style scoped>\n",
       "    .dataframe tbody tr th:only-of-type {\n",
       "        vertical-align: middle;\n",
       "    }\n",
       "\n",
       "    .dataframe tbody tr th {\n",
       "        vertical-align: top;\n",
       "    }\n",
       "\n",
       "    .dataframe thead th {\n",
       "        text-align: right;\n",
       "    }\n",
       "</style>\n",
       "<table border=\"1\" class=\"dataframe\">\n",
       "  <thead>\n",
       "    <tr style=\"text-align: right;\">\n",
       "      <th></th>\n",
       "      <th>State</th>\n",
       "      <th>Date</th>\n",
       "      <th>New Cases</th>\n",
       "      <th>7-Day Moving Avg</th>\n",
       "      <th>Historic Cases</th>\n",
       "      <th>Open</th>\n",
       "      <th>High</th>\n",
       "      <th>Low</th>\n",
       "      <th>Close</th>\n",
       "      <th>Adj Close</th>\n",
       "      <th>Volume</th>\n",
       "    </tr>\n",
       "  </thead>\n",
       "  <tbody>\n",
       "    <tr>\n",
       "      <th>0</th>\n",
       "      <td>United States</td>\n",
       "      <td>2021-09-17</td>\n",
       "      <td>151488</td>\n",
       "      <td>140234</td>\n",
       "      <td>1030</td>\n",
       "      <td>NaN</td>\n",
       "      <td>NaN</td>\n",
       "      <td>NaN</td>\n",
       "      <td>NaN</td>\n",
       "      <td>NaN</td>\n",
       "      <td>NaN</td>\n",
       "    </tr>\n",
       "    <tr>\n",
       "      <th>1</th>\n",
       "      <td>United States</td>\n",
       "      <td>2021-09-16</td>\n",
       "      <td>159675</td>\n",
       "      <td>142888</td>\n",
       "      <td>1313</td>\n",
       "      <td>277.679993</td>\n",
       "      <td>279.290009</td>\n",
       "      <td>273.500000</td>\n",
       "      <td>278.220001</td>\n",
       "      <td>278.220001</td>\n",
       "      <td>4676300.0</td>\n",
       "    </tr>\n",
       "    <tr>\n",
       "      <th>2</th>\n",
       "      <td>United States</td>\n",
       "      <td>2021-09-15</td>\n",
       "      <td>162408</td>\n",
       "      <td>147154</td>\n",
       "      <td>1604</td>\n",
       "      <td>282.329987</td>\n",
       "      <td>283.070007</td>\n",
       "      <td>277.019989</td>\n",
       "      <td>279.119995</td>\n",
       "      <td>279.119995</td>\n",
       "      <td>4647400.0</td>\n",
       "    </tr>\n",
       "    <tr>\n",
       "      <th>3</th>\n",
       "      <td>United States</td>\n",
       "      <td>2021-09-14</td>\n",
       "      <td>154535</td>\n",
       "      <td>149678</td>\n",
       "      <td>1430</td>\n",
       "      <td>290.338013</td>\n",
       "      <td>291.880005</td>\n",
       "      <td>280.920013</td>\n",
       "      <td>281.440002</td>\n",
       "      <td>281.440002</td>\n",
       "      <td>6036800.0</td>\n",
       "    </tr>\n",
       "    <tr>\n",
       "      <th>4</th>\n",
       "      <td>United States</td>\n",
       "      <td>2021-09-13</td>\n",
       "      <td>111822</td>\n",
       "      <td>143054</td>\n",
       "      <td>164</td>\n",
       "      <td>300.160004</td>\n",
       "      <td>300.274994</td>\n",
       "      <td>289.820007</td>\n",
       "      <td>290.239990</td>\n",
       "      <td>290.239990</td>\n",
       "      <td>4916100.0</td>\n",
       "    </tr>\n",
       "    <tr>\n",
       "      <th>...</th>\n",
       "      <td>...</td>\n",
       "      <td>...</td>\n",
       "      <td>...</td>\n",
       "      <td>...</td>\n",
       "      <td>...</td>\n",
       "      <td>...</td>\n",
       "      <td>...</td>\n",
       "      <td>...</td>\n",
       "      <td>...</td>\n",
       "      <td>...</td>\n",
       "      <td>...</td>\n",
       "    </tr>\n",
       "    <tr>\n",
       "      <th>599</th>\n",
       "      <td>United States</td>\n",
       "      <td>2020-01-27</td>\n",
       "      <td>0</td>\n",
       "      <td>1</td>\n",
       "      <td>0</td>\n",
       "      <td>71.330002</td>\n",
       "      <td>72.132004</td>\n",
       "      <td>70.320000</td>\n",
       "      <td>70.440002</td>\n",
       "      <td>70.440002</td>\n",
       "      <td>1750700.0</td>\n",
       "    </tr>\n",
       "    <tr>\n",
       "      <th>600</th>\n",
       "      <td>United States</td>\n",
       "      <td>2020-01-26</td>\n",
       "      <td>3</td>\n",
       "      <td>1</td>\n",
       "      <td>0</td>\n",
       "      <td>NaN</td>\n",
       "      <td>NaN</td>\n",
       "      <td>NaN</td>\n",
       "      <td>NaN</td>\n",
       "      <td>NaN</td>\n",
       "      <td>NaN</td>\n",
       "    </tr>\n",
       "    <tr>\n",
       "      <th>601</th>\n",
       "      <td>United States</td>\n",
       "      <td>2020-01-25</td>\n",
       "      <td>0</td>\n",
       "      <td>1</td>\n",
       "      <td>0</td>\n",
       "      <td>NaN</td>\n",
       "      <td>NaN</td>\n",
       "      <td>NaN</td>\n",
       "      <td>NaN</td>\n",
       "      <td>NaN</td>\n",
       "      <td>NaN</td>\n",
       "    </tr>\n",
       "    <tr>\n",
       "      <th>602</th>\n",
       "      <td>United States</td>\n",
       "      <td>2020-01-24</td>\n",
       "      <td>1</td>\n",
       "      <td>1</td>\n",
       "      <td>0</td>\n",
       "      <td>74.970001</td>\n",
       "      <td>76.184998</td>\n",
       "      <td>72.375000</td>\n",
       "      <td>73.000000</td>\n",
       "      <td>73.000000</td>\n",
       "      <td>1660200.0</td>\n",
       "    </tr>\n",
       "    <tr>\n",
       "      <th>603</th>\n",
       "      <td>United States</td>\n",
       "      <td>2020-01-23</td>\n",
       "      <td>1</td>\n",
       "      <td>1</td>\n",
       "      <td>0</td>\n",
       "      <td>75.669998</td>\n",
       "      <td>75.970001</td>\n",
       "      <td>74.209999</td>\n",
       "      <td>74.470001</td>\n",
       "      <td>74.470001</td>\n",
       "      <td>1279000.0</td>\n",
       "    </tr>\n",
       "  </tbody>\n",
       "</table>\n",
       "<p>604 rows × 11 columns</p>\n",
       "</div>"
      ],
      "text/plain": [
       "             State       Date  New Cases  7-Day Moving Avg  Historic Cases  \\\n",
       "0    United States 2021-09-17     151488            140234            1030   \n",
       "1    United States 2021-09-16     159675            142888            1313   \n",
       "2    United States 2021-09-15     162408            147154            1604   \n",
       "3    United States 2021-09-14     154535            149678            1430   \n",
       "4    United States 2021-09-13     111822            143054             164   \n",
       "..             ...        ...        ...               ...             ...   \n",
       "599  United States 2020-01-27          0                 1               0   \n",
       "600  United States 2020-01-26          3                 1               0   \n",
       "601  United States 2020-01-25          0                 1               0   \n",
       "602  United States 2020-01-24          1                 1               0   \n",
       "603  United States 2020-01-23          1                 1               0   \n",
       "\n",
       "           Open        High         Low       Close   Adj Close     Volume  \n",
       "0           NaN         NaN         NaN         NaN         NaN        NaN  \n",
       "1    277.679993  279.290009  273.500000  278.220001  278.220001  4676300.0  \n",
       "2    282.329987  283.070007  277.019989  279.119995  279.119995  4647400.0  \n",
       "3    290.338013  291.880005  280.920013  281.440002  281.440002  6036800.0  \n",
       "4    300.160004  300.274994  289.820007  290.239990  290.239990  4916100.0  \n",
       "..          ...         ...         ...         ...         ...        ...  \n",
       "599   71.330002   72.132004   70.320000   70.440002   70.440002  1750700.0  \n",
       "600         NaN         NaN         NaN         NaN         NaN        NaN  \n",
       "601         NaN         NaN         NaN         NaN         NaN        NaN  \n",
       "602   74.970001   76.184998   72.375000   73.000000   73.000000  1660200.0  \n",
       "603   75.669998   75.970001   74.209999   74.470001   74.470001  1279000.0  \n",
       "\n",
       "[604 rows x 11 columns]"
      ]
     },
     "execution_count": 17,
     "metadata": {},
     "output_type": "execute_result"
    }
   ],
   "source": [
    "df"
   ]
  },
  {
   "cell_type": "code",
   "execution_count": 18,
   "metadata": {},
   "outputs": [],
   "source": [
    "# set datetime as index\n",
    "df.set_index('Date', inplace=True)"
   ]
  },
  {
   "cell_type": "code",
   "execution_count": 19,
   "metadata": {},
   "outputs": [],
   "source": [
    "# sort datetime index from early to latest\n",
    "df = df.sort_index()"
   ]
  },
  {
   "cell_type": "code",
   "execution_count": 20,
   "metadata": {},
   "outputs": [
    {
     "data": {
      "text/html": [
       "<div>\n",
       "<style scoped>\n",
       "    .dataframe tbody tr th:only-of-type {\n",
       "        vertical-align: middle;\n",
       "    }\n",
       "\n",
       "    .dataframe tbody tr th {\n",
       "        vertical-align: top;\n",
       "    }\n",
       "\n",
       "    .dataframe thead th {\n",
       "        text-align: right;\n",
       "    }\n",
       "</style>\n",
       "<table border=\"1\" class=\"dataframe\">\n",
       "  <thead>\n",
       "    <tr style=\"text-align: right;\">\n",
       "      <th></th>\n",
       "      <th>State</th>\n",
       "      <th>New Cases</th>\n",
       "      <th>7-Day Moving Avg</th>\n",
       "      <th>Historic Cases</th>\n",
       "      <th>Open</th>\n",
       "      <th>High</th>\n",
       "      <th>Low</th>\n",
       "      <th>Close</th>\n",
       "      <th>Adj Close</th>\n",
       "      <th>Volume</th>\n",
       "    </tr>\n",
       "    <tr>\n",
       "      <th>Date</th>\n",
       "      <th></th>\n",
       "      <th></th>\n",
       "      <th></th>\n",
       "      <th></th>\n",
       "      <th></th>\n",
       "      <th></th>\n",
       "      <th></th>\n",
       "      <th></th>\n",
       "      <th></th>\n",
       "      <th></th>\n",
       "    </tr>\n",
       "  </thead>\n",
       "  <tbody>\n",
       "    <tr>\n",
       "      <th>2020-01-23</th>\n",
       "      <td>United States</td>\n",
       "      <td>1</td>\n",
       "      <td>1</td>\n",
       "      <td>0</td>\n",
       "      <td>75.669998</td>\n",
       "      <td>75.970001</td>\n",
       "      <td>74.209999</td>\n",
       "      <td>74.470001</td>\n",
       "      <td>74.470001</td>\n",
       "      <td>1279000.0</td>\n",
       "    </tr>\n",
       "    <tr>\n",
       "      <th>2020-01-24</th>\n",
       "      <td>United States</td>\n",
       "      <td>1</td>\n",
       "      <td>1</td>\n",
       "      <td>0</td>\n",
       "      <td>74.970001</td>\n",
       "      <td>76.184998</td>\n",
       "      <td>72.375000</td>\n",
       "      <td>73.000000</td>\n",
       "      <td>73.000000</td>\n",
       "      <td>1660200.0</td>\n",
       "    </tr>\n",
       "    <tr>\n",
       "      <th>2020-01-25</th>\n",
       "      <td>United States</td>\n",
       "      <td>0</td>\n",
       "      <td>1</td>\n",
       "      <td>0</td>\n",
       "      <td>NaN</td>\n",
       "      <td>NaN</td>\n",
       "      <td>NaN</td>\n",
       "      <td>NaN</td>\n",
       "      <td>NaN</td>\n",
       "      <td>NaN</td>\n",
       "    </tr>\n",
       "    <tr>\n",
       "      <th>2020-01-26</th>\n",
       "      <td>United States</td>\n",
       "      <td>3</td>\n",
       "      <td>1</td>\n",
       "      <td>0</td>\n",
       "      <td>NaN</td>\n",
       "      <td>NaN</td>\n",
       "      <td>NaN</td>\n",
       "      <td>NaN</td>\n",
       "      <td>NaN</td>\n",
       "      <td>NaN</td>\n",
       "    </tr>\n",
       "    <tr>\n",
       "      <th>2020-01-27</th>\n",
       "      <td>United States</td>\n",
       "      <td>0</td>\n",
       "      <td>1</td>\n",
       "      <td>0</td>\n",
       "      <td>71.330002</td>\n",
       "      <td>72.132004</td>\n",
       "      <td>70.320000</td>\n",
       "      <td>70.440002</td>\n",
       "      <td>70.440002</td>\n",
       "      <td>1750700.0</td>\n",
       "    </tr>\n",
       "  </tbody>\n",
       "</table>\n",
       "</div>"
      ],
      "text/plain": [
       "                    State  New Cases  7-Day Moving Avg  Historic Cases  \\\n",
       "Date                                                                     \n",
       "2020-01-23  United States          1                 1               0   \n",
       "2020-01-24  United States          1                 1               0   \n",
       "2020-01-25  United States          0                 1               0   \n",
       "2020-01-26  United States          3                 1               0   \n",
       "2020-01-27  United States          0                 1               0   \n",
       "\n",
       "                 Open       High        Low      Close  Adj Close     Volume  \n",
       "Date                                                                          \n",
       "2020-01-23  75.669998  75.970001  74.209999  74.470001  74.470001  1279000.0  \n",
       "2020-01-24  74.970001  76.184998  72.375000  73.000000  73.000000  1660200.0  \n",
       "2020-01-25        NaN        NaN        NaN        NaN        NaN        NaN  \n",
       "2020-01-26        NaN        NaN        NaN        NaN        NaN        NaN  \n",
       "2020-01-27  71.330002  72.132004  70.320000  70.440002  70.440002  1750700.0  "
      ]
     },
     "execution_count": 20,
     "metadata": {},
     "output_type": "execute_result"
    }
   ],
   "source": [
    "df.head()"
   ]
  },
  {
   "cell_type": "code",
   "execution_count": 21,
   "metadata": {},
   "outputs": [],
   "source": [
    "# keep only daily new cases and daily open price\n",
    "df = df[['New Cases', 'Open']].rename(columns={'New Cases':'daily_case', 'Open':'daily_price'})"
   ]
  },
  {
   "cell_type": "code",
   "execution_count": 22,
   "metadata": {},
   "outputs": [],
   "source": [
    "# fill in NaN with forward value\n",
    "df = df.fillna(method='ffill')"
   ]
  },
  {
   "cell_type": "code",
   "execution_count": 23,
   "metadata": {},
   "outputs": [
    {
     "name": "stdout",
     "output_type": "stream",
     "text": [
      "<class 'pandas.core.frame.DataFrame'>\n",
      "DatetimeIndex: 604 entries, 2020-01-23 to 2021-09-17\n",
      "Data columns (total 2 columns):\n",
      " #   Column       Non-Null Count  Dtype  \n",
      "---  ------       --------------  -----  \n",
      " 0   daily_case   604 non-null    int64  \n",
      " 1   daily_price  604 non-null    float64\n",
      "dtypes: float64(1), int64(1)\n",
      "memory usage: 14.2 KB\n"
     ]
    }
   ],
   "source": [
    "df.info()"
   ]
  },
  {
   "cell_type": "code",
   "execution_count": 24,
   "metadata": {},
   "outputs": [
    {
     "data": {
      "text/plain": [
       "<matplotlib.legend.Legend at 0x2b282962700>"
      ]
     },
     "execution_count": 24,
     "metadata": {},
     "output_type": "execute_result"
    },
    {
     "data": {
      "image/png": "[encoded data removed]",
      "text/plain": [
       "<Figure size 720x432 with 1 Axes>"
      ]
     },
     "metadata": {
      "needs_background": "light"
     },
     "output_type": "display_data"
    }
   ],
   "source": [
    "# hist for daily new cases\n",
    "fig = plt.figure(figsize=(10,6))\n",
    "df.daily_case.hist(bins=50)\n",
    "plt.axvline(df.daily_case.mean(), color='green', label='mean')\n",
    "plt.axvline(df.daily_case.median(), color='red', label='median')\n",
    "plt.legend()"
   ]
  },
  {
   "cell_type": "code",
   "execution_count": 25,
   "metadata": {},
   "outputs": [
    {
     "data": {
      "text/plain": [
       "Text(0, 0.5, 'Daily Zoom Price')"
      ]
     },
     "execution_count": 25,
     "metadata": {},
     "output_type": "execute_result"
    },
    {
     "data": {
      "image/png": "[encoded data removed]",
      "text/plain": [
       "<Figure size 720x432 with 2 Axes>"
      ]
     },
     "metadata": {
      "needs_background": "light"
     },
     "output_type": "display_data"
    }
   ],
   "source": [
    "# create figure and axis objects with subplots()\n",
    "fig,ax = plt.subplots(figsize=(10,6))\n",
    "# make a plot\n",
    "ax.plot(df.daily_case, color=\"red\", marker=\",\")\n",
    "ax.set_xlabel(\"Date\",fontsize=14)\n",
    "ax.set_ylabel(\"Daily New Cases\",color=\"red\",fontsize=14)\n",
    "\n",
    "# twin object for two different y-axis on the sample plot\n",
    "ax2=ax.twinx()\n",
    "ax2.plot(df.daily_price,color=\"blue\",marker=\",\")\n",
    "ax2.set_ylabel(\"Daily Zoom Price\",color=\"blue\",fontsize=14)"
   ]
  },
  {
   "cell_type": "code",
   "execution_count": 26,
   "metadata": {},
   "outputs": [
    {
     "data": {
      "text/plain": [
       "<matplotlib.collections.PathCollection at 0x2b282e1a610>"
      ]
     },
     "execution_count": 26,
     "metadata": {},
     "output_type": "execute_result"
    },
    {
     "data": {
      "image/png": "[encoded data removed]",
      "text/plain": [
       "<Figure size 720x432 with 1 Axes>"
      ]
     },
     "metadata": {
      "needs_background": "light"
     },
     "output_type": "display_data"
    }
   ],
   "source": [
    "# scatter plot\n",
    "fig = plt.figure(figsize=(10,6))\n",
    "plt.scatter(df.daily_case, df.daily_price)"
   ]
  },
  {
   "cell_type": "code",
   "execution_count": 27,
   "metadata": {},
   "outputs": [
    {
     "data": {
      "text/html": [
       "<style  type=\"text/css\" >\n",
       "#T_19ff9230_23ba_11ec_a2ab_9cb6d0be0c62row0_col0,#T_19ff9230_23ba_11ec_a2ab_9cb6d0be0c62row1_col1{\n",
       "            background-color:  #b40426;\n",
       "            color:  #f1f1f1;\n",
       "        }#T_19ff9230_23ba_11ec_a2ab_9cb6d0be0c62row0_col1,#T_19ff9230_23ba_11ec_a2ab_9cb6d0be0c62row1_col0{\n",
       "            background-color:  #3b4cc0;\n",
       "            color:  #f1f1f1;\n",
       "        }</style><table id=\"T_19ff9230_23ba_11ec_a2ab_9cb6d0be0c62\" ><thead>    <tr>        <th class=\"blank level0\" ></th>        <th class=\"col_heading level0 col0\" >daily_case</th>        <th class=\"col_heading level0 col1\" >daily_price</th>    </tr></thead><tbody>\n",
       "                <tr>\n",
       "                        <th id=\"T_19ff9230_23ba_11ec_a2ab_9cb6d0be0c62level0_row0\" class=\"row_heading level0 row0\" >daily_case</th>\n",
       "                        <td id=\"T_19ff9230_23ba_11ec_a2ab_9cb6d0be0c62row0_col0\" class=\"data row0 col0\" >1.00</td>\n",
       "                        <td id=\"T_19ff9230_23ba_11ec_a2ab_9cb6d0be0c62row0_col1\" class=\"data row0 col1\" >0.49</td>\n",
       "            </tr>\n",
       "            <tr>\n",
       "                        <th id=\"T_19ff9230_23ba_11ec_a2ab_9cb6d0be0c62level0_row1\" class=\"row_heading level0 row1\" >daily_price</th>\n",
       "                        <td id=\"T_19ff9230_23ba_11ec_a2ab_9cb6d0be0c62row1_col0\" class=\"data row1 col0\" >0.49</td>\n",
       "                        <td id=\"T_19ff9230_23ba_11ec_a2ab_9cb6d0be0c62row1_col1\" class=\"data row1 col1\" >1.00</td>\n",
       "            </tr>\n",
       "    </tbody></table>"
      ],
      "text/plain": [
       "<pandas.io.formats.style.Styler at 0x2b282e51670>"
      ]
     },
     "execution_count": 27,
     "metadata": {},
     "output_type": "execute_result"
    }
   ],
   "source": [
    "# plot correlation\n",
    "corr = df.corr()\n",
    "corr.style.background_gradient(cmap='coolwarm').set_precision(2)"
   ]
  },
  {
   "cell_type": "code",
   "execution_count": 28,
   "metadata": {},
   "outputs": [
    {
     "data": {
      "text/plain": [
       "<AxesSubplot:>"
      ]
     },
     "execution_count": 28,
     "metadata": {},
     "output_type": "execute_result"
    },
    {
     "data": {
      "image/png": "[encoded data removed]",
      "text/plain": [
       "<Figure size 576x288 with 2 Axes>"
      ]
     },
     "metadata": {
      "needs_background": "light"
     },
     "output_type": "display_data"
    }
   ],
   "source": [
    "# heatmap\n",
    "fig = plt.figure(figsize=(8,4))\n",
    "sns.heatmap(corr, vmin=-1, vmax=1, center=0, cmap=sns.diverging_palette(20, 220, n=50), square=True)"
   ]
  },
  {
   "cell_type": "code",
   "execution_count": 29,
   "metadata": {},
   "outputs": [],
   "source": [
    "import statsmodels.api as sm"
   ]
  },
  {
   "cell_type": "code",
   "execution_count": 30,
   "metadata": {},
   "outputs": [],
   "source": [
    "X = df.daily_case\n",
    "y = df.daily_price"
   ]
  },
  {
   "cell_type": "code",
   "execution_count": 31,
   "metadata": {},
   "outputs": [
    {
     "name": "stdout",
     "output_type": "stream",
     "text": [
      "                                 OLS Regression Results                                \n",
      "=======================================================================================\n",
      "Dep. Variable:            daily_price   R-squared (uncentered):                   0.645\n",
      "Model:                            OLS   Adj. R-squared (uncentered):              0.644\n",
      "Method:                 Least Squares   F-statistic:                              1095.\n",
      "Date:                Sat, 02 Oct 2021   Prob (F-statistic):                   1.03e-137\n",
      "Time:                        15:51:15   Log-Likelihood:                         -4042.0\n",
      "No. Observations:                 604   AIC:                                      8086.\n",
      "Df Residuals:                     603   BIC:                                      8090.\n",
      "Df Model:                           1                                                  \n",
      "Covariance Type:            nonrobust                                                  \n",
      "==============================================================================\n",
      "                 coef    std err          t      P>|t|      [0.025      0.975]\n",
      "------------------------------------------------------------------------------\n",
      "daily_case     0.0028    8.4e-05     33.097      0.000       0.003       0.003\n",
      "==============================================================================\n",
      "Omnibus:                       65.270   Durbin-Watson:                   0.046\n",
      "Prob(Omnibus):                  0.000   Jarque-Bera (JB):               87.915\n",
      "Skew:                          -0.811   Prob(JB):                     8.12e-20\n",
      "Kurtosis:                       3.930   Cond. No.                         1.00\n",
      "==============================================================================\n",
      "\n",
      "Notes:\n",
      "[1] R² is computed without centering (uncentered) since the model does not contain a constant.\n",
      "[2] Standard Errors assume that the covariance matrix of the errors is correctly specified.\n"
     ]
    }
   ],
   "source": [
    "model = sm.OLS(y, X)\n",
    "results = model.fit()\n",
    "print(results.summary())"
   ]
  },
  {
   "cell_type": "code",
   "execution_count": 32,
   "metadata": {},
   "outputs": [
    {
     "data": {
      "text/plain": [
       "<seaborn.axisgrid.FacetGrid at 0x2b283fca760>"
      ]
     },
     "execution_count": 32,
     "metadata": {},
     "output_type": "execute_result"
    },
    {
     "data": {
      "image/png": "[encoded data removed]",
      "text/plain": [
       "<Figure size 576x576 with 1 Axes>"
      ]
     },
     "metadata": {},
     "output_type": "display_data"
    }
   ],
   "source": [
    "#scatter plot with \n",
    "sns.set_style('whitegrid')\n",
    "sns.lmplot(x ='daily_case', y ='daily_price', data = df, size=8)"
   ]
  },
  {
   "cell_type": "markdown",
   "metadata": {},
   "source": [
    "### Summary"
   ]
  },
  {
   "cell_type": "markdown",
   "metadata": {},
   "source": [
    "**In general, Zoom stock prices and daily new cases had very similar run charts during the given period. The reason may be that when daily new cases goes high, the situation goes worse, so more people would use the Zoom meeting tools to work or study remotely hence boosting the Zoom stock.**\n",
    "\n",
    "**Interestingly, the increases and decreases of Zoom stock came earlier than that of daily new cases, about 2 months ahead. Specifically, for the first 8 months from Jan. 2020 to Aug. 2020, they moved almost together. Then, ever since Sep. 2020, Zoom stock prices started to go up and down 2 to 3 months before daily new cases does, in the same direction and same shape.**"
   ]
  },
  {
   "cell_type": "code",
   "execution_count": null,
   "metadata": {},
   "outputs": [],
   "source": []
  }
 ],
 "metadata": {
  "kernelspec": {
   "display_name": "Python 3",
   "language": "python",
   "name": "python3"
  },
  "language_info": {
   "codemirror_mode": {
    "name": "ipython",
    "version": 3
   },
   "file_extension": ".py",
   "mimetype": "text/x-python",
   "name": "python",
   "nbconvert_exporter": "python",
   "pygments_lexer": "ipython3",
   "version": "3.8.5"
  }
 },
 "nbformat": 4,
 "nbformat_minor": 4
}
