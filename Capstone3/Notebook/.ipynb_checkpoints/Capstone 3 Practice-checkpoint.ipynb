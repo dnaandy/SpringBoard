{
 "cells": [
  {
   "cell_type": "code",
   "execution_count": 60,
   "metadata": {},
   "outputs": [],
   "source": [
    "import numpy as np\n",
    "import pandas as pd\n",
    "import matplotlib.pyplot as plt\n",
    "import seaborn as sns\n",
    "import random\n",
    "from sklearn.model_selection import train_test_split\n",
    "from sklearn.linear_model import LogisticRegression\n",
    "from sklearn.preprocessing import LabelEncoder\n",
    "from sklearn.metrics import accuracy_score, average_precision_score, roc_auc_score, roc_curve, auc, precision_recall_curve, plot_precision_recall_curve, classification_report\n",
    "from sklearn import model_selection"
   ]
  },
  {
   "cell_type": "code",
   "execution_count": 25,
   "metadata": {},
   "outputs": [],
   "source": [
    "# Load the data\n",
    "\n",
    "data = pd.read_csv('../Data/user_log_format1.csv')\n",
    "data2 = pd.read_csv('../Data/train_format1.csv')\n",
    "data1 = pd.read_csv('../Data/user_info_format1.csv')\n",
    "submission = pd.read_csv('../Data/test_format1.csv')\n",
    "data_train = pd.read_csv('../Data/train_format2.csv')"
   ]
  },
  {
   "cell_type": "code",
   "execution_count": 26,
   "metadata": {},
   "outputs": [],
   "source": [
    "data2['origin'] = 'train'\n",
    "submission['origin'] = 'test'\n",
    "matrix = pd.concat([data2, submission], ignore_index=True, sort=False)\n",
    "matrix.drop(['prob'], axis=1, inplace=True)\n",
    "matrix = matrix.merge(data1, on='user_id', how='left')\n",
    "data.rename(columns={'seller_id':'merchant_id'}, inplace=True)"
   ]
  },
  {
   "cell_type": "code",
   "execution_count": 27,
   "metadata": {},
   "outputs": [],
   "source": [
    "data['user_id'] = data['user_id'].astype('int32')\n",
    "data['merchant_id'] = data['merchant_id'].astype('int32')\n",
    "data['item_id'] = data['item_id'].astype('int32')\n",
    "data['cat_id'] = data['cat_id'].astype('int32')\n",
    "data['brand_id'].fillna(0, inplace=True)\n",
    "data['brand_id'] = data['brand_id'].astype('int32')\n",
    "data['time_stamp'] = pd.to_datetime(data['time_stamp'], format='%H%M')\n",
    "\n",
    "matrix['age_range'].fillna(0, inplace=True)\n",
    "matrix['gender'].fillna(2, inplace=True)\n",
    "matrix['age_range'] = matrix['age_range'].astype('int8')\n",
    "matrix['gender'] = matrix['gender'].astype('int8')\n",
    "matrix['label'] = matrix['label'].astype('str')\n",
    "matrix['user_id'] = matrix['user_id'].astype('int32')\n",
    "matrix['merchant_id'] = matrix['merchant_id'].astype('int32')"
   ]
  },
  {
   "cell_type": "code",
   "execution_count": 30,
   "metadata": {},
   "outputs": [],
   "source": [
    "# Feature extraction and creation - user level\n",
    "groups = data.groupby(['user_id'])\n",
    "temp = groups.size().reset_index().rename(columns={0:'u1'})\n",
    "matrix = matrix.merge(temp, on='user_id', how='left')\n",
    "temp = groups['item_id'].agg([('u2', 'nunique')]).reset_index()\n",
    "matrix = matrix.merge(temp, on='user_id', how='left')\n",
    "temp = groups['cat_id'].agg([('u3', 'nunique')]).reset_index()\n",
    "matrix = matrix.merge(temp, on='user_id', how='left')\n",
    "temp = groups['merchant_id'].agg([('u4', 'nunique')]).reset_index()\n",
    "matrix = matrix.merge(temp, on='user_id', how='left')\n",
    "temp = groups['brand_id'].agg([('u5', 'nunique')]).reset_index()\n",
    "matrix = matrix.merge(temp, on='user_id', how='left')\n",
    "temp = groups['time_stamp'].agg([('F_time', 'min'), ('L_time', 'max')]).reset_index()\n",
    "temp['u6'] = (temp['L_time'] - temp['F_time']).dt.seconds/3600\n",
    "matrix = matrix.merge(temp[['user_id', 'u6']], on='user_id', how='left')\n",
    "temp = groups['action_type'].value_counts().unstack().reset_index().rename(columns={0:'u7', 1:'u8', 2:'u9', 3:'u10'})\n",
    "matrix = matrix.merge(temp, on='user_id', how='left')"
   ]
  },
  {
   "cell_type": "code",
   "execution_count": 31,
   "metadata": {},
   "outputs": [
    {
     "name": "stderr",
     "output_type": "stream",
     "text": [
      "<ipython-input-31-51ac37ef0621>:5: FutureWarning: Indexing with multiple keys (implicitly converted to a tuple of keys) will be deprecated, use a list instead.\n",
      "  temp = groups['user_id', 'item_id', 'cat_id', 'brand_id'].nunique().reset_index().rename(columns={\n"
     ]
    }
   ],
   "source": [
    "# Feature extraction and creation - merchant level\n",
    "groups = data.groupby(['merchant_id'])\n",
    "temp = groups.size().reset_index().rename(columns={0:'m1'})\n",
    "matrix = matrix.merge(temp, on='merchant_id', how='left')\n",
    "temp = groups['user_id', 'item_id', 'cat_id', 'brand_id'].nunique().reset_index().rename(columns={\n",
    "    'user_id':'m2',\n",
    "    'item_id':'m3', \n",
    "    'cat_id':'m4', \n",
    "    'brand_id':'m5'})\n",
    "matrix = matrix.merge(temp, on='merchant_id', how='left')\n",
    "temp = groups['action_type'].value_counts().unstack().reset_index().rename(columns={0:'m6', 1:'m7', 2:'m8', 3:'m9'})\n",
    "matrix = matrix.merge(temp, on='merchant_id', how='left')"
   ]
  },
  {
   "cell_type": "code",
   "execution_count": 32,
   "metadata": {},
   "outputs": [],
   "source": [
    "temp = data_train[data_train['label']==1].groupby(['merchant_id']).size().reset_index().rename(columns={0:'m10'})\n",
    "matrix = matrix.merge(temp, on='merchant_id', how='left')"
   ]
  },
  {
   "cell_type": "code",
   "execution_count": 33,
   "metadata": {},
   "outputs": [
    {
     "name": "stderr",
     "output_type": "stream",
     "text": [
      "<ipython-input-33-6399fe055f52>:5: FutureWarning: Indexing with multiple keys (implicitly converted to a tuple of keys) will be deprecated, use a list instead.\n",
      "  temp = groups['item_id', 'cat_id', 'brand_id'].nunique().reset_index().rename(columns={\n"
     ]
    }
   ],
   "source": [
    "# Feature extraction and creation - user & merchant level\n",
    "groups = data.groupby(['user_id', 'merchant_id'])\n",
    "temp = groups.size().reset_index().rename(columns={0:'um1'})\n",
    "matrix = matrix.merge(temp, on=['user_id', 'merchant_id'], how='left')\n",
    "temp = groups['item_id', 'cat_id', 'brand_id'].nunique().reset_index().rename(columns={\n",
    "    'item_id':'um2',\n",
    "    'cat_id':'um3',\n",
    "    'brand_id':'um4'\n",
    "})\n",
    "matrix = matrix.merge(temp, on=['user_id', 'merchant_id'], how='left')\n",
    "temp = groups['action_type'].value_counts().unstack().reset_index().rename(columns={\n",
    "    0:'um5',\n",
    "    1:'um6',\n",
    "    2:'um7',\n",
    "    3:'um8'\n",
    "})\n",
    "matrix = matrix.merge(temp, on=['user_id', 'merchant_id'], how='left')\n",
    "temp = groups['time_stamp'].agg([('frist', 'min'), ('last', 'max')]).reset_index()\n",
    "temp['um9'] = (temp['last'] - temp['frist']).dt.seconds/3600\n",
    "temp.drop(['frist', 'last'], axis=1, inplace=True)\n",
    "matrix = matrix.merge(temp, on=['user_id', 'merchant_id'], how='left')"
   ]
  },
  {
   "cell_type": "code",
   "execution_count": 34,
   "metadata": {},
   "outputs": [
    {
     "name": "stdout",
     "output_type": "stream",
     "text": [
      "<class 'pandas.core.frame.DataFrame'>\n",
      "Int64Index: 522341 entries, 0 to 522340\n",
      "Data columns (total 41 columns):\n",
      " #   Column       Non-Null Count   Dtype  \n",
      "---  ------       --------------   -----  \n",
      " 0   user_id      522341 non-null  int32  \n",
      " 1   merchant_id  522341 non-null  int32  \n",
      " 2   label        522341 non-null  object \n",
      " 3   origin       522341 non-null  object \n",
      " 4   age_range    522341 non-null  int8   \n",
      " 5   gender       522341 non-null  int8   \n",
      " 6   u1_x         522341 non-null  int64  \n",
      " 7   u2_x         522341 non-null  int64  \n",
      " 8   u3_x         522341 non-null  int64  \n",
      " 9   u4_x         522341 non-null  int64  \n",
      " 10  u5_x         522341 non-null  int64  \n",
      " 11  u6_x         522341 non-null  float64\n",
      " 12  u1_y         522341 non-null  int64  \n",
      " 13  u2_y         522341 non-null  int64  \n",
      " 14  u3_y         522341 non-null  int64  \n",
      " 15  u4_y         522341 non-null  int64  \n",
      " 16  u5_y         522341 non-null  int64  \n",
      " 17  u6_y         522341 non-null  float64\n",
      " 18  u7           521981 non-null  float64\n",
      " 19  u8           38179 non-null   float64\n",
      " 20  u9           522341 non-null  float64\n",
      " 21  u10          294859 non-null  float64\n",
      " 22  m1           522341 non-null  int64  \n",
      " 23  m2           522341 non-null  int64  \n",
      " 24  m3           522341 non-null  int64  \n",
      " 25  m4           522341 non-null  int64  \n",
      " 26  m5           522341 non-null  int64  \n",
      " 27  m6           522341 non-null  float64\n",
      " 28  m7           518289 non-null  float64\n",
      " 29  m8           522341 non-null  float64\n",
      " 30  m9           522341 non-null  float64\n",
      " 31  m10          496384 non-null  float64\n",
      " 32  um1          522341 non-null  int64  \n",
      " 33  um2          522341 non-null  int64  \n",
      " 34  um3          522341 non-null  int64  \n",
      " 35  um4          522341 non-null  int64  \n",
      " 36  um5          462933 non-null  float64\n",
      " 37  um6          9394 non-null    float64\n",
      " 38  um7          522341 non-null  float64\n",
      " 39  um8          96551 non-null   float64\n",
      " 40  um9          522341 non-null  float64\n",
      "dtypes: float64(16), int32(2), int64(19), int8(2), object(2)\n",
      "memory usage: 156.4+ MB\n"
     ]
    }
   ],
   "source": [
    "matrix.info()"
   ]
  },
  {
   "cell_type": "code",
   "execution_count": 35,
   "metadata": {
    "scrolled": true
   },
   "outputs": [],
   "source": [
    "# Feature extraction and creation - user / Merchant ratio level\n",
    "matrix['r1'] = matrix['u9']/matrix['u7'] #用户购买点击比 \n",
    "matrix['r2'] = matrix['m8']/matrix['m6'] #商家购买点击比\n",
    "matrix['r3'] = matrix['um7']/matrix['um5'] #不同用户不同商家购买点击比"
   ]
  },
  {
   "cell_type": "code",
   "execution_count": 36,
   "metadata": {},
   "outputs": [],
   "source": [
    "matrix.fillna(0, inplace=True)"
   ]
  },
  {
   "cell_type": "code",
   "execution_count": 37,
   "metadata": {},
   "outputs": [],
   "source": [
    "temp = pd.get_dummies(matrix['age_range'], prefix='age')\n",
    "matrix = pd.concat([matrix, temp], axis=1)\n",
    "temp = pd.get_dummies(matrix['gender'], prefix='g')\n",
    "matrix = pd.concat([matrix, temp], axis=1)\n",
    "matrix.drop(['age_range', 'gender'], axis=1, inplace=True)"
   ]
  },
  {
   "cell_type": "code",
   "execution_count": 38,
   "metadata": {},
   "outputs": [],
   "source": [
    "#train、test-set data\n",
    "train_data = matrix[matrix['origin'] == 'train'].drop(['origin'], axis=1)\n",
    "test_data = matrix[matrix['origin'] == 'test'].drop(['label', 'origin'], axis=1)\n",
    "train_X, train_y = train_data.drop(['label'], axis=1), train_data['label']"
   ]
  },
  {
   "cell_type": "code",
   "execution_count": 39,
   "metadata": {},
   "outputs": [],
   "source": [
    "X_train, X_test, y_train, y_test = train_test_split(train_X, train_y, test_size=.3, random_state=42)"
   ]
  },
  {
   "cell_type": "code",
   "execution_count": 41,
   "metadata": {},
   "outputs": [
    {
     "data": {
      "text/plain": [
       "RandomForestClassifier(max_depth=10, max_features='sqrt', n_estimators=1000,\n",
       "                       n_jobs=-1, oob_score=True)"
      ]
     },
     "execution_count": 41,
     "metadata": {},
     "output_type": "execute_result"
    }
   ],
   "source": [
    "from sklearn.ensemble import RandomForestClassifier\n",
    "\n",
    "# Random Forest model\n",
    "rf_clf = RandomForestClassifier(\n",
    "    oob_score=True, \n",
    "    n_jobs=-1, \n",
    "    n_estimators=1000, \n",
    "    max_depth=10, \n",
    "    max_features='sqrt')\n",
    "\n",
    "rf_clf.fit(X_train, y_train)"
   ]
  },
  {
   "cell_type": "code",
   "execution_count": 48,
   "metadata": {},
   "outputs": [],
   "source": [
    "y_pred_rf = rf_clf.predict(X_test)"
   ]
  },
  {
   "cell_type": "code",
   "execution_count": 45,
   "metadata": {},
   "outputs": [],
   "source": [
    "from sklearn.metrics import confusion_matrix\n",
    "import itertools\n",
    "\n",
    "class_names=['Non-repeat','repeat'] # name  of classes\n",
    "def plot_confusion_matrix(cm, classes,\n",
    "                          normalize=False,\n",
    "                          title='Confusion matrix',\n",
    "                          cmap=plt.cm.Blues):\n",
    "    \"\"\"\n",
    "    This function prints and plots the confusion matrix.\n",
    "    Normalization can be applied by setting `normalize=True`.\n",
    "    \"\"\"\n",
    "    if normalize:\n",
    "        cm = cm.astype('float') / cm.sum(axis=1)[:, np.newaxis]\n",
    "        print(\"Normalized confusion matrix\")\n",
    "    else:\n",
    "        print('Confusion matrix, without normalization')\n",
    "\n",
    "    print(cm)\n",
    "\n",
    "    plt.imshow(cm, interpolation='nearest', cmap=cmap)\n",
    "    plt.title(title)\n",
    "    plt.colorbar()\n",
    "    tick_marks = np.arange(len(classes))\n",
    "    plt.xticks(tick_marks, classes, rotation=45)\n",
    "    plt.yticks(tick_marks, classes)\n",
    "\n",
    "    fmt = '.2f' if normalize else 'd'\n",
    "    thresh = cm.max() / 2.\n",
    "    for i, j in itertools.product(range(cm.shape[0]), range(cm.shape[1])):\n",
    "        plt.text(j, i, format(cm[i, j], fmt),\n",
    "                 horizontalalignment=\"center\",\n",
    "                 color=\"white\" if cm[i, j] > thresh else \"black\")\n",
    "\n",
    "    plt.ylabel('True label')\n",
    "    plt.xlabel('Predicted label')\n",
    "    plt.tight_layout()"
   ]
  },
  {
   "cell_type": "code",
   "execution_count": 49,
   "metadata": {},
   "outputs": [
    {
     "name": "stdout",
     "output_type": "stream",
     "text": [
      "Confusion matrix, without normalization\n",
      "[[73517     1]\n",
      " [ 4742     0]]\n",
      "Normalized confusion matrix\n",
      "[[1.00e+00 1.36e-05]\n",
      " [1.00e+00 0.00e+00]]\n"
     ]
    },
    {
     "data": {
      "image/png": "[encoded data removed]",
      "text/plain": [
       "<Figure size 432x288 with 2 Axes>"
      ]
     },
     "metadata": {
      "needs_background": "light"
     },
     "output_type": "display_data"
    },
    {
     "data": {
      "image/png": "[encoded data removed]",
      "text/plain": [
       "<Figure size 432x288 with 2 Axes>"
      ]
     },
     "metadata": {
      "needs_background": "light"
     },
     "output_type": "display_data"
    }
   ],
   "source": [
    "# Compute confusion matrix\n",
    "cnf_matrix = confusion_matrix(y_test, y_pred_rf)\n",
    "np.set_printoptions(precision=2)\n",
    "\n",
    "# Plot non-normalized confusion matrix\n",
    "plt.figure()\n",
    "plot_confusion_matrix(cnf_matrix, classes=class_names,\n",
    "                      title='Confusion matrix, without normalization')\n",
    "#plt.savefig('figures/XX_cm_multi_class.png')\n",
    "\n",
    "# Plot normalized confusion matrix\n",
    "plt.figure()\n",
    "plot_confusion_matrix(cnf_matrix, classes=class_names, normalize=True,\n",
    "                      title='Normalized confusion matrix')\n",
    "#plt.savefig('figures/XX_cm_proportion_multi_class.png', bbox_inches=\"tight\")"
   ]
  },
  {
   "cell_type": "code",
   "execution_count": null,
   "metadata": {},
   "outputs": [],
   "source": []
  },
  {
   "cell_type": "code",
   "execution_count": null,
   "metadata": {},
   "outputs": [],
   "source": []
  },
  {
   "cell_type": "code",
   "execution_count": null,
   "metadata": {},
   "outputs": [],
   "source": []
  },
  {
   "cell_type": "code",
   "execution_count": null,
   "metadata": {},
   "outputs": [],
   "source": []
  },
  {
   "cell_type": "code",
   "execution_count": null,
   "metadata": {},
   "outputs": [],
   "source": []
  },
  {
   "cell_type": "code",
   "execution_count": null,
   "metadata": {},
   "outputs": [],
   "source": []
  },
  {
   "cell_type": "code",
   "execution_count": 43,
   "metadata": {},
   "outputs": [
    {
     "name": "stderr",
     "output_type": "stream",
     "text": [
      "C:\\Users\\dnaan\\anaconda3\\lib\\site-packages\\xgboost\\sklearn.py:1146: UserWarning: The use of label encoder in XGBClassifier is deprecated and will be removed in a future release. To remove this warning, do the following: 1) Pass option use_label_encoder=False when constructing XGBClassifier object; and 2) Encode your labels (y) as integers starting with 0, i.e. 0, 1, 2, ..., [num_class - 1].\n",
      "  warnings.warn(label_encoder_deprecation_msg, UserWarning)\n"
     ]
    },
    {
     "name": "stdout",
     "output_type": "stream",
     "text": [
      "[0]\tvalidation_0-auc:0.67969\tvalidation_1-auc:0.67570\n",
      "[1]\tvalidation_0-auc:0.69554\tvalidation_1-auc:0.68558\n",
      "[2]\tvalidation_0-auc:0.70268\tvalidation_1-auc:0.69060\n",
      "[3]\tvalidation_0-auc:0.70393\tvalidation_1-auc:0.69024\n",
      "[4]\tvalidation_0-auc:0.70776\tvalidation_1-auc:0.69470\n",
      "[5]\tvalidation_0-auc:0.71052\tvalidation_1-auc:0.69650\n",
      "[6]\tvalidation_0-auc:0.71071\tvalidation_1-auc:0.69604\n",
      "[7]\tvalidation_0-auc:0.71139\tvalidation_1-auc:0.69762\n",
      "[8]\tvalidation_0-auc:0.71276\tvalidation_1-auc:0.69910\n",
      "[9]\tvalidation_0-auc:0.71348\tvalidation_1-auc:0.70006\n",
      "[10]\tvalidation_0-auc:0.71460\tvalidation_1-auc:0.70057\n",
      "[11]\tvalidation_0-auc:0.71579\tvalidation_1-auc:0.70107\n",
      "[12]\tvalidation_0-auc:0.71677\tvalidation_1-auc:0.70133\n",
      "[13]\tvalidation_0-auc:0.71801\tvalidation_1-auc:0.70157\n",
      "[14]\tvalidation_0-auc:0.71904\tvalidation_1-auc:0.70222\n",
      "[15]\tvalidation_0-auc:0.72064\tvalidation_1-auc:0.70416\n",
      "[16]\tvalidation_0-auc:0.72122\tvalidation_1-auc:0.70411\n",
      "[17]\tvalidation_0-auc:0.72217\tvalidation_1-auc:0.70452\n",
      "[18]\tvalidation_0-auc:0.72320\tvalidation_1-auc:0.70489\n",
      "[19]\tvalidation_0-auc:0.72394\tvalidation_1-auc:0.70543\n",
      "[20]\tvalidation_0-auc:0.72442\tvalidation_1-auc:0.70545\n",
      "[21]\tvalidation_0-auc:0.72504\tvalidation_1-auc:0.70527\n",
      "[22]\tvalidation_0-auc:0.72593\tvalidation_1-auc:0.70547\n",
      "[23]\tvalidation_0-auc:0.72642\tvalidation_1-auc:0.70581\n",
      "[24]\tvalidation_0-auc:0.72669\tvalidation_1-auc:0.70595\n",
      "[25]\tvalidation_0-auc:0.72702\tvalidation_1-auc:0.70615\n",
      "[26]\tvalidation_0-auc:0.72766\tvalidation_1-auc:0.70590\n",
      "[27]\tvalidation_0-auc:0.72813\tvalidation_1-auc:0.70622\n",
      "[28]\tvalidation_0-auc:0.72877\tvalidation_1-auc:0.70609\n",
      "[29]\tvalidation_0-auc:0.72908\tvalidation_1-auc:0.70611\n",
      "[30]\tvalidation_0-auc:0.72963\tvalidation_1-auc:0.70629\n",
      "[31]\tvalidation_0-auc:0.73025\tvalidation_1-auc:0.70616\n",
      "[32]\tvalidation_0-auc:0.73108\tvalidation_1-auc:0.70622\n",
      "[33]\tvalidation_0-auc:0.73159\tvalidation_1-auc:0.70621\n",
      "[34]\tvalidation_0-auc:0.73231\tvalidation_1-auc:0.70625\n",
      "[35]\tvalidation_0-auc:0.73294\tvalidation_1-auc:0.70608\n",
      "[36]\tvalidation_0-auc:0.73354\tvalidation_1-auc:0.70624\n",
      "[37]\tvalidation_0-auc:0.73407\tvalidation_1-auc:0.70575\n",
      "[38]\tvalidation_0-auc:0.73451\tvalidation_1-auc:0.70593\n",
      "[39]\tvalidation_0-auc:0.73480\tvalidation_1-auc:0.70591\n",
      "[40]\tvalidation_0-auc:0.73565\tvalidation_1-auc:0.70589\n"
     ]
    },
    {
     "data": {
      "text/plain": [
       "XGBClassifier(base_score=0.5, booster='gbtree', colsample_bylevel=1,\n",
       "              colsample_bynode=1, colsample_bytree=0.8, eta=0.3, gamma=0,\n",
       "              gpu_id=-1, importance_type='gain', interaction_constraints='',\n",
       "              learning_rate=0.300000012, max_delta_step=0, max_depth=8,\n",
       "              min_child_weight=300, missing=nan, monotone_constraints='()',\n",
       "              n_estimators=1000, n_jobs=12, num_parallel_tree=1,\n",
       "              random_state=42, reg_alpha=0, reg_lambda=1, scale_pos_weight=1,\n",
       "              seed=42, subsample=0.8, tree_method='exact',\n",
       "              validate_parameters=1, verbosity=None)"
      ]
     },
     "execution_count": 43,
     "metadata": {},
     "output_type": "execute_result"
    }
   ],
   "source": [
    "import xgboost as xgb\n",
    "\n",
    "# XGB model\n",
    "model = xgb.XGBClassifier(\n",
    "    max_depth=8,\n",
    "    n_estimators=1000,\n",
    "    min_child_weight=300, \n",
    "    colsample_bytree=0.8, \n",
    "    subsample=0.8, \n",
    "    eta=0.3,    \n",
    "    seed=42\n",
    "    \n",
    ")\n",
    "\n",
    "model.fit(\n",
    "    X_train, \n",
    "    y_train,\n",
    "    eval_metric='auc',\n",
    "    eval_set=[(X_train, y_train), (X_test, y_test)],\n",
    "    verbose=True,\n",
    "    early_stopping_rounds=10\n",
    ")"
   ]
  },
  {
   "cell_type": "code",
   "execution_count": 57,
   "metadata": {},
   "outputs": [
    {
     "data": {
      "text/plain": [
       "array([[73518,     0],\n",
       "       [ 4742,     0]], dtype=int64)"
      ]
     },
     "execution_count": 57,
     "metadata": {},
     "output_type": "execute_result"
    }
   ],
   "source": [
    "y_pred_xgb = model.predict(X_test)\n",
    "confusion_matrix(y_test, y_pred_xgb)"
   ]
  },
  {
   "cell_type": "code",
   "execution_count": null,
   "metadata": {},
   "outputs": [],
   "source": []
  },
  {
   "cell_type": "code",
   "execution_count": 55,
   "metadata": {},
   "outputs": [
    {
     "name": "stdout",
     "output_type": "stream",
     "text": [
      "Confusion matrix, without normalization\n",
      "[[73518     0]\n",
      " [ 4742     0]]\n",
      "Normalized confusion matrix\n",
      "[[1. 0.]\n",
      " [1. 0.]]\n"
     ]
    },
    {
     "data": {
      "image/png": "[encoded data removed]",
      "text/plain": [
       "<Figure size 432x288 with 2 Axes>"
      ]
     },
     "metadata": {
      "needs_background": "light"
     },
     "output_type": "display_data"
    },
    {
     "data": {
      "image/png": "[encoded data removed]",
      "text/plain": [
       "<Figure size 432x288 with 2 Axes>"
      ]
     },
     "metadata": {
      "needs_background": "light"
     },
     "output_type": "display_data"
    }
   ],
   "source": [
    "# Compute confusion matrix\n",
    "cnf_matrix = confusion_matrix(y_test, y_pred_xgb)\n",
    "np.set_printoptions(precision=2)\n",
    "\n",
    "# Plot non-normalized confusion matrix\n",
    "plt.figure()\n",
    "plot_confusion_matrix(cnf_matrix, classes=class_names,\n",
    "                      title='Confusion matrix, without normalization')\n",
    "#plt.savefig('figures/XX_cm_multi_class.png')\n",
    "\n",
    "# Plot normalized confusion matrix\n",
    "plt.figure()\n",
    "plot_confusion_matrix(cnf_matrix, classes=class_names, normalize=True,\n",
    "                      title='Normalized confusion matrix')\n",
    "#plt.savefig('figures/XX_cm_proportion_multi_class.png', bbox_inches=\"tight\")"
   ]
  },
  {
   "cell_type": "code",
   "execution_count": 58,
   "metadata": {},
   "outputs": [
    {
     "name": "stderr",
     "output_type": "stream",
     "text": [
      "C:\\Users\\dnaan\\anaconda3\\lib\\site-packages\\sklearn\\metrics\\_classification.py:1221: UndefinedMetricWarning: Precision and F-score are ill-defined and being set to 0.0 in labels with no predicted samples. Use `zero_division` parameter to control this behavior.\n",
      "  _warn_prf(average, modifier, msg_start, len(result))\n"
     ]
    },
    {
     "name": "stdout",
     "output_type": "stream",
     "text": [
      "              precision    recall  f1-score   support\n",
      "\n",
      "         0.0       0.94      1.00      0.97     73518\n",
      "         1.0       0.00      0.00      0.00      4742\n",
      "\n",
      "    accuracy                           0.94     78260\n",
      "   macro avg       0.47      0.50      0.48     78260\n",
      "weighted avg       0.88      0.94      0.91     78260\n",
      "\n"
     ]
    }
   ],
   "source": [
    "print(classification_report(y_test, y_pred_xgb))"
   ]
  },
  {
   "cell_type": "code",
   "execution_count": 61,
   "metadata": {},
   "outputs": [
    {
     "data": {
      "text/plain": [
       "0.5"
      ]
     },
     "execution_count": 61,
     "metadata": {},
     "output_type": "execute_result"
    }
   ],
   "source": [
    "roc_auc_score(y_test, y_pred_xgb)"
   ]
  },
  {
   "cell_type": "code",
   "execution_count": null,
   "metadata": {},
   "outputs": [],
   "source": []
  },
  {
   "cell_type": "code",
   "execution_count": null,
   "metadata": {},
   "outputs": [],
   "source": []
  },
  {
   "cell_type": "code",
   "execution_count": null,
   "metadata": {},
   "outputs": [],
   "source": []
  },
  {
   "cell_type": "code",
   "execution_count": null,
   "metadata": {},
   "outputs": [],
   "source": []
  },
  {
   "cell_type": "code",
   "execution_count": null,
   "metadata": {},
   "outputs": [],
   "source": []
  }
 ],
 "metadata": {
  "kernelspec": {
   "display_name": "Python 3",
   "language": "python",
   "name": "python3"
  },
  "language_info": {
   "codemirror_mode": {
    "name": "ipython",
    "version": 3
   },
   "file_extension": ".py",
   "mimetype": "text/x-python",
   "name": "python",
   "nbconvert_exporter": "python",
   "pygments_lexer": "ipython3",
   "version": "3.8.5"
  }
 },
 "nbformat": 4,
 "nbformat_minor": 4
}
