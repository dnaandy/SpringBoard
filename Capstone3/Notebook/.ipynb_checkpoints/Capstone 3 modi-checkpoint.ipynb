{
 "cells": [
  {
   "cell_type": "code",
   "execution_count": 1,
   "metadata": {},
   "outputs": [],
   "source": [
    "import numpy as np\n",
    "import pandas as pd\n",
    "import matplotlib.pyplot as plt\n",
    "import seaborn as sns\n",
    "import random\n",
    "from sklearn.model_selection import train_test_split\n",
    "from sklearn.linear_model import LogisticRegression\n",
    "from sklearn.preprocessing import LabelEncoder\n",
    "from sklearn.metrics import accuracy_score, average_precision_score, roc_auc_score, roc_curve, auc, precision_recall_curve, plot_precision_recall_curve, classification_report\n",
    "from sklearn import model_selection\n",
    "\n",
    "# Catboosting"
   ]
  },
  {
   "cell_type": "code",
   "execution_count": 2,
   "metadata": {},
   "outputs": [],
   "source": [
    "# Load the data\n",
    "df = pd.read_csv('../Data/train_format1.csv')\n",
    "# df_test = pd.read_csv('../Data/test_format1.csv')\n",
    "user_info = pd.read_csv('../Data/user_info_format1.csv')\n",
    "user_log = pd.read_csv('../Data/user_log_format1.csv')"
   ]
  },
  {
   "cell_type": "markdown",
   "metadata": {},
   "source": [
    "# 1. Data Wangling"
   ]
  },
  {
   "cell_type": "code",
   "execution_count": 3,
   "metadata": {
    "scrolled": true
   },
   "outputs": [
    {
     "name": "stdout",
     "output_type": "stream",
     "text": [
      "(260864, 3)\n",
      "(424170, 3)\n",
      "(54925330, 7)\n"
     ]
    }
   ],
   "source": [
    "# Print the shapes\n",
    "print(df.shape)\n",
    "print(user_info.shape)\n",
    "print(user_log.shape)"
   ]
  },
  {
   "cell_type": "markdown",
   "metadata": {},
   "source": [
    "### 1.1 df"
   ]
  },
  {
   "cell_type": "markdown",
   "metadata": {},
   "source": [
    "**df contains the infomation that whether a specific customer will make at least one puchase at a specific merchant whinin 6 months after a big promotion event, showing the result in the label column with '0' as 'False' and '1' as 'True'.**"
   ]
  },
  {
   "cell_type": "code",
   "execution_count": 4,
   "metadata": {
    "scrolled": true
   },
   "outputs": [
    {
     "name": "stdout",
     "output_type": "stream",
     "text": [
      "<class 'pandas.core.frame.DataFrame'>\n",
      "RangeIndex: 260864 entries, 0 to 260863\n",
      "Data columns (total 3 columns):\n",
      " #   Column       Non-Null Count   Dtype\n",
      "---  ------       --------------   -----\n",
      " 0   user_id      260864 non-null  int64\n",
      " 1   merchant_id  260864 non-null  int64\n",
      " 2   label        260864 non-null  int64\n",
      "dtypes: int64(3)\n",
      "memory usage: 6.0 MB\n"
     ]
    }
   ],
   "source": [
    "df.info()"
   ]
  },
  {
   "cell_type": "code",
   "execution_count": 5,
   "metadata": {
    "scrolled": false
   },
   "outputs": [
    {
     "data": {
      "text/html": [
       "<div>\n",
       "<style scoped>\n",
       "    .dataframe tbody tr th:only-of-type {\n",
       "        vertical-align: middle;\n",
       "    }\n",
       "\n",
       "    .dataframe tbody tr th {\n",
       "        vertical-align: top;\n",
       "    }\n",
       "\n",
       "    .dataframe thead th {\n",
       "        text-align: right;\n",
       "    }\n",
       "</style>\n",
       "<table border=\"1\" class=\"dataframe\">\n",
       "  <thead>\n",
       "    <tr style=\"text-align: right;\">\n",
       "      <th></th>\n",
       "      <th>user_id</th>\n",
       "      <th>merchant_id</th>\n",
       "      <th>label</th>\n",
       "    </tr>\n",
       "  </thead>\n",
       "  <tbody>\n",
       "    <tr>\n",
       "      <th>0</th>\n",
       "      <td>34176</td>\n",
       "      <td>3906</td>\n",
       "      <td>0</td>\n",
       "    </tr>\n",
       "    <tr>\n",
       "      <th>1</th>\n",
       "      <td>34176</td>\n",
       "      <td>121</td>\n",
       "      <td>0</td>\n",
       "    </tr>\n",
       "    <tr>\n",
       "      <th>2</th>\n",
       "      <td>34176</td>\n",
       "      <td>4356</td>\n",
       "      <td>1</td>\n",
       "    </tr>\n",
       "    <tr>\n",
       "      <th>3</th>\n",
       "      <td>34176</td>\n",
       "      <td>2217</td>\n",
       "      <td>0</td>\n",
       "    </tr>\n",
       "    <tr>\n",
       "      <th>4</th>\n",
       "      <td>230784</td>\n",
       "      <td>4818</td>\n",
       "      <td>0</td>\n",
       "    </tr>\n",
       "  </tbody>\n",
       "</table>\n",
       "</div>"
      ],
      "text/plain": [
       "   user_id  merchant_id  label\n",
       "0    34176         3906      0\n",
       "1    34176          121      0\n",
       "2    34176         4356      1\n",
       "3    34176         2217      0\n",
       "4   230784         4818      0"
      ]
     },
     "execution_count": 5,
     "metadata": {},
     "output_type": "execute_result"
    }
   ],
   "source": [
    "df.head()"
   ]
  },
  {
   "cell_type": "code",
   "execution_count": 6,
   "metadata": {
    "scrolled": false
   },
   "outputs": [
    {
     "data": {
      "text/plain": [
       "0    244912\n",
       "1     15952\n",
       "Name: label, dtype: int64"
      ]
     },
     "execution_count": 6,
     "metadata": {},
     "output_type": "execute_result"
    }
   ],
   "source": [
    "# label values indicates an around 15:1 ratio between non-repeated customers and repeated ones, which is highly imbalanced.\n",
    "df.label.value_counts()"
   ]
  },
  {
   "cell_type": "markdown",
   "metadata": {},
   "source": [
    "### 1.2 user_info"
   ]
  },
  {
   "cell_type": "markdown",
   "metadata": {},
   "source": [
    "**User_info contains the infomation about the customers. For instance, 'age_range column' classifies the customers' ages as such: 1 for <18; 2 for 18-24; 3 for 25-29; 4 for 30-34; 5 for 35-39; 6 for 40-49; 7 and 8 for >= 50; and\n",
    "0 and NULL for unknown. Moreover, 'gender' column classifies 0 for female, 1 for male, 2 and NULL for unknown.**"
   ]
  },
  {
   "cell_type": "code",
   "execution_count": 7,
   "metadata": {},
   "outputs": [
    {
     "name": "stdout",
     "output_type": "stream",
     "text": [
      "<class 'pandas.core.frame.DataFrame'>\n",
      "RangeIndex: 424170 entries, 0 to 424169\n",
      "Data columns (total 3 columns):\n",
      " #   Column     Non-Null Count   Dtype  \n",
      "---  ------     --------------   -----  \n",
      " 0   user_id    424170 non-null  int64  \n",
      " 1   age_range  421953 non-null  float64\n",
      " 2   gender     417734 non-null  float64\n",
      "dtypes: float64(2), int64(1)\n",
      "memory usage: 9.7 MB\n"
     ]
    }
   ],
   "source": [
    "# Info on User's infomation data\n",
    "user_info.info()"
   ]
  },
  {
   "cell_type": "code",
   "execution_count": 8,
   "metadata": {},
   "outputs": [
    {
     "data": {
      "text/html": [
       "<div>\n",
       "<style scoped>\n",
       "    .dataframe tbody tr th:only-of-type {\n",
       "        vertical-align: middle;\n",
       "    }\n",
       "\n",
       "    .dataframe tbody tr th {\n",
       "        vertical-align: top;\n",
       "    }\n",
       "\n",
       "    .dataframe thead th {\n",
       "        text-align: right;\n",
       "    }\n",
       "</style>\n",
       "<table border=\"1\" class=\"dataframe\">\n",
       "  <thead>\n",
       "    <tr style=\"text-align: right;\">\n",
       "      <th></th>\n",
       "      <th>user_id</th>\n",
       "      <th>age_range</th>\n",
       "      <th>gender</th>\n",
       "    </tr>\n",
       "  </thead>\n",
       "  <tbody>\n",
       "    <tr>\n",
       "      <th>0</th>\n",
       "      <td>376517</td>\n",
       "      <td>6.0</td>\n",
       "      <td>1.0</td>\n",
       "    </tr>\n",
       "    <tr>\n",
       "      <th>1</th>\n",
       "      <td>234512</td>\n",
       "      <td>5.0</td>\n",
       "      <td>0.0</td>\n",
       "    </tr>\n",
       "    <tr>\n",
       "      <th>2</th>\n",
       "      <td>344532</td>\n",
       "      <td>5.0</td>\n",
       "      <td>0.0</td>\n",
       "    </tr>\n",
       "    <tr>\n",
       "      <th>3</th>\n",
       "      <td>186135</td>\n",
       "      <td>5.0</td>\n",
       "      <td>0.0</td>\n",
       "    </tr>\n",
       "    <tr>\n",
       "      <th>4</th>\n",
       "      <td>30230</td>\n",
       "      <td>5.0</td>\n",
       "      <td>0.0</td>\n",
       "    </tr>\n",
       "    <tr>\n",
       "      <th>5</th>\n",
       "      <td>272389</td>\n",
       "      <td>6.0</td>\n",
       "      <td>1.0</td>\n",
       "    </tr>\n",
       "    <tr>\n",
       "      <th>6</th>\n",
       "      <td>281071</td>\n",
       "      <td>4.0</td>\n",
       "      <td>0.0</td>\n",
       "    </tr>\n",
       "    <tr>\n",
       "      <th>7</th>\n",
       "      <td>139859</td>\n",
       "      <td>7.0</td>\n",
       "      <td>0.0</td>\n",
       "    </tr>\n",
       "    <tr>\n",
       "      <th>8</th>\n",
       "      <td>198411</td>\n",
       "      <td>5.0</td>\n",
       "      <td>1.0</td>\n",
       "    </tr>\n",
       "    <tr>\n",
       "      <th>9</th>\n",
       "      <td>67037</td>\n",
       "      <td>4.0</td>\n",
       "      <td>1.0</td>\n",
       "    </tr>\n",
       "  </tbody>\n",
       "</table>\n",
       "</div>"
      ],
      "text/plain": [
       "   user_id  age_range  gender\n",
       "0   376517        6.0     1.0\n",
       "1   234512        5.0     0.0\n",
       "2   344532        5.0     0.0\n",
       "3   186135        5.0     0.0\n",
       "4    30230        5.0     0.0\n",
       "5   272389        6.0     1.0\n",
       "6   281071        4.0     0.0\n",
       "7   139859        7.0     0.0\n",
       "8   198411        5.0     1.0\n",
       "9    67037        4.0     1.0"
      ]
     },
     "execution_count": 8,
     "metadata": {},
     "output_type": "execute_result"
    }
   ],
   "source": [
    "# Head of User's infomation data\n",
    "user_info.head(10)"
   ]
  },
  {
   "cell_type": "code",
   "execution_count": 9,
   "metadata": {},
   "outputs": [
    {
     "data": {
      "text/plain": [
       "user_id         0\n",
       "age_range    2217\n",
       "gender       6436\n",
       "dtype: int64"
      ]
     },
     "execution_count": 9,
     "metadata": {},
     "output_type": "execute_result"
    }
   ],
   "source": [
    "# Confirm the missing value size\n",
    "user_info.isnull().sum(axis=0)"
   ]
  },
  {
   "cell_type": "code",
   "execution_count": 10,
   "metadata": {},
   "outputs": [
    {
     "name": "stdout",
     "output_type": "stream",
     "text": [
      "<class 'pandas.core.frame.DataFrame'>\n",
      "RangeIndex: 424170 entries, 0 to 424169\n",
      "Data columns (total 3 columns):\n",
      " #   Column     Non-Null Count   Dtype \n",
      "---  ------     --------------   ----- \n",
      " 0   user_id    424170 non-null  int64 \n",
      " 1   age_range  424170 non-null  object\n",
      " 2   gender     424170 non-null  object\n",
      "dtypes: int64(1), object(2)\n",
      "memory usage: 9.7+ MB\n"
     ]
    }
   ],
   "source": [
    "# Fill the missing values with 'unknown' string.\n",
    "user_info = user_info.fillna(value={'age_range':'unknown', 'gender':'unknown'})\n",
    "user_info.info()"
   ]
  },
  {
   "cell_type": "code",
   "execution_count": 11,
   "metadata": {},
   "outputs": [
    {
     "data": {
      "text/plain": [
       "age_range\n",
       "3.0        111654\n",
       "0.0         92914\n",
       "4.0         79991\n",
       "2.0         52871\n",
       "5.0         40777\n",
       "6.0         35464\n",
       "7.0          6992\n",
       "unknown      2217\n",
       "8.0          1266\n",
       "1.0            24\n",
       "dtype: int64"
      ]
     },
     "execution_count": 11,
     "metadata": {},
     "output_type": "execute_result"
    }
   ],
   "source": [
    "# Value counts on ages\n",
    "user_info.value_counts('age_range')"
   ]
  },
  {
   "cell_type": "code",
   "execution_count": 12,
   "metadata": {},
   "outputs": [
    {
     "data": {
      "text/plain": [
       "gender\n",
       "0.0        285638\n",
       "1.0        121670\n",
       "2.0         10426\n",
       "unknown      6436\n",
       "dtype: int64"
      ]
     },
     "execution_count": 12,
     "metadata": {},
     "output_type": "execute_result"
    }
   ],
   "source": [
    "# Value counts on gender\n",
    "user_info.value_counts('gender')"
   ]
  },
  {
   "cell_type": "code",
   "execution_count": 13,
   "metadata": {
    "scrolled": true
   },
   "outputs": [
    {
     "name": "stdout",
     "output_type": "stream",
     "text": [
      "<class 'pandas.core.frame.DataFrame'>\n",
      "RangeIndex: 424170 entries, 0 to 424169\n",
      "Data columns (total 3 columns):\n",
      " #   Column     Non-Null Count   Dtype \n",
      "---  ------     --------------   ----- \n",
      " 0   user_id    424170 non-null  int64 \n",
      " 1   age_range  424170 non-null  object\n",
      " 2   gender     424170 non-null  object\n",
      "dtypes: int64(1), object(2)\n",
      "memory usage: 9.7+ MB\n"
     ]
    }
   ],
   "source": [
    "# Replace numerical values with stings\n",
    "user_info['age_range'].replace({0.0:'unknown', 1.0:'<18', 2.0:'18-24', 3.0:'25-29', 4.0:'30-34', 5.0:'35-39', 6.0:'40-49', 7.0:'>=50', 8.0:'>=50'},inplace=True)\n",
    "user_info['gender'].replace({0.0:'female', 1.0:'male', 2.0:'unknown'},inplace=True)\n",
    "user_info.info()"
   ]
  },
  {
   "cell_type": "code",
   "execution_count": 14,
   "metadata": {},
   "outputs": [
    {
     "data": {
      "text/html": [
       "<div>\n",
       "<style scoped>\n",
       "    .dataframe tbody tr th:only-of-type {\n",
       "        vertical-align: middle;\n",
       "    }\n",
       "\n",
       "    .dataframe tbody tr th {\n",
       "        vertical-align: top;\n",
       "    }\n",
       "\n",
       "    .dataframe thead th {\n",
       "        text-align: right;\n",
       "    }\n",
       "</style>\n",
       "<table border=\"1\" class=\"dataframe\">\n",
       "  <thead>\n",
       "    <tr style=\"text-align: right;\">\n",
       "      <th></th>\n",
       "      <th>user_id</th>\n",
       "      <th>age_range</th>\n",
       "      <th>gender</th>\n",
       "    </tr>\n",
       "  </thead>\n",
       "  <tbody>\n",
       "    <tr>\n",
       "      <th>0</th>\n",
       "      <td>376517</td>\n",
       "      <td>40-49</td>\n",
       "      <td>male</td>\n",
       "    </tr>\n",
       "    <tr>\n",
       "      <th>1</th>\n",
       "      <td>234512</td>\n",
       "      <td>35-39</td>\n",
       "      <td>female</td>\n",
       "    </tr>\n",
       "    <tr>\n",
       "      <th>2</th>\n",
       "      <td>344532</td>\n",
       "      <td>35-39</td>\n",
       "      <td>female</td>\n",
       "    </tr>\n",
       "    <tr>\n",
       "      <th>3</th>\n",
       "      <td>186135</td>\n",
       "      <td>35-39</td>\n",
       "      <td>female</td>\n",
       "    </tr>\n",
       "    <tr>\n",
       "      <th>4</th>\n",
       "      <td>30230</td>\n",
       "      <td>35-39</td>\n",
       "      <td>female</td>\n",
       "    </tr>\n",
       "  </tbody>\n",
       "</table>\n",
       "</div>"
      ],
      "text/plain": [
       "   user_id age_range  gender\n",
       "0   376517     40-49    male\n",
       "1   234512     35-39  female\n",
       "2   344532     35-39  female\n",
       "3   186135     35-39  female\n",
       "4    30230     35-39  female"
      ]
     },
     "execution_count": 14,
     "metadata": {},
     "output_type": "execute_result"
    }
   ],
   "source": [
    "user_info.head()"
   ]
  },
  {
   "cell_type": "markdown",
   "metadata": {},
   "source": [
    "### 1.3 user_log"
   ]
  },
  {
   "cell_type": "markdown",
   "metadata": {},
   "source": [
    "**User_log contains the infomation as below:**\n",
    "* user_id: a unique id for the customer.\n",
    "* item_id: a unique id for the item.\n",
    "* cat_id: a unique id for the category that the item belongs to.\n",
    "* merchant_id: a unique id for the merchant.\n",
    "* brand_id: a unique id for the brand of the item.\n",
    "* time_tamp: date the action took place (format: mmdd)\n",
    "* action_type: customers' actions, where 0 for click, 1 for add-to-cart, 2 for purchase and 3 for add-to-favourite.\n"
   ]
  },
  {
   "cell_type": "code",
   "execution_count": 15,
   "metadata": {},
   "outputs": [
    {
     "name": "stdout",
     "output_type": "stream",
     "text": [
      "<class 'pandas.core.frame.DataFrame'>\n",
      "RangeIndex: 54925330 entries, 0 to 54925329\n",
      "Data columns (total 7 columns):\n",
      " #   Column       Dtype  \n",
      "---  ------       -----  \n",
      " 0   user_id      int64  \n",
      " 1   item_id      int64  \n",
      " 2   cat_id       int64  \n",
      " 3   seller_id    int64  \n",
      " 4   brand_id     float64\n",
      " 5   time_stamp   int64  \n",
      " 6   action_type  int64  \n",
      "dtypes: float64(1), int64(6)\n",
      "memory usage: 2.9 GB\n"
     ]
    }
   ],
   "source": [
    "user_log.info()"
   ]
  },
  {
   "cell_type": "code",
   "execution_count": 16,
   "metadata": {
    "scrolled": true
   },
   "outputs": [
    {
     "data": {
      "text/html": [
       "<div>\n",
       "<style scoped>\n",
       "    .dataframe tbody tr th:only-of-type {\n",
       "        vertical-align: middle;\n",
       "    }\n",
       "\n",
       "    .dataframe tbody tr th {\n",
       "        vertical-align: top;\n",
       "    }\n",
       "\n",
       "    .dataframe thead th {\n",
       "        text-align: right;\n",
       "    }\n",
       "</style>\n",
       "<table border=\"1\" class=\"dataframe\">\n",
       "  <thead>\n",
       "    <tr style=\"text-align: right;\">\n",
       "      <th></th>\n",
       "      <th>user_id</th>\n",
       "      <th>item_id</th>\n",
       "      <th>cat_id</th>\n",
       "      <th>seller_id</th>\n",
       "      <th>brand_id</th>\n",
       "      <th>time_stamp</th>\n",
       "      <th>action_type</th>\n",
       "    </tr>\n",
       "  </thead>\n",
       "  <tbody>\n",
       "    <tr>\n",
       "      <th>0</th>\n",
       "      <td>328862</td>\n",
       "      <td>323294</td>\n",
       "      <td>833</td>\n",
       "      <td>2882</td>\n",
       "      <td>2661.0</td>\n",
       "      <td>829</td>\n",
       "      <td>0</td>\n",
       "    </tr>\n",
       "    <tr>\n",
       "      <th>1</th>\n",
       "      <td>328862</td>\n",
       "      <td>844400</td>\n",
       "      <td>1271</td>\n",
       "      <td>2882</td>\n",
       "      <td>2661.0</td>\n",
       "      <td>829</td>\n",
       "      <td>0</td>\n",
       "    </tr>\n",
       "    <tr>\n",
       "      <th>2</th>\n",
       "      <td>328862</td>\n",
       "      <td>575153</td>\n",
       "      <td>1271</td>\n",
       "      <td>2882</td>\n",
       "      <td>2661.0</td>\n",
       "      <td>829</td>\n",
       "      <td>0</td>\n",
       "    </tr>\n",
       "    <tr>\n",
       "      <th>3</th>\n",
       "      <td>328862</td>\n",
       "      <td>996875</td>\n",
       "      <td>1271</td>\n",
       "      <td>2882</td>\n",
       "      <td>2661.0</td>\n",
       "      <td>829</td>\n",
       "      <td>0</td>\n",
       "    </tr>\n",
       "    <tr>\n",
       "      <th>4</th>\n",
       "      <td>328862</td>\n",
       "      <td>1086186</td>\n",
       "      <td>1271</td>\n",
       "      <td>1253</td>\n",
       "      <td>1049.0</td>\n",
       "      <td>829</td>\n",
       "      <td>0</td>\n",
       "    </tr>\n",
       "  </tbody>\n",
       "</table>\n",
       "</div>"
      ],
      "text/plain": [
       "   user_id  item_id  cat_id  seller_id  brand_id  time_stamp  action_type\n",
       "0   328862   323294     833       2882    2661.0         829            0\n",
       "1   328862   844400    1271       2882    2661.0         829            0\n",
       "2   328862   575153    1271       2882    2661.0         829            0\n",
       "3   328862   996875    1271       2882    2661.0         829            0\n",
       "4   328862  1086186    1271       1253    1049.0         829            0"
      ]
     },
     "execution_count": 16,
     "metadata": {},
     "output_type": "execute_result"
    }
   ],
   "source": [
    "user_log.head()"
   ]
  },
  {
   "cell_type": "code",
   "execution_count": 17,
   "metadata": {},
   "outputs": [
    {
     "data": {
      "text/plain": [
       "0    48550713\n",
       "2     3292144\n",
       "3     3005723\n",
       "1       76750\n",
       "Name: action_type, dtype: int64"
      ]
     },
     "execution_count": 17,
     "metadata": {},
     "output_type": "execute_result"
    }
   ],
   "source": [
    "user_log.action_type.value_counts()"
   ]
  },
  {
   "cell_type": "code",
   "execution_count": 18,
   "metadata": {
    "scrolled": true
   },
   "outputs": [
    {
     "data": {
      "text/plain": [
       "user_id            0\n",
       "item_id            0\n",
       "cat_id             0\n",
       "seller_id          0\n",
       "brand_id       91015\n",
       "time_stamp         0\n",
       "action_type        0\n",
       "dtype: int64"
      ]
     },
     "execution_count": 18,
     "metadata": {},
     "output_type": "execute_result"
    }
   ],
   "source": [
    "# check missing values\n",
    "user_log.isnull().sum(axis=0)"
   ]
  },
  {
   "cell_type": "markdown",
   "metadata": {},
   "source": [
    "**Only about 0.15% values in brand_id are missing. In general, these missing values could be dropped entirely. Nevertheless, we will keep it for now and reconsider it after completing the feature creations.**"
   ]
  },
  {
   "cell_type": "markdown",
   "metadata": {},
   "source": [
    "# 2. EDA part 1"
   ]
  },
  {
   "cell_type": "code",
   "execution_count": 19,
   "metadata": {},
   "outputs": [
    {
     "data": {
      "image/png": "[encoded data removed]",
      "text/plain": [
       "<Figure size 720x432 with 1 Axes>"
      ]
     },
     "metadata": {
      "needs_background": "light"
     },
     "output_type": "display_data"
    }
   ],
   "source": [
    "# plot the customer distribution by age groups\n",
    "fig = plt.figure(figsize = (10, 6))\n",
    "ax = sns.countplot(x='age_range', order=['unknown', '<18', '18-24', '25-29', '30-34', '35-39', '40-49', '>=50'], data = user_info)\n",
    "plt.title('Age distribution')\n",
    "for p in ax.patches:\n",
    "        ax.annotate(p.get_height(), (p.get_x()+0.2, p.get_height()+1500))"
   ]
  },
  {
   "cell_type": "code",
   "execution_count": 20,
   "metadata": {},
   "outputs": [
    {
     "data": {
      "image/png": "[encoded data removed]",
      "text/plain": [
       "<Figure size 720x432 with 1 Axes>"
      ]
     },
     "metadata": {
      "needs_background": "light"
     },
     "output_type": "display_data"
    }
   ],
   "source": [
    "# plot the customer distribution by sex groups\n",
    "fig = plt.figure(figsize = (10, 6))\n",
    "ax = sns.countplot(x='gender', data = user_info)\n",
    "plt.title('Sex distribution')\n",
    "for p in ax.patches:\n",
    "        ax.annotate(p.get_height(), (p.get_x()+0.3, p.get_height()+4000))"
   ]
  },
  {
   "cell_type": "code",
   "execution_count": 21,
   "metadata": {},
   "outputs": [
    {
     "data": {
      "text/plain": [
       "Text(0.5, 1.0, 'Age and Sex distribution')"
      ]
     },
     "execution_count": 21,
     "metadata": {},
     "output_type": "execute_result"
    },
    {
     "data": {
      "image/png": "[encoded data removed]",
      "text/plain": [
       "<Figure size 720x432 with 1 Axes>"
      ]
     },
     "metadata": {
      "needs_background": "light"
     },
     "output_type": "display_data"
    }
   ],
   "source": [
    "# plot the customer distribution by age and sex groups\n",
    "fig = plt.figure(figsize = (10, 6))\n",
    "sns.countplot(x='age_range', order=['unknown', '<18', '18-24', '25-29', '30-34', '35-39', '40-49', '>=50'], hue= 'gender',data = user_info)\n",
    "plt.title('Age and Sex distribution')"
   ]
  },
  {
   "cell_type": "markdown",
   "metadata": {},
   "source": [
    "**Most customers are aged between 18 - 34, and much more female customers than male.**"
   ]
  },
  {
   "cell_type": "code",
   "execution_count": 22,
   "metadata": {},
   "outputs": [
    {
     "data": {
      "text/plain": [
       "1111    10582633\n",
       "1110     2940826\n",
       "1109     1207273\n",
       "1108      968099\n",
       "1107      857846\n",
       "          ...   \n",
       "512        20704\n",
       "511        20044\n",
       "518        19243\n",
       "519        18430\n",
       "1112          46\n",
       "Name: time_stamp, Length: 186, dtype: int64"
      ]
     },
     "execution_count": 22,
     "metadata": {},
     "output_type": "execute_result"
    }
   ],
   "source": [
    "user_log.time_stamp.value_counts()"
   ]
  },
  {
   "cell_type": "code",
   "execution_count": 23,
   "metadata": {
    "scrolled": true
   },
   "outputs": [
    {
     "data": {
      "text/plain": [
       "<AxesSubplot:>"
      ]
     },
     "execution_count": 23,
     "metadata": {},
     "output_type": "execute_result"
    },
    {
     "data": {
      "image/png": "[encoded data removed]",
      "text/plain": [
       "<Figure size 432x288 with 1 Axes>"
      ]
     },
     "metadata": {
      "needs_background": "light"
     },
     "output_type": "display_data"
    }
   ],
   "source": [
    "# plot the time_stamp\n",
    "user_log['time_stamp'].hist(bins = 9)"
   ]
  },
  {
   "cell_type": "markdown",
   "metadata": {},
   "source": [
    "**Most recorded customer activities occur around Nov.11 (China's Double 11 shopping festival) and Jun.18 (China's 618 shopping event).**"
   ]
  },
  {
   "cell_type": "code",
   "execution_count": 24,
   "metadata": {},
   "outputs": [
    {
     "data": {
      "image/png": "[encoded data removed]",
      "text/plain": [
       "<Figure size 720x432 with 1 Axes>"
      ]
     },
     "metadata": {
      "needs_background": "light"
     },
     "output_type": "display_data"
    }
   ],
   "source": [
    "# plot the customer distribution by sex groups\n",
    "fig = plt.figure(figsize = (10, 6))\n",
    "ax = sns.countplot(x = 'action_type', order = [0,1,2,3],data = user_log)\n",
    "plt.title('Activity distribution: \\n 0=click, 1=add-to-cart, 2=purchase, 3=add-to-favourite')\n",
    "for p in ax.patches:\n",
    "        ax.annotate(p.get_height(), (p.get_x()+0.25, p.get_height()+500000))"
   ]
  },
  {
   "cell_type": "code",
   "execution_count": 25,
   "metadata": {},
   "outputs": [
    {
     "data": {
      "text/plain": [
       "0    0.883940\n",
       "2    0.059939\n",
       "3    0.054724\n",
       "1    0.001397\n",
       "Name: action_type, dtype: float64"
      ]
     },
     "execution_count": 25,
     "metadata": {},
     "output_type": "execute_result"
    }
   ],
   "source": [
    "user_log.action_type.value_counts(normalize=True)"
   ]
  },
  {
   "cell_type": "markdown",
   "metadata": {},
   "source": [
    "**88.4% activities are \"click\" on the product page, while 6.0% are \"purchase\" and 5.5% are \"add to favourite\". Only about 0.1% activities are \"add to cart\"**"
   ]
  },
  {
   "cell_type": "markdown",
   "metadata": {},
   "source": [
    "# 3. Pre-processing"
   ]
  },
  {
   "cell_type": "code",
   "execution_count": 26,
   "metadata": {},
   "outputs": [
    {
     "data": {
      "text/html": [
       "<div>\n",
       "<style scoped>\n",
       "    .dataframe tbody tr th:only-of-type {\n",
       "        vertical-align: middle;\n",
       "    }\n",
       "\n",
       "    .dataframe tbody tr th {\n",
       "        vertical-align: top;\n",
       "    }\n",
       "\n",
       "    .dataframe thead th {\n",
       "        text-align: right;\n",
       "    }\n",
       "</style>\n",
       "<table border=\"1\" class=\"dataframe\">\n",
       "  <thead>\n",
       "    <tr style=\"text-align: right;\">\n",
       "      <th></th>\n",
       "      <th>user_id</th>\n",
       "      <th>merchant_id</th>\n",
       "      <th>label</th>\n",
       "    </tr>\n",
       "  </thead>\n",
       "  <tbody>\n",
       "    <tr>\n",
       "      <th>0</th>\n",
       "      <td>34176</td>\n",
       "      <td>3906</td>\n",
       "      <td>0</td>\n",
       "    </tr>\n",
       "    <tr>\n",
       "      <th>1</th>\n",
       "      <td>34176</td>\n",
       "      <td>121</td>\n",
       "      <td>0</td>\n",
       "    </tr>\n",
       "    <tr>\n",
       "      <th>2</th>\n",
       "      <td>34176</td>\n",
       "      <td>4356</td>\n",
       "      <td>1</td>\n",
       "    </tr>\n",
       "    <tr>\n",
       "      <th>3</th>\n",
       "      <td>34176</td>\n",
       "      <td>2217</td>\n",
       "      <td>0</td>\n",
       "    </tr>\n",
       "    <tr>\n",
       "      <th>4</th>\n",
       "      <td>230784</td>\n",
       "      <td>4818</td>\n",
       "      <td>0</td>\n",
       "    </tr>\n",
       "  </tbody>\n",
       "</table>\n",
       "</div>"
      ],
      "text/plain": [
       "   user_id  merchant_id  label\n",
       "0    34176         3906      0\n",
       "1    34176          121      0\n",
       "2    34176         4356      1\n",
       "3    34176         2217      0\n",
       "4   230784         4818      0"
      ]
     },
     "execution_count": 26,
     "metadata": {},
     "output_type": "execute_result"
    }
   ],
   "source": [
    "df.head()"
   ]
  },
  {
   "cell_type": "code",
   "execution_count": 27,
   "metadata": {},
   "outputs": [
    {
     "data": {
      "text/html": [
       "<div>\n",
       "<style scoped>\n",
       "    .dataframe tbody tr th:only-of-type {\n",
       "        vertical-align: middle;\n",
       "    }\n",
       "\n",
       "    .dataframe tbody tr th {\n",
       "        vertical-align: top;\n",
       "    }\n",
       "\n",
       "    .dataframe thead th {\n",
       "        text-align: right;\n",
       "    }\n",
       "</style>\n",
       "<table border=\"1\" class=\"dataframe\">\n",
       "  <thead>\n",
       "    <tr style=\"text-align: right;\">\n",
       "      <th></th>\n",
       "      <th>user_id</th>\n",
       "      <th>age_range</th>\n",
       "      <th>gender</th>\n",
       "    </tr>\n",
       "  </thead>\n",
       "  <tbody>\n",
       "    <tr>\n",
       "      <th>0</th>\n",
       "      <td>376517</td>\n",
       "      <td>40-49</td>\n",
       "      <td>male</td>\n",
       "    </tr>\n",
       "    <tr>\n",
       "      <th>1</th>\n",
       "      <td>234512</td>\n",
       "      <td>35-39</td>\n",
       "      <td>female</td>\n",
       "    </tr>\n",
       "    <tr>\n",
       "      <th>2</th>\n",
       "      <td>344532</td>\n",
       "      <td>35-39</td>\n",
       "      <td>female</td>\n",
       "    </tr>\n",
       "    <tr>\n",
       "      <th>3</th>\n",
       "      <td>186135</td>\n",
       "      <td>35-39</td>\n",
       "      <td>female</td>\n",
       "    </tr>\n",
       "    <tr>\n",
       "      <th>4</th>\n",
       "      <td>30230</td>\n",
       "      <td>35-39</td>\n",
       "      <td>female</td>\n",
       "    </tr>\n",
       "  </tbody>\n",
       "</table>\n",
       "</div>"
      ],
      "text/plain": [
       "   user_id age_range  gender\n",
       "0   376517     40-49    male\n",
       "1   234512     35-39  female\n",
       "2   344532     35-39  female\n",
       "3   186135     35-39  female\n",
       "4    30230     35-39  female"
      ]
     },
     "execution_count": 27,
     "metadata": {},
     "output_type": "execute_result"
    }
   ],
   "source": [
    "user_info.head()"
   ]
  },
  {
   "cell_type": "code",
   "execution_count": 28,
   "metadata": {},
   "outputs": [
    {
     "data": {
      "text/html": [
       "<div>\n",
       "<style scoped>\n",
       "    .dataframe tbody tr th:only-of-type {\n",
       "        vertical-align: middle;\n",
       "    }\n",
       "\n",
       "    .dataframe tbody tr th {\n",
       "        vertical-align: top;\n",
       "    }\n",
       "\n",
       "    .dataframe thead th {\n",
       "        text-align: right;\n",
       "    }\n",
       "</style>\n",
       "<table border=\"1\" class=\"dataframe\">\n",
       "  <thead>\n",
       "    <tr style=\"text-align: right;\">\n",
       "      <th></th>\n",
       "      <th>user_id</th>\n",
       "      <th>item_id</th>\n",
       "      <th>cat_id</th>\n",
       "      <th>seller_id</th>\n",
       "      <th>brand_id</th>\n",
       "      <th>time_stamp</th>\n",
       "      <th>action_type</th>\n",
       "    </tr>\n",
       "  </thead>\n",
       "  <tbody>\n",
       "    <tr>\n",
       "      <th>0</th>\n",
       "      <td>328862</td>\n",
       "      <td>323294</td>\n",
       "      <td>833</td>\n",
       "      <td>2882</td>\n",
       "      <td>2661.0</td>\n",
       "      <td>829</td>\n",
       "      <td>0</td>\n",
       "    </tr>\n",
       "    <tr>\n",
       "      <th>1</th>\n",
       "      <td>328862</td>\n",
       "      <td>844400</td>\n",
       "      <td>1271</td>\n",
       "      <td>2882</td>\n",
       "      <td>2661.0</td>\n",
       "      <td>829</td>\n",
       "      <td>0</td>\n",
       "    </tr>\n",
       "    <tr>\n",
       "      <th>2</th>\n",
       "      <td>328862</td>\n",
       "      <td>575153</td>\n",
       "      <td>1271</td>\n",
       "      <td>2882</td>\n",
       "      <td>2661.0</td>\n",
       "      <td>829</td>\n",
       "      <td>0</td>\n",
       "    </tr>\n",
       "    <tr>\n",
       "      <th>3</th>\n",
       "      <td>328862</td>\n",
       "      <td>996875</td>\n",
       "      <td>1271</td>\n",
       "      <td>2882</td>\n",
       "      <td>2661.0</td>\n",
       "      <td>829</td>\n",
       "      <td>0</td>\n",
       "    </tr>\n",
       "    <tr>\n",
       "      <th>4</th>\n",
       "      <td>328862</td>\n",
       "      <td>1086186</td>\n",
       "      <td>1271</td>\n",
       "      <td>1253</td>\n",
       "      <td>1049.0</td>\n",
       "      <td>829</td>\n",
       "      <td>0</td>\n",
       "    </tr>\n",
       "  </tbody>\n",
       "</table>\n",
       "</div>"
      ],
      "text/plain": [
       "   user_id  item_id  cat_id  seller_id  brand_id  time_stamp  action_type\n",
       "0   328862   323294     833       2882    2661.0         829            0\n",
       "1   328862   844400    1271       2882    2661.0         829            0\n",
       "2   328862   575153    1271       2882    2661.0         829            0\n",
       "3   328862   996875    1271       2882    2661.0         829            0\n",
       "4   328862  1086186    1271       1253    1049.0         829            0"
      ]
     },
     "execution_count": 28,
     "metadata": {},
     "output_type": "execute_result"
    }
   ],
   "source": [
    "user_log.head()"
   ]
  },
  {
   "cell_type": "code",
   "execution_count": 29,
   "metadata": {},
   "outputs": [
    {
     "data": {
      "text/html": [
       "<div>\n",
       "<style scoped>\n",
       "    .dataframe tbody tr th:only-of-type {\n",
       "        vertical-align: middle;\n",
       "    }\n",
       "\n",
       "    .dataframe tbody tr th {\n",
       "        vertical-align: top;\n",
       "    }\n",
       "\n",
       "    .dataframe thead th {\n",
       "        text-align: right;\n",
       "    }\n",
       "</style>\n",
       "<table border=\"1\" class=\"dataframe\">\n",
       "  <thead>\n",
       "    <tr style=\"text-align: right;\">\n",
       "      <th></th>\n",
       "      <th>user_id</th>\n",
       "      <th>item_id</th>\n",
       "      <th>cat_id</th>\n",
       "      <th>seller_id</th>\n",
       "      <th>brand_id</th>\n",
       "      <th>time_stamp</th>\n",
       "      <th>action_type</th>\n",
       "    </tr>\n",
       "  </thead>\n",
       "  <tbody>\n",
       "    <tr>\n",
       "      <th>35905644</th>\n",
       "      <td>34176</td>\n",
       "      <td>757713</td>\n",
       "      <td>821</td>\n",
       "      <td>3906</td>\n",
       "      <td>6268.0</td>\n",
       "      <td>1110</td>\n",
       "      <td>0</td>\n",
       "    </tr>\n",
       "    <tr>\n",
       "      <th>35905646</th>\n",
       "      <td>34176</td>\n",
       "      <td>757713</td>\n",
       "      <td>821</td>\n",
       "      <td>3906</td>\n",
       "      <td>6268.0</td>\n",
       "      <td>1110</td>\n",
       "      <td>0</td>\n",
       "    </tr>\n",
       "    <tr>\n",
       "      <th>35905672</th>\n",
       "      <td>34176</td>\n",
       "      <td>757713</td>\n",
       "      <td>821</td>\n",
       "      <td>3906</td>\n",
       "      <td>6268.0</td>\n",
       "      <td>1110</td>\n",
       "      <td>0</td>\n",
       "    </tr>\n",
       "    <tr>\n",
       "      <th>35905696</th>\n",
       "      <td>34176</td>\n",
       "      <td>718096</td>\n",
       "      <td>1142</td>\n",
       "      <td>3906</td>\n",
       "      <td>6268.0</td>\n",
       "      <td>1031</td>\n",
       "      <td>3</td>\n",
       "    </tr>\n",
       "    <tr>\n",
       "      <th>35905720</th>\n",
       "      <td>34176</td>\n",
       "      <td>757713</td>\n",
       "      <td>821</td>\n",
       "      <td>3906</td>\n",
       "      <td>6268.0</td>\n",
       "      <td>1031</td>\n",
       "      <td>3</td>\n",
       "    </tr>\n",
       "    <tr>\n",
       "      <th>35905791</th>\n",
       "      <td>34176</td>\n",
       "      <td>613698</td>\n",
       "      <td>821</td>\n",
       "      <td>3906</td>\n",
       "      <td>6268.0</td>\n",
       "      <td>1021</td>\n",
       "      <td>0</td>\n",
       "    </tr>\n",
       "    <tr>\n",
       "      <th>35905804</th>\n",
       "      <td>34176</td>\n",
       "      <td>757713</td>\n",
       "      <td>821</td>\n",
       "      <td>3906</td>\n",
       "      <td>6268.0</td>\n",
       "      <td>1108</td>\n",
       "      <td>0</td>\n",
       "    </tr>\n",
       "    <tr>\n",
       "      <th>35905824</th>\n",
       "      <td>34176</td>\n",
       "      <td>757713</td>\n",
       "      <td>821</td>\n",
       "      <td>3906</td>\n",
       "      <td>6268.0</td>\n",
       "      <td>1029</td>\n",
       "      <td>0</td>\n",
       "    </tr>\n",
       "    <tr>\n",
       "      <th>35905830</th>\n",
       "      <td>34176</td>\n",
       "      <td>1093165</td>\n",
       "      <td>1397</td>\n",
       "      <td>3906</td>\n",
       "      <td>6268.0</td>\n",
       "      <td>1027</td>\n",
       "      <td>0</td>\n",
       "    </tr>\n",
       "    <tr>\n",
       "      <th>35905831</th>\n",
       "      <td>34176</td>\n",
       "      <td>898580</td>\n",
       "      <td>662</td>\n",
       "      <td>3906</td>\n",
       "      <td>6268.0</td>\n",
       "      <td>1027</td>\n",
       "      <td>0</td>\n",
       "    </tr>\n",
       "    <tr>\n",
       "      <th>35905832</th>\n",
       "      <td>34176</td>\n",
       "      <td>569051</td>\n",
       "      <td>1577</td>\n",
       "      <td>3906</td>\n",
       "      <td>6268.0</td>\n",
       "      <td>1027</td>\n",
       "      <td>0</td>\n",
       "    </tr>\n",
       "    <tr>\n",
       "      <th>35905834</th>\n",
       "      <td>34176</td>\n",
       "      <td>185202</td>\n",
       "      <td>821</td>\n",
       "      <td>3906</td>\n",
       "      <td>6268.0</td>\n",
       "      <td>1027</td>\n",
       "      <td>0</td>\n",
       "    </tr>\n",
       "    <tr>\n",
       "      <th>35905876</th>\n",
       "      <td>34176</td>\n",
       "      <td>757713</td>\n",
       "      <td>821</td>\n",
       "      <td>3906</td>\n",
       "      <td>6268.0</td>\n",
       "      <td>1111</td>\n",
       "      <td>2</td>\n",
       "    </tr>\n",
       "    <tr>\n",
       "      <th>35905886</th>\n",
       "      <td>34176</td>\n",
       "      <td>757713</td>\n",
       "      <td>821</td>\n",
       "      <td>3906</td>\n",
       "      <td>6268.0</td>\n",
       "      <td>1111</td>\n",
       "      <td>0</td>\n",
       "    </tr>\n",
       "    <tr>\n",
       "      <th>35905895</th>\n",
       "      <td>34176</td>\n",
       "      <td>757713</td>\n",
       "      <td>821</td>\n",
       "      <td>3906</td>\n",
       "      <td>6268.0</td>\n",
       "      <td>1111</td>\n",
       "      <td>0</td>\n",
       "    </tr>\n",
       "    <tr>\n",
       "      <th>35905900</th>\n",
       "      <td>34176</td>\n",
       "      <td>757713</td>\n",
       "      <td>821</td>\n",
       "      <td>3906</td>\n",
       "      <td>6268.0</td>\n",
       "      <td>1111</td>\n",
       "      <td>0</td>\n",
       "    </tr>\n",
       "    <tr>\n",
       "      <th>35905960</th>\n",
       "      <td>34176</td>\n",
       "      <td>757713</td>\n",
       "      <td>821</td>\n",
       "      <td>3906</td>\n",
       "      <td>6268.0</td>\n",
       "      <td>1107</td>\n",
       "      <td>0</td>\n",
       "    </tr>\n",
       "    <tr>\n",
       "      <th>35905966</th>\n",
       "      <td>34176</td>\n",
       "      <td>757713</td>\n",
       "      <td>821</td>\n",
       "      <td>3906</td>\n",
       "      <td>6268.0</td>\n",
       "      <td>1107</td>\n",
       "      <td>0</td>\n",
       "    </tr>\n",
       "    <tr>\n",
       "      <th>35905995</th>\n",
       "      <td>34176</td>\n",
       "      <td>965699</td>\n",
       "      <td>662</td>\n",
       "      <td>3906</td>\n",
       "      <td>6268.0</td>\n",
       "      <td>1027</td>\n",
       "      <td>0</td>\n",
       "    </tr>\n",
       "    <tr>\n",
       "      <th>35905996</th>\n",
       "      <td>34176</td>\n",
       "      <td>187402</td>\n",
       "      <td>1577</td>\n",
       "      <td>3906</td>\n",
       "      <td>6268.0</td>\n",
       "      <td>1027</td>\n",
       "      <td>0</td>\n",
       "    </tr>\n",
       "    <tr>\n",
       "      <th>35905999</th>\n",
       "      <td>34176</td>\n",
       "      <td>757713</td>\n",
       "      <td>821</td>\n",
       "      <td>3906</td>\n",
       "      <td>6268.0</td>\n",
       "      <td>1027</td>\n",
       "      <td>0</td>\n",
       "    </tr>\n",
       "    <tr>\n",
       "      <th>35906001</th>\n",
       "      <td>34176</td>\n",
       "      <td>569051</td>\n",
       "      <td>1577</td>\n",
       "      <td>3906</td>\n",
       "      <td>6268.0</td>\n",
       "      <td>1027</td>\n",
       "      <td>0</td>\n",
       "    </tr>\n",
       "    <tr>\n",
       "      <th>35906005</th>\n",
       "      <td>34176</td>\n",
       "      <td>702940</td>\n",
       "      <td>662</td>\n",
       "      <td>3906</td>\n",
       "      <td>6268.0</td>\n",
       "      <td>1027</td>\n",
       "      <td>0</td>\n",
       "    </tr>\n",
       "    <tr>\n",
       "      <th>35906007</th>\n",
       "      <td>34176</td>\n",
       "      <td>832131</td>\n",
       "      <td>662</td>\n",
       "      <td>3906</td>\n",
       "      <td>6268.0</td>\n",
       "      <td>1027</td>\n",
       "      <td>0</td>\n",
       "    </tr>\n",
       "    <tr>\n",
       "      <th>35906008</th>\n",
       "      <td>34176</td>\n",
       "      <td>48054</td>\n",
       "      <td>302</td>\n",
       "      <td>3906</td>\n",
       "      <td>6268.0</td>\n",
       "      <td>1027</td>\n",
       "      <td>0</td>\n",
       "    </tr>\n",
       "    <tr>\n",
       "      <th>35906009</th>\n",
       "      <td>34176</td>\n",
       "      <td>757713</td>\n",
       "      <td>821</td>\n",
       "      <td>3906</td>\n",
       "      <td>6268.0</td>\n",
       "      <td>1027</td>\n",
       "      <td>0</td>\n",
       "    </tr>\n",
       "    <tr>\n",
       "      <th>35906011</th>\n",
       "      <td>34176</td>\n",
       "      <td>320263</td>\n",
       "      <td>662</td>\n",
       "      <td>3906</td>\n",
       "      <td>6268.0</td>\n",
       "      <td>1027</td>\n",
       "      <td>0</td>\n",
       "    </tr>\n",
       "    <tr>\n",
       "      <th>35906012</th>\n",
       "      <td>34176</td>\n",
       "      <td>468438</td>\n",
       "      <td>821</td>\n",
       "      <td>3906</td>\n",
       "      <td>6268.0</td>\n",
       "      <td>1027</td>\n",
       "      <td>0</td>\n",
       "    </tr>\n",
       "    <tr>\n",
       "      <th>35906013</th>\n",
       "      <td>34176</td>\n",
       "      <td>963534</td>\n",
       "      <td>821</td>\n",
       "      <td>3906</td>\n",
       "      <td>6268.0</td>\n",
       "      <td>1027</td>\n",
       "      <td>0</td>\n",
       "    </tr>\n",
       "    <tr>\n",
       "      <th>35906014</th>\n",
       "      <td>34176</td>\n",
       "      <td>613698</td>\n",
       "      <td>821</td>\n",
       "      <td>3906</td>\n",
       "      <td>6268.0</td>\n",
       "      <td>1027</td>\n",
       "      <td>0</td>\n",
       "    </tr>\n",
       "    <tr>\n",
       "      <th>35906016</th>\n",
       "      <td>34176</td>\n",
       "      <td>757713</td>\n",
       "      <td>821</td>\n",
       "      <td>3906</td>\n",
       "      <td>6268.0</td>\n",
       "      <td>1027</td>\n",
       "      <td>0</td>\n",
       "    </tr>\n",
       "    <tr>\n",
       "      <th>35906017</th>\n",
       "      <td>34176</td>\n",
       "      <td>963534</td>\n",
       "      <td>821</td>\n",
       "      <td>3906</td>\n",
       "      <td>6268.0</td>\n",
       "      <td>1027</td>\n",
       "      <td>0</td>\n",
       "    </tr>\n",
       "    <tr>\n",
       "      <th>35906020</th>\n",
       "      <td>34176</td>\n",
       "      <td>157439</td>\n",
       "      <td>662</td>\n",
       "      <td>3906</td>\n",
       "      <td>6268.0</td>\n",
       "      <td>1027</td>\n",
       "      <td>0</td>\n",
       "    </tr>\n",
       "    <tr>\n",
       "      <th>35906021</th>\n",
       "      <td>34176</td>\n",
       "      <td>475546</td>\n",
       "      <td>1397</td>\n",
       "      <td>3906</td>\n",
       "      <td>6268.0</td>\n",
       "      <td>1027</td>\n",
       "      <td>0</td>\n",
       "    </tr>\n",
       "    <tr>\n",
       "      <th>35906023</th>\n",
       "      <td>34176</td>\n",
       "      <td>246109</td>\n",
       "      <td>821</td>\n",
       "      <td>3906</td>\n",
       "      <td>6268.0</td>\n",
       "      <td>1027</td>\n",
       "      <td>0</td>\n",
       "    </tr>\n",
       "    <tr>\n",
       "      <th>35906025</th>\n",
       "      <td>34176</td>\n",
       "      <td>757713</td>\n",
       "      <td>821</td>\n",
       "      <td>3906</td>\n",
       "      <td>6268.0</td>\n",
       "      <td>1027</td>\n",
       "      <td>0</td>\n",
       "    </tr>\n",
       "    <tr>\n",
       "      <th>35906026</th>\n",
       "      <td>34176</td>\n",
       "      <td>523545</td>\n",
       "      <td>662</td>\n",
       "      <td>3906</td>\n",
       "      <td>6268.0</td>\n",
       "      <td>1027</td>\n",
       "      <td>0</td>\n",
       "    </tr>\n",
       "    <tr>\n",
       "      <th>35906027</th>\n",
       "      <td>34176</td>\n",
       "      <td>198962</td>\n",
       "      <td>1577</td>\n",
       "      <td>3906</td>\n",
       "      <td>6268.0</td>\n",
       "      <td>1027</td>\n",
       "      <td>0</td>\n",
       "    </tr>\n",
       "    <tr>\n",
       "      <th>35906085</th>\n",
       "      <td>34176</td>\n",
       "      <td>613698</td>\n",
       "      <td>821</td>\n",
       "      <td>3906</td>\n",
       "      <td>6268.0</td>\n",
       "      <td>1020</td>\n",
       "      <td>0</td>\n",
       "    </tr>\n",
       "  </tbody>\n",
       "</table>\n",
       "</div>"
      ],
      "text/plain": [
       "          user_id  item_id  cat_id  seller_id  brand_id  time_stamp  \\\n",
       "35905644    34176   757713     821       3906    6268.0        1110   \n",
       "35905646    34176   757713     821       3906    6268.0        1110   \n",
       "35905672    34176   757713     821       3906    6268.0        1110   \n",
       "35905696    34176   718096    1142       3906    6268.0        1031   \n",
       "35905720    34176   757713     821       3906    6268.0        1031   \n",
       "35905791    34176   613698     821       3906    6268.0        1021   \n",
       "35905804    34176   757713     821       3906    6268.0        1108   \n",
       "35905824    34176   757713     821       3906    6268.0        1029   \n",
       "35905830    34176  1093165    1397       3906    6268.0        1027   \n",
       "35905831    34176   898580     662       3906    6268.0        1027   \n",
       "35905832    34176   569051    1577       3906    6268.0        1027   \n",
       "35905834    34176   185202     821       3906    6268.0        1027   \n",
       "35905876    34176   757713     821       3906    6268.0        1111   \n",
       "35905886    34176   757713     821       3906    6268.0        1111   \n",
       "35905895    34176   757713     821       3906    6268.0        1111   \n",
       "35905900    34176   757713     821       3906    6268.0        1111   \n",
       "35905960    34176   757713     821       3906    6268.0        1107   \n",
       "35905966    34176   757713     821       3906    6268.0        1107   \n",
       "35905995    34176   965699     662       3906    6268.0        1027   \n",
       "35905996    34176   187402    1577       3906    6268.0        1027   \n",
       "35905999    34176   757713     821       3906    6268.0        1027   \n",
       "35906001    34176   569051    1577       3906    6268.0        1027   \n",
       "35906005    34176   702940     662       3906    6268.0        1027   \n",
       "35906007    34176   832131     662       3906    6268.0        1027   \n",
       "35906008    34176    48054     302       3906    6268.0        1027   \n",
       "35906009    34176   757713     821       3906    6268.0        1027   \n",
       "35906011    34176   320263     662       3906    6268.0        1027   \n",
       "35906012    34176   468438     821       3906    6268.0        1027   \n",
       "35906013    34176   963534     821       3906    6268.0        1027   \n",
       "35906014    34176   613698     821       3906    6268.0        1027   \n",
       "35906016    34176   757713     821       3906    6268.0        1027   \n",
       "35906017    34176   963534     821       3906    6268.0        1027   \n",
       "35906020    34176   157439     662       3906    6268.0        1027   \n",
       "35906021    34176   475546    1397       3906    6268.0        1027   \n",
       "35906023    34176   246109     821       3906    6268.0        1027   \n",
       "35906025    34176   757713     821       3906    6268.0        1027   \n",
       "35906026    34176   523545     662       3906    6268.0        1027   \n",
       "35906027    34176   198962    1577       3906    6268.0        1027   \n",
       "35906085    34176   613698     821       3906    6268.0        1020   \n",
       "\n",
       "          action_type  \n",
       "35905644            0  \n",
       "35905646            0  \n",
       "35905672            0  \n",
       "35905696            3  \n",
       "35905720            3  \n",
       "35905791            0  \n",
       "35905804            0  \n",
       "35905824            0  \n",
       "35905830            0  \n",
       "35905831            0  \n",
       "35905832            0  \n",
       "35905834            0  \n",
       "35905876            2  \n",
       "35905886            0  \n",
       "35905895            0  \n",
       "35905900            0  \n",
       "35905960            0  \n",
       "35905966            0  \n",
       "35905995            0  \n",
       "35905996            0  \n",
       "35905999            0  \n",
       "35906001            0  \n",
       "35906005            0  \n",
       "35906007            0  \n",
       "35906008            0  \n",
       "35906009            0  \n",
       "35906011            0  \n",
       "35906012            0  \n",
       "35906013            0  \n",
       "35906014            0  \n",
       "35906016            0  \n",
       "35906017            0  \n",
       "35906020            0  \n",
       "35906021            0  \n",
       "35906023            0  \n",
       "35906025            0  \n",
       "35906026            0  \n",
       "35906027            0  \n",
       "35906085            0  "
      ]
     },
     "execution_count": 29,
     "metadata": {},
     "output_type": "execute_result"
    }
   ],
   "source": [
    "# check the activities of the first user at the first merchant\n",
    "user_log[(user_log['user_id'] == 34176) & (user_log['seller_id'] == 3906)]"
   ]
  },
  {
   "cell_type": "markdown",
   "metadata": {},
   "source": [
    "**We need to extract and create useful features from user_info and user_log and put it together into df in order to build and train the model.**\n",
    "\n",
    "**List of features needed are:**\n",
    "* age_range: customers' age\n",
    "* gender: customers' sex\n",
    "* total_logs: number of recorded activities of customer at given merchant\n",
    "* diff_item_review: number of different product/item reviewed by customer at given merchant\n",
    "* diff_cat_review: number of different categories of product/item reviewed by customer at given merchant\n",
    "* browse_days: number of days with activities\n",
    "* one_clicks: number of clicks\n",
    "* shopping_carts: number of \"add to cart\"\n",
    "* purchase_times: number of puchases\n",
    "* favourite_times: number of \"add to favourite\""
   ]
  },
  {
   "cell_type": "code",
   "execution_count": 30,
   "metadata": {},
   "outputs": [
    {
     "data": {
      "text/html": [
       "<div>\n",
       "<style scoped>\n",
       "    .dataframe tbody tr th:only-of-type {\n",
       "        vertical-align: middle;\n",
       "    }\n",
       "\n",
       "    .dataframe tbody tr th {\n",
       "        vertical-align: top;\n",
       "    }\n",
       "\n",
       "    .dataframe thead th {\n",
       "        text-align: right;\n",
       "    }\n",
       "</style>\n",
       "<table border=\"1\" class=\"dataframe\">\n",
       "  <thead>\n",
       "    <tr style=\"text-align: right;\">\n",
       "      <th></th>\n",
       "      <th>user_id</th>\n",
       "      <th>merchant_id</th>\n",
       "      <th>label</th>\n",
       "      <th>age_range</th>\n",
       "      <th>gender</th>\n",
       "    </tr>\n",
       "  </thead>\n",
       "  <tbody>\n",
       "    <tr>\n",
       "      <th>0</th>\n",
       "      <td>34176</td>\n",
       "      <td>3906</td>\n",
       "      <td>0</td>\n",
       "      <td>40-49</td>\n",
       "      <td>female</td>\n",
       "    </tr>\n",
       "    <tr>\n",
       "      <th>1</th>\n",
       "      <td>34176</td>\n",
       "      <td>121</td>\n",
       "      <td>0</td>\n",
       "      <td>40-49</td>\n",
       "      <td>female</td>\n",
       "    </tr>\n",
       "    <tr>\n",
       "      <th>2</th>\n",
       "      <td>34176</td>\n",
       "      <td>4356</td>\n",
       "      <td>1</td>\n",
       "      <td>40-49</td>\n",
       "      <td>female</td>\n",
       "    </tr>\n",
       "    <tr>\n",
       "      <th>3</th>\n",
       "      <td>34176</td>\n",
       "      <td>2217</td>\n",
       "      <td>0</td>\n",
       "      <td>40-49</td>\n",
       "      <td>female</td>\n",
       "    </tr>\n",
       "    <tr>\n",
       "      <th>4</th>\n",
       "      <td>230784</td>\n",
       "      <td>4818</td>\n",
       "      <td>0</td>\n",
       "      <td>unknown</td>\n",
       "      <td>female</td>\n",
       "    </tr>\n",
       "  </tbody>\n",
       "</table>\n",
       "</div>"
      ],
      "text/plain": [
       "   user_id  merchant_id  label age_range  gender\n",
       "0    34176         3906      0     40-49  female\n",
       "1    34176          121      0     40-49  female\n",
       "2    34176         4356      1     40-49  female\n",
       "3    34176         2217      0     40-49  female\n",
       "4   230784         4818      0   unknown  female"
      ]
     },
     "execution_count": 30,
     "metadata": {},
     "output_type": "execute_result"
    }
   ],
   "source": [
    "# add age_range and gender to df\n",
    "df = pd.merge(df,user_info,on=\"user_id\",how=\"left\")\n",
    "df.head()"
   ]
  },
  {
   "cell_type": "code",
   "execution_count": 31,
   "metadata": {},
   "outputs": [
    {
     "data": {
      "text/html": [
       "<div>\n",
       "<style scoped>\n",
       "    .dataframe tbody tr th:only-of-type {\n",
       "        vertical-align: middle;\n",
       "    }\n",
       "\n",
       "    .dataframe tbody tr th {\n",
       "        vertical-align: top;\n",
       "    }\n",
       "\n",
       "    .dataframe thead th {\n",
       "        text-align: right;\n",
       "    }\n",
       "</style>\n",
       "<table border=\"1\" class=\"dataframe\">\n",
       "  <thead>\n",
       "    <tr style=\"text-align: right;\">\n",
       "      <th></th>\n",
       "      <th>user_id</th>\n",
       "      <th>seller_id</th>\n",
       "      <th>item_id</th>\n",
       "    </tr>\n",
       "  </thead>\n",
       "  <tbody>\n",
       "    <tr>\n",
       "      <th>0</th>\n",
       "      <td>1</td>\n",
       "      <td>471</td>\n",
       "      <td>1</td>\n",
       "    </tr>\n",
       "    <tr>\n",
       "      <th>1</th>\n",
       "      <td>1</td>\n",
       "      <td>739</td>\n",
       "      <td>1</td>\n",
       "    </tr>\n",
       "    <tr>\n",
       "      <th>2</th>\n",
       "      <td>1</td>\n",
       "      <td>925</td>\n",
       "      <td>4</td>\n",
       "    </tr>\n",
       "    <tr>\n",
       "      <th>3</th>\n",
       "      <td>1</td>\n",
       "      <td>1019</td>\n",
       "      <td>14</td>\n",
       "    </tr>\n",
       "    <tr>\n",
       "      <th>4</th>\n",
       "      <td>1</td>\n",
       "      <td>1156</td>\n",
       "      <td>1</td>\n",
       "    </tr>\n",
       "  </tbody>\n",
       "</table>\n",
       "</div>"
      ],
      "text/plain": [
       "   user_id  seller_id  item_id\n",
       "0        1        471        1\n",
       "1        1        739        1\n",
       "2        1        925        4\n",
       "3        1       1019       14\n",
       "4        1       1156        1"
      ]
     },
     "execution_count": 31,
     "metadata": {},
     "output_type": "execute_result"
    }
   ],
   "source": [
    "# create total_logs\n",
    "total_logs_temp = user_log.groupby([user_log[\"user_id\"],user_log[\"seller_id\"]]).count().reset_index()[[\"user_id\",\"seller_id\",\"item_id\"]]\n",
    "total_logs_temp.head()"
   ]
  },
  {
   "cell_type": "code",
   "execution_count": 32,
   "metadata": {},
   "outputs": [
    {
     "data": {
      "text/html": [
       "<div>\n",
       "<style scoped>\n",
       "    .dataframe tbody tr th:only-of-type {\n",
       "        vertical-align: middle;\n",
       "    }\n",
       "\n",
       "    .dataframe tbody tr th {\n",
       "        vertical-align: top;\n",
       "    }\n",
       "\n",
       "    .dataframe thead th {\n",
       "        text-align: right;\n",
       "    }\n",
       "</style>\n",
       "<table border=\"1\" class=\"dataframe\">\n",
       "  <thead>\n",
       "    <tr style=\"text-align: right;\">\n",
       "      <th></th>\n",
       "      <th>user_id</th>\n",
       "      <th>merchant_id</th>\n",
       "      <th>total_logs</th>\n",
       "    </tr>\n",
       "  </thead>\n",
       "  <tbody>\n",
       "    <tr>\n",
       "      <th>0</th>\n",
       "      <td>1</td>\n",
       "      <td>471</td>\n",
       "      <td>1</td>\n",
       "    </tr>\n",
       "    <tr>\n",
       "      <th>1</th>\n",
       "      <td>1</td>\n",
       "      <td>739</td>\n",
       "      <td>1</td>\n",
       "    </tr>\n",
       "    <tr>\n",
       "      <th>2</th>\n",
       "      <td>1</td>\n",
       "      <td>925</td>\n",
       "      <td>4</td>\n",
       "    </tr>\n",
       "    <tr>\n",
       "      <th>3</th>\n",
       "      <td>1</td>\n",
       "      <td>1019</td>\n",
       "      <td>14</td>\n",
       "    </tr>\n",
       "    <tr>\n",
       "      <th>4</th>\n",
       "      <td>1</td>\n",
       "      <td>1156</td>\n",
       "      <td>1</td>\n",
       "    </tr>\n",
       "  </tbody>\n",
       "</table>\n",
       "</div>"
      ],
      "text/plain": [
       "   user_id  merchant_id  total_logs\n",
       "0        1          471           1\n",
       "1        1          739           1\n",
       "2        1          925           4\n",
       "3        1         1019          14\n",
       "4        1         1156           1"
      ]
     },
     "execution_count": 32,
     "metadata": {},
     "output_type": "execute_result"
    }
   ],
   "source": [
    "total_logs_temp.rename(columns={\"seller_id\":\"merchant_id\",\"item_id\":\"total_logs\"},inplace=True)\n",
    "total_logs_temp.head()"
   ]
  },
  {
   "cell_type": "code",
   "execution_count": 33,
   "metadata": {},
   "outputs": [
    {
     "data": {
      "text/html": [
       "<div>\n",
       "<style scoped>\n",
       "    .dataframe tbody tr th:only-of-type {\n",
       "        vertical-align: middle;\n",
       "    }\n",
       "\n",
       "    .dataframe tbody tr th {\n",
       "        vertical-align: top;\n",
       "    }\n",
       "\n",
       "    .dataframe thead th {\n",
       "        text-align: right;\n",
       "    }\n",
       "</style>\n",
       "<table border=\"1\" class=\"dataframe\">\n",
       "  <thead>\n",
       "    <tr style=\"text-align: right;\">\n",
       "      <th></th>\n",
       "      <th>user_id</th>\n",
       "      <th>merchant_id</th>\n",
       "      <th>label</th>\n",
       "      <th>age_range</th>\n",
       "      <th>gender</th>\n",
       "      <th>total_logs</th>\n",
       "    </tr>\n",
       "  </thead>\n",
       "  <tbody>\n",
       "    <tr>\n",
       "      <th>0</th>\n",
       "      <td>34176</td>\n",
       "      <td>3906</td>\n",
       "      <td>0</td>\n",
       "      <td>40-49</td>\n",
       "      <td>female</td>\n",
       "      <td>39</td>\n",
       "    </tr>\n",
       "    <tr>\n",
       "      <th>1</th>\n",
       "      <td>34176</td>\n",
       "      <td>121</td>\n",
       "      <td>0</td>\n",
       "      <td>40-49</td>\n",
       "      <td>female</td>\n",
       "      <td>14</td>\n",
       "    </tr>\n",
       "    <tr>\n",
       "      <th>2</th>\n",
       "      <td>34176</td>\n",
       "      <td>4356</td>\n",
       "      <td>1</td>\n",
       "      <td>40-49</td>\n",
       "      <td>female</td>\n",
       "      <td>18</td>\n",
       "    </tr>\n",
       "    <tr>\n",
       "      <th>3</th>\n",
       "      <td>34176</td>\n",
       "      <td>2217</td>\n",
       "      <td>0</td>\n",
       "      <td>40-49</td>\n",
       "      <td>female</td>\n",
       "      <td>2</td>\n",
       "    </tr>\n",
       "    <tr>\n",
       "      <th>4</th>\n",
       "      <td>230784</td>\n",
       "      <td>4818</td>\n",
       "      <td>0</td>\n",
       "      <td>unknown</td>\n",
       "      <td>female</td>\n",
       "      <td>8</td>\n",
       "    </tr>\n",
       "  </tbody>\n",
       "</table>\n",
       "</div>"
      ],
      "text/plain": [
       "   user_id  merchant_id  label age_range  gender  total_logs\n",
       "0    34176         3906      0     40-49  female          39\n",
       "1    34176          121      0     40-49  female          14\n",
       "2    34176         4356      1     40-49  female          18\n",
       "3    34176         2217      0     40-49  female           2\n",
       "4   230784         4818      0   unknown  female           8"
      ]
     },
     "execution_count": 33,
     "metadata": {},
     "output_type": "execute_result"
    }
   ],
   "source": [
    "# add total_logs\n",
    "df = pd.merge(df, total_logs_temp, on=[\"user_id\",\"merchant_id\"],how=\"left\")\n",
    "df.head()"
   ]
  },
  {
   "cell_type": "code",
   "execution_count": 34,
   "metadata": {},
   "outputs": [
    {
     "data": {
      "text/html": [
       "<div>\n",
       "<style scoped>\n",
       "    .dataframe tbody tr th:only-of-type {\n",
       "        vertical-align: middle;\n",
       "    }\n",
       "\n",
       "    .dataframe tbody tr th {\n",
       "        vertical-align: top;\n",
       "    }\n",
       "\n",
       "    .dataframe thead th {\n",
       "        text-align: right;\n",
       "    }\n",
       "</style>\n",
       "<table border=\"1\" class=\"dataframe\">\n",
       "  <thead>\n",
       "    <tr style=\"text-align: right;\">\n",
       "      <th></th>\n",
       "      <th>user_id</th>\n",
       "      <th>seller_id</th>\n",
       "      <th>item_id</th>\n",
       "    </tr>\n",
       "  </thead>\n",
       "  <tbody>\n",
       "    <tr>\n",
       "      <th>0</th>\n",
       "      <td>1</td>\n",
       "      <td>471</td>\n",
       "      <td>638653</td>\n",
       "    </tr>\n",
       "    <tr>\n",
       "      <th>1</th>\n",
       "      <td>1</td>\n",
       "      <td>739</td>\n",
       "      <td>556107</td>\n",
       "    </tr>\n",
       "    <tr>\n",
       "      <th>2</th>\n",
       "      <td>1</td>\n",
       "      <td>925</td>\n",
       "      <td>504149</td>\n",
       "    </tr>\n",
       "    <tr>\n",
       "      <th>3</th>\n",
       "      <td>1</td>\n",
       "      <td>1019</td>\n",
       "      <td>1110495</td>\n",
       "    </tr>\n",
       "    <tr>\n",
       "      <th>4</th>\n",
       "      <td>1</td>\n",
       "      <td>1156</td>\n",
       "      <td>896183</td>\n",
       "    </tr>\n",
       "  </tbody>\n",
       "</table>\n",
       "</div>"
      ],
      "text/plain": [
       "   user_id  seller_id  item_id\n",
       "0        1        471   638653\n",
       "1        1        739   556107\n",
       "2        1        925   504149\n",
       "3        1       1019  1110495\n",
       "4        1       1156   896183"
      ]
     },
     "execution_count": 34,
     "metadata": {},
     "output_type": "execute_result"
    }
   ],
   "source": [
    "# create diff_item_review\n",
    "diff_item_review_temp = user_log.groupby([user_log[\"user_id\"],user_log[\"seller_id\"],user_log[\"item_id\"]]).count().reset_index()[[\"user_id\",\"seller_id\",\"item_id\"]]\n",
    "diff_item_review_temp.head()"
   ]
  },
  {
   "cell_type": "code",
   "execution_count": 35,
   "metadata": {},
   "outputs": [
    {
     "data": {
      "text/html": [
       "<div>\n",
       "<style scoped>\n",
       "    .dataframe tbody tr th:only-of-type {\n",
       "        vertical-align: middle;\n",
       "    }\n",
       "\n",
       "    .dataframe tbody tr th {\n",
       "        vertical-align: top;\n",
       "    }\n",
       "\n",
       "    .dataframe thead th {\n",
       "        text-align: right;\n",
       "    }\n",
       "</style>\n",
       "<table border=\"1\" class=\"dataframe\">\n",
       "  <thead>\n",
       "    <tr style=\"text-align: right;\">\n",
       "      <th></th>\n",
       "      <th>user_id</th>\n",
       "      <th>seller_id</th>\n",
       "      <th>item_id</th>\n",
       "    </tr>\n",
       "  </thead>\n",
       "  <tbody>\n",
       "    <tr>\n",
       "      <th>0</th>\n",
       "      <td>1</td>\n",
       "      <td>471</td>\n",
       "      <td>1</td>\n",
       "    </tr>\n",
       "    <tr>\n",
       "      <th>1</th>\n",
       "      <td>1</td>\n",
       "      <td>739</td>\n",
       "      <td>1</td>\n",
       "    </tr>\n",
       "    <tr>\n",
       "      <th>2</th>\n",
       "      <td>1</td>\n",
       "      <td>925</td>\n",
       "      <td>1</td>\n",
       "    </tr>\n",
       "    <tr>\n",
       "      <th>3</th>\n",
       "      <td>1</td>\n",
       "      <td>1019</td>\n",
       "      <td>1</td>\n",
       "    </tr>\n",
       "    <tr>\n",
       "      <th>4</th>\n",
       "      <td>1</td>\n",
       "      <td>1156</td>\n",
       "      <td>1</td>\n",
       "    </tr>\n",
       "  </tbody>\n",
       "</table>\n",
       "</div>"
      ],
      "text/plain": [
       "   user_id  seller_id  item_id\n",
       "0        1        471        1\n",
       "1        1        739        1\n",
       "2        1        925        1\n",
       "3        1       1019        1\n",
       "4        1       1156        1"
      ]
     },
     "execution_count": 35,
     "metadata": {},
     "output_type": "execute_result"
    }
   ],
   "source": [
    "diff_item_review_temp1 = diff_item_review_temp.groupby([diff_item_review_temp[\"user_id\"],diff_item_review_temp[\"seller_id\"]]).count().reset_index()\n",
    "diff_item_review_temp1.head()"
   ]
  },
  {
   "cell_type": "code",
   "execution_count": 36,
   "metadata": {},
   "outputs": [
    {
     "data": {
      "text/html": [
       "<div>\n",
       "<style scoped>\n",
       "    .dataframe tbody tr th:only-of-type {\n",
       "        vertical-align: middle;\n",
       "    }\n",
       "\n",
       "    .dataframe tbody tr th {\n",
       "        vertical-align: top;\n",
       "    }\n",
       "\n",
       "    .dataframe thead th {\n",
       "        text-align: right;\n",
       "    }\n",
       "</style>\n",
       "<table border=\"1\" class=\"dataframe\">\n",
       "  <thead>\n",
       "    <tr style=\"text-align: right;\">\n",
       "      <th></th>\n",
       "      <th>user_id</th>\n",
       "      <th>merchant_id</th>\n",
       "      <th>diff_item_review</th>\n",
       "    </tr>\n",
       "  </thead>\n",
       "  <tbody>\n",
       "    <tr>\n",
       "      <th>0</th>\n",
       "      <td>1</td>\n",
       "      <td>471</td>\n",
       "      <td>1</td>\n",
       "    </tr>\n",
       "    <tr>\n",
       "      <th>1</th>\n",
       "      <td>1</td>\n",
       "      <td>739</td>\n",
       "      <td>1</td>\n",
       "    </tr>\n",
       "    <tr>\n",
       "      <th>2</th>\n",
       "      <td>1</td>\n",
       "      <td>925</td>\n",
       "      <td>1</td>\n",
       "    </tr>\n",
       "    <tr>\n",
       "      <th>3</th>\n",
       "      <td>1</td>\n",
       "      <td>1019</td>\n",
       "      <td>1</td>\n",
       "    </tr>\n",
       "    <tr>\n",
       "      <th>4</th>\n",
       "      <td>1</td>\n",
       "      <td>1156</td>\n",
       "      <td>1</td>\n",
       "    </tr>\n",
       "  </tbody>\n",
       "</table>\n",
       "</div>"
      ],
      "text/plain": [
       "   user_id  merchant_id  diff_item_review\n",
       "0        1          471                 1\n",
       "1        1          739                 1\n",
       "2        1          925                 1\n",
       "3        1         1019                 1\n",
       "4        1         1156                 1"
      ]
     },
     "execution_count": 36,
     "metadata": {},
     "output_type": "execute_result"
    }
   ],
   "source": [
    "diff_item_review_temp1.rename(columns={\"seller_id\":\"merchant_id\",\"item_id\":\"diff_item_review\"},inplace=True)\n",
    "diff_item_review_temp1.head()"
   ]
  },
  {
   "cell_type": "code",
   "execution_count": 37,
   "metadata": {},
   "outputs": [
    {
     "data": {
      "text/html": [
       "<div>\n",
       "<style scoped>\n",
       "    .dataframe tbody tr th:only-of-type {\n",
       "        vertical-align: middle;\n",
       "    }\n",
       "\n",
       "    .dataframe tbody tr th {\n",
       "        vertical-align: top;\n",
       "    }\n",
       "\n",
       "    .dataframe thead th {\n",
       "        text-align: right;\n",
       "    }\n",
       "</style>\n",
       "<table border=\"1\" class=\"dataframe\">\n",
       "  <thead>\n",
       "    <tr style=\"text-align: right;\">\n",
       "      <th></th>\n",
       "      <th>user_id</th>\n",
       "      <th>merchant_id</th>\n",
       "      <th>label</th>\n",
       "      <th>age_range</th>\n",
       "      <th>gender</th>\n",
       "      <th>total_logs</th>\n",
       "      <th>diff_item_review</th>\n",
       "    </tr>\n",
       "  </thead>\n",
       "  <tbody>\n",
       "    <tr>\n",
       "      <th>0</th>\n",
       "      <td>34176</td>\n",
       "      <td>3906</td>\n",
       "      <td>0</td>\n",
       "      <td>40-49</td>\n",
       "      <td>female</td>\n",
       "      <td>39</td>\n",
       "      <td>20</td>\n",
       "    </tr>\n",
       "    <tr>\n",
       "      <th>1</th>\n",
       "      <td>34176</td>\n",
       "      <td>121</td>\n",
       "      <td>0</td>\n",
       "      <td>40-49</td>\n",
       "      <td>female</td>\n",
       "      <td>14</td>\n",
       "      <td>1</td>\n",
       "    </tr>\n",
       "    <tr>\n",
       "      <th>2</th>\n",
       "      <td>34176</td>\n",
       "      <td>4356</td>\n",
       "      <td>1</td>\n",
       "      <td>40-49</td>\n",
       "      <td>female</td>\n",
       "      <td>18</td>\n",
       "      <td>2</td>\n",
       "    </tr>\n",
       "    <tr>\n",
       "      <th>3</th>\n",
       "      <td>34176</td>\n",
       "      <td>2217</td>\n",
       "      <td>0</td>\n",
       "      <td>40-49</td>\n",
       "      <td>female</td>\n",
       "      <td>2</td>\n",
       "      <td>1</td>\n",
       "    </tr>\n",
       "    <tr>\n",
       "      <th>4</th>\n",
       "      <td>230784</td>\n",
       "      <td>4818</td>\n",
       "      <td>0</td>\n",
       "      <td>unknown</td>\n",
       "      <td>female</td>\n",
       "      <td>8</td>\n",
       "      <td>1</td>\n",
       "    </tr>\n",
       "  </tbody>\n",
       "</table>\n",
       "</div>"
      ],
      "text/plain": [
       "   user_id  merchant_id  label age_range  gender  total_logs  diff_item_review\n",
       "0    34176         3906      0     40-49  female          39                20\n",
       "1    34176          121      0     40-49  female          14                 1\n",
       "2    34176         4356      1     40-49  female          18                 2\n",
       "3    34176         2217      0     40-49  female           2                 1\n",
       "4   230784         4818      0   unknown  female           8                 1"
      ]
     },
     "execution_count": 37,
     "metadata": {},
     "output_type": "execute_result"
    }
   ],
   "source": [
    "# add diff_item_review\n",
    "df = pd.merge(df,diff_item_review_temp1,on=[\"user_id\",\"merchant_id\"],how=\"left\")\n",
    "df.head()"
   ]
  },
  {
   "cell_type": "code",
   "execution_count": 38,
   "metadata": {},
   "outputs": [
    {
     "data": {
      "text/html": [
       "<div>\n",
       "<style scoped>\n",
       "    .dataframe tbody tr th:only-of-type {\n",
       "        vertical-align: middle;\n",
       "    }\n",
       "\n",
       "    .dataframe tbody tr th {\n",
       "        vertical-align: top;\n",
       "    }\n",
       "\n",
       "    .dataframe thead th {\n",
       "        text-align: right;\n",
       "    }\n",
       "</style>\n",
       "<table border=\"1\" class=\"dataframe\">\n",
       "  <thead>\n",
       "    <tr style=\"text-align: right;\">\n",
       "      <th></th>\n",
       "      <th>user_id</th>\n",
       "      <th>seller_id</th>\n",
       "      <th>cat_id</th>\n",
       "    </tr>\n",
       "  </thead>\n",
       "  <tbody>\n",
       "    <tr>\n",
       "      <th>0</th>\n",
       "      <td>1</td>\n",
       "      <td>471</td>\n",
       "      <td>389</td>\n",
       "    </tr>\n",
       "    <tr>\n",
       "      <th>1</th>\n",
       "      <td>1</td>\n",
       "      <td>739</td>\n",
       "      <td>1252</td>\n",
       "    </tr>\n",
       "    <tr>\n",
       "      <th>2</th>\n",
       "      <td>1</td>\n",
       "      <td>925</td>\n",
       "      <td>1023</td>\n",
       "    </tr>\n",
       "    <tr>\n",
       "      <th>3</th>\n",
       "      <td>1</td>\n",
       "      <td>1019</td>\n",
       "      <td>992</td>\n",
       "    </tr>\n",
       "    <tr>\n",
       "      <th>4</th>\n",
       "      <td>1</td>\n",
       "      <td>1156</td>\n",
       "      <td>1256</td>\n",
       "    </tr>\n",
       "  </tbody>\n",
       "</table>\n",
       "</div>"
      ],
      "text/plain": [
       "   user_id  seller_id  cat_id\n",
       "0        1        471     389\n",
       "1        1        739    1252\n",
       "2        1        925    1023\n",
       "3        1       1019     992\n",
       "4        1       1156    1256"
      ]
     },
     "execution_count": 38,
     "metadata": {},
     "output_type": "execute_result"
    }
   ],
   "source": [
    "# create diff_cat_review\n",
    "diff_cat_review_temp = user_log.groupby([user_log[\"user_id\"],user_log[\"seller_id\"],user_log[\"cat_id\"]]).count().reset_index()[[\"user_id\",\"seller_id\",\"cat_id\"]]\n",
    "diff_cat_review_temp.head()"
   ]
  },
  {
   "cell_type": "code",
   "execution_count": 39,
   "metadata": {},
   "outputs": [
    {
     "data": {
      "text/html": [
       "<div>\n",
       "<style scoped>\n",
       "    .dataframe tbody tr th:only-of-type {\n",
       "        vertical-align: middle;\n",
       "    }\n",
       "\n",
       "    .dataframe tbody tr th {\n",
       "        vertical-align: top;\n",
       "    }\n",
       "\n",
       "    .dataframe thead th {\n",
       "        text-align: right;\n",
       "    }\n",
       "</style>\n",
       "<table border=\"1\" class=\"dataframe\">\n",
       "  <thead>\n",
       "    <tr style=\"text-align: right;\">\n",
       "      <th></th>\n",
       "      <th>user_id</th>\n",
       "      <th>seller_id</th>\n",
       "      <th>cat_id</th>\n",
       "    </tr>\n",
       "  </thead>\n",
       "  <tbody>\n",
       "    <tr>\n",
       "      <th>0</th>\n",
       "      <td>1</td>\n",
       "      <td>471</td>\n",
       "      <td>1</td>\n",
       "    </tr>\n",
       "    <tr>\n",
       "      <th>1</th>\n",
       "      <td>1</td>\n",
       "      <td>739</td>\n",
       "      <td>1</td>\n",
       "    </tr>\n",
       "    <tr>\n",
       "      <th>2</th>\n",
       "      <td>1</td>\n",
       "      <td>925</td>\n",
       "      <td>1</td>\n",
       "    </tr>\n",
       "    <tr>\n",
       "      <th>3</th>\n",
       "      <td>1</td>\n",
       "      <td>1019</td>\n",
       "      <td>1</td>\n",
       "    </tr>\n",
       "    <tr>\n",
       "      <th>4</th>\n",
       "      <td>1</td>\n",
       "      <td>1156</td>\n",
       "      <td>1</td>\n",
       "    </tr>\n",
       "    <tr>\n",
       "      <th>5</th>\n",
       "      <td>1</td>\n",
       "      <td>2245</td>\n",
       "      <td>1</td>\n",
       "    </tr>\n",
       "    <tr>\n",
       "      <th>6</th>\n",
       "      <td>1</td>\n",
       "      <td>4026</td>\n",
       "      <td>1</td>\n",
       "    </tr>\n",
       "    <tr>\n",
       "      <th>7</th>\n",
       "      <td>1</td>\n",
       "      <td>4177</td>\n",
       "      <td>1</td>\n",
       "    </tr>\n",
       "    <tr>\n",
       "      <th>8</th>\n",
       "      <td>1</td>\n",
       "      <td>4335</td>\n",
       "      <td>1</td>\n",
       "    </tr>\n",
       "    <tr>\n",
       "      <th>9</th>\n",
       "      <td>2</td>\n",
       "      <td>420</td>\n",
       "      <td>2</td>\n",
       "    </tr>\n",
       "  </tbody>\n",
       "</table>\n",
       "</div>"
      ],
      "text/plain": [
       "   user_id  seller_id  cat_id\n",
       "0        1        471       1\n",
       "1        1        739       1\n",
       "2        1        925       1\n",
       "3        1       1019       1\n",
       "4        1       1156       1\n",
       "5        1       2245       1\n",
       "6        1       4026       1\n",
       "7        1       4177       1\n",
       "8        1       4335       1\n",
       "9        2        420       2"
      ]
     },
     "execution_count": 39,
     "metadata": {},
     "output_type": "execute_result"
    }
   ],
   "source": [
    "diff_cat_review_temp1 = diff_cat_review_temp.groupby([diff_cat_review_temp[\"user_id\"],diff_cat_review_temp[\"seller_id\"]]).count().reset_index()\n",
    "diff_cat_review_temp1.head(10)"
   ]
  },
  {
   "cell_type": "code",
   "execution_count": 40,
   "metadata": {},
   "outputs": [
    {
     "data": {
      "text/html": [
       "<div>\n",
       "<style scoped>\n",
       "    .dataframe tbody tr th:only-of-type {\n",
       "        vertical-align: middle;\n",
       "    }\n",
       "\n",
       "    .dataframe tbody tr th {\n",
       "        vertical-align: top;\n",
       "    }\n",
       "\n",
       "    .dataframe thead th {\n",
       "        text-align: right;\n",
       "    }\n",
       "</style>\n",
       "<table border=\"1\" class=\"dataframe\">\n",
       "  <thead>\n",
       "    <tr style=\"text-align: right;\">\n",
       "      <th></th>\n",
       "      <th>user_id</th>\n",
       "      <th>merchant_id</th>\n",
       "      <th>diff_cat_review</th>\n",
       "    </tr>\n",
       "  </thead>\n",
       "  <tbody>\n",
       "    <tr>\n",
       "      <th>0</th>\n",
       "      <td>1</td>\n",
       "      <td>471</td>\n",
       "      <td>1</td>\n",
       "    </tr>\n",
       "    <tr>\n",
       "      <th>1</th>\n",
       "      <td>1</td>\n",
       "      <td>739</td>\n",
       "      <td>1</td>\n",
       "    </tr>\n",
       "    <tr>\n",
       "      <th>2</th>\n",
       "      <td>1</td>\n",
       "      <td>925</td>\n",
       "      <td>1</td>\n",
       "    </tr>\n",
       "    <tr>\n",
       "      <th>3</th>\n",
       "      <td>1</td>\n",
       "      <td>1019</td>\n",
       "      <td>1</td>\n",
       "    </tr>\n",
       "    <tr>\n",
       "      <th>4</th>\n",
       "      <td>1</td>\n",
       "      <td>1156</td>\n",
       "      <td>1</td>\n",
       "    </tr>\n",
       "    <tr>\n",
       "      <th>5</th>\n",
       "      <td>1</td>\n",
       "      <td>2245</td>\n",
       "      <td>1</td>\n",
       "    </tr>\n",
       "    <tr>\n",
       "      <th>6</th>\n",
       "      <td>1</td>\n",
       "      <td>4026</td>\n",
       "      <td>1</td>\n",
       "    </tr>\n",
       "    <tr>\n",
       "      <th>7</th>\n",
       "      <td>1</td>\n",
       "      <td>4177</td>\n",
       "      <td>1</td>\n",
       "    </tr>\n",
       "    <tr>\n",
       "      <th>8</th>\n",
       "      <td>1</td>\n",
       "      <td>4335</td>\n",
       "      <td>1</td>\n",
       "    </tr>\n",
       "    <tr>\n",
       "      <th>9</th>\n",
       "      <td>2</td>\n",
       "      <td>420</td>\n",
       "      <td>2</td>\n",
       "    </tr>\n",
       "  </tbody>\n",
       "</table>\n",
       "</div>"
      ],
      "text/plain": [
       "   user_id  merchant_id  diff_cat_review\n",
       "0        1          471                1\n",
       "1        1          739                1\n",
       "2        1          925                1\n",
       "3        1         1019                1\n",
       "4        1         1156                1\n",
       "5        1         2245                1\n",
       "6        1         4026                1\n",
       "7        1         4177                1\n",
       "8        1         4335                1\n",
       "9        2          420                2"
      ]
     },
     "execution_count": 40,
     "metadata": {},
     "output_type": "execute_result"
    }
   ],
   "source": [
    "diff_cat_review_temp1.rename(columns={\"seller_id\":\"merchant_id\",\"cat_id\":\"diff_cat_review\"},inplace=True)\n",
    "diff_cat_review_temp1.head(10)"
   ]
  },
  {
   "cell_type": "code",
   "execution_count": 41,
   "metadata": {},
   "outputs": [
    {
     "data": {
      "text/html": [
       "<div>\n",
       "<style scoped>\n",
       "    .dataframe tbody tr th:only-of-type {\n",
       "        vertical-align: middle;\n",
       "    }\n",
       "\n",
       "    .dataframe tbody tr th {\n",
       "        vertical-align: top;\n",
       "    }\n",
       "\n",
       "    .dataframe thead th {\n",
       "        text-align: right;\n",
       "    }\n",
       "</style>\n",
       "<table border=\"1\" class=\"dataframe\">\n",
       "  <thead>\n",
       "    <tr style=\"text-align: right;\">\n",
       "      <th></th>\n",
       "      <th>user_id</th>\n",
       "      <th>merchant_id</th>\n",
       "      <th>label</th>\n",
       "      <th>age_range</th>\n",
       "      <th>gender</th>\n",
       "      <th>total_logs</th>\n",
       "      <th>diff_item_review</th>\n",
       "      <th>diff_cat_review</th>\n",
       "    </tr>\n",
       "  </thead>\n",
       "  <tbody>\n",
       "    <tr>\n",
       "      <th>0</th>\n",
       "      <td>34176</td>\n",
       "      <td>3906</td>\n",
       "      <td>0</td>\n",
       "      <td>40-49</td>\n",
       "      <td>female</td>\n",
       "      <td>39</td>\n",
       "      <td>20</td>\n",
       "      <td>6</td>\n",
       "    </tr>\n",
       "    <tr>\n",
       "      <th>1</th>\n",
       "      <td>34176</td>\n",
       "      <td>121</td>\n",
       "      <td>0</td>\n",
       "      <td>40-49</td>\n",
       "      <td>female</td>\n",
       "      <td>14</td>\n",
       "      <td>1</td>\n",
       "      <td>1</td>\n",
       "    </tr>\n",
       "    <tr>\n",
       "      <th>2</th>\n",
       "      <td>34176</td>\n",
       "      <td>4356</td>\n",
       "      <td>1</td>\n",
       "      <td>40-49</td>\n",
       "      <td>female</td>\n",
       "      <td>18</td>\n",
       "      <td>2</td>\n",
       "      <td>1</td>\n",
       "    </tr>\n",
       "    <tr>\n",
       "      <th>3</th>\n",
       "      <td>34176</td>\n",
       "      <td>2217</td>\n",
       "      <td>0</td>\n",
       "      <td>40-49</td>\n",
       "      <td>female</td>\n",
       "      <td>2</td>\n",
       "      <td>1</td>\n",
       "      <td>1</td>\n",
       "    </tr>\n",
       "    <tr>\n",
       "      <th>4</th>\n",
       "      <td>230784</td>\n",
       "      <td>4818</td>\n",
       "      <td>0</td>\n",
       "      <td>unknown</td>\n",
       "      <td>female</td>\n",
       "      <td>8</td>\n",
       "      <td>1</td>\n",
       "      <td>1</td>\n",
       "    </tr>\n",
       "  </tbody>\n",
       "</table>\n",
       "</div>"
      ],
      "text/plain": [
       "   user_id  merchant_id  label age_range  gender  total_logs  \\\n",
       "0    34176         3906      0     40-49  female          39   \n",
       "1    34176          121      0     40-49  female          14   \n",
       "2    34176         4356      1     40-49  female          18   \n",
       "3    34176         2217      0     40-49  female           2   \n",
       "4   230784         4818      0   unknown  female           8   \n",
       "\n",
       "   diff_item_review  diff_cat_review  \n",
       "0                20                6  \n",
       "1                 1                1  \n",
       "2                 2                1  \n",
       "3                 1                1  \n",
       "4                 1                1  "
      ]
     },
     "execution_count": 41,
     "metadata": {},
     "output_type": "execute_result"
    }
   ],
   "source": [
    "# add diff_cat_review\n",
    "df = pd.merge(df,diff_cat_review_temp1,on=[\"user_id\",\"merchant_id\"],how=\"left\")\n",
    "df.head()"
   ]
  },
  {
   "cell_type": "code",
   "execution_count": null,
   "metadata": {},
   "outputs": [],
   "source": [
    "# create browse_days\n",
    "browse_days_temp = user_log.groupby([user_log[\"user_id\"],user_log[\"seller_id\"],user_log[\"time_stamp\"]]).count().reset_index()[[\"user_id\",\"seller_id\",\"time_stamp\"]]\n",
    "browse_days_temp.head(10)"
   ]
  },
  {
   "cell_type": "code",
   "execution_count": null,
   "metadata": {},
   "outputs": [],
   "source": [
    "browse_days_temp1 = browse_days_temp.groupby([browse_days_temp[\"user_id\"],browse_days_temp[\"seller_id\"]]).count().reset_index()\n",
    "browse_days_temp1.head(10)"
   ]
  },
  {
   "cell_type": "code",
   "execution_count": null,
   "metadata": {},
   "outputs": [],
   "source": [
    "browse_days_temp1.rename(columns={\"seller_id\":\"merchant_id\",\"time_stamp\":\"browse_days\"},inplace=True)\n",
    "browse_days_temp1.head(10)"
   ]
  },
  {
   "cell_type": "code",
   "execution_count": null,
   "metadata": {},
   "outputs": [],
   "source": [
    "# add browse_days\n",
    "df = pd.merge(df,browse_days_temp1,on=[\"user_id\",\"merchant_id\"],how=\"left\")\n",
    "df.head()"
   ]
  },
  {
   "cell_type": "code",
   "execution_count": null,
   "metadata": {},
   "outputs": [],
   "source": [
    "# create one_clicks\n",
    "one_clicks_temp = user_log.groupby([user_log[\"user_id\"],user_log[\"seller_id\"],user_log[\"action_type\"]]).count().reset_index()[[\"user_id\",\"seller_id\",\"action_type\",\"item_id\"]]\n",
    "one_clicks_temp.head()"
   ]
  },
  {
   "cell_type": "code",
   "execution_count": null,
   "metadata": {},
   "outputs": [],
   "source": [
    "one_clicks_temp.rename(columns={\"seller_id\":\"merchant_id\",\"item_id\":\"times\"},inplace=True)\n",
    "one_clicks_temp.head(10)"
   ]
  },
  {
   "cell_type": "code",
   "execution_count": null,
   "metadata": {},
   "outputs": [],
   "source": [
    "one_clicks_temp[\"one_clicks\"] = one_clicks_temp[\"action_type\"] == 0\n",
    "one_clicks_temp[\"one_clicks\"] = one_clicks_temp[\"one_clicks\"] * one_clicks_temp[\"times\"]\n",
    "one_clicks_temp.head(10)"
   ]
  },
  {
   "cell_type": "code",
   "execution_count": null,
   "metadata": {},
   "outputs": [],
   "source": [
    "# create shopping_carts\n",
    "one_clicks_temp[\"shopping_carts\"] = one_clicks_temp[\"action_type\"] == 1\n",
    "one_clicks_temp[\"shopping_carts\"] = one_clicks_temp[\"shopping_carts\"] * one_clicks_temp[\"times\"]\n",
    "one_clicks_temp.head(10)"
   ]
  },
  {
   "cell_type": "code",
   "execution_count": null,
   "metadata": {},
   "outputs": [],
   "source": [
    "# create purchase_times\n",
    "one_clicks_temp[\"purchase_times\"] = one_clicks_temp[\"action_type\"] == 2\n",
    "one_clicks_temp[\"purchase_times\"] = one_clicks_temp[\"purchase_times\"] * one_clicks_temp[\"times\"]\n",
    "one_clicks_temp.head(10)"
   ]
  },
  {
   "cell_type": "code",
   "execution_count": null,
   "metadata": {},
   "outputs": [],
   "source": [
    "# create favourite_times\n",
    "one_clicks_temp[\"favourite_times\"] = one_clicks_temp[\"action_type\"] == 3\n",
    "one_clicks_temp[\"favourite_times\"] = one_clicks_temp[\"favourite_times\"] * one_clicks_temp[\"times\"]\n",
    "one_clicks_temp.head(10)"
   ]
  },
  {
   "cell_type": "code",
   "execution_count": null,
   "metadata": {},
   "outputs": [],
   "source": [
    "four_features = one_clicks_temp.groupby([one_clicks_temp[\"user_id\"],one_clicks_temp[\"merchant_id\"]]).sum().reset_index()\n",
    "four_features.head(10)"
   ]
  },
  {
   "cell_type": "code",
   "execution_count": null,
   "metadata": {},
   "outputs": [],
   "source": [
    "# add one_clicks, shopping_carts, purchase_times, and favourite_times\n",
    "four_features = four_features.drop([\"action_type\",\"times\"], axis=1)\n",
    "df = pd.merge(df,four_features,on=[\"user_id\",\"merchant_id\"],how=\"left\")\n",
    "df.head()"
   ]
  },
  {
   "cell_type": "code",
   "execution_count": null,
   "metadata": {},
   "outputs": [],
   "source": [
    "# check the info\n",
    "df.info()"
   ]
  },
  {
   "cell_type": "code",
   "execution_count": null,
   "metadata": {},
   "outputs": [],
   "source": [
    "# no missing values\n",
    "df.isnull().sum(axis=0)"
   ]
  },
  {
   "cell_type": "code",
   "execution_count": null,
   "metadata": {
    "scrolled": true
   },
   "outputs": [],
   "source": [
    "# one-hot encoding for categorical features: age_range, gender\n",
    "df = pd.get_dummies(df)\n",
    "df"
   ]
  },
  {
   "cell_type": "markdown",
   "metadata": {},
   "source": [
    "**No data scaling needed since all useful features are within similar range (1-100).**"
   ]
  },
  {
   "cell_type": "markdown",
   "metadata": {},
   "source": [
    "# 4. EDA part 2"
   ]
  },
  {
   "cell_type": "code",
   "execution_count": null,
   "metadata": {},
   "outputs": [],
   "source": [
    "# check the column names and make it a list\n",
    "col = df.columns.tolist()\n",
    "print(col)"
   ]
  },
  {
   "cell_type": "code",
   "execution_count": null,
   "metadata": {},
   "outputs": [],
   "source": [
    "# number of customers by total_logs\n",
    "fig = plt.figure(figsize=(10,6))\n",
    "df[col[3]].hist(range=[0,80],bins = 80)\n",
    "plt.xlabel(col[3],fontsize = 12)\n",
    "plt.ylabel('number of customers')\n",
    "plt.title('number of customers by total_logs')"
   ]
  },
  {
   "cell_type": "code",
   "execution_count": null,
   "metadata": {},
   "outputs": [],
   "source": [
    "# number of number of customers by different items reviewed\n",
    "fig = plt.figure(figsize=(10,6))\n",
    "df[col[4]].hist(range=[0,50],bins = 50)\n",
    "plt.xlabel(col[4],fontsize = 12)\n",
    "plt.ylabel('number of customers')\n",
    "plt.title('number of customers by different items reviewed')"
   ]
  },
  {
   "cell_type": "code",
   "execution_count": null,
   "metadata": {},
   "outputs": [],
   "source": [
    "# number of number of customers by different categories reviewed\n",
    "fig = plt.figure(figsize=(10,6))\n",
    "df[col[5]].hist(range=[0,15],bins = 15)\n",
    "plt.xlabel(col[5],fontsize = 12)\n",
    "plt.ylabel('number of customers')\n",
    "plt.title('number of customers by different categories reviewed')"
   ]
  },
  {
   "cell_type": "code",
   "execution_count": null,
   "metadata": {},
   "outputs": [],
   "source": [
    "# number of number of customers by browse days\n",
    "fig = plt.figure(figsize=(10,6))\n",
    "df[col[6]].hist(range=[0,15],bins = 15)\n",
    "plt.xlabel(col[6],fontsize = 12)\n",
    "plt.ylabel('number of customers')\n",
    "plt.title('number of customers by browse days')"
   ]
  },
  {
   "cell_type": "code",
   "execution_count": null,
   "metadata": {},
   "outputs": [],
   "source": [
    "# number of number of customers by one clicks\n",
    "fig = plt.figure(figsize=(10,6))\n",
    "df[col[7]].hist(range=[0,80],bins = 80)\n",
    "plt.xlabel(col[7],fontsize = 12)\n",
    "plt.ylabel('number of customers')\n",
    "plt.title('number of customers by one clicks')"
   ]
  },
  {
   "cell_type": "code",
   "execution_count": null,
   "metadata": {},
   "outputs": [],
   "source": [
    "# number of number of customers by shopping carts\n",
    "fig = plt.figure(figsize=(10,6))\n",
    "df[col[8]].hist(range=[0,5],bins = 5)\n",
    "plt.xlabel(col[8],fontsize = 12)\n",
    "plt.ylabel('number of customers')\n",
    "plt.title('number of customers by different shopping carts')"
   ]
  },
  {
   "cell_type": "code",
   "execution_count": null,
   "metadata": {},
   "outputs": [],
   "source": [
    "# number of number of customers by puchases\n",
    "fig = plt.figure(figsize=(10,6))\n",
    "df[col[9]].hist(range=[0,10],bins = 10)\n",
    "plt.xlabel(col[9],fontsize = 12)\n",
    "plt.ylabel('number of customers')\n",
    "plt.title('number of customers by purchases')"
   ]
  },
  {
   "cell_type": "code",
   "execution_count": null,
   "metadata": {},
   "outputs": [],
   "source": [
    "# number of number of customers by favourite times\n",
    "fig = plt.figure(figsize=(10,6))\n",
    "df[col[10]].hist(range=[0,10],bins = 10)\n",
    "plt.xlabel(col[10],fontsize = 12)\n",
    "plt.ylabel('number of customers')\n",
    "plt.title('number of customers by favourite times')"
   ]
  },
  {
   "cell_type": "code",
   "execution_count": null,
   "metadata": {},
   "outputs": [],
   "source": [
    "# correlation\n",
    "corr = df.drop(['user_id','merchant_id'],axis=1).corr()\n",
    "corr.style.background_gradient(cmap='coolwarm').set_precision(2)"
   ]
  },
  {
   "cell_type": "code",
   "execution_count": null,
   "metadata": {},
   "outputs": [],
   "source": [
    "# heatmap\n",
    "fig = plt.figure(figsize=(15,10))\n",
    "sns.heatmap(corr, vmin=-1, vmax=1, center=0, cmap=sns.diverging_palette(20, 220, n=50), square=True)"
   ]
  },
  {
   "cell_type": "markdown",
   "metadata": {},
   "source": [
    "**No significant correlations between 'label' and other features.**"
   ]
  },
  {
   "cell_type": "markdown",
   "metadata": {},
   "source": [
    "# 5. Modeling"
   ]
  },
  {
   "cell_type": "code",
   "execution_count": null,
   "metadata": {},
   "outputs": [],
   "source": [
    "y = df['label']\n",
    "X = df.drop(['user_id','merchant_id','label'],axis = 1)\n",
    "X.head(10)"
   ]
  },
  {
   "cell_type": "code",
   "execution_count": null,
   "metadata": {
    "scrolled": true
   },
   "outputs": [],
   "source": [
    "y.head()"
   ]
  },
  {
   "cell_type": "code",
   "execution_count": 70,
   "metadata": {},
   "outputs": [],
   "source": [
    "# split the training and test data set with stratified proportional to y\n",
    "X_train, X_test, y_train, y_test = train_test_split(X,y, test_size = 0.25, stratify=y, random_state = 42)"
   ]
  },
  {
   "cell_type": "markdown",
   "metadata": {},
   "source": [
    "**Since the dataset is highly imbalanced, negetive 0 : positive 1 about 15 : 1, so upsampling/oversampling is used to balance the training set data when training the model, while keep the test set data unchanged/imbalanced.**"
   ]
  },
  {
   "cell_type": "code",
   "execution_count": 71,
   "metadata": {},
   "outputs": [
    {
     "name": "stdout",
     "output_type": "stream",
     "text": [
      "Before OverSampling, counts of label '1' in y_train: 11964\n",
      "Before OverSampling, counts of label '0' in y_train: 183684 \n",
      "\n",
      "After OverSampling, the shape of X_train: (367368, 19)\n",
      "After OverSampling, the shape of y_train: (367368,) \n",
      "\n",
      "After OverSampling, counts of label '1' in y_train: 183684\n",
      "After OverSampling, counts of label '0' in y_train: 183684\n"
     ]
    }
   ],
   "source": [
    "from imblearn.over_sampling import SMOTE\n",
    "\n",
    "print(\"Before OverSampling, counts of label '1' in y_train: {}\".format(sum(y_train==1)))\n",
    "print(\"Before OverSampling, counts of label '0' in y_train: {} \\n\".format(sum(y_train==0)))\n",
    "\n",
    "sm = SMOTE(random_state=42)\n",
    "X_train, y_train = sm.fit_resample(X_train, y_train)\n",
    "\n",
    "print('After OverSampling, the shape of X_train: {}'.format(X_train.shape))\n",
    "print('After OverSampling, the shape of y_train: {} \\n'.format(y_train.shape))\n",
    "\n",
    "print(\"After OverSampling, counts of label '1' in y_train: {}\".format(sum(y_train==1)))\n",
    "print(\"After OverSampling, counts of label '0' in y_train: {}\".format(sum(y_train==0)))"
   ]
  },
  {
   "cell_type": "code",
   "execution_count": 72,
   "metadata": {},
   "outputs": [
    {
     "name": "stdout",
     "output_type": "stream",
     "text": [
      "Before OverSampling, counts of label '1' in y_test: 3988\n",
      "Before OverSampling, counts of label '0' in y_test: 61228 \n",
      "\n",
      "After OverSampling, the shape of X_test: (65216, 19)\n",
      "After OverSampling, the shape of y_test: (65216,) \n",
      "\n",
      "After OverSampling, counts of label '1' in y_test: 3988\n",
      "After OverSampling, counts of label '0' in y_test: 61228\n"
     ]
    }
   ],
   "source": [
    "# X_test and y_test testsets keep unchanged (still imblanced)\n",
    "\n",
    "print(\"Before OverSampling, counts of label '1' in y_test: {}\".format(sum(y_test==1)))\n",
    "print(\"Before OverSampling, counts of label '0' in y_test: {} \\n\".format(sum(y_test==0)))\n",
    "\n",
    "print('After OverSampling, the shape of X_test: {}'.format(X_test.shape))\n",
    "print('After OverSampling, the shape of y_test: {} \\n'.format(y_test.shape))\n",
    "\n",
    "print(\"After OverSampling, counts of label '1' in y_test: {}\".format(sum(y_test==1)))\n",
    "print(\"After OverSampling, counts of label '0' in y_test: {}\".format(sum(y_test==0)))"
   ]
  },
  {
   "cell_type": "markdown",
   "metadata": {},
   "source": [
    "### 5.1 Logistic Regression"
   ]
  },
  {
   "cell_type": "code",
   "execution_count": 124,
   "metadata": {
    "scrolled": true
   },
   "outputs": [
    {
     "name": "stdout",
     "output_type": "stream",
     "text": [
      "First 20 pridictions: [0 0 0 0 0 0 0 0 0 0 0 0 0 0 0 0 0 0 0 0]\n",
      "First 20 pridictions: [[1.00e+00 5.55e-05]\n",
      " [5.36e-01 4.64e-01]\n",
      " [8.27e-01 1.73e-01]\n",
      " [5.49e-01 4.51e-01]\n",
      " [7.19e-01 2.81e-01]\n",
      " [5.53e-01 4.47e-01]\n",
      " [6.28e-01 3.72e-01]\n",
      " [5.51e-01 4.49e-01]\n",
      " [5.53e-01 4.47e-01]\n",
      " [6.77e-01 3.23e-01]\n",
      " [7.85e-01 2.15e-01]\n",
      " [6.24e-01 3.76e-01]\n",
      " [5.19e-01 4.81e-01]\n",
      " [6.29e-01 3.71e-01]\n",
      " [7.48e-01 2.52e-01]\n",
      " [6.97e-01 3.03e-01]\n",
      " [6.48e-01 3.52e-01]\n",
      " [6.10e-01 3.90e-01]\n",
      " [5.55e-01 4.45e-01]\n",
      " [6.54e-01 3.46e-01]]\n"
     ]
    },
    {
     "data": {
      "text/plain": [
       "0.9385426889106968"
      ]
     },
     "execution_count": 124,
     "metadata": {},
     "output_type": "execute_result"
    }
   ],
   "source": [
    "# Logistic regression model fitting\n",
    "logit = LogisticRegression(solver='liblinear')   #'saga', penalty='l1', max_iter=2000, random_state=42)\n",
    "logit.fit(X_train, y_train)\n",
    "y_pred = logit.predict(X_test)\n",
    "y_pred_proba = logit.predict_proba(X_test)\n",
    "print(f'First 20 pridictions: {y_pred[0:20]}')\n",
    "print(f'First 20 pridictions: {y_pred_proba[0:20]}')\n",
    "score_logit = accuracy_score(y_test, y_pred)\n",
    "score_logit"
   ]
  },
  {
   "cell_type": "code",
   "execution_count": 131,
   "metadata": {},
   "outputs": [
    {
     "name": "stderr",
     "output_type": "stream",
     "text": [
      "C:\\Users\\dnaan\\anaconda3\\lib\\site-packages\\sklearn\\linear_model\\_logistic.py:763: ConvergenceWarning: lbfgs failed to converge (status=1):\n",
      "STOP: TOTAL NO. of ITERATIONS REACHED LIMIT.\n",
      "\n",
      "Increase the number of iterations (max_iter) or scale the data as shown in:\n",
      "    https://scikit-learn.org/stable/modules/preprocessing.html\n",
      "Please also refer to the documentation for alternative solver options:\n",
      "    https://scikit-learn.org/stable/modules/linear_model.html#logistic-regression\n",
      "  n_iter_i = _check_optimize_result(\n"
     ]
    },
    {
     "ename": "NameError",
     "evalue": "name 'pyplot' is not defined",
     "output_type": "error",
     "traceback": [
      "\u001b[1;31m---------------------------------------------------------------------------\u001b[0m",
      "\u001b[1;31mNameError\u001b[0m                                 Traceback (most recent call last)",
      "\u001b[1;32m<ipython-input-131-11cd948ee9e4>\u001b[0m in \u001b[0;36m<module>\u001b[1;34m\u001b[0m\n\u001b[0;32m      9\u001b[0m \u001b[0mfpr\u001b[0m\u001b[1;33m,\u001b[0m \u001b[0mtpr\u001b[0m\u001b[1;33m,\u001b[0m \u001b[0mthresholds\u001b[0m \u001b[1;33m=\u001b[0m \u001b[0mroc_curve\u001b[0m\u001b[1;33m(\u001b[0m\u001b[0my_test\u001b[0m\u001b[1;33m,\u001b[0m \u001b[0myhat\u001b[0m\u001b[1;33m)\u001b[0m\u001b[1;33m\u001b[0m\u001b[1;33m\u001b[0m\u001b[0m\n\u001b[0;32m     10\u001b[0m \u001b[1;31m# plot the roc curve for the model\u001b[0m\u001b[1;33m\u001b[0m\u001b[1;33m\u001b[0m\u001b[1;33m\u001b[0m\u001b[0m\n\u001b[1;32m---> 11\u001b[1;33m \u001b[0mpyplot\u001b[0m\u001b[1;33m.\u001b[0m\u001b[0mplot\u001b[0m\u001b[1;33m(\u001b[0m\u001b[1;33m[\u001b[0m\u001b[1;36m0\u001b[0m\u001b[1;33m,\u001b[0m\u001b[1;36m1\u001b[0m\u001b[1;33m]\u001b[0m\u001b[1;33m,\u001b[0m \u001b[1;33m[\u001b[0m\u001b[1;36m0\u001b[0m\u001b[1;33m,\u001b[0m\u001b[1;36m1\u001b[0m\u001b[1;33m]\u001b[0m\u001b[1;33m,\u001b[0m \u001b[0mlinestyle\u001b[0m\u001b[1;33m=\u001b[0m\u001b[1;34m'--'\u001b[0m\u001b[1;33m,\u001b[0m \u001b[0mlabel\u001b[0m\u001b[1;33m=\u001b[0m\u001b[1;34m'No Skill'\u001b[0m\u001b[1;33m)\u001b[0m\u001b[1;33m\u001b[0m\u001b[1;33m\u001b[0m\u001b[0m\n\u001b[0m\u001b[0;32m     12\u001b[0m \u001b[0mpyplot\u001b[0m\u001b[1;33m.\u001b[0m\u001b[0mplot\u001b[0m\u001b[1;33m(\u001b[0m\u001b[0mfpr\u001b[0m\u001b[1;33m,\u001b[0m \u001b[0mtpr\u001b[0m\u001b[1;33m,\u001b[0m \u001b[0mmarker\u001b[0m\u001b[1;33m=\u001b[0m\u001b[1;34m'.'\u001b[0m\u001b[1;33m,\u001b[0m \u001b[0mlabel\u001b[0m\u001b[1;33m=\u001b[0m\u001b[1;34m'Logistic'\u001b[0m\u001b[1;33m)\u001b[0m\u001b[1;33m\u001b[0m\u001b[1;33m\u001b[0m\u001b[0m\n\u001b[0;32m     13\u001b[0m \u001b[1;31m# axis labels\u001b[0m\u001b[1;33m\u001b[0m\u001b[1;33m\u001b[0m\u001b[1;33m\u001b[0m\u001b[0m\n",
      "\u001b[1;31mNameError\u001b[0m: name 'pyplot' is not defined"
     ]
    }
   ],
   "source": [
    "logit = LogisticRegression(solver='lbfgs')   #'saga', penalty='l1', max_iter=2000, random_state=42)\n",
    "logit.fit(X_train, y_train)\n",
    "\n",
    "# predict probabilities\n",
    "yhat = logit.predict_proba(X_test)\n",
    "# keep probabilities for the positive outcome only\n",
    "yhat = yhat[:, 1]\n",
    "# calculate roc curves\n",
    "fpr, tpr, thresholds = roc_curve(y_test, yhat)\n",
    "# plot the roc curve for the model\n",
    "pyplot.plot([0,1], [0,1], linestyle='--', label='No Skill')\n",
    "pyplot.plot(fpr, tpr, marker='.', label='Logistic')\n",
    "# axis labels\n",
    "plt.xlabel('False Positive Rate')\n",
    ".ylabel('True Positive Rate')\n",
    "pyplot.legend()"
   ]
  },
  {
   "cell_type": "code",
   "execution_count": 130,
   "metadata": {},
   "outputs": [
    {
     "data": {
      "text/plain": [
       "array([5.55e-05, 4.64e-01, 1.73e-01, ..., 3.83e-01, 4.62e-01, 2.33e-01])"
      ]
     },
     "execution_count": 130,
     "metadata": {},
     "output_type": "execute_result"
    }
   ],
   "source": [
    "y_pred_proba"
   ]
  },
  {
   "cell_type": "code",
   "execution_count": 125,
   "metadata": {},
   "outputs": [],
   "source": [
    "class_names=['Non-repeat','repeat'] # name  of classes"
   ]
  },
  {
   "cell_type": "code",
   "execution_count": 126,
   "metadata": {},
   "outputs": [],
   "source": [
    "from sklearn.metrics import confusion_matrix\n",
    "import itertools\n",
    "\n",
    "class_names=['Non-repeat','repeat'] # name  of classes\n",
    "def plot_confusion_matrix(cm, classes,\n",
    "                          normalize=False,\n",
    "                          title='Confusion matrix',\n",
    "                          cmap=plt.cm.Blues):\n",
    "    \"\"\"\n",
    "    This function prints and plots the confusion matrix.\n",
    "    Normalization can be applied by setting `normalize=True`.\n",
    "    \"\"\"\n",
    "    if normalize:\n",
    "        cm = cm.astype('float') / cm.sum(axis=1)[:, np.newaxis]\n",
    "        print(\"Normalized confusion matrix\")\n",
    "    else:\n",
    "        print('Confusion matrix, without normalization')\n",
    "\n",
    "    print(cm)\n",
    "\n",
    "    plt.imshow(cm, interpolation='nearest', cmap=cmap)\n",
    "    plt.title(title)\n",
    "    plt.colorbar()\n",
    "    tick_marks = np.arange(len(classes))\n",
    "    plt.xticks(tick_marks, classes, rotation=45)\n",
    "    plt.yticks(tick_marks, classes)\n",
    "\n",
    "    fmt = '.2f' if normalize else 'd'\n",
    "    thresh = cm.max() / 2.\n",
    "    for i, j in itertools.product(range(cm.shape[0]), range(cm.shape[1])):\n",
    "        plt.text(j, i, format(cm[i, j], fmt),\n",
    "                 horizontalalignment=\"center\",\n",
    "                 color=\"white\" if cm[i, j] > thresh else \"black\")\n",
    "\n",
    "    plt.ylabel('True label')\n",
    "    plt.xlabel('Predicted label')\n",
    "    plt.tight_layout()"
   ]
  },
  {
   "cell_type": "code",
   "execution_count": 127,
   "metadata": {},
   "outputs": [
    {
     "ename": "ValueError",
     "evalue": "Found input variables with inconsistent numbers of samples: [65216, 116939]",
     "output_type": "error",
     "traceback": [
      "\u001b[1;31m---------------------------------------------------------------------------\u001b[0m",
      "\u001b[1;31mValueError\u001b[0m                                Traceback (most recent call last)",
      "\u001b[1;32m<ipython-input-127-ef2ac8bc30ce>\u001b[0m in \u001b[0;36m<module>\u001b[1;34m\u001b[0m\n\u001b[0;32m      1\u001b[0m \u001b[1;31m# Compute confusion matrix\u001b[0m\u001b[1;33m\u001b[0m\u001b[1;33m\u001b[0m\u001b[1;33m\u001b[0m\u001b[0m\n\u001b[1;32m----> 2\u001b[1;33m \u001b[0mcnf_matrix\u001b[0m \u001b[1;33m=\u001b[0m \u001b[0mconfusion_matrix\u001b[0m\u001b[1;33m(\u001b[0m\u001b[0my_test\u001b[0m\u001b[1;33m,\u001b[0m \u001b[0my_pred_proba\u001b[0m\u001b[1;33m[\u001b[0m\u001b[0my_pred_proba\u001b[0m\u001b[1;33m>\u001b[0m\u001b[1;36m0.3\u001b[0m\u001b[1;33m]\u001b[0m\u001b[1;33m)\u001b[0m\u001b[1;33m\u001b[0m\u001b[1;33m\u001b[0m\u001b[0m\n\u001b[0m\u001b[0;32m      3\u001b[0m \u001b[0mnp\u001b[0m\u001b[1;33m.\u001b[0m\u001b[0mset_printoptions\u001b[0m\u001b[1;33m(\u001b[0m\u001b[0mprecision\u001b[0m\u001b[1;33m=\u001b[0m\u001b[1;36m2\u001b[0m\u001b[1;33m)\u001b[0m\u001b[1;33m\u001b[0m\u001b[1;33m\u001b[0m\u001b[0m\n\u001b[0;32m      4\u001b[0m \u001b[1;33m\u001b[0m\u001b[0m\n\u001b[0;32m      5\u001b[0m \u001b[1;31m# Plot non-normalized confusion matrix\u001b[0m\u001b[1;33m\u001b[0m\u001b[1;33m\u001b[0m\u001b[1;33m\u001b[0m\u001b[0m\n",
      "\u001b[1;32m~\\anaconda3\\lib\\site-packages\\sklearn\\utils\\validation.py\u001b[0m in \u001b[0;36minner_f\u001b[1;34m(*args, **kwargs)\u001b[0m\n\u001b[0;32m     61\u001b[0m             \u001b[0mextra_args\u001b[0m \u001b[1;33m=\u001b[0m \u001b[0mlen\u001b[0m\u001b[1;33m(\u001b[0m\u001b[0margs\u001b[0m\u001b[1;33m)\u001b[0m \u001b[1;33m-\u001b[0m \u001b[0mlen\u001b[0m\u001b[1;33m(\u001b[0m\u001b[0mall_args\u001b[0m\u001b[1;33m)\u001b[0m\u001b[1;33m\u001b[0m\u001b[1;33m\u001b[0m\u001b[0m\n\u001b[0;32m     62\u001b[0m             \u001b[1;32mif\u001b[0m \u001b[0mextra_args\u001b[0m \u001b[1;33m<=\u001b[0m \u001b[1;36m0\u001b[0m\u001b[1;33m:\u001b[0m\u001b[1;33m\u001b[0m\u001b[1;33m\u001b[0m\u001b[0m\n\u001b[1;32m---> 63\u001b[1;33m                 \u001b[1;32mreturn\u001b[0m \u001b[0mf\u001b[0m\u001b[1;33m(\u001b[0m\u001b[1;33m*\u001b[0m\u001b[0margs\u001b[0m\u001b[1;33m,\u001b[0m \u001b[1;33m**\u001b[0m\u001b[0mkwargs\u001b[0m\u001b[1;33m)\u001b[0m\u001b[1;33m\u001b[0m\u001b[1;33m\u001b[0m\u001b[0m\n\u001b[0m\u001b[0;32m     64\u001b[0m \u001b[1;33m\u001b[0m\u001b[0m\n\u001b[0;32m     65\u001b[0m             \u001b[1;31m# extra_args > 0\u001b[0m\u001b[1;33m\u001b[0m\u001b[1;33m\u001b[0m\u001b[1;33m\u001b[0m\u001b[0m\n",
      "\u001b[1;32m~\\anaconda3\\lib\\site-packages\\sklearn\\metrics\\_classification.py\u001b[0m in \u001b[0;36mconfusion_matrix\u001b[1;34m(y_true, y_pred, labels, sample_weight, normalize)\u001b[0m\n\u001b[0;32m    297\u001b[0m \u001b[1;33m\u001b[0m\u001b[0m\n\u001b[0;32m    298\u001b[0m     \"\"\"\n\u001b[1;32m--> 299\u001b[1;33m     \u001b[0my_type\u001b[0m\u001b[1;33m,\u001b[0m \u001b[0my_true\u001b[0m\u001b[1;33m,\u001b[0m \u001b[0my_pred\u001b[0m \u001b[1;33m=\u001b[0m \u001b[0m_check_targets\u001b[0m\u001b[1;33m(\u001b[0m\u001b[0my_true\u001b[0m\u001b[1;33m,\u001b[0m \u001b[0my_pred\u001b[0m\u001b[1;33m)\u001b[0m\u001b[1;33m\u001b[0m\u001b[1;33m\u001b[0m\u001b[0m\n\u001b[0m\u001b[0;32m    300\u001b[0m     \u001b[1;32mif\u001b[0m \u001b[0my_type\u001b[0m \u001b[1;32mnot\u001b[0m \u001b[1;32min\u001b[0m \u001b[1;33m(\u001b[0m\u001b[1;34m\"binary\"\u001b[0m\u001b[1;33m,\u001b[0m \u001b[1;34m\"multiclass\"\u001b[0m\u001b[1;33m)\u001b[0m\u001b[1;33m:\u001b[0m\u001b[1;33m\u001b[0m\u001b[1;33m\u001b[0m\u001b[0m\n\u001b[0;32m    301\u001b[0m         \u001b[1;32mraise\u001b[0m \u001b[0mValueError\u001b[0m\u001b[1;33m(\u001b[0m\u001b[1;34m\"%s is not supported\"\u001b[0m \u001b[1;33m%\u001b[0m \u001b[0my_type\u001b[0m\u001b[1;33m)\u001b[0m\u001b[1;33m\u001b[0m\u001b[1;33m\u001b[0m\u001b[0m\n",
      "\u001b[1;32m~\\anaconda3\\lib\\site-packages\\sklearn\\metrics\\_classification.py\u001b[0m in \u001b[0;36m_check_targets\u001b[1;34m(y_true, y_pred)\u001b[0m\n\u001b[0;32m     81\u001b[0m     \u001b[0my_pred\u001b[0m \u001b[1;33m:\u001b[0m \u001b[0marray\u001b[0m \u001b[1;32mor\u001b[0m \u001b[0mindicator\u001b[0m \u001b[0mmatrix\u001b[0m\u001b[1;33m\u001b[0m\u001b[1;33m\u001b[0m\u001b[0m\n\u001b[0;32m     82\u001b[0m     \"\"\"\n\u001b[1;32m---> 83\u001b[1;33m     \u001b[0mcheck_consistent_length\u001b[0m\u001b[1;33m(\u001b[0m\u001b[0my_true\u001b[0m\u001b[1;33m,\u001b[0m \u001b[0my_pred\u001b[0m\u001b[1;33m)\u001b[0m\u001b[1;33m\u001b[0m\u001b[1;33m\u001b[0m\u001b[0m\n\u001b[0m\u001b[0;32m     84\u001b[0m     \u001b[0mtype_true\u001b[0m \u001b[1;33m=\u001b[0m \u001b[0mtype_of_target\u001b[0m\u001b[1;33m(\u001b[0m\u001b[0my_true\u001b[0m\u001b[1;33m)\u001b[0m\u001b[1;33m\u001b[0m\u001b[1;33m\u001b[0m\u001b[0m\n\u001b[0;32m     85\u001b[0m     \u001b[0mtype_pred\u001b[0m \u001b[1;33m=\u001b[0m \u001b[0mtype_of_target\u001b[0m\u001b[1;33m(\u001b[0m\u001b[0my_pred\u001b[0m\u001b[1;33m)\u001b[0m\u001b[1;33m\u001b[0m\u001b[1;33m\u001b[0m\u001b[0m\n",
      "\u001b[1;32m~\\anaconda3\\lib\\site-packages\\sklearn\\utils\\validation.py\u001b[0m in \u001b[0;36mcheck_consistent_length\u001b[1;34m(*arrays)\u001b[0m\n\u001b[0;32m    317\u001b[0m     \u001b[0muniques\u001b[0m \u001b[1;33m=\u001b[0m \u001b[0mnp\u001b[0m\u001b[1;33m.\u001b[0m\u001b[0munique\u001b[0m\u001b[1;33m(\u001b[0m\u001b[0mlengths\u001b[0m\u001b[1;33m)\u001b[0m\u001b[1;33m\u001b[0m\u001b[1;33m\u001b[0m\u001b[0m\n\u001b[0;32m    318\u001b[0m     \u001b[1;32mif\u001b[0m \u001b[0mlen\u001b[0m\u001b[1;33m(\u001b[0m\u001b[0muniques\u001b[0m\u001b[1;33m)\u001b[0m \u001b[1;33m>\u001b[0m \u001b[1;36m1\u001b[0m\u001b[1;33m:\u001b[0m\u001b[1;33m\u001b[0m\u001b[1;33m\u001b[0m\u001b[0m\n\u001b[1;32m--> 319\u001b[1;33m         raise ValueError(\"Found input variables with inconsistent numbers of\"\n\u001b[0m\u001b[0;32m    320\u001b[0m                          \" samples: %r\" % [int(l) for l in lengths])\n\u001b[0;32m    321\u001b[0m \u001b[1;33m\u001b[0m\u001b[0m\n",
      "\u001b[1;31mValueError\u001b[0m: Found input variables with inconsistent numbers of samples: [65216, 116939]"
     ]
    }
   ],
   "source": [
    "# Compute confusion matrix\n",
    "cnf_matrix = confusion_matrix(y_test, y_pred_proba[y_pred_proba>0.3])\n",
    "np.set_printoptions(precision=2)\n",
    "\n",
    "# Plot non-normalized confusion matrix\n",
    "plt.figure()\n",
    "plot_confusion_matrix(cnf_matrix, classes=class_names,\n",
    "                      title='Confusion matrix, without normalization')\n",
    "#plt.savefig('figures/XX_cm_multi_class.png')\n",
    "\n",
    "# Plot normalized confusion matrix\n",
    "plt.figure()\n",
    "plot_confusion_matrix(cnf_matrix, classes=class_names, normalize=True,\n",
    "                      title='Normalized confusion matrix')\n",
    "#plt.savefig('figures/XX_cm_proportion_multi_class.png', bbox_inches=\"tight\")"
   ]
  },
  {
   "cell_type": "code",
   "execution_count": 77,
   "metadata": {},
   "outputs": [],
   "source": [
    "# from sklearn.model_selection import GridSearchCV\n",
    "# parameters = {'C':[0.001, 0.1, 1, 10, 100]\n",
    "#             ''}\n",
    "\n",
    "# CV = GridSearchCV(logit,parameters)\n",
    "# CV.fit(X_train, y_train)\n",
    "\n",
    "# print(CV.best_params_)\n",
    "# print(CV.best_estimator_)\n",
    "# print(CV.score(X_test, y_test))"
   ]
  },
  {
   "cell_type": "code",
   "execution_count": 78,
   "metadata": {},
   "outputs": [],
   "source": [
    "# # Logistic regression model fitting with cross validation\n",
    "# logit_cv = LogisticRegression(solver='liblinear')\n",
    "# logit_cv.fit(X, y)\n",
    "# scores_logit_cv = model_selection.cross_val_score(logit_cv,X,y,cv=5)\n",
    "# scores_logit_cv.mean()"
   ]
  },
  {
   "cell_type": "code",
   "execution_count": 79,
   "metadata": {
    "scrolled": false
   },
   "outputs": [
    {
     "name": "stdout",
     "output_type": "stream",
     "text": [
      "              precision    recall  f1-score   support\n",
      "\n",
      "           0       0.94      1.00      0.97     61228\n",
      "           1       0.05      0.00      0.00      3988\n",
      "\n",
      "    accuracy                           0.94     65216\n",
      "   macro avg       0.49      0.50      0.48     65216\n",
      "weighted avg       0.88      0.94      0.91     65216\n",
      "\n"
     ]
    }
   ],
   "source": [
    "print(classification_report(y_test, y_pred))"
   ]
  },
  {
   "cell_type": "code",
   "execution_count": 80,
   "metadata": {},
   "outputs": [
    {
     "data": {
      "text/plain": [
       "0.06114670204967655"
      ]
     },
     "execution_count": 80,
     "metadata": {},
     "output_type": "execute_result"
    }
   ],
   "source": [
    "# plot Precision-Recall curve\n",
    "average_precision = average_precision_score(y_test, y_pred)\n",
    "average_precision"
   ]
  },
  {
   "cell_type": "code",
   "execution_count": 81,
   "metadata": {},
   "outputs": [
    {
     "data": {
      "text/plain": [
       "Text(0.5, 1.0, '2-class Precision-Recall curve: AP=0.06')"
      ]
     },
     "execution_count": 81,
     "metadata": {},
     "output_type": "execute_result"
    },
    {
     "data": {
      "image/png": "[encoded data removed]",
      "text/plain": [
       "<Figure size 432x288 with 1 Axes>"
      ]
     },
     "metadata": {
      "needs_background": "light"
     },
     "output_type": "display_data"
    }
   ],
   "source": [
    "disp = plot_precision_recall_curve(logit, X_test, y_test)\n",
    "disp.ax_.set_title('2-class Precision-Recall curve: '\n",
    "                   'AP={0:0.2f}'.format(average_precision))"
   ]
  },
  {
   "cell_type": "code",
   "execution_count": 82,
   "metadata": {},
   "outputs": [],
   "source": [
    "# # plot the leaning curve\n",
    "# from sklearn.model_selection import learning_curve\n",
    "# train_sizes, train_scores, validation_scores = learning_curve(logit, X, y, train_sizes=np.linspace(0.01, 1.0, 50), cv=3, scoring='accuracy') "
   ]
  },
  {
   "cell_type": "code",
   "execution_count": 83,
   "metadata": {},
   "outputs": [],
   "source": [
    "# plt.style.use('seaborn')\n",
    "# plt.plot(train_sizes, train_scores.mean(axis=1), label = 'Training error')\n",
    "# plt.plot(train_sizes, validation_scores.mean(axis=1), label = 'Validation error')\n",
    "# plt.ylabel('MSE', fontsize = 14)\n",
    "# plt.xlabel('Training set size', fontsize = 14)\n",
    "# plt.title('Learning curves for a linear regression model', fontsize = 18, y = 1.03)\n",
    "# plt.legend()\n",
    "# plt.ylim(0,40)"
   ]
  },
  {
   "cell_type": "markdown",
   "metadata": {},
   "source": [
    "### 5.2 Decision Tree"
   ]
  },
  {
   "cell_type": "code",
   "execution_count": 84,
   "metadata": {},
   "outputs": [
    {
     "name": "stdout",
     "output_type": "stream",
     "text": [
      "Accuracy on training set: 0.6241861022190284\n",
      "Accuracy on test set: 0.7379170755642787\n"
     ]
    }
   ],
   "source": [
    "from sklearn.tree import DecisionTreeClassifier\n",
    "\n",
    "tree = DecisionTreeClassifier(max_depth=6, random_state=42) \n",
    "tree.fit(X_train, y_train)\n",
    "y_pred = tree.predict(X_test)\n",
    "scores_tree_train = tree.score(X_train, y_train)\n",
    "scores_tree_test = tree.score(X_test, y_test)\n",
    "\n",
    "print(f'Accuracy on training set: {scores_tree_train}') \n",
    "print(f'Accuracy on test set: {scores_tree_test}')"
   ]
  },
  {
   "cell_type": "code",
   "execution_count": 85,
   "metadata": {
    "scrolled": true
   },
   "outputs": [],
   "source": [
    "from sklearn.tree import export_graphviz\n",
    "import graphviz\n",
    "\n",
    "export_graphviz(tree, out_file=\"tree.dot\", class_names=[\"0\",\"1\"], feature_names=X.columns.tolist(), impurity=False, filled=True)"
   ]
  },
  {
   "cell_type": "code",
   "execution_count": 86,
   "metadata": {},
   "outputs": [
    {
     "data": {
      "image/svg+xml": [
       "<?xml version=\"1.0\" encoding=\"UTF-8\" standalone=\"no\"?>\r\n",
       "<!DOCTYPE svg PUBLIC \"-//W3C//DTD SVG 1.1//EN\"\r\n",
       " \"http://www.w3.org/Graphics/SVG/1.1/DTD/svg11.dtd\">\r\n",
       "<!-- Generated by graphviz version 2.38.0 (20140413.2041)\r\n",
       " -->\r\n",
       "<!-- Title: Tree Pages: 1 -->\r\n",
       "<svg width=\"8058pt\" height=\"685pt\"\r\n",
       " viewBox=\"0.00 0.00 8058.00 685.00\" xmlns=\"http://www.w3.org/2000/svg\" xmlns:xlink=\"http://www.w3.org/1999/xlink\">\r\n",
       "<g id=\"graph0\" class=\"graph\" transform=\"scale(1 1) rotate(0) translate(4 681)\">\r\n",
       "<title>Tree</title>\r\n",
       "<polygon fill=\"white\" stroke=\"none\" points=\"-4,4 -4,-681 8054,-681 8054,4 -4,4\"/>\r\n",
       "<!-- 0 -->\r\n",
       "<g id=\"node1\" class=\"node\"><title>0</title>\r\n",
       "<polygon fill=\"#ffffff\" stroke=\"black\" points=\"4182.5,-677 4024.5,-677 4024.5,-609 4182.5,-609 4182.5,-677\"/>\r\n",
       "<text text-anchor=\"middle\" x=\"4103.5\" y=\"-661.8\" font-family=\"Times New Roman,serif\" font-size=\"14.00\">diff_item_review &lt;= 5.5</text>\r\n",
       "<text text-anchor=\"middle\" x=\"4103.5\" y=\"-646.8\" font-family=\"Times New Roman,serif\" font-size=\"14.00\">samples = 367368</text>\r\n",
       "<text text-anchor=\"middle\" x=\"4103.5\" y=\"-631.8\" font-family=\"Times New Roman,serif\" font-size=\"14.00\">value = [183684, 183684]</text>\r\n",
       "<text text-anchor=\"middle\" x=\"4103.5\" y=\"-616.8\" font-family=\"Times New Roman,serif\" font-size=\"14.00\">class = 0</text>\r\n",
       "</g>\r\n",
       "<!-- 1 -->\r\n",
       "<g id=\"node2\" class=\"node\"><title>1</title>\r\n",
       "<polygon fill=\"#fbebdf\" stroke=\"black\" points=\"3361.5,-573 3203.5,-573 3203.5,-505 3361.5,-505 3361.5,-573\"/>\r\n",
       "<text text-anchor=\"middle\" x=\"3282.5\" y=\"-557.8\" font-family=\"Times New Roman,serif\" font-size=\"14.00\">age_range_18&#45;24 &lt;= 0.5</text>\r\n",
       "<text text-anchor=\"middle\" x=\"3282.5\" y=\"-542.8\" font-family=\"Times New Roman,serif\" font-size=\"14.00\">samples = 272510</text>\r\n",
       "<text text-anchor=\"middle\" x=\"3282.5\" y=\"-527.8\" font-family=\"Times New Roman,serif\" font-size=\"14.00\">value = [148231, 124279]</text>\r\n",
       "<text text-anchor=\"middle\" x=\"3282.5\" y=\"-512.8\" font-family=\"Times New Roman,serif\" font-size=\"14.00\">class = 0</text>\r\n",
       "</g>\r\n",
       "<!-- 0&#45;&gt;1 -->\r\n",
       "<g id=\"edge1\" class=\"edge\"><title>0&#45;&gt;1</title>\r\n",
       "<path fill=\"none\" stroke=\"black\" d=\"M4024.41,-632.174C3870.94,-613.107 3533.7,-571.208 3372.18,-551.142\"/>\r\n",
       "<polygon fill=\"black\" stroke=\"black\" points=\"3372.15,-547.612 3361.8,-549.852 3371.29,-554.558 3372.15,-547.612\"/>\r\n",
       "<text text-anchor=\"middle\" x=\"3377.16\" y=\"-565.874\" font-family=\"Times New Roman,serif\" font-size=\"14.00\">True</text>\r\n",
       "</g>\r\n",
       "<!-- 64 -->\r\n",
       "<g id=\"node65\" class=\"node\"><title>64</title>\r\n",
       "<polygon fill=\"#afd7f5\" stroke=\"black\" points=\"5048,-573 4903,-573 4903,-505 5048,-505 5048,-573\"/>\r\n",
       "<text text-anchor=\"middle\" x=\"4975.5\" y=\"-557.8\" font-family=\"Times New Roman,serif\" font-size=\"14.00\">gender_male &lt;= 0.5</text>\r\n",
       "<text text-anchor=\"middle\" x=\"4975.5\" y=\"-542.8\" font-family=\"Times New Roman,serif\" font-size=\"14.00\">samples = 94858</text>\r\n",
       "<text text-anchor=\"middle\" x=\"4975.5\" y=\"-527.8\" font-family=\"Times New Roman,serif\" font-size=\"14.00\">value = [35453, 59405]</text>\r\n",
       "<text text-anchor=\"middle\" x=\"4975.5\" y=\"-512.8\" font-family=\"Times New Roman,serif\" font-size=\"14.00\">class = 1</text>\r\n",
       "</g>\r\n",
       "<!-- 0&#45;&gt;64 -->\r\n",
       "<g id=\"edge64\" class=\"edge\"><title>0&#45;&gt;64</title>\r\n",
       "<path fill=\"none\" stroke=\"black\" d=\"M4182.81,-632.723C4347.49,-613.46 4725.07,-569.293 4892.71,-549.685\"/>\r\n",
       "<polygon fill=\"black\" stroke=\"black\" points=\"4893.19,-553.152 4902.71,-548.514 4892.37,-546.2 4893.19,-553.152\"/>\r\n",
       "<text text-anchor=\"middle\" x=\"4887.21\" y=\"-564.426\" font-family=\"Times New Roman,serif\" font-size=\"14.00\">False</text>\r\n",
       "</g>\r\n",
       "<!-- 2 -->\r\n",
       "<g id=\"node3\" class=\"node\"><title>2</title>\r\n",
       "<polygon fill=\"#fcf0e7\" stroke=\"black\" points=\"1810.5,-469 1652.5,-469 1652.5,-401 1810.5,-401 1810.5,-469\"/>\r\n",
       "<text text-anchor=\"middle\" x=\"1731.5\" y=\"-453.8\" font-family=\"Times New Roman,serif\" font-size=\"14.00\">purchase_times &lt;= 1.5</text>\r\n",
       "<text text-anchor=\"middle\" x=\"1731.5\" y=\"-438.8\" font-family=\"Times New Roman,serif\" font-size=\"14.00\">samples = 244108</text>\r\n",
       "<text text-anchor=\"middle\" x=\"1731.5\" y=\"-423.8\" font-family=\"Times New Roman,serif\" font-size=\"14.00\">value = [129760, 114348]</text>\r\n",
       "<text text-anchor=\"middle\" x=\"1731.5\" y=\"-408.8\" font-family=\"Times New Roman,serif\" font-size=\"14.00\">class = 0</text>\r\n",
       "</g>\r\n",
       "<!-- 1&#45;&gt;2 -->\r\n",
       "<g id=\"edge2\" class=\"edge\"><title>1&#45;&gt;2</title>\r\n",
       "<path fill=\"none\" stroke=\"black\" d=\"M3203.45,-532.802C2940.79,-515.528 2098.13,-460.111 1820.87,-441.877\"/>\r\n",
       "<polygon fill=\"black\" stroke=\"black\" points=\"1821.06,-438.382 1810.85,-441.218 1820.6,-445.367 1821.06,-438.382\"/>\r\n",
       "</g>\r\n",
       "<!-- 33 -->\r\n",
       "<g id=\"node34\" class=\"node\"><title>33</title>\r\n",
       "<polygon fill=\"#f3c5a3\" stroke=\"black\" points=\"3351.5,-469 3213.5,-469 3213.5,-401 3351.5,-401 3351.5,-469\"/>\r\n",
       "<text text-anchor=\"middle\" x=\"3282.5\" y=\"-453.8\" font-family=\"Times New Roman,serif\" font-size=\"14.00\">total_logs &lt;= 9.5</text>\r\n",
       "<text text-anchor=\"middle\" x=\"3282.5\" y=\"-438.8\" font-family=\"Times New Roman,serif\" font-size=\"14.00\">samples = 28402</text>\r\n",
       "<text text-anchor=\"middle\" x=\"3282.5\" y=\"-423.8\" font-family=\"Times New Roman,serif\" font-size=\"14.00\">value = [18471, 9931]</text>\r\n",
       "<text text-anchor=\"middle\" x=\"3282.5\" y=\"-408.8\" font-family=\"Times New Roman,serif\" font-size=\"14.00\">class = 0</text>\r\n",
       "</g>\r\n",
       "<!-- 1&#45;&gt;33 -->\r\n",
       "<g id=\"edge33\" class=\"edge\"><title>1&#45;&gt;33</title>\r\n",
       "<path fill=\"none\" stroke=\"black\" d=\"M3282.5,-504.884C3282.5,-496.778 3282.5,-487.982 3282.5,-479.472\"/>\r\n",
       "<polygon fill=\"black\" stroke=\"black\" points=\"3286,-479.299 3282.5,-469.299 3279,-479.299 3286,-479.299\"/>\r\n",
       "</g>\r\n",
       "<!-- 3 -->\r\n",
       "<g id=\"node4\" class=\"node\"><title>3</title>\r\n",
       "<polygon fill=\"#fae9dc\" stroke=\"black\" points=\"953.5,-365 801.5,-365 801.5,-297 953.5,-297 953.5,-365\"/>\r\n",
       "<text text-anchor=\"middle\" x=\"877.5\" y=\"-349.8\" font-family=\"Times New Roman,serif\" font-size=\"14.00\">shopping_carts &lt;= 0.5</text>\r\n",
       "<text text-anchor=\"middle\" x=\"877.5\" y=\"-334.8\" font-family=\"Times New Roman,serif\" font-size=\"14.00\">samples = 201954</text>\r\n",
       "<text text-anchor=\"middle\" x=\"877.5\" y=\"-319.8\" font-family=\"Times New Roman,serif\" font-size=\"14.00\">value = [110868, 91086]</text>\r\n",
       "<text text-anchor=\"middle\" x=\"877.5\" y=\"-304.8\" font-family=\"Times New Roman,serif\" font-size=\"14.00\">class = 0</text>\r\n",
       "</g>\r\n",
       "<!-- 2&#45;&gt;3 -->\r\n",
       "<g id=\"edge3\" class=\"edge\"><title>2&#45;&gt;3</title>\r\n",
       "<path fill=\"none\" stroke=\"black\" d=\"M1652.31,-424.541C1491.92,-405.385 1129.87,-362.142 963.75,-342.301\"/>\r\n",
       "<polygon fill=\"black\" stroke=\"black\" points=\"963.922,-338.797 953.577,-341.086 963.091,-345.748 963.922,-338.797\"/>\r\n",
       "</g>\r\n",
       "<!-- 18 -->\r\n",
       "<g id=\"node19\" class=\"node\"><title>18</title>\r\n",
       "<polygon fill=\"#daedfa\" stroke=\"black\" points=\"1808.5,-365 1654.5,-365 1654.5,-297 1808.5,-297 1808.5,-365\"/>\r\n",
       "<text text-anchor=\"middle\" x=\"1731.5\" y=\"-349.8\" font-family=\"Times New Roman,serif\" font-size=\"14.00\">gender_unknown &lt;= 0.5</text>\r\n",
       "<text text-anchor=\"middle\" x=\"1731.5\" y=\"-334.8\" font-family=\"Times New Roman,serif\" font-size=\"14.00\">samples = 42154</text>\r\n",
       "<text text-anchor=\"middle\" x=\"1731.5\" y=\"-319.8\" font-family=\"Times New Roman,serif\" font-size=\"14.00\">value = [18892, 23262]</text>\r\n",
       "<text text-anchor=\"middle\" x=\"1731.5\" y=\"-304.8\" font-family=\"Times New Roman,serif\" font-size=\"14.00\">class = 1</text>\r\n",
       "</g>\r\n",
       "<!-- 2&#45;&gt;18 -->\r\n",
       "<g id=\"edge18\" class=\"edge\"><title>2&#45;&gt;18</title>\r\n",
       "<path fill=\"none\" stroke=\"black\" d=\"M1731.5,-400.884C1731.5,-392.778 1731.5,-383.982 1731.5,-375.472\"/>\r\n",
       "<polygon fill=\"black\" stroke=\"black\" points=\"1735,-375.299 1731.5,-365.299 1728,-375.299 1735,-375.299\"/>\r\n",
       "</g>\r\n",
       "<!-- 4 -->\r\n",
       "<g id=\"node5\" class=\"node\"><title>4</title>\r\n",
       "<polygon fill=\"#fbeade\" stroke=\"black\" points=\"546.5,-261 394.5,-261 394.5,-193 546.5,-193 546.5,-261\"/>\r\n",
       "<text text-anchor=\"middle\" x=\"470.5\" y=\"-245.8\" font-family=\"Times New Roman,serif\" font-size=\"14.00\">total_logs &lt;= 7.5</text>\r\n",
       "<text text-anchor=\"middle\" x=\"470.5\" y=\"-230.8\" font-family=\"Times New Roman,serif\" font-size=\"14.00\">samples = 199693</text>\r\n",
       "<text text-anchor=\"middle\" x=\"470.5\" y=\"-215.8\" font-family=\"Times New Roman,serif\" font-size=\"14.00\">value = [108965, 90728]</text>\r\n",
       "<text text-anchor=\"middle\" x=\"470.5\" y=\"-200.8\" font-family=\"Times New Roman,serif\" font-size=\"14.00\">class = 0</text>\r\n",
       "</g>\r\n",
       "<!-- 3&#45;&gt;4 -->\r\n",
       "<g id=\"edge4\" class=\"edge\"><title>3&#45;&gt;4</title>\r\n",
       "<path fill=\"none\" stroke=\"black\" d=\"M801.424,-310.934C731.875,-293.504 629.1,-267.747 556.574,-249.571\"/>\r\n",
       "<polygon fill=\"black\" stroke=\"black\" points=\"557.099,-246.095 546.548,-247.059 555.397,-252.885 557.099,-246.095\"/>\r\n",
       "</g>\r\n",
       "<!-- 11 -->\r\n",
       "<g id=\"node12\" class=\"node\"><title>11</title>\r\n",
       "<polygon fill=\"#ea995e\" stroke=\"black\" points=\"940,-261 815,-261 815,-193 940,-193 940,-261\"/>\r\n",
       "<text text-anchor=\"middle\" x=\"877.5\" y=\"-245.8\" font-family=\"Times New Roman,serif\" font-size=\"14.00\">one_clicks &lt;= 5.5</text>\r\n",
       "<text text-anchor=\"middle\" x=\"877.5\" y=\"-230.8\" font-family=\"Times New Roman,serif\" font-size=\"14.00\">samples = 2261</text>\r\n",
       "<text text-anchor=\"middle\" x=\"877.5\" y=\"-215.8\" font-family=\"Times New Roman,serif\" font-size=\"14.00\">value = [1903, 358]</text>\r\n",
       "<text text-anchor=\"middle\" x=\"877.5\" y=\"-200.8\" font-family=\"Times New Roman,serif\" font-size=\"14.00\">class = 0</text>\r\n",
       "</g>\r\n",
       "<!-- 3&#45;&gt;11 -->\r\n",
       "<g id=\"edge11\" class=\"edge\"><title>3&#45;&gt;11</title>\r\n",
       "<path fill=\"none\" stroke=\"black\" d=\"M877.5,-296.884C877.5,-288.778 877.5,-279.982 877.5,-271.472\"/>\r\n",
       "<polygon fill=\"black\" stroke=\"black\" points=\"881,-271.299 877.5,-261.299 874,-271.299 881,-271.299\"/>\r\n",
       "</g>\r\n",
       "<!-- 5 -->\r\n",
       "<g id=\"node6\" class=\"node\"><title>5</title>\r\n",
       "<polygon fill=\"#f9e2d2\" stroke=\"black\" points=\"305.5,-157 151.5,-157 151.5,-89 305.5,-89 305.5,-157\"/>\r\n",
       "<text text-anchor=\"middle\" x=\"228.5\" y=\"-141.8\" font-family=\"Times New Roman,serif\" font-size=\"14.00\">gender_unknown &lt;= 0.5</text>\r\n",
       "<text text-anchor=\"middle\" x=\"228.5\" y=\"-126.8\" font-family=\"Times New Roman,serif\" font-size=\"14.00\">samples = 151932</text>\r\n",
       "<text text-anchor=\"middle\" x=\"228.5\" y=\"-111.8\" font-family=\"Times New Roman,serif\" font-size=\"14.00\">value = [85708, 66224]</text>\r\n",
       "<text text-anchor=\"middle\" x=\"228.5\" y=\"-96.8\" font-family=\"Times New Roman,serif\" font-size=\"14.00\">class = 0</text>\r\n",
       "</g>\r\n",
       "<!-- 4&#45;&gt;5 -->\r\n",
       "<g id=\"edge5\" class=\"edge\"><title>4&#45;&gt;5</title>\r\n",
       "<path fill=\"none\" stroke=\"black\" d=\"M394.262,-193.867C369.09,-183.257 340.91,-171.379 315.026,-160.469\"/>\r\n",
       "<polygon fill=\"black\" stroke=\"black\" points=\"316.177,-157.157 305.603,-156.498 313.459,-163.607 316.177,-157.157\"/>\r\n",
       "</g>\r\n",
       "<!-- 8 -->\r\n",
       "<g id=\"node9\" class=\"node\"><title>8</title>\r\n",
       "<polygon fill=\"#f5fafe\" stroke=\"black\" points=\"547,-157 394,-157 394,-89 547,-89 547,-157\"/>\r\n",
       "<text text-anchor=\"middle\" x=\"470.5\" y=\"-141.8\" font-family=\"Times New Roman,serif\" font-size=\"14.00\">age_range_25&#45;29 &lt;= 0.5</text>\r\n",
       "<text text-anchor=\"middle\" x=\"470.5\" y=\"-126.8\" font-family=\"Times New Roman,serif\" font-size=\"14.00\">samples = 47761</text>\r\n",
       "<text text-anchor=\"middle\" x=\"470.5\" y=\"-111.8\" font-family=\"Times New Roman,serif\" font-size=\"14.00\">value = [23257, 24504]</text>\r\n",
       "<text text-anchor=\"middle\" x=\"470.5\" y=\"-96.8\" font-family=\"Times New Roman,serif\" font-size=\"14.00\">class = 1</text>\r\n",
       "</g>\r\n",
       "<!-- 4&#45;&gt;8 -->\r\n",
       "<g id=\"edge8\" class=\"edge\"><title>4&#45;&gt;8</title>\r\n",
       "<path fill=\"none\" stroke=\"black\" d=\"M470.5,-192.884C470.5,-184.778 470.5,-175.982 470.5,-167.472\"/>\r\n",
       "<polygon fill=\"black\" stroke=\"black\" points=\"474,-167.299 470.5,-157.299 467,-167.299 474,-167.299\"/>\r\n",
       "</g>\r\n",
       "<!-- 6 -->\r\n",
       "<g id=\"node7\" class=\"node\"><title>6</title>\r\n",
       "<polygon fill=\"#f9e4d4\" stroke=\"black\" points=\"145,-53 0,-53 0,-0 145,-0 145,-53\"/>\r\n",
       "<text text-anchor=\"middle\" x=\"72.5\" y=\"-37.8\" font-family=\"Times New Roman,serif\" font-size=\"14.00\">samples = 146271</text>\r\n",
       "<text text-anchor=\"middle\" x=\"72.5\" y=\"-22.8\" font-family=\"Times New Roman,serif\" font-size=\"14.00\">value = [81944, 64327]</text>\r\n",
       "<text text-anchor=\"middle\" x=\"72.5\" y=\"-7.8\" font-family=\"Times New Roman,serif\" font-size=\"14.00\">class = 0</text>\r\n",
       "</g>\r\n",
       "<!-- 5&#45;&gt;6 -->\r\n",
       "<g id=\"edge6\" class=\"edge\"><title>5&#45;&gt;6</title>\r\n",
       "<path fill=\"none\" stroke=\"black\" d=\"M173.939,-88.9485C157.629,-79.0686 139.812,-68.2758 123.725,-58.5305\"/>\r\n",
       "<polygon fill=\"black\" stroke=\"black\" points=\"125.353,-55.4244 114.986,-53.2367 121.726,-61.4115 125.353,-55.4244\"/>\r\n",
       "</g>\r\n",
       "<!-- 7 -->\r\n",
       "<g id=\"node8\" class=\"node\"><title>7</title>\r\n",
       "<polygon fill=\"#f2c19d\" stroke=\"black\" points=\"294,-53 163,-53 163,-0 294,-0 294,-53\"/>\r\n",
       "<text text-anchor=\"middle\" x=\"228.5\" y=\"-37.8\" font-family=\"Times New Roman,serif\" font-size=\"14.00\">samples = 5661</text>\r\n",
       "<text text-anchor=\"middle\" x=\"228.5\" y=\"-22.8\" font-family=\"Times New Roman,serif\" font-size=\"14.00\">value = [3764, 1897]</text>\r\n",
       "<text text-anchor=\"middle\" x=\"228.5\" y=\"-7.8\" font-family=\"Times New Roman,serif\" font-size=\"14.00\">class = 0</text>\r\n",
       "</g>\r\n",
       "<!-- 5&#45;&gt;7 -->\r\n",
       "<g id=\"edge7\" class=\"edge\"><title>5&#45;&gt;7</title>\r\n",
       "<path fill=\"none\" stroke=\"black\" d=\"M228.5,-88.9485C228.5,-80.7153 228.5,-71.848 228.5,-63.4814\"/>\r\n",
       "<polygon fill=\"black\" stroke=\"black\" points=\"232,-63.2367 228.5,-53.2367 225,-63.2367 232,-63.2367\"/>\r\n",
       "</g>\r\n",
       "<!-- 9 -->\r\n",
       "<g id=\"node10\" class=\"node\"><title>9</title>\r\n",
       "<polygon fill=\"#dceefa\" stroke=\"black\" points=\"457,-53 312,-53 312,-0 457,-0 457,-53\"/>\r\n",
       "<text text-anchor=\"middle\" x=\"384.5\" y=\"-37.8\" font-family=\"Times New Roman,serif\" font-size=\"14.00\">samples = 35461</text>\r\n",
       "<text text-anchor=\"middle\" x=\"384.5\" y=\"-22.8\" font-family=\"Times New Roman,serif\" font-size=\"14.00\">value = [15998, 19463]</text>\r\n",
       "<text text-anchor=\"middle\" x=\"384.5\" y=\"-7.8\" font-family=\"Times New Roman,serif\" font-size=\"14.00\">class = 1</text>\r\n",
       "</g>\r\n",
       "<!-- 8&#45;&gt;9 -->\r\n",
       "<g id=\"edge9\" class=\"edge\"><title>8&#45;&gt;9</title>\r\n",
       "<path fill=\"none\" stroke=\"black\" d=\"M440.421,-88.9485C432.096,-79.8005 423.059,-69.8697 414.725,-60.7126\"/>\r\n",
       "<polygon fill=\"black\" stroke=\"black\" points=\"417.241,-58.2769 407.922,-53.2367 412.064,-62.9883 417.241,-58.2769\"/>\r\n",
       "</g>\r\n",
       "<!-- 10 -->\r\n",
       "<g id=\"node11\" class=\"node\"><title>10</title>\r\n",
       "<polygon fill=\"#f7d9c3\" stroke=\"black\" points=\"606,-53 475,-53 475,-0 606,-0 606,-53\"/>\r\n",
       "<text text-anchor=\"middle\" x=\"540.5\" y=\"-37.8\" font-family=\"Times New Roman,serif\" font-size=\"14.00\">samples = 12300</text>\r\n",
       "<text text-anchor=\"middle\" x=\"540.5\" y=\"-22.8\" font-family=\"Times New Roman,serif\" font-size=\"14.00\">value = [7259, 5041]</text>\r\n",
       "<text text-anchor=\"middle\" x=\"540.5\" y=\"-7.8\" font-family=\"Times New Roman,serif\" font-size=\"14.00\">class = 0</text>\r\n",
       "</g>\r\n",
       "<!-- 8&#45;&gt;10 -->\r\n",
       "<g id=\"edge10\" class=\"edge\"><title>8&#45;&gt;10</title>\r\n",
       "<path fill=\"none\" stroke=\"black\" d=\"M494.983,-88.9485C501.556,-80.0749 508.674,-70.4648 515.286,-61.5388\"/>\r\n",
       "<polygon fill=\"black\" stroke=\"black\" points=\"518.296,-63.3556 521.436,-53.2367 512.671,-59.189 518.296,-63.3556\"/>\r\n",
       "</g>\r\n",
       "<!-- 12 -->\r\n",
       "<g id=\"node13\" class=\"node\"><title>12</title>\r\n",
       "<polygon fill=\"#e88f50\" stroke=\"black\" points=\"875,-157 730,-157 730,-89 875,-89 875,-157\"/>\r\n",
       "<text text-anchor=\"middle\" x=\"802.5\" y=\"-141.8\" font-family=\"Times New Roman,serif\" font-size=\"14.00\">diff_cat_review &lt;= 1.5</text>\r\n",
       "<text text-anchor=\"middle\" x=\"802.5\" y=\"-126.8\" font-family=\"Times New Roman,serif\" font-size=\"14.00\">samples = 1071</text>\r\n",
       "<text text-anchor=\"middle\" x=\"802.5\" y=\"-111.8\" font-family=\"Times New Roman,serif\" font-size=\"14.00\">value = [961, 110]</text>\r\n",
       "<text text-anchor=\"middle\" x=\"802.5\" y=\"-96.8\" font-family=\"Times New Roman,serif\" font-size=\"14.00\">class = 0</text>\r\n",
       "</g>\r\n",
       "<!-- 11&#45;&gt;12 -->\r\n",
       "<g id=\"edge12\" class=\"edge\"><title>11&#45;&gt;12</title>\r\n",
       "<path fill=\"none\" stroke=\"black\" d=\"M853.15,-192.884C846.731,-184.154 839.724,-174.625 833.025,-165.514\"/>\r\n",
       "<polygon fill=\"black\" stroke=\"black\" points=\"835.729,-163.283 826.985,-157.299 830.089,-167.429 835.729,-163.283\"/>\r\n",
       "</g>\r\n",
       "<!-- 15 -->\r\n",
       "<g id=\"node16\" class=\"node\"><title>15</title>\r\n",
       "<polygon fill=\"#eca26d\" stroke=\"black\" points=\"1012,-157 893,-157 893,-89 1012,-89 1012,-157\"/>\r\n",
       "<text text-anchor=\"middle\" x=\"952.5\" y=\"-141.8\" font-family=\"Times New Roman,serif\" font-size=\"14.00\">total_logs &lt;= 10.5</text>\r\n",
       "<text text-anchor=\"middle\" x=\"952.5\" y=\"-126.8\" font-family=\"Times New Roman,serif\" font-size=\"14.00\">samples = 1190</text>\r\n",
       "<text text-anchor=\"middle\" x=\"952.5\" y=\"-111.8\" font-family=\"Times New Roman,serif\" font-size=\"14.00\">value = [942, 248]</text>\r\n",
       "<text text-anchor=\"middle\" x=\"952.5\" y=\"-96.8\" font-family=\"Times New Roman,serif\" font-size=\"14.00\">class = 0</text>\r\n",
       "</g>\r\n",
       "<!-- 11&#45;&gt;15 -->\r\n",
       "<g id=\"edge15\" class=\"edge\"><title>11&#45;&gt;15</title>\r\n",
       "<path fill=\"none\" stroke=\"black\" d=\"M901.85,-192.884C908.269,-184.154 915.276,-174.625 921.975,-165.514\"/>\r\n",
       "<polygon fill=\"black\" stroke=\"black\" points=\"924.911,-167.429 928.015,-157.299 919.271,-163.283 924.911,-167.429\"/>\r\n",
       "</g>\r\n",
       "<!-- 13 -->\r\n",
       "<g id=\"node14\" class=\"node\"><title>13</title>\r\n",
       "<polygon fill=\"#e99254\" stroke=\"black\" points=\"742.5,-53 624.5,-53 624.5,-0 742.5,-0 742.5,-53\"/>\r\n",
       "<text text-anchor=\"middle\" x=\"683.5\" y=\"-37.8\" font-family=\"Times New Roman,serif\" font-size=\"14.00\">samples = 892</text>\r\n",
       "<text text-anchor=\"middle\" x=\"683.5\" y=\"-22.8\" font-family=\"Times New Roman,serif\" font-size=\"14.00\">value = [786, 106]</text>\r\n",
       "<text text-anchor=\"middle\" x=\"683.5\" y=\"-7.8\" font-family=\"Times New Roman,serif\" font-size=\"14.00\">class = 0</text>\r\n",
       "</g>\r\n",
       "<!-- 12&#45;&gt;13 -->\r\n",
       "<g id=\"edge13\" class=\"edge\"><title>12&#45;&gt;13</title>\r\n",
       "<path fill=\"none\" stroke=\"black\" d=\"M760.88,-88.9485C748.899,-79.4346 735.852,-69.074 723.944,-59.6175\"/>\r\n",
       "<polygon fill=\"black\" stroke=\"black\" points=\"725.917,-56.7147 715.909,-53.2367 721.564,-62.1965 725.917,-56.7147\"/>\r\n",
       "</g>\r\n",
       "<!-- 14 -->\r\n",
       "<g id=\"node15\" class=\"node\"><title>14</title>\r\n",
       "<polygon fill=\"#e6843e\" stroke=\"black\" points=\"864.5,-53 760.5,-53 760.5,-0 864.5,-0 864.5,-53\"/>\r\n",
       "<text text-anchor=\"middle\" x=\"812.5\" y=\"-37.8\" font-family=\"Times New Roman,serif\" font-size=\"14.00\">samples = 179</text>\r\n",
       "<text text-anchor=\"middle\" x=\"812.5\" y=\"-22.8\" font-family=\"Times New Roman,serif\" font-size=\"14.00\">value = [175, 4]</text>\r\n",
       "<text text-anchor=\"middle\" x=\"812.5\" y=\"-7.8\" font-family=\"Times New Roman,serif\" font-size=\"14.00\">class = 0</text>\r\n",
       "</g>\r\n",
       "<!-- 12&#45;&gt;14 -->\r\n",
       "<g id=\"edge14\" class=\"edge\"><title>12&#45;&gt;14</title>\r\n",
       "<path fill=\"none\" stroke=\"black\" d=\"M805.998,-88.9485C806.878,-80.6238 807.828,-71.6509 808.722,-63.2027\"/>\r\n",
       "<polygon fill=\"black\" stroke=\"black\" points=\"812.205,-63.5495 809.777,-53.2367 805.244,-62.8128 812.205,-63.5495\"/>\r\n",
       "</g>\r\n",
       "<!-- 16 -->\r\n",
       "<g id=\"node17\" class=\"node\"><title>16</title>\r\n",
       "<polygon fill=\"#f0b489\" stroke=\"black\" points=\"1000.5,-53 882.5,-53 882.5,-0 1000.5,-0 1000.5,-53\"/>\r\n",
       "<text text-anchor=\"middle\" x=\"941.5\" y=\"-37.8\" font-family=\"Times New Roman,serif\" font-size=\"14.00\">samples = 601</text>\r\n",
       "<text text-anchor=\"middle\" x=\"941.5\" y=\"-22.8\" font-family=\"Times New Roman,serif\" font-size=\"14.00\">value = [428, 173]</text>\r\n",
       "<text text-anchor=\"middle\" x=\"941.5\" y=\"-7.8\" font-family=\"Times New Roman,serif\" font-size=\"14.00\">class = 0</text>\r\n",
       "</g>\r\n",
       "<!-- 15&#45;&gt;16 -->\r\n",
       "<g id=\"edge16\" class=\"edge\"><title>15&#45;&gt;16</title>\r\n",
       "<path fill=\"none\" stroke=\"black\" d=\"M948.653,-88.9485C947.684,-80.6238 946.639,-71.6509 945.656,-63.2027\"/>\r\n",
       "<polygon fill=\"black\" stroke=\"black\" points=\"949.129,-62.7649 944.496,-53.2367 942.176,-63.5743 949.129,-62.7649\"/>\r\n",
       "</g>\r\n",
       "<!-- 17 -->\r\n",
       "<g id=\"node18\" class=\"node\"><title>17</title>\r\n",
       "<polygon fill=\"#e99356\" stroke=\"black\" points=\"1130,-53 1019,-53 1019,-0 1130,-0 1130,-53\"/>\r\n",
       "<text text-anchor=\"middle\" x=\"1074.5\" y=\"-37.8\" font-family=\"Times New Roman,serif\" font-size=\"14.00\">samples = 589</text>\r\n",
       "<text text-anchor=\"middle\" x=\"1074.5\" y=\"-22.8\" font-family=\"Times New Roman,serif\" font-size=\"14.00\">value = [514, 75]</text>\r\n",
       "<text text-anchor=\"middle\" x=\"1074.5\" y=\"-7.8\" font-family=\"Times New Roman,serif\" font-size=\"14.00\">class = 0</text>\r\n",
       "</g>\r\n",
       "<!-- 15&#45;&gt;17 -->\r\n",
       "<g id=\"edge17\" class=\"edge\"><title>15&#45;&gt;17</title>\r\n",
       "<path fill=\"none\" stroke=\"black\" d=\"M995.17,-88.9485C1007.45,-79.4346 1020.83,-69.074 1033.04,-59.6175\"/>\r\n",
       "<polygon fill=\"black\" stroke=\"black\" points=\"1035.51,-62.1274 1041.27,-53.2367 1031.22,-56.5934 1035.51,-62.1274\"/>\r\n",
       "</g>\r\n",
       "<!-- 19 -->\r\n",
       "<g id=\"node20\" class=\"node\"><title>19</title>\r\n",
       "<polygon fill=\"#d4eaf9\" stroke=\"black\" points=\"1656,-261 1511,-261 1511,-193 1656,-193 1656,-261\"/>\r\n",
       "<text text-anchor=\"middle\" x=\"1583.5\" y=\"-245.8\" font-family=\"Times New Roman,serif\" font-size=\"14.00\">gender_male &lt;= 0.5</text>\r\n",
       "<text text-anchor=\"middle\" x=\"1583.5\" y=\"-230.8\" font-family=\"Times New Roman,serif\" font-size=\"14.00\">samples = 41076</text>\r\n",
       "<text text-anchor=\"middle\" x=\"1583.5\" y=\"-215.8\" font-family=\"Times New Roman,serif\" font-size=\"14.00\">value = [18009, 23067]</text>\r\n",
       "<text text-anchor=\"middle\" x=\"1583.5\" y=\"-200.8\" font-family=\"Times New Roman,serif\" font-size=\"14.00\">class = 1</text>\r\n",
       "</g>\r\n",
       "<!-- 18&#45;&gt;19 -->\r\n",
       "<g id=\"edge19\" class=\"edge\"><title>18&#45;&gt;19</title>\r\n",
       "<path fill=\"none\" stroke=\"black\" d=\"M1683.45,-296.884C1669.55,-287.304 1654.25,-276.761 1639.89,-266.864\"/>\r\n",
       "<polygon fill=\"black\" stroke=\"black\" points=\"1641.78,-263.918 1631.56,-261.125 1637.81,-269.681 1641.78,-263.918\"/>\r\n",
       "</g>\r\n",
       "<!-- 26 -->\r\n",
       "<g id=\"node27\" class=\"node\"><title>26</title>\r\n",
       "<polygon fill=\"#eb9d65\" stroke=\"black\" points=\"1903,-261 1770,-261 1770,-193 1903,-193 1903,-261\"/>\r\n",
       "<text text-anchor=\"middle\" x=\"1836.5\" y=\"-245.8\" font-family=\"Times New Roman,serif\" font-size=\"14.00\">browse_days &lt;= 1.5</text>\r\n",
       "<text text-anchor=\"middle\" x=\"1836.5\" y=\"-230.8\" font-family=\"Times New Roman,serif\" font-size=\"14.00\">samples = 1078</text>\r\n",
       "<text text-anchor=\"middle\" x=\"1836.5\" y=\"-215.8\" font-family=\"Times New Roman,serif\" font-size=\"14.00\">value = [883, 195]</text>\r\n",
       "<text text-anchor=\"middle\" x=\"1836.5\" y=\"-200.8\" font-family=\"Times New Roman,serif\" font-size=\"14.00\">class = 0</text>\r\n",
       "</g>\r\n",
       "<!-- 18&#45;&gt;26 -->\r\n",
       "<g id=\"edge26\" class=\"edge\"><title>18&#45;&gt;26</title>\r\n",
       "<path fill=\"none\" stroke=\"black\" d=\"M1765.59,-296.884C1774.94,-287.798 1785.19,-277.845 1794.91,-268.4\"/>\r\n",
       "<polygon fill=\"black\" stroke=\"black\" points=\"1797.49,-270.778 1802.22,-261.299 1792.61,-265.757 1797.49,-270.778\"/>\r\n",
       "</g>\r\n",
       "<!-- 20 -->\r\n",
       "<g id=\"node21\" class=\"node\"><title>20</title>\r\n",
       "<polygon fill=\"#c2e1f7\" stroke=\"black\" points=\"1422,-157 1277,-157 1277,-89 1422,-89 1422,-157\"/>\r\n",
       "<text text-anchor=\"middle\" x=\"1349.5\" y=\"-141.8\" font-family=\"Times New Roman,serif\" font-size=\"14.00\">gender_female &lt;= 0.5</text>\r\n",
       "<text text-anchor=\"middle\" x=\"1349.5\" y=\"-126.8\" font-family=\"Times New Roman,serif\" font-size=\"14.00\">samples = 31738</text>\r\n",
       "<text text-anchor=\"middle\" x=\"1349.5\" y=\"-111.8\" font-family=\"Times New Roman,serif\" font-size=\"14.00\">value = [12997, 18741]</text>\r\n",
       "<text text-anchor=\"middle\" x=\"1349.5\" y=\"-96.8\" font-family=\"Times New Roman,serif\" font-size=\"14.00\">class = 1</text>\r\n",
       "</g>\r\n",
       "<!-- 19&#45;&gt;20 -->\r\n",
       "<g id=\"edge20\" class=\"edge\"><title>19&#45;&gt;20</title>\r\n",
       "<path fill=\"none\" stroke=\"black\" d=\"M1510.74,-194.286C1485.65,-183.348 1457.37,-171.022 1431.59,-159.782\"/>\r\n",
       "<polygon fill=\"black\" stroke=\"black\" points=\"1432.78,-156.482 1422.21,-155.695 1429.98,-162.899 1432.78,-156.482\"/>\r\n",
       "</g>\r\n",
       "<!-- 23 -->\r\n",
       "<g id=\"node24\" class=\"node\"><title>23</title>\r\n",
       "<polygon fill=\"#fbeee4\" stroke=\"black\" points=\"1660,-157 1507,-157 1507,-89 1660,-89 1660,-157\"/>\r\n",
       "<text text-anchor=\"middle\" x=\"1583.5\" y=\"-141.8\" font-family=\"Times New Roman,serif\" font-size=\"14.00\">age_range_25&#45;29 &lt;= 0.5</text>\r\n",
       "<text text-anchor=\"middle\" x=\"1583.5\" y=\"-126.8\" font-family=\"Times New Roman,serif\" font-size=\"14.00\">samples = 9338</text>\r\n",
       "<text text-anchor=\"middle\" x=\"1583.5\" y=\"-111.8\" font-family=\"Times New Roman,serif\" font-size=\"14.00\">value = [5012, 4326]</text>\r\n",
       "<text text-anchor=\"middle\" x=\"1583.5\" y=\"-96.8\" font-family=\"Times New Roman,serif\" font-size=\"14.00\">class = 0</text>\r\n",
       "</g>\r\n",
       "<!-- 19&#45;&gt;23 -->\r\n",
       "<g id=\"edge23\" class=\"edge\"><title>19&#45;&gt;23</title>\r\n",
       "<path fill=\"none\" stroke=\"black\" d=\"M1583.5,-192.884C1583.5,-184.778 1583.5,-175.982 1583.5,-167.472\"/>\r\n",
       "<polygon fill=\"black\" stroke=\"black\" points=\"1587,-167.299 1583.5,-157.299 1580,-167.299 1587,-167.299\"/>\r\n",
       "</g>\r\n",
       "<!-- 21 -->\r\n",
       "<g id=\"node22\" class=\"node\"><title>21</title>\r\n",
       "<polygon fill=\"#399de5\" stroke=\"black\" points=\"1259,-53 1148,-53 1148,-0 1259,-0 1259,-53\"/>\r\n",
       "<text text-anchor=\"middle\" x=\"1203.5\" y=\"-37.8\" font-family=\"Times New Roman,serif\" font-size=\"14.00\">samples = 2238</text>\r\n",
       "<text text-anchor=\"middle\" x=\"1203.5\" y=\"-22.8\" font-family=\"Times New Roman,serif\" font-size=\"14.00\">value = [0, 2238]</text>\r\n",
       "<text text-anchor=\"middle\" x=\"1203.5\" y=\"-7.8\" font-family=\"Times New Roman,serif\" font-size=\"14.00\">class = 1</text>\r\n",
       "</g>\r\n",
       "<!-- 20&#45;&gt;21 -->\r\n",
       "<g id=\"edge21\" class=\"edge\"><title>20&#45;&gt;21</title>\r\n",
       "<path fill=\"none\" stroke=\"black\" d=\"M1298.44,-88.9485C1283.31,-79.1601 1266.81,-68.4756 1251.86,-58.8015\"/>\r\n",
       "<polygon fill=\"black\" stroke=\"black\" points=\"1253.56,-55.7322 1243.26,-53.2367 1249.76,-61.6087 1253.56,-55.7322\"/>\r\n",
       "</g>\r\n",
       "<!-- 22 -->\r\n",
       "<g id=\"node23\" class=\"node\"><title>22</title>\r\n",
       "<polygon fill=\"#d5eaf9\" stroke=\"black\" points=\"1422,-53 1277,-53 1277,-0 1422,-0 1422,-53\"/>\r\n",
       "<text text-anchor=\"middle\" x=\"1349.5\" y=\"-37.8\" font-family=\"Times New Roman,serif\" font-size=\"14.00\">samples = 29500</text>\r\n",
       "<text text-anchor=\"middle\" x=\"1349.5\" y=\"-22.8\" font-family=\"Times New Roman,serif\" font-size=\"14.00\">value = [12997, 16503]</text>\r\n",
       "<text text-anchor=\"middle\" x=\"1349.5\" y=\"-7.8\" font-family=\"Times New Roman,serif\" font-size=\"14.00\">class = 1</text>\r\n",
       "</g>\r\n",
       "<!-- 20&#45;&gt;22 -->\r\n",
       "<g id=\"edge22\" class=\"edge\"><title>20&#45;&gt;22</title>\r\n",
       "<path fill=\"none\" stroke=\"black\" d=\"M1349.5,-88.9485C1349.5,-80.7153 1349.5,-71.848 1349.5,-63.4814\"/>\r\n",
       "<polygon fill=\"black\" stroke=\"black\" points=\"1353,-63.2367 1349.5,-53.2367 1346,-63.2367 1353,-63.2367\"/>\r\n",
       "</g>\r\n",
       "<!-- 24 -->\r\n",
       "<g id=\"node25\" class=\"node\"><title>24</title>\r\n",
       "<polygon fill=\"#fafcfe\" stroke=\"black\" points=\"1571,-53 1440,-53 1440,-0 1571,-0 1571,-53\"/>\r\n",
       "<text text-anchor=\"middle\" x=\"1505.5\" y=\"-37.8\" font-family=\"Times New Roman,serif\" font-size=\"14.00\">samples = 6990</text>\r\n",
       "<text text-anchor=\"middle\" x=\"1505.5\" y=\"-22.8\" font-family=\"Times New Roman,serif\" font-size=\"14.00\">value = [3448, 3542]</text>\r\n",
       "<text text-anchor=\"middle\" x=\"1505.5\" y=\"-7.8\" font-family=\"Times New Roman,serif\" font-size=\"14.00\">class = 1</text>\r\n",
       "</g>\r\n",
       "<!-- 23&#45;&gt;24 -->\r\n",
       "<g id=\"edge24\" class=\"edge\"><title>23&#45;&gt;24</title>\r\n",
       "<path fill=\"none\" stroke=\"black\" d=\"M1556.22,-88.9485C1548.74,-79.892 1540.64,-70.0682 1533.14,-60.9875\"/>\r\n",
       "<polygon fill=\"black\" stroke=\"black\" points=\"1535.81,-58.721 1526.74,-53.2367 1530.41,-63.1769 1535.81,-58.721\"/>\r\n",
       "</g>\r\n",
       "<!-- 25 -->\r\n",
       "<g id=\"node26\" class=\"node\"><title>25</title>\r\n",
       "<polygon fill=\"#f2c09c\" stroke=\"black\" points=\"1714,-53 1589,-53 1589,-0 1714,-0 1714,-53\"/>\r\n",
       "<text text-anchor=\"middle\" x=\"1651.5\" y=\"-37.8\" font-family=\"Times New Roman,serif\" font-size=\"14.00\">samples = 2348</text>\r\n",
       "<text text-anchor=\"middle\" x=\"1651.5\" y=\"-22.8\" font-family=\"Times New Roman,serif\" font-size=\"14.00\">value = [1564, 784]</text>\r\n",
       "<text text-anchor=\"middle\" x=\"1651.5\" y=\"-7.8\" font-family=\"Times New Roman,serif\" font-size=\"14.00\">class = 0</text>\r\n",
       "</g>\r\n",
       "<!-- 23&#45;&gt;25 -->\r\n",
       "<g id=\"edge25\" class=\"edge\"><title>23&#45;&gt;25</title>\r\n",
       "<path fill=\"none\" stroke=\"black\" d=\"M1607.28,-88.9485C1613.67,-80.0749 1620.58,-70.4648 1627.01,-61.5388\"/>\r\n",
       "<polygon fill=\"black\" stroke=\"black\" points=\"1629.98,-63.398 1632.98,-53.2367 1624.3,-59.3094 1629.98,-63.398\"/>\r\n",
       "</g>\r\n",
       "<!-- 27 -->\r\n",
       "<g id=\"node28\" class=\"node\"><title>27</title>\r\n",
       "<polygon fill=\"#eda877\" stroke=\"black\" points=\"1912.5,-157 1760.5,-157 1760.5,-89 1912.5,-89 1912.5,-157\"/>\r\n",
       "<text text-anchor=\"middle\" x=\"1836.5\" y=\"-141.8\" font-family=\"Times New Roman,serif\" font-size=\"14.00\">diff_item_review &lt;= 4.5</text>\r\n",
       "<text text-anchor=\"middle\" x=\"1836.5\" y=\"-126.8\" font-family=\"Times New Roman,serif\" font-size=\"14.00\">samples = 734</text>\r\n",
       "<text text-anchor=\"middle\" x=\"1836.5\" y=\"-111.8\" font-family=\"Times New Roman,serif\" font-size=\"14.00\">value = [560, 174]</text>\r\n",
       "<text text-anchor=\"middle\" x=\"1836.5\" y=\"-96.8\" font-family=\"Times New Roman,serif\" font-size=\"14.00\">class = 0</text>\r\n",
       "</g>\r\n",
       "<!-- 26&#45;&gt;27 -->\r\n",
       "<g id=\"edge27\" class=\"edge\"><title>26&#45;&gt;27</title>\r\n",
       "<path fill=\"none\" stroke=\"black\" d=\"M1836.5,-192.884C1836.5,-184.778 1836.5,-175.982 1836.5,-167.472\"/>\r\n",
       "<polygon fill=\"black\" stroke=\"black\" points=\"1840,-167.299 1836.5,-157.299 1833,-167.299 1840,-167.299\"/>\r\n",
       "</g>\r\n",
       "<!-- 30 -->\r\n",
       "<g id=\"node31\" class=\"node\"><title>30</title>\r\n",
       "<polygon fill=\"#e78946\" stroke=\"black\" points=\"2118,-157 1975,-157 1975,-89 2118,-89 2118,-157\"/>\r\n",
       "<text text-anchor=\"middle\" x=\"2046.5\" y=\"-141.8\" font-family=\"Times New Roman,serif\" font-size=\"14.00\">favourite_times &lt;= 1.5</text>\r\n",
       "<text text-anchor=\"middle\" x=\"2046.5\" y=\"-126.8\" font-family=\"Times New Roman,serif\" font-size=\"14.00\">samples = 344</text>\r\n",
       "<text text-anchor=\"middle\" x=\"2046.5\" y=\"-111.8\" font-family=\"Times New Roman,serif\" font-size=\"14.00\">value = [323, 21]</text>\r\n",
       "<text text-anchor=\"middle\" x=\"2046.5\" y=\"-96.8\" font-family=\"Times New Roman,serif\" font-size=\"14.00\">class = 0</text>\r\n",
       "</g>\r\n",
       "<!-- 26&#45;&gt;30 -->\r\n",
       "<g id=\"edge30\" class=\"edge\"><title>26&#45;&gt;30</title>\r\n",
       "<path fill=\"none\" stroke=\"black\" d=\"M1903.23,-193.586C1924.25,-183.378 1947.64,-172.018 1969.32,-161.487\"/>\r\n",
       "<polygon fill=\"black\" stroke=\"black\" points=\"1971.03,-164.548 1978.5,-157.031 1967.97,-158.251 1971.03,-164.548\"/>\r\n",
       "</g>\r\n",
       "<!-- 28 -->\r\n",
       "<g id=\"node29\" class=\"node\"><title>28</title>\r\n",
       "<polygon fill=\"#eb9f68\" stroke=\"black\" points=\"1850.5,-53 1732.5,-53 1732.5,-0 1850.5,-0 1850.5,-53\"/>\r\n",
       "<text text-anchor=\"middle\" x=\"1791.5\" y=\"-37.8\" font-family=\"Times New Roman,serif\" font-size=\"14.00\">samples = 648</text>\r\n",
       "<text text-anchor=\"middle\" x=\"1791.5\" y=\"-22.8\" font-family=\"Times New Roman,serif\" font-size=\"14.00\">value = [523, 125]</text>\r\n",
       "<text text-anchor=\"middle\" x=\"1791.5\" y=\"-7.8\" font-family=\"Times New Roman,serif\" font-size=\"14.00\">class = 0</text>\r\n",
       "</g>\r\n",
       "<!-- 27&#45;&gt;28 -->\r\n",
       "<g id=\"edge28\" class=\"edge\"><title>27&#45;&gt;28</title>\r\n",
       "<path fill=\"none\" stroke=\"black\" d=\"M1820.76,-88.9485C1816.67,-80.3494 1812.24,-71.0586 1808.1,-62.3689\"/>\r\n",
       "<polygon fill=\"black\" stroke=\"black\" points=\"1811.21,-60.7605 1803.76,-53.2367 1804.89,-63.7701 1811.21,-60.7605\"/>\r\n",
       "</g>\r\n",
       "<!-- 29 -->\r\n",
       "<g id=\"node30\" class=\"node\"><title>29</title>\r\n",
       "<polygon fill=\"#cfe7f9\" stroke=\"black\" points=\"1972.5,-53 1868.5,-53 1868.5,-0 1972.5,-0 1972.5,-53\"/>\r\n",
       "<text text-anchor=\"middle\" x=\"1920.5\" y=\"-37.8\" font-family=\"Times New Roman,serif\" font-size=\"14.00\">samples = 86</text>\r\n",
       "<text text-anchor=\"middle\" x=\"1920.5\" y=\"-22.8\" font-family=\"Times New Roman,serif\" font-size=\"14.00\">value = [37, 49]</text>\r\n",
       "<text text-anchor=\"middle\" x=\"1920.5\" y=\"-7.8\" font-family=\"Times New Roman,serif\" font-size=\"14.00\">class = 1</text>\r\n",
       "</g>\r\n",
       "<!-- 27&#45;&gt;29 -->\r\n",
       "<g id=\"edge29\" class=\"edge\"><title>27&#45;&gt;29</title>\r\n",
       "<path fill=\"none\" stroke=\"black\" d=\"M1865.88,-88.9485C1874.01,-79.8005 1882.84,-69.8697 1890.98,-60.7126\"/>\r\n",
       "<polygon fill=\"black\" stroke=\"black\" points=\"1893.6,-63.0361 1897.62,-53.2367 1888.36,-58.3855 1893.6,-63.0361\"/>\r\n",
       "</g>\r\n",
       "<!-- 31 -->\r\n",
       "<g id=\"node32\" class=\"node\"><title>31</title>\r\n",
       "<polygon fill=\"#e68640\" stroke=\"black\" points=\"2102,-53 1991,-53 1991,-0 2102,-0 2102,-53\"/>\r\n",
       "<text text-anchor=\"middle\" x=\"2046.5\" y=\"-37.8\" font-family=\"Times New Roman,serif\" font-size=\"14.00\">samples = 315</text>\r\n",
       "<text text-anchor=\"middle\" x=\"2046.5\" y=\"-22.8\" font-family=\"Times New Roman,serif\" font-size=\"14.00\">value = [304, 11]</text>\r\n",
       "<text text-anchor=\"middle\" x=\"2046.5\" y=\"-7.8\" font-family=\"Times New Roman,serif\" font-size=\"14.00\">class = 0</text>\r\n",
       "</g>\r\n",
       "<!-- 30&#45;&gt;31 -->\r\n",
       "<g id=\"edge31\" class=\"edge\"><title>30&#45;&gt;31</title>\r\n",
       "<path fill=\"none\" stroke=\"black\" d=\"M2046.5,-88.9485C2046.5,-80.7153 2046.5,-71.848 2046.5,-63.4814\"/>\r\n",
       "<polygon fill=\"black\" stroke=\"black\" points=\"2050,-63.2367 2046.5,-53.2367 2043,-63.2367 2050,-63.2367\"/>\r\n",
       "</g>\r\n",
       "<!-- 32 -->\r\n",
       "<g id=\"node33\" class=\"node\"><title>32</title>\r\n",
       "<polygon fill=\"#f3c3a1\" stroke=\"black\" points=\"2224.5,-53 2120.5,-53 2120.5,-0 2224.5,-0 2224.5,-53\"/>\r\n",
       "<text text-anchor=\"middle\" x=\"2172.5\" y=\"-37.8\" font-family=\"Times New Roman,serif\" font-size=\"14.00\">samples = 29</text>\r\n",
       "<text text-anchor=\"middle\" x=\"2172.5\" y=\"-22.8\" font-family=\"Times New Roman,serif\" font-size=\"14.00\">value = [19, 10]</text>\r\n",
       "<text text-anchor=\"middle\" x=\"2172.5\" y=\"-7.8\" font-family=\"Times New Roman,serif\" font-size=\"14.00\">class = 0</text>\r\n",
       "</g>\r\n",
       "<!-- 30&#45;&gt;32 -->\r\n",
       "<g id=\"edge32\" class=\"edge\"><title>30&#45;&gt;32</title>\r\n",
       "<path fill=\"none\" stroke=\"black\" d=\"M2090.57,-88.9485C2103.38,-79.3431 2117.33,-68.8747 2130.04,-59.345\"/>\r\n",
       "<polygon fill=\"black\" stroke=\"black\" points=\"2132.28,-62.0368 2138.18,-53.2367 2128.08,-56.4367 2132.28,-62.0368\"/>\r\n",
       "</g>\r\n",
       "<!-- 34 -->\r\n",
       "<g id=\"node35\" class=\"node\"><title>34</title>\r\n",
       "<polygon fill=\"#f5ccaf\" stroke=\"black\" points=\"3079.5,-365 2941.5,-365 2941.5,-297 3079.5,-297 3079.5,-365\"/>\r\n",
       "<text text-anchor=\"middle\" x=\"3010.5\" y=\"-349.8\" font-family=\"Times New Roman,serif\" font-size=\"14.00\">one_clicks &lt;= 0.5</text>\r\n",
       "<text text-anchor=\"middle\" x=\"3010.5\" y=\"-334.8\" font-family=\"Times New Roman,serif\" font-size=\"14.00\">samples = 24980</text>\r\n",
       "<text text-anchor=\"middle\" x=\"3010.5\" y=\"-319.8\" font-family=\"Times New Roman,serif\" font-size=\"14.00\">value = [15630, 9350]</text>\r\n",
       "<text text-anchor=\"middle\" x=\"3010.5\" y=\"-304.8\" font-family=\"Times New Roman,serif\" font-size=\"14.00\">class = 0</text>\r\n",
       "</g>\r\n",
       "<!-- 33&#45;&gt;34 -->\r\n",
       "<g id=\"edge34\" class=\"edge\"><title>33&#45;&gt;34</title>\r\n",
       "<path fill=\"none\" stroke=\"black\" d=\"M3213.16,-407.997C3175.43,-393.85 3128.62,-376.293 3089.49,-361.62\"/>\r\n",
       "<polygon fill=\"black\" stroke=\"black\" points=\"3090.31,-358.189 3079.71,-357.955 3087.85,-364.744 3090.31,-358.189\"/>\r\n",
       "</g>\r\n",
       "<!-- 49 -->\r\n",
       "<g id=\"node50\" class=\"node\"><title>49</title>\r\n",
       "<polygon fill=\"#ea9b61\" stroke=\"black\" points=\"3620,-365 3495,-365 3495,-297 3620,-297 3620,-365\"/>\r\n",
       "<text text-anchor=\"middle\" x=\"3557.5\" y=\"-349.8\" font-family=\"Times New Roman,serif\" font-size=\"14.00\">total_logs &lt;= 14.5</text>\r\n",
       "<text text-anchor=\"middle\" x=\"3557.5\" y=\"-334.8\" font-family=\"Times New Roman,serif\" font-size=\"14.00\">samples = 3422</text>\r\n",
       "<text text-anchor=\"middle\" x=\"3557.5\" y=\"-319.8\" font-family=\"Times New Roman,serif\" font-size=\"14.00\">value = [2841, 581]</text>\r\n",
       "<text text-anchor=\"middle\" x=\"3557.5\" y=\"-304.8\" font-family=\"Times New Roman,serif\" font-size=\"14.00\">class = 0</text>\r\n",
       "</g>\r\n",
       "<!-- 33&#45;&gt;49 -->\r\n",
       "<g id=\"edge49\" class=\"edge\"><title>33&#45;&gt;49</title>\r\n",
       "<path fill=\"none\" stroke=\"black\" d=\"M3351.54,-408.393C3392.28,-393.282 3443.78,-374.179 3485.09,-358.856\"/>\r\n",
       "<polygon fill=\"black\" stroke=\"black\" points=\"3486.39,-362.107 3494.55,-355.348 3483.96,-355.544 3486.39,-362.107\"/>\r\n",
       "</g>\r\n",
       "<!-- 35 -->\r\n",
       "<g id=\"node36\" class=\"node\"><title>35</title>\r\n",
       "<polygon fill=\"#fae9dc\" stroke=\"black\" points=\"2705,-261 2574,-261 2574,-193 2705,-193 2705,-261\"/>\r\n",
       "<text text-anchor=\"middle\" x=\"2639.5\" y=\"-245.8\" font-family=\"Times New Roman,serif\" font-size=\"14.00\">total_logs &lt;= 3.5</text>\r\n",
       "<text text-anchor=\"middle\" x=\"2639.5\" y=\"-230.8\" font-family=\"Times New Roman,serif\" font-size=\"14.00\">samples = 5728</text>\r\n",
       "<text text-anchor=\"middle\" x=\"2639.5\" y=\"-215.8\" font-family=\"Times New Roman,serif\" font-size=\"14.00\">value = [3144, 2584]</text>\r\n",
       "<text text-anchor=\"middle\" x=\"2639.5\" y=\"-200.8\" font-family=\"Times New Roman,serif\" font-size=\"14.00\">class = 0</text>\r\n",
       "</g>\r\n",
       "<!-- 34&#45;&gt;35 -->\r\n",
       "<g id=\"edge35\" class=\"edge\"><title>34&#45;&gt;35</title>\r\n",
       "<path fill=\"none\" stroke=\"black\" d=\"M2941.15,-310.934C2876.82,-293.247 2781.29,-266.984 2715.05,-248.77\"/>\r\n",
       "<polygon fill=\"black\" stroke=\"black\" points=\"2715.65,-245.307 2705.08,-246.031 2713.8,-252.057 2715.65,-245.307\"/>\r\n",
       "</g>\r\n",
       "<!-- 42 -->\r\n",
       "<g id=\"node43\" class=\"node\"><title>42</title>\r\n",
       "<polygon fill=\"#f3c5a4\" stroke=\"black\" points=\"3079.5,-261 2941.5,-261 2941.5,-193 3079.5,-193 3079.5,-261\"/>\r\n",
       "<text text-anchor=\"middle\" x=\"3010.5\" y=\"-245.8\" font-family=\"Times New Roman,serif\" font-size=\"14.00\">gender_male &lt;= 0.5</text>\r\n",
       "<text text-anchor=\"middle\" x=\"3010.5\" y=\"-230.8\" font-family=\"Times New Roman,serif\" font-size=\"14.00\">samples = 19252</text>\r\n",
       "<text text-anchor=\"middle\" x=\"3010.5\" y=\"-215.8\" font-family=\"Times New Roman,serif\" font-size=\"14.00\">value = [12486, 6766]</text>\r\n",
       "<text text-anchor=\"middle\" x=\"3010.5\" y=\"-200.8\" font-family=\"Times New Roman,serif\" font-size=\"14.00\">class = 0</text>\r\n",
       "</g>\r\n",
       "<!-- 34&#45;&gt;42 -->\r\n",
       "<g id=\"edge42\" class=\"edge\"><title>34&#45;&gt;42</title>\r\n",
       "<path fill=\"none\" stroke=\"black\" d=\"M3010.5,-296.884C3010.5,-288.778 3010.5,-279.982 3010.5,-271.472\"/>\r\n",
       "<polygon fill=\"black\" stroke=\"black\" points=\"3014,-271.299 3010.5,-261.299 3007,-271.299 3014,-271.299\"/>\r\n",
       "</g>\r\n",
       "<!-- 36 -->\r\n",
       "<g id=\"node37\" class=\"node\"><title>36</title>\r\n",
       "<polygon fill=\"#fbebe0\" stroke=\"black\" points=\"2518.5,-157 2364.5,-157 2364.5,-89 2518.5,-89 2518.5,-157\"/>\r\n",
       "<text text-anchor=\"middle\" x=\"2441.5\" y=\"-141.8\" font-family=\"Times New Roman,serif\" font-size=\"14.00\">gender_unknown &lt;= 0.5</text>\r\n",
       "<text text-anchor=\"middle\" x=\"2441.5\" y=\"-126.8\" font-family=\"Times New Roman,serif\" font-size=\"14.00\">samples = 5635</text>\r\n",
       "<text text-anchor=\"middle\" x=\"2441.5\" y=\"-111.8\" font-family=\"Times New Roman,serif\" font-size=\"14.00\">value = [3054, 2581]</text>\r\n",
       "<text text-anchor=\"middle\" x=\"2441.5\" y=\"-96.8\" font-family=\"Times New Roman,serif\" font-size=\"14.00\">class = 0</text>\r\n",
       "</g>\r\n",
       "<!-- 35&#45;&gt;36 -->\r\n",
       "<g id=\"edge36\" class=\"edge\"><title>35&#45;&gt;36</title>\r\n",
       "<path fill=\"none\" stroke=\"black\" d=\"M2575.22,-192.884C2555.92,-182.946 2534.62,-171.971 2514.79,-161.757\"/>\r\n",
       "<polygon fill=\"black\" stroke=\"black\" points=\"2516.29,-158.593 2505.8,-157.125 2513.09,-164.816 2516.29,-158.593\"/>\r\n",
       "</g>\r\n",
       "<!-- 39 -->\r\n",
       "<g id=\"node40\" class=\"node\"><title>39</title>\r\n",
       "<polygon fill=\"#e68540\" stroke=\"black\" points=\"2712,-157 2567,-157 2567,-89 2712,-89 2712,-157\"/>\r\n",
       "<text text-anchor=\"middle\" x=\"2639.5\" y=\"-141.8\" font-family=\"Times New Roman,serif\" font-size=\"14.00\">purchase_times &lt;= 5.5</text>\r\n",
       "<text text-anchor=\"middle\" x=\"2639.5\" y=\"-126.8\" font-family=\"Times New Roman,serif\" font-size=\"14.00\">samples = 93</text>\r\n",
       "<text text-anchor=\"middle\" x=\"2639.5\" y=\"-111.8\" font-family=\"Times New Roman,serif\" font-size=\"14.00\">value = [90, 3]</text>\r\n",
       "<text text-anchor=\"middle\" x=\"2639.5\" y=\"-96.8\" font-family=\"Times New Roman,serif\" font-size=\"14.00\">class = 0</text>\r\n",
       "</g>\r\n",
       "<!-- 35&#45;&gt;39 -->\r\n",
       "<g id=\"edge39\" class=\"edge\"><title>35&#45;&gt;39</title>\r\n",
       "<path fill=\"none\" stroke=\"black\" d=\"M2639.5,-192.884C2639.5,-184.778 2639.5,-175.982 2639.5,-167.472\"/>\r\n",
       "<polygon fill=\"black\" stroke=\"black\" points=\"2643,-167.299 2639.5,-157.299 2636,-167.299 2643,-167.299\"/>\r\n",
       "</g>\r\n",
       "<!-- 37 -->\r\n",
       "<g id=\"node38\" class=\"node\"><title>37</title>\r\n",
       "<polygon fill=\"#fbede3\" stroke=\"black\" points=\"2374,-53 2243,-53 2243,-0 2374,-0 2374,-53\"/>\r\n",
       "<text text-anchor=\"middle\" x=\"2308.5\" y=\"-37.8\" font-family=\"Times New Roman,serif\" font-size=\"14.00\">samples = 5579</text>\r\n",
       "<text text-anchor=\"middle\" x=\"2308.5\" y=\"-22.8\" font-family=\"Times New Roman,serif\" font-size=\"14.00\">value = [2999, 2580]</text>\r\n",
       "<text text-anchor=\"middle\" x=\"2308.5\" y=\"-7.8\" font-family=\"Times New Roman,serif\" font-size=\"14.00\">class = 0</text>\r\n",
       "</g>\r\n",
       "<!-- 36&#45;&gt;37 -->\r\n",
       "<g id=\"edge37\" class=\"edge\"><title>36&#45;&gt;37</title>\r\n",
       "<path fill=\"none\" stroke=\"black\" d=\"M2394.98,-88.9485C2381.34,-79.2516 2366.45,-68.6752 2352.94,-59.073\"/>\r\n",
       "<polygon fill=\"black\" stroke=\"black\" points=\"2354.9,-56.1757 2344.72,-53.2367 2350.85,-61.882 2354.9,-56.1757\"/>\r\n",
       "</g>\r\n",
       "<!-- 38 -->\r\n",
       "<g id=\"node39\" class=\"node\"><title>38</title>\r\n",
       "<polygon fill=\"#e5833d\" stroke=\"black\" points=\"2490.5,-53 2392.5,-53 2392.5,-0 2490.5,-0 2490.5,-53\"/>\r\n",
       "<text text-anchor=\"middle\" x=\"2441.5\" y=\"-37.8\" font-family=\"Times New Roman,serif\" font-size=\"14.00\">samples = 56</text>\r\n",
       "<text text-anchor=\"middle\" x=\"2441.5\" y=\"-22.8\" font-family=\"Times New Roman,serif\" font-size=\"14.00\">value = [55, 1]</text>\r\n",
       "<text text-anchor=\"middle\" x=\"2441.5\" y=\"-7.8\" font-family=\"Times New Roman,serif\" font-size=\"14.00\">class = 0</text>\r\n",
       "</g>\r\n",
       "<!-- 36&#45;&gt;38 -->\r\n",
       "<g id=\"edge38\" class=\"edge\"><title>36&#45;&gt;38</title>\r\n",
       "<path fill=\"none\" stroke=\"black\" d=\"M2441.5,-88.9485C2441.5,-80.7153 2441.5,-71.848 2441.5,-63.4814\"/>\r\n",
       "<polygon fill=\"black\" stroke=\"black\" points=\"2445,-63.2367 2441.5,-53.2367 2438,-63.2367 2445,-63.2367\"/>\r\n",
       "</g>\r\n",
       "<!-- 40 -->\r\n",
       "<g id=\"node41\" class=\"node\"><title>40</title>\r\n",
       "<polygon fill=\"#e6843e\" stroke=\"black\" points=\"2606.5,-53 2508.5,-53 2508.5,-0 2606.5,-0 2606.5,-53\"/>\r\n",
       "<text text-anchor=\"middle\" x=\"2557.5\" y=\"-37.8\" font-family=\"Times New Roman,serif\" font-size=\"14.00\">samples = 89</text>\r\n",
       "<text text-anchor=\"middle\" x=\"2557.5\" y=\"-22.8\" font-family=\"Times New Roman,serif\" font-size=\"14.00\">value = [87, 2]</text>\r\n",
       "<text text-anchor=\"middle\" x=\"2557.5\" y=\"-7.8\" font-family=\"Times New Roman,serif\" font-size=\"14.00\">class = 0</text>\r\n",
       "</g>\r\n",
       "<!-- 39&#45;&gt;40 -->\r\n",
       "<g id=\"edge40\" class=\"edge\"><title>39&#45;&gt;40</title>\r\n",
       "<path fill=\"none\" stroke=\"black\" d=\"M2610.82,-88.9485C2602.96,-79.892 2594.44,-70.0682 2586.56,-60.9875\"/>\r\n",
       "<polygon fill=\"black\" stroke=\"black\" points=\"2589.03,-58.4958 2579.83,-53.2367 2583.74,-63.0835 2589.03,-58.4958\"/>\r\n",
       "</g>\r\n",
       "<!-- 41 -->\r\n",
       "<g id=\"node42\" class=\"node\"><title>41</title>\r\n",
       "<polygon fill=\"#eeab7b\" stroke=\"black\" points=\"2716,-53 2625,-53 2625,-0 2716,-0 2716,-53\"/>\r\n",
       "<text text-anchor=\"middle\" x=\"2670.5\" y=\"-37.8\" font-family=\"Times New Roman,serif\" font-size=\"14.00\">samples = 4</text>\r\n",
       "<text text-anchor=\"middle\" x=\"2670.5\" y=\"-22.8\" font-family=\"Times New Roman,serif\" font-size=\"14.00\">value = [3, 1]</text>\r\n",
       "<text text-anchor=\"middle\" x=\"2670.5\" y=\"-7.8\" font-family=\"Times New Roman,serif\" font-size=\"14.00\">class = 0</text>\r\n",
       "</g>\r\n",
       "<!-- 39&#45;&gt;41 -->\r\n",
       "<g id=\"edge41\" class=\"edge\"><title>39&#45;&gt;41</title>\r\n",
       "<path fill=\"none\" stroke=\"black\" d=\"M2650.34,-88.9485C2653.1,-80.5323 2656.08,-71.4536 2658.88,-62.9243\"/>\r\n",
       "<polygon fill=\"black\" stroke=\"black\" points=\"2662.27,-63.8295 2662.06,-53.2367 2655.61,-61.6475 2662.27,-63.8295\"/>\r\n",
       "</g>\r\n",
       "<!-- 43 -->\r\n",
       "<g id=\"node44\" class=\"node\"><title>43</title>\r\n",
       "<polygon fill=\"#f5cdb1\" stroke=\"black\" points=\"3001,-157 2862,-157 2862,-89 3001,-89 3001,-157\"/>\r\n",
       "<text text-anchor=\"middle\" x=\"2931.5\" y=\"-141.8\" font-family=\"Times New Roman,serif\" font-size=\"14.00\">gender_female &lt;= 0.5</text>\r\n",
       "<text text-anchor=\"middle\" x=\"2931.5\" y=\"-126.8\" font-family=\"Times New Roman,serif\" font-size=\"14.00\">samples = 12565</text>\r\n",
       "<text text-anchor=\"middle\" x=\"2931.5\" y=\"-111.8\" font-family=\"Times New Roman,serif\" font-size=\"14.00\">value = [7823, 4742]</text>\r\n",
       "<text text-anchor=\"middle\" x=\"2931.5\" y=\"-96.8\" font-family=\"Times New Roman,serif\" font-size=\"14.00\">class = 0</text>\r\n",
       "</g>\r\n",
       "<!-- 42&#45;&gt;43 -->\r\n",
       "<g id=\"edge43\" class=\"edge\"><title>42&#45;&gt;43</title>\r\n",
       "<path fill=\"none\" stroke=\"black\" d=\"M2984.85,-192.884C2978.02,-184.065 2970.56,-174.43 2963.44,-165.235\"/>\r\n",
       "<polygon fill=\"black\" stroke=\"black\" points=\"2966.18,-163.062 2957.29,-157.299 2960.65,-167.349 2966.18,-163.062\"/>\r\n",
       "</g>\r\n",
       "<!-- 46 -->\r\n",
       "<g id=\"node47\" class=\"node\"><title>46</title>\r\n",
       "<polygon fill=\"#f0b88f\" stroke=\"black\" points=\"3162,-157 3019,-157 3019,-89 3162,-89 3162,-157\"/>\r\n",
       "<text text-anchor=\"middle\" x=\"3090.5\" y=\"-141.8\" font-family=\"Times New Roman,serif\" font-size=\"14.00\">favourite_times &lt;= 0.5</text>\r\n",
       "<text text-anchor=\"middle\" x=\"3090.5\" y=\"-126.8\" font-family=\"Times New Roman,serif\" font-size=\"14.00\">samples = 6687</text>\r\n",
       "<text text-anchor=\"middle\" x=\"3090.5\" y=\"-111.8\" font-family=\"Times New Roman,serif\" font-size=\"14.00\">value = [4663, 2024]</text>\r\n",
       "<text text-anchor=\"middle\" x=\"3090.5\" y=\"-96.8\" font-family=\"Times New Roman,serif\" font-size=\"14.00\">class = 0</text>\r\n",
       "</g>\r\n",
       "<!-- 42&#45;&gt;46 -->\r\n",
       "<g id=\"edge46\" class=\"edge\"><title>42&#45;&gt;46</title>\r\n",
       "<path fill=\"none\" stroke=\"black\" d=\"M3036.47,-192.884C3043.39,-184.065 3050.95,-174.43 3058.16,-165.235\"/>\r\n",
       "<polygon fill=\"black\" stroke=\"black\" points=\"3060.97,-167.328 3064.38,-157.299 3055.46,-163.008 3060.97,-167.328\"/>\r\n",
       "</g>\r\n",
       "<!-- 44 -->\r\n",
       "<g id=\"node45\" class=\"node\"><title>44</title>\r\n",
       "<polygon fill=\"#b4daf5\" stroke=\"black\" points=\"2852.5,-53 2734.5,-53 2734.5,-0 2852.5,-0 2852.5,-53\"/>\r\n",
       "<text text-anchor=\"middle\" x=\"2793.5\" y=\"-37.8\" font-family=\"Times New Roman,serif\" font-size=\"14.00\">samples = 500</text>\r\n",
       "<text text-anchor=\"middle\" x=\"2793.5\" y=\"-22.8\" font-family=\"Times New Roman,serif\" font-size=\"14.00\">value = [192, 308]</text>\r\n",
       "<text text-anchor=\"middle\" x=\"2793.5\" y=\"-7.8\" font-family=\"Times New Roman,serif\" font-size=\"14.00\">class = 1</text>\r\n",
       "</g>\r\n",
       "<!-- 43&#45;&gt;44 -->\r\n",
       "<g id=\"edge44\" class=\"edge\"><title>43&#45;&gt;44</title>\r\n",
       "<path fill=\"none\" stroke=\"black\" d=\"M2883.23,-88.9485C2869.07,-79.2516 2853.63,-68.6752 2839.61,-59.073\"/>\r\n",
       "<polygon fill=\"black\" stroke=\"black\" points=\"2841.31,-55.999 2831.08,-53.2367 2837.36,-61.7746 2841.31,-55.999\"/>\r\n",
       "</g>\r\n",
       "<!-- 45 -->\r\n",
       "<g id=\"node46\" class=\"node\"><title>45</title>\r\n",
       "<polygon fill=\"#f4caac\" stroke=\"black\" points=\"3002,-53 2871,-53 2871,-0 3002,-0 3002,-53\"/>\r\n",
       "<text text-anchor=\"middle\" x=\"2936.5\" y=\"-37.8\" font-family=\"Times New Roman,serif\" font-size=\"14.00\">samples = 12065</text>\r\n",
       "<text text-anchor=\"middle\" x=\"2936.5\" y=\"-22.8\" font-family=\"Times New Roman,serif\" font-size=\"14.00\">value = [7631, 4434]</text>\r\n",
       "<text text-anchor=\"middle\" x=\"2936.5\" y=\"-7.8\" font-family=\"Times New Roman,serif\" font-size=\"14.00\">class = 0</text>\r\n",
       "</g>\r\n",
       "<!-- 43&#45;&gt;45 -->\r\n",
       "<g id=\"edge45\" class=\"edge\"><title>43&#45;&gt;45</title>\r\n",
       "<path fill=\"none\" stroke=\"black\" d=\"M2933.25,-88.9485C2933.68,-80.7153 2934.15,-71.848 2934.6,-63.4814\"/>\r\n",
       "<polygon fill=\"black\" stroke=\"black\" points=\"2938.1,-63.4077 2935.14,-53.2367 2931.11,-63.0378 2938.1,-63.4077\"/>\r\n",
       "</g>\r\n",
       "<!-- 47 -->\r\n",
       "<g id=\"node48\" class=\"node\"><title>47</title>\r\n",
       "<polygon fill=\"#f1bc96\" stroke=\"black\" points=\"3151,-53 3020,-53 3020,-0 3151,-0 3151,-53\"/>\r\n",
       "<text text-anchor=\"middle\" x=\"3085.5\" y=\"-37.8\" font-family=\"Times New Roman,serif\" font-size=\"14.00\">samples = 6075</text>\r\n",
       "<text text-anchor=\"middle\" x=\"3085.5\" y=\"-22.8\" font-family=\"Times New Roman,serif\" font-size=\"14.00\">value = [4139, 1936]</text>\r\n",
       "<text text-anchor=\"middle\" x=\"3085.5\" y=\"-7.8\" font-family=\"Times New Roman,serif\" font-size=\"14.00\">class = 0</text>\r\n",
       "</g>\r\n",
       "<!-- 46&#45;&gt;47 -->\r\n",
       "<g id=\"edge47\" class=\"edge\"><title>46&#45;&gt;47</title>\r\n",
       "<path fill=\"none\" stroke=\"black\" d=\"M3088.75,-88.9485C3088.32,-80.7153 3087.85,-71.848 3087.4,-63.4814\"/>\r\n",
       "<polygon fill=\"black\" stroke=\"black\" points=\"3090.89,-63.0378 3086.86,-53.2367 3083.9,-63.4077 3090.89,-63.0378\"/>\r\n",
       "</g>\r\n",
       "<!-- 48 -->\r\n",
       "<g id=\"node49\" class=\"node\"><title>48</title>\r\n",
       "<polygon fill=\"#e9965a\" stroke=\"black\" points=\"3280,-53 3169,-53 3169,-0 3280,-0 3280,-53\"/>\r\n",
       "<text text-anchor=\"middle\" x=\"3224.5\" y=\"-37.8\" font-family=\"Times New Roman,serif\" font-size=\"14.00\">samples = 612</text>\r\n",
       "<text text-anchor=\"middle\" x=\"3224.5\" y=\"-22.8\" font-family=\"Times New Roman,serif\" font-size=\"14.00\">value = [524, 88]</text>\r\n",
       "<text text-anchor=\"middle\" x=\"3224.5\" y=\"-7.8\" font-family=\"Times New Roman,serif\" font-size=\"14.00\">class = 0</text>\r\n",
       "</g>\r\n",
       "<!-- 46&#45;&gt;48 -->\r\n",
       "<g id=\"edge48\" class=\"edge\"><title>46&#45;&gt;48</title>\r\n",
       "<path fill=\"none\" stroke=\"black\" d=\"M3137.37,-88.9485C3151.12,-79.2516 3166.11,-68.6752 3179.73,-59.073\"/>\r\n",
       "<polygon fill=\"black\" stroke=\"black\" points=\"3181.85,-61.8603 3188.01,-53.2367 3177.82,-56.1397 3181.85,-61.8603\"/>\r\n",
       "</g>\r\n",
       "<!-- 50 -->\r\n",
       "<g id=\"node51\" class=\"node\"><title>50</title>\r\n",
       "<polygon fill=\"#eca16b\" stroke=\"black\" points=\"3633.5,-261 3481.5,-261 3481.5,-193 3633.5,-193 3633.5,-261\"/>\r\n",
       "<text text-anchor=\"middle\" x=\"3557.5\" y=\"-245.8\" font-family=\"Times New Roman,serif\" font-size=\"14.00\">diff_item_review &lt;= 1.5</text>\r\n",
       "<text text-anchor=\"middle\" x=\"3557.5\" y=\"-230.8\" font-family=\"Times New Roman,serif\" font-size=\"14.00\">samples = 2367</text>\r\n",
       "<text text-anchor=\"middle\" x=\"3557.5\" y=\"-215.8\" font-family=\"Times New Roman,serif\" font-size=\"14.00\">value = [1890, 477]</text>\r\n",
       "<text text-anchor=\"middle\" x=\"3557.5\" y=\"-200.8\" font-family=\"Times New Roman,serif\" font-size=\"14.00\">class = 0</text>\r\n",
       "</g>\r\n",
       "<!-- 49&#45;&gt;50 -->\r\n",
       "<g id=\"edge50\" class=\"edge\"><title>49&#45;&gt;50</title>\r\n",
       "<path fill=\"none\" stroke=\"black\" d=\"M3557.5,-296.884C3557.5,-288.778 3557.5,-279.982 3557.5,-271.472\"/>\r\n",
       "<polygon fill=\"black\" stroke=\"black\" points=\"3561,-271.299 3557.5,-261.299 3554,-271.299 3561,-271.299\"/>\r\n",
       "</g>\r\n",
       "<!-- 57 -->\r\n",
       "<g id=\"node58\" class=\"node\"><title>57</title>\r\n",
       "<polygon fill=\"#e88f4f\" stroke=\"black\" points=\"4009,-261 3866,-261 3866,-193 4009,-193 4009,-261\"/>\r\n",
       "<text text-anchor=\"middle\" x=\"3937.5\" y=\"-245.8\" font-family=\"Times New Roman,serif\" font-size=\"14.00\">favourite_times &lt;= 0.5</text>\r\n",
       "<text text-anchor=\"middle\" x=\"3937.5\" y=\"-230.8\" font-family=\"Times New Roman,serif\" font-size=\"14.00\">samples = 1055</text>\r\n",
       "<text text-anchor=\"middle\" x=\"3937.5\" y=\"-215.8\" font-family=\"Times New Roman,serif\" font-size=\"14.00\">value = [951, 104]</text>\r\n",
       "<text text-anchor=\"middle\" x=\"3937.5\" y=\"-200.8\" font-family=\"Times New Roman,serif\" font-size=\"14.00\">class = 0</text>\r\n",
       "</g>\r\n",
       "<!-- 49&#45;&gt;57 -->\r\n",
       "<g id=\"edge57\" class=\"edge\"><title>49&#45;&gt;57</title>\r\n",
       "<path fill=\"none\" stroke=\"black\" d=\"M3620.25,-313.157C3684.78,-295.836 3785.54,-268.788 3856.15,-249.835\"/>\r\n",
       "<polygon fill=\"black\" stroke=\"black\" points=\"3857.16,-253.189 3865.91,-247.216 3855.34,-246.428 3857.16,-253.189\"/>\r\n",
       "</g>\r\n",
       "<!-- 51 -->\r\n",
       "<g id=\"node52\" class=\"node\"><title>51</title>\r\n",
       "<polygon fill=\"#f1bc96\" stroke=\"black\" points=\"3549,-157 3416,-157 3416,-89 3549,-89 3549,-157\"/>\r\n",
       "<text text-anchor=\"middle\" x=\"3482.5\" y=\"-141.8\" font-family=\"Times New Roman,serif\" font-size=\"14.00\">browse_days &lt;= 2.5</text>\r\n",
       "<text text-anchor=\"middle\" x=\"3482.5\" y=\"-126.8\" font-family=\"Times New Roman,serif\" font-size=\"14.00\">samples = 489</text>\r\n",
       "<text text-anchor=\"middle\" x=\"3482.5\" y=\"-111.8\" font-family=\"Times New Roman,serif\" font-size=\"14.00\">value = [333, 156]</text>\r\n",
       "<text text-anchor=\"middle\" x=\"3482.5\" y=\"-96.8\" font-family=\"Times New Roman,serif\" font-size=\"14.00\">class = 0</text>\r\n",
       "</g>\r\n",
       "<!-- 50&#45;&gt;51 -->\r\n",
       "<g id=\"edge51\" class=\"edge\"><title>50&#45;&gt;51</title>\r\n",
       "<path fill=\"none\" stroke=\"black\" d=\"M3533.15,-192.884C3526.73,-184.154 3519.72,-174.625 3513.02,-165.514\"/>\r\n",
       "<polygon fill=\"black\" stroke=\"black\" points=\"3515.73,-163.283 3506.98,-157.299 3510.09,-167.429 3515.73,-163.283\"/>\r\n",
       "</g>\r\n",
       "<!-- 54 -->\r\n",
       "<g id=\"node55\" class=\"node\"><title>54</title>\r\n",
       "<polygon fill=\"#ea9b62\" stroke=\"black\" points=\"3700,-157 3567,-157 3567,-89 3700,-89 3700,-157\"/>\r\n",
       "<text text-anchor=\"middle\" x=\"3633.5\" y=\"-141.8\" font-family=\"Times New Roman,serif\" font-size=\"14.00\">browse_days &lt;= 2.5</text>\r\n",
       "<text text-anchor=\"middle\" x=\"3633.5\" y=\"-126.8\" font-family=\"Times New Roman,serif\" font-size=\"14.00\">samples = 1878</text>\r\n",
       "<text text-anchor=\"middle\" x=\"3633.5\" y=\"-111.8\" font-family=\"Times New Roman,serif\" font-size=\"14.00\">value = [1557, 321]</text>\r\n",
       "<text text-anchor=\"middle\" x=\"3633.5\" y=\"-96.8\" font-family=\"Times New Roman,serif\" font-size=\"14.00\">class = 0</text>\r\n",
       "</g>\r\n",
       "<!-- 50&#45;&gt;54 -->\r\n",
       "<g id=\"edge54\" class=\"edge\"><title>50&#45;&gt;54</title>\r\n",
       "<path fill=\"none\" stroke=\"black\" d=\"M3582.18,-192.884C3588.68,-184.154 3595.78,-174.625 3602.57,-165.514\"/>\r\n",
       "<polygon fill=\"black\" stroke=\"black\" points=\"3605.52,-167.409 3608.69,-157.299 3599.91,-163.227 3605.52,-167.409\"/>\r\n",
       "</g>\r\n",
       "<!-- 52 -->\r\n",
       "<g id=\"node53\" class=\"node\"><title>52</title>\r\n",
       "<polygon fill=\"#f7d7c1\" stroke=\"black\" points=\"3416.5,-53 3298.5,-53 3298.5,-0 3416.5,-0 3416.5,-53\"/>\r\n",
       "<text text-anchor=\"middle\" x=\"3357.5\" y=\"-37.8\" font-family=\"Times New Roman,serif\" font-size=\"14.00\">samples = 354</text>\r\n",
       "<text text-anchor=\"middle\" x=\"3357.5\" y=\"-22.8\" font-family=\"Times New Roman,serif\" font-size=\"14.00\">value = [210, 144]</text>\r\n",
       "<text text-anchor=\"middle\" x=\"3357.5\" y=\"-7.8\" font-family=\"Times New Roman,serif\" font-size=\"14.00\">class = 0</text>\r\n",
       "</g>\r\n",
       "<!-- 51&#45;&gt;52 -->\r\n",
       "<g id=\"edge52\" class=\"edge\"><title>51&#45;&gt;52</title>\r\n",
       "<path fill=\"none\" stroke=\"black\" d=\"M3438.78,-88.9485C3426.08,-79.3431 3412.23,-68.8747 3399.62,-59.345\"/>\r\n",
       "<polygon fill=\"black\" stroke=\"black\" points=\"3401.63,-56.4754 3391.54,-53.2367 3397.41,-62.0593 3401.63,-56.4754\"/>\r\n",
       "</g>\r\n",
       "<!-- 53 -->\r\n",
       "<g id=\"node54\" class=\"node\"><title>53</title>\r\n",
       "<polygon fill=\"#e88d4c\" stroke=\"black\" points=\"3546,-53 3435,-53 3435,-0 3546,-0 3546,-53\"/>\r\n",
       "<text text-anchor=\"middle\" x=\"3490.5\" y=\"-37.8\" font-family=\"Times New Roman,serif\" font-size=\"14.00\">samples = 135</text>\r\n",
       "<text text-anchor=\"middle\" x=\"3490.5\" y=\"-22.8\" font-family=\"Times New Roman,serif\" font-size=\"14.00\">value = [123, 12]</text>\r\n",
       "<text text-anchor=\"middle\" x=\"3490.5\" y=\"-7.8\" font-family=\"Times New Roman,serif\" font-size=\"14.00\">class = 0</text>\r\n",
       "</g>\r\n",
       "<!-- 51&#45;&gt;53 -->\r\n",
       "<g id=\"edge53\" class=\"edge\"><title>51&#45;&gt;53</title>\r\n",
       "<path fill=\"none\" stroke=\"black\" d=\"M3485.3,-88.9485C3486,-80.6238 3486.76,-71.6509 3487.48,-63.2027\"/>\r\n",
       "<polygon fill=\"black\" stroke=\"black\" points=\"3490.97,-63.4963 3488.32,-53.2367 3483.99,-62.9058 3490.97,-63.4963\"/>\r\n",
       "</g>\r\n",
       "<!-- 55 -->\r\n",
       "<g id=\"node56\" class=\"node\"><title>55</title>\r\n",
       "<polygon fill=\"#eb9f68\" stroke=\"black\" points=\"3689,-53 3564,-53 3564,-0 3689,-0 3689,-53\"/>\r\n",
       "<text text-anchor=\"middle\" x=\"3626.5\" y=\"-37.8\" font-family=\"Times New Roman,serif\" font-size=\"14.00\">samples = 1278</text>\r\n",
       "<text text-anchor=\"middle\" x=\"3626.5\" y=\"-22.8\" font-family=\"Times New Roman,serif\" font-size=\"14.00\">value = [1034, 244]</text>\r\n",
       "<text text-anchor=\"middle\" x=\"3626.5\" y=\"-7.8\" font-family=\"Times New Roman,serif\" font-size=\"14.00\">class = 0</text>\r\n",
       "</g>\r\n",
       "<!-- 54&#45;&gt;55 -->\r\n",
       "<g id=\"edge55\" class=\"edge\"><title>54&#45;&gt;55</title>\r\n",
       "<path fill=\"none\" stroke=\"black\" d=\"M3631.05,-88.9485C3630.44,-80.7153 3629.79,-71.848 3629.17,-63.4814\"/>\r\n",
       "<polygon fill=\"black\" stroke=\"black\" points=\"3632.64,-62.9508 3628.41,-53.2367 3625.65,-63.468 3632.64,-62.9508\"/>\r\n",
       "</g>\r\n",
       "<!-- 56 -->\r\n",
       "<g id=\"node57\" class=\"node\"><title>56</title>\r\n",
       "<polygon fill=\"#e99456\" stroke=\"black\" points=\"3818,-53 3707,-53 3707,-0 3818,-0 3818,-53\"/>\r\n",
       "<text text-anchor=\"middle\" x=\"3762.5\" y=\"-37.8\" font-family=\"Times New Roman,serif\" font-size=\"14.00\">samples = 600</text>\r\n",
       "<text text-anchor=\"middle\" x=\"3762.5\" y=\"-22.8\" font-family=\"Times New Roman,serif\" font-size=\"14.00\">value = [523, 77]</text>\r\n",
       "<text text-anchor=\"middle\" x=\"3762.5\" y=\"-7.8\" font-family=\"Times New Roman,serif\" font-size=\"14.00\">class = 0</text>\r\n",
       "</g>\r\n",
       "<!-- 54&#45;&gt;56 -->\r\n",
       "<g id=\"edge56\" class=\"edge\"><title>54&#45;&gt;56</title>\r\n",
       "<path fill=\"none\" stroke=\"black\" d=\"M3678.62,-88.9485C3691.73,-79.3431 3706.02,-68.8747 3719.03,-59.345\"/>\r\n",
       "<polygon fill=\"black\" stroke=\"black\" points=\"3721.37,-61.9698 3727.37,-53.2367 3717.23,-56.3228 3721.37,-61.9698\"/>\r\n",
       "</g>\r\n",
       "<!-- 58 -->\r\n",
       "<g id=\"node59\" class=\"node\"><title>58</title>\r\n",
       "<polygon fill=\"#e9975b\" stroke=\"black\" points=\"4004,-157 3871,-157 3871,-89 4004,-89 4004,-157\"/>\r\n",
       "<text text-anchor=\"middle\" x=\"3937.5\" y=\"-141.8\" font-family=\"Times New Roman,serif\" font-size=\"14.00\">browse_days &lt;= 4.5</text>\r\n",
       "<text text-anchor=\"middle\" x=\"3937.5\" y=\"-126.8\" font-family=\"Times New Roman,serif\" font-size=\"14.00\">samples = 571</text>\r\n",
       "<text text-anchor=\"middle\" x=\"3937.5\" y=\"-111.8\" font-family=\"Times New Roman,serif\" font-size=\"14.00\">value = [487, 84]</text>\r\n",
       "<text text-anchor=\"middle\" x=\"3937.5\" y=\"-96.8\" font-family=\"Times New Roman,serif\" font-size=\"14.00\">class = 0</text>\r\n",
       "</g>\r\n",
       "<!-- 57&#45;&gt;58 -->\r\n",
       "<g id=\"edge58\" class=\"edge\"><title>57&#45;&gt;58</title>\r\n",
       "<path fill=\"none\" stroke=\"black\" d=\"M3937.5,-192.884C3937.5,-184.778 3937.5,-175.982 3937.5,-167.472\"/>\r\n",
       "<polygon fill=\"black\" stroke=\"black\" points=\"3941,-167.299 3937.5,-157.299 3934,-167.299 3941,-167.299\"/>\r\n",
       "</g>\r\n",
       "<!-- 61 -->\r\n",
       "<g id=\"node62\" class=\"node\"><title>61</title>\r\n",
       "<polygon fill=\"#e68642\" stroke=\"black\" points=\"4212,-157 4067,-157 4067,-89 4212,-89 4212,-157\"/>\r\n",
       "<text text-anchor=\"middle\" x=\"4139.5\" y=\"-141.8\" font-family=\"Times New Roman,serif\" font-size=\"14.00\">diff_cat_review &lt;= 2.5</text>\r\n",
       "<text text-anchor=\"middle\" x=\"4139.5\" y=\"-126.8\" font-family=\"Times New Roman,serif\" font-size=\"14.00\">samples = 484</text>\r\n",
       "<text text-anchor=\"middle\" x=\"4139.5\" y=\"-111.8\" font-family=\"Times New Roman,serif\" font-size=\"14.00\">value = [464, 20]</text>\r\n",
       "<text text-anchor=\"middle\" x=\"4139.5\" y=\"-96.8\" font-family=\"Times New Roman,serif\" font-size=\"14.00\">class = 0</text>\r\n",
       "</g>\r\n",
       "<!-- 57&#45;&gt;61 -->\r\n",
       "<g id=\"edge61\" class=\"edge\"><title>57&#45;&gt;61</title>\r\n",
       "<path fill=\"none\" stroke=\"black\" d=\"M4003.08,-192.884C4022.76,-182.946 4044.5,-171.971 4064.73,-161.757\"/>\r\n",
       "<polygon fill=\"black\" stroke=\"black\" points=\"4066.55,-164.757 4073.9,-157.125 4063.4,-158.508 4066.55,-164.757\"/>\r\n",
       "</g>\r\n",
       "<!-- 59 -->\r\n",
       "<g id=\"node60\" class=\"node\"><title>59</title>\r\n",
       "<polygon fill=\"#e89152\" stroke=\"black\" points=\"3947,-53 3836,-53 3836,-0 3947,-0 3947,-53\"/>\r\n",
       "<text text-anchor=\"middle\" x=\"3891.5\" y=\"-37.8\" font-family=\"Times New Roman,serif\" font-size=\"14.00\">samples = 507</text>\r\n",
       "<text text-anchor=\"middle\" x=\"3891.5\" y=\"-22.8\" font-family=\"Times New Roman,serif\" font-size=\"14.00\">value = [450, 57]</text>\r\n",
       "<text text-anchor=\"middle\" x=\"3891.5\" y=\"-7.8\" font-family=\"Times New Roman,serif\" font-size=\"14.00\">class = 0</text>\r\n",
       "</g>\r\n",
       "<!-- 58&#45;&gt;59 -->\r\n",
       "<g id=\"edge59\" class=\"edge\"><title>58&#45;&gt;59</title>\r\n",
       "<path fill=\"none\" stroke=\"black\" d=\"M3921.41,-88.9485C3917.23,-80.3494 3912.7,-71.0586 3908.47,-62.3689\"/>\r\n",
       "<polygon fill=\"black\" stroke=\"black\" points=\"3911.55,-60.6962 3904.03,-53.2367 3905.26,-63.7599 3911.55,-60.6962\"/>\r\n",
       "</g>\r\n",
       "<!-- 60 -->\r\n",
       "<g id=\"node61\" class=\"node\"><title>60</title>\r\n",
       "<polygon fill=\"#f8ddc9\" stroke=\"black\" points=\"4069.5,-53 3965.5,-53 3965.5,-0 4069.5,-0 4069.5,-53\"/>\r\n",
       "<text text-anchor=\"middle\" x=\"4017.5\" y=\"-37.8\" font-family=\"Times New Roman,serif\" font-size=\"14.00\">samples = 64</text>\r\n",
       "<text text-anchor=\"middle\" x=\"4017.5\" y=\"-22.8\" font-family=\"Times New Roman,serif\" font-size=\"14.00\">value = [37, 27]</text>\r\n",
       "<text text-anchor=\"middle\" x=\"4017.5\" y=\"-7.8\" font-family=\"Times New Roman,serif\" font-size=\"14.00\">class = 0</text>\r\n",
       "</g>\r\n",
       "<!-- 58&#45;&gt;60 -->\r\n",
       "<g id=\"edge60\" class=\"edge\"><title>58&#45;&gt;60</title>\r\n",
       "<path fill=\"none\" stroke=\"black\" d=\"M3965.48,-88.9485C3973.15,-79.892 3981.46,-70.0682 3989.15,-60.9875\"/>\r\n",
       "<polygon fill=\"black\" stroke=\"black\" points=\"3991.92,-63.1305 3995.71,-53.2367 3986.58,-58.6076 3991.92,-63.1305\"/>\r\n",
       "</g>\r\n",
       "<!-- 62 -->\r\n",
       "<g id=\"node63\" class=\"node\"><title>62</title>\r\n",
       "<polygon fill=\"#e6843d\" stroke=\"black\" points=\"4191.5,-53 4087.5,-53 4087.5,-0 4191.5,-0 4191.5,-53\"/>\r\n",
       "<text text-anchor=\"middle\" x=\"4139.5\" y=\"-37.8\" font-family=\"Times New Roman,serif\" font-size=\"14.00\">samples = 382</text>\r\n",
       "<text text-anchor=\"middle\" x=\"4139.5\" y=\"-22.8\" font-family=\"Times New Roman,serif\" font-size=\"14.00\">value = [374, 8]</text>\r\n",
       "<text text-anchor=\"middle\" x=\"4139.5\" y=\"-7.8\" font-family=\"Times New Roman,serif\" font-size=\"14.00\">class = 0</text>\r\n",
       "</g>\r\n",
       "<!-- 61&#45;&gt;62 -->\r\n",
       "<g id=\"edge62\" class=\"edge\"><title>61&#45;&gt;62</title>\r\n",
       "<path fill=\"none\" stroke=\"black\" d=\"M4139.5,-88.9485C4139.5,-80.7153 4139.5,-71.848 4139.5,-63.4814\"/>\r\n",
       "<polygon fill=\"black\" stroke=\"black\" points=\"4143,-63.2367 4139.5,-53.2367 4136,-63.2367 4143,-63.2367\"/>\r\n",
       "</g>\r\n",
       "<!-- 63 -->\r\n",
       "<g id=\"node64\" class=\"node\"><title>63</title>\r\n",
       "<polygon fill=\"#e89253\" stroke=\"black\" points=\"4313.5,-53 4209.5,-53 4209.5,-0 4313.5,-0 4313.5,-53\"/>\r\n",
       "<text text-anchor=\"middle\" x=\"4261.5\" y=\"-37.8\" font-family=\"Times New Roman,serif\" font-size=\"14.00\">samples = 102</text>\r\n",
       "<text text-anchor=\"middle\" x=\"4261.5\" y=\"-22.8\" font-family=\"Times New Roman,serif\" font-size=\"14.00\">value = [90, 12]</text>\r\n",
       "<text text-anchor=\"middle\" x=\"4261.5\" y=\"-7.8\" font-family=\"Times New Roman,serif\" font-size=\"14.00\">class = 0</text>\r\n",
       "</g>\r\n",
       "<!-- 61&#45;&gt;63 -->\r\n",
       "<g id=\"edge63\" class=\"edge\"><title>61&#45;&gt;63</title>\r\n",
       "<path fill=\"none\" stroke=\"black\" d=\"M4182.17,-88.9485C4194.45,-79.4346 4207.83,-69.074 4220.04,-59.6175\"/>\r\n",
       "<polygon fill=\"black\" stroke=\"black\" points=\"4222.51,-62.1274 4228.27,-53.2367 4218.22,-56.5934 4222.51,-62.1274\"/>\r\n",
       "</g>\r\n",
       "<!-- 65 -->\r\n",
       "<g id=\"node66\" class=\"node\"><title>65</title>\r\n",
       "<polygon fill=\"#9dcef2\" stroke=\"black\" points=\"5048,-469 4903,-469 4903,-401 5048,-401 5048,-469\"/>\r\n",
       "<text text-anchor=\"middle\" x=\"4975.5\" y=\"-453.8\" font-family=\"Times New Roman,serif\" font-size=\"14.00\">gender_female &lt;= 0.5</text>\r\n",
       "<text text-anchor=\"middle\" x=\"4975.5\" y=\"-438.8\" font-family=\"Times New Roman,serif\" font-size=\"14.00\">samples = 81852</text>\r\n",
       "<text text-anchor=\"middle\" x=\"4975.5\" y=\"-423.8\" font-family=\"Times New Roman,serif\" font-size=\"14.00\">value = [27416, 54436]</text>\r\n",
       "<text text-anchor=\"middle\" x=\"4975.5\" y=\"-408.8\" font-family=\"Times New Roman,serif\" font-size=\"14.00\">class = 1</text>\r\n",
       "</g>\r\n",
       "<!-- 64&#45;&gt;65 -->\r\n",
       "<g id=\"edge65\" class=\"edge\"><title>64&#45;&gt;65</title>\r\n",
       "<path fill=\"none\" stroke=\"black\" d=\"M4975.5,-504.884C4975.5,-496.778 4975.5,-487.982 4975.5,-479.472\"/>\r\n",
       "<polygon fill=\"black\" stroke=\"black\" points=\"4979,-479.299 4975.5,-469.299 4972,-479.299 4979,-479.299\"/>\r\n",
       "</g>\r\n",
       "<!-- 90 -->\r\n",
       "<g id=\"node91\" class=\"node\"><title>90</title>\r\n",
       "<polygon fill=\"#f5cfb3\" stroke=\"black\" points=\"6655,-469 6482,-469 6482,-401 6655,-401 6655,-469\"/>\r\n",
       "<text text-anchor=\"middle\" x=\"6568.5\" y=\"-453.8\" font-family=\"Times New Roman,serif\" font-size=\"14.00\">age_range_unknown &lt;= 0.5</text>\r\n",
       "<text text-anchor=\"middle\" x=\"6568.5\" y=\"-438.8\" font-family=\"Times New Roman,serif\" font-size=\"14.00\">samples = 13006</text>\r\n",
       "<text text-anchor=\"middle\" x=\"6568.5\" y=\"-423.8\" font-family=\"Times New Roman,serif\" font-size=\"14.00\">value = [8037, 4969]</text>\r\n",
       "<text text-anchor=\"middle\" x=\"6568.5\" y=\"-408.8\" font-family=\"Times New Roman,serif\" font-size=\"14.00\">class = 0</text>\r\n",
       "</g>\r\n",
       "<!-- 64&#45;&gt;90 -->\r\n",
       "<g id=\"edge90\" class=\"edge\"><title>64&#45;&gt;90</title>\r\n",
       "<path fill=\"none\" stroke=\"black\" d=\"M5048.09,-533.352C5306,-516.838 6178.36,-460.981 6471.5,-442.211\"/>\r\n",
       "<polygon fill=\"black\" stroke=\"black\" points=\"6471.92,-445.691 6481.68,-441.559 6471.48,-438.705 6471.92,-445.691\"/>\r\n",
       "</g>\r\n",
       "<!-- 66 -->\r\n",
       "<g id=\"node67\" class=\"node\"><title>66</title>\r\n",
       "<polygon fill=\"#4ca6e8\" stroke=\"black\" points=\"4806.5,-365 4652.5,-365 4652.5,-297 4806.5,-297 4806.5,-365\"/>\r\n",
       "<text text-anchor=\"middle\" x=\"4729.5\" y=\"-349.8\" font-family=\"Times New Roman,serif\" font-size=\"14.00\">gender_unknown &lt;= 0.5</text>\r\n",
       "<text text-anchor=\"middle\" x=\"4729.5\" y=\"-334.8\" font-family=\"Times New Roman,serif\" font-size=\"14.00\">samples = 16534</text>\r\n",
       "<text text-anchor=\"middle\" x=\"4729.5\" y=\"-319.8\" font-family=\"Times New Roman,serif\" font-size=\"14.00\">value = [1454, 15080]</text>\r\n",
       "<text text-anchor=\"middle\" x=\"4729.5\" y=\"-304.8\" font-family=\"Times New Roman,serif\" font-size=\"14.00\">class = 1</text>\r\n",
       "</g>\r\n",
       "<!-- 65&#45;&gt;66 -->\r\n",
       "<g id=\"edge66\" class=\"edge\"><title>65&#45;&gt;66</title>\r\n",
       "<path fill=\"none\" stroke=\"black\" d=\"M4902.69,-403.811C4875.58,-392.569 4844.54,-379.699 4816.29,-367.988\"/>\r\n",
       "<polygon fill=\"black\" stroke=\"black\" points=\"4817.41,-364.662 4806.83,-364.065 4814.73,-371.128 4817.41,-364.662\"/>\r\n",
       "</g>\r\n",
       "<!-- 75 -->\r\n",
       "<g id=\"node76\" class=\"node\"><title>75</title>\r\n",
       "<polygon fill=\"#bcdef6\" stroke=\"black\" points=\"5229,-365 5076,-365 5076,-297 5229,-297 5229,-365\"/>\r\n",
       "<text text-anchor=\"middle\" x=\"5152.5\" y=\"-349.8\" font-family=\"Times New Roman,serif\" font-size=\"14.00\">age_range_25&#45;29 &lt;= 0.5</text>\r\n",
       "<text text-anchor=\"middle\" x=\"5152.5\" y=\"-334.8\" font-family=\"Times New Roman,serif\" font-size=\"14.00\">samples = 65318</text>\r\n",
       "<text text-anchor=\"middle\" x=\"5152.5\" y=\"-319.8\" font-family=\"Times New Roman,serif\" font-size=\"14.00\">value = [25962, 39356]</text>\r\n",
       "<text text-anchor=\"middle\" x=\"5152.5\" y=\"-304.8\" font-family=\"Times New Roman,serif\" font-size=\"14.00\">class = 1</text>\r\n",
       "</g>\r\n",
       "<!-- 65&#45;&gt;75 -->\r\n",
       "<g id=\"edge75\" class=\"edge\"><title>65&#45;&gt;75</title>\r\n",
       "<path fill=\"none\" stroke=\"black\" d=\"M5032.97,-400.884C5049.9,-391.125 5068.57,-380.366 5086.02,-370.31\"/>\r\n",
       "<polygon fill=\"black\" stroke=\"black\" points=\"5088.1,-373.15 5095.02,-365.125 5084.61,-367.085 5088.1,-373.15\"/>\r\n",
       "</g>\r\n",
       "<!-- 67 -->\r\n",
       "<g id=\"node68\" class=\"node\"><title>67</title>\r\n",
       "<polygon fill=\"#399de5\" stroke=\"black\" points=\"4624.5,-253.5 4506.5,-253.5 4506.5,-200.5 4624.5,-200.5 4624.5,-253.5\"/>\r\n",
       "<text text-anchor=\"middle\" x=\"4565.5\" y=\"-238.3\" font-family=\"Times New Roman,serif\" font-size=\"14.00\">samples = 14712</text>\r\n",
       "<text text-anchor=\"middle\" x=\"4565.5\" y=\"-223.3\" font-family=\"Times New Roman,serif\" font-size=\"14.00\">value = [0, 14712]</text>\r\n",
       "<text text-anchor=\"middle\" x=\"4565.5\" y=\"-208.3\" font-family=\"Times New Roman,serif\" font-size=\"14.00\">class = 1</text>\r\n",
       "</g>\r\n",
       "<!-- 66&#45;&gt;67 -->\r\n",
       "<g id=\"edge67\" class=\"edge\"><title>66&#45;&gt;67</title>\r\n",
       "<path fill=\"none\" stroke=\"black\" d=\"M4676.25,-296.884C4656.63,-284.676 4634.48,-270.903 4615.18,-258.899\"/>\r\n",
       "<polygon fill=\"black\" stroke=\"black\" points=\"4616.87,-255.829 4606.53,-253.52 4613.18,-261.773 4616.87,-255.829\"/>\r\n",
       "</g>\r\n",
       "<!-- 68 -->\r\n",
       "<g id=\"node69\" class=\"node\"><title>68</title>\r\n",
       "<polygon fill=\"#eca16b\" stroke=\"black\" points=\"4816,-261 4643,-261 4643,-193 4816,-193 4816,-261\"/>\r\n",
       "<text text-anchor=\"middle\" x=\"4729.5\" y=\"-245.8\" font-family=\"Times New Roman,serif\" font-size=\"14.00\">age_range_unknown &lt;= 0.5</text>\r\n",
       "<text text-anchor=\"middle\" x=\"4729.5\" y=\"-230.8\" font-family=\"Times New Roman,serif\" font-size=\"14.00\">samples = 1822</text>\r\n",
       "<text text-anchor=\"middle\" x=\"4729.5\" y=\"-215.8\" font-family=\"Times New Roman,serif\" font-size=\"14.00\">value = [1454, 368]</text>\r\n",
       "<text text-anchor=\"middle\" x=\"4729.5\" y=\"-200.8\" font-family=\"Times New Roman,serif\" font-size=\"14.00\">class = 0</text>\r\n",
       "</g>\r\n",
       "<!-- 66&#45;&gt;68 -->\r\n",
       "<g id=\"edge68\" class=\"edge\"><title>66&#45;&gt;68</title>\r\n",
       "<path fill=\"none\" stroke=\"black\" d=\"M4729.5,-296.884C4729.5,-288.778 4729.5,-279.982 4729.5,-271.472\"/>\r\n",
       "<polygon fill=\"black\" stroke=\"black\" points=\"4733,-271.299 4729.5,-261.299 4726,-271.299 4733,-271.299\"/>\r\n",
       "</g>\r\n",
       "<!-- 69 -->\r\n",
       "<g id=\"node70\" class=\"node\"><title>69</title>\r\n",
       "<polygon fill=\"#eda775\" stroke=\"black\" points=\"4589,-157 4464,-157 4464,-89 4589,-89 4589,-157\"/>\r\n",
       "<text text-anchor=\"middle\" x=\"4526.5\" y=\"-141.8\" font-family=\"Times New Roman,serif\" font-size=\"14.00\">one_clicks &lt;= 13.5</text>\r\n",
       "<text text-anchor=\"middle\" x=\"4526.5\" y=\"-126.8\" font-family=\"Times New Roman,serif\" font-size=\"14.00\">samples = 1423</text>\r\n",
       "<text text-anchor=\"middle\" x=\"4526.5\" y=\"-111.8\" font-family=\"Times New Roman,serif\" font-size=\"14.00\">value = [1094, 329]</text>\r\n",
       "<text text-anchor=\"middle\" x=\"4526.5\" y=\"-96.8\" font-family=\"Times New Roman,serif\" font-size=\"14.00\">class = 0</text>\r\n",
       "</g>\r\n",
       "<!-- 68&#45;&gt;69 -->\r\n",
       "<g id=\"edge69\" class=\"edge\"><title>68&#45;&gt;69</title>\r\n",
       "<path fill=\"none\" stroke=\"black\" d=\"M4663.59,-192.884C4642.72,-182.398 4619.56,-170.758 4598.3,-160.076\"/>\r\n",
       "<polygon fill=\"black\" stroke=\"black\" points=\"4599.82,-156.925 4589.32,-155.563 4596.68,-163.18 4599.82,-156.925\"/>\r\n",
       "</g>\r\n",
       "<!-- 72 -->\r\n",
       "<g id=\"node73\" class=\"node\"><title>72</title>\r\n",
       "<polygon fill=\"#e88f4e\" stroke=\"black\" points=\"4796,-157 4663,-157 4663,-89 4796,-89 4796,-157\"/>\r\n",
       "<text text-anchor=\"middle\" x=\"4729.5\" y=\"-141.8\" font-family=\"Times New Roman,serif\" font-size=\"14.00\">browse_days &lt;= 3.5</text>\r\n",
       "<text text-anchor=\"middle\" x=\"4729.5\" y=\"-126.8\" font-family=\"Times New Roman,serif\" font-size=\"14.00\">samples = 399</text>\r\n",
       "<text text-anchor=\"middle\" x=\"4729.5\" y=\"-111.8\" font-family=\"Times New Roman,serif\" font-size=\"14.00\">value = [360, 39]</text>\r\n",
       "<text text-anchor=\"middle\" x=\"4729.5\" y=\"-96.8\" font-family=\"Times New Roman,serif\" font-size=\"14.00\">class = 0</text>\r\n",
       "</g>\r\n",
       "<!-- 68&#45;&gt;72 -->\r\n",
       "<g id=\"edge72\" class=\"edge\"><title>68&#45;&gt;72</title>\r\n",
       "<path fill=\"none\" stroke=\"black\" d=\"M4729.5,-192.884C4729.5,-184.778 4729.5,-175.982 4729.5,-167.472\"/>\r\n",
       "<polygon fill=\"black\" stroke=\"black\" points=\"4733,-167.299 4729.5,-157.299 4726,-167.299 4733,-167.299\"/>\r\n",
       "</g>\r\n",
       "<!-- 70 -->\r\n",
       "<g id=\"node71\" class=\"node\"><title>70</title>\r\n",
       "<polygon fill=\"#f1bc95\" stroke=\"black\" points=\"4449.5,-53 4331.5,-53 4331.5,-0 4449.5,-0 4449.5,-53\"/>\r\n",
       "<text text-anchor=\"middle\" x=\"4390.5\" y=\"-37.8\" font-family=\"Times New Roman,serif\" font-size=\"14.00\">samples = 492</text>\r\n",
       "<text text-anchor=\"middle\" x=\"4390.5\" y=\"-22.8\" font-family=\"Times New Roman,serif\" font-size=\"14.00\">value = [336, 156]</text>\r\n",
       "<text text-anchor=\"middle\" x=\"4390.5\" y=\"-7.8\" font-family=\"Times New Roman,serif\" font-size=\"14.00\">class = 0</text>\r\n",
       "</g>\r\n",
       "<!-- 69&#45;&gt;70 -->\r\n",
       "<g id=\"edge70\" class=\"edge\"><title>69&#45;&gt;70</title>\r\n",
       "<path fill=\"none\" stroke=\"black\" d=\"M4478.93,-88.9485C4464.98,-79.2516 4449.76,-68.6752 4435.94,-59.073\"/>\r\n",
       "<polygon fill=\"black\" stroke=\"black\" points=\"4437.75,-56.0687 4427.54,-53.2367 4433.75,-61.8172 4437.75,-56.0687\"/>\r\n",
       "</g>\r\n",
       "<!-- 71 -->\r\n",
       "<g id=\"node72\" class=\"node\"><title>71</title>\r\n",
       "<polygon fill=\"#eb9e66\" stroke=\"black\" points=\"4585.5,-53 4467.5,-53 4467.5,-0 4585.5,-0 4585.5,-53\"/>\r\n",
       "<text text-anchor=\"middle\" x=\"4526.5\" y=\"-37.8\" font-family=\"Times New Roman,serif\" font-size=\"14.00\">samples = 931</text>\r\n",
       "<text text-anchor=\"middle\" x=\"4526.5\" y=\"-22.8\" font-family=\"Times New Roman,serif\" font-size=\"14.00\">value = [758, 173]</text>\r\n",
       "<text text-anchor=\"middle\" x=\"4526.5\" y=\"-7.8\" font-family=\"Times New Roman,serif\" font-size=\"14.00\">class = 0</text>\r\n",
       "</g>\r\n",
       "<!-- 69&#45;&gt;71 -->\r\n",
       "<g id=\"edge71\" class=\"edge\"><title>69&#45;&gt;71</title>\r\n",
       "<path fill=\"none\" stroke=\"black\" d=\"M4526.5,-88.9485C4526.5,-80.7153 4526.5,-71.848 4526.5,-63.4814\"/>\r\n",
       "<polygon fill=\"black\" stroke=\"black\" points=\"4530,-63.2367 4526.5,-53.2367 4523,-63.2367 4530,-63.2367\"/>\r\n",
       "</g>\r\n",
       "<!-- 73 -->\r\n",
       "<g id=\"node74\" class=\"node\"><title>73</title>\r\n",
       "<polygon fill=\"#e78845\" stroke=\"black\" points=\"4715,-53 4604,-53 4604,-0 4715,-0 4715,-53\"/>\r\n",
       "<text text-anchor=\"middle\" x=\"4659.5\" y=\"-37.8\" font-family=\"Times New Roman,serif\" font-size=\"14.00\">samples = 309</text>\r\n",
       "<text text-anchor=\"middle\" x=\"4659.5\" y=\"-22.8\" font-family=\"Times New Roman,serif\" font-size=\"14.00\">value = [292, 17]</text>\r\n",
       "<text text-anchor=\"middle\" x=\"4659.5\" y=\"-7.8\" font-family=\"Times New Roman,serif\" font-size=\"14.00\">class = 0</text>\r\n",
       "</g>\r\n",
       "<!-- 72&#45;&gt;73 -->\r\n",
       "<g id=\"edge73\" class=\"edge\"><title>72&#45;&gt;73</title>\r\n",
       "<path fill=\"none\" stroke=\"black\" d=\"M4705.02,-88.9485C4698.44,-80.0749 4691.33,-70.4648 4684.71,-61.5388\"/>\r\n",
       "<polygon fill=\"black\" stroke=\"black\" points=\"4687.33,-59.189 4678.56,-53.2367 4681.7,-63.3556 4687.33,-59.189\"/>\r\n",
       "</g>\r\n",
       "<!-- 74 -->\r\n",
       "<g id=\"node75\" class=\"node\"><title>74</title>\r\n",
       "<polygon fill=\"#edaa79\" stroke=\"black\" points=\"4837.5,-53 4733.5,-53 4733.5,-0 4837.5,-0 4837.5,-53\"/>\r\n",
       "<text text-anchor=\"middle\" x=\"4785.5\" y=\"-37.8\" font-family=\"Times New Roman,serif\" font-size=\"14.00\">samples = 90</text>\r\n",
       "<text text-anchor=\"middle\" x=\"4785.5\" y=\"-22.8\" font-family=\"Times New Roman,serif\" font-size=\"14.00\">value = [68, 22]</text>\r\n",
       "<text text-anchor=\"middle\" x=\"4785.5\" y=\"-7.8\" font-family=\"Times New Roman,serif\" font-size=\"14.00\">class = 0</text>\r\n",
       "</g>\r\n",
       "<!-- 72&#45;&gt;74 -->\r\n",
       "<g id=\"edge74\" class=\"edge\"><title>72&#45;&gt;74</title>\r\n",
       "<path fill=\"none\" stroke=\"black\" d=\"M4749.09,-88.9485C4754.24,-80.2579 4759.8,-70.8608 4765,-62.0917\"/>\r\n",
       "<polygon fill=\"black\" stroke=\"black\" points=\"4768.16,-63.624 4770.25,-53.2367 4762.14,-60.0553 4768.16,-63.624\"/>\r\n",
       "</g>\r\n",
       "<!-- 76 -->\r\n",
       "<g id=\"node77\" class=\"node\"><title>76</title>\r\n",
       "<polygon fill=\"#a4d2f3\" stroke=\"black\" points=\"5229,-261 5076,-261 5076,-193 5229,-193 5229,-261\"/>\r\n",
       "<text text-anchor=\"middle\" x=\"5152.5\" y=\"-245.8\" font-family=\"Times New Roman,serif\" font-size=\"14.00\">age_range_30&#45;34 &lt;= 0.5</text>\r\n",
       "<text text-anchor=\"middle\" x=\"5152.5\" y=\"-230.8\" font-family=\"Times New Roman,serif\" font-size=\"14.00\">samples = 53575</text>\r\n",
       "<text text-anchor=\"middle\" x=\"5152.5\" y=\"-215.8\" font-family=\"Times New Roman,serif\" font-size=\"14.00\">value = [18803, 34772]</text>\r\n",
       "<text text-anchor=\"middle\" x=\"5152.5\" y=\"-200.8\" font-family=\"Times New Roman,serif\" font-size=\"14.00\">class = 1</text>\r\n",
       "</g>\r\n",
       "<!-- 75&#45;&gt;76 -->\r\n",
       "<g id=\"edge76\" class=\"edge\"><title>75&#45;&gt;76</title>\r\n",
       "<path fill=\"none\" stroke=\"black\" d=\"M5152.5,-296.884C5152.5,-288.778 5152.5,-279.982 5152.5,-271.472\"/>\r\n",
       "<polygon fill=\"black\" stroke=\"black\" points=\"5156,-271.299 5152.5,-261.299 5149,-271.299 5156,-271.299\"/>\r\n",
       "</g>\r\n",
       "<!-- 83 -->\r\n",
       "<g id=\"node84\" class=\"node\"><title>83</title>\r\n",
       "<polygon fill=\"#f6d2b8\" stroke=\"black\" points=\"5643,-261 5512,-261 5512,-193 5643,-193 5643,-261\"/>\r\n",
       "<text text-anchor=\"middle\" x=\"5577.5\" y=\"-245.8\" font-family=\"Times New Roman,serif\" font-size=\"14.00\">one_clicks &lt;= 13.5</text>\r\n",
       "<text text-anchor=\"middle\" x=\"5577.5\" y=\"-230.8\" font-family=\"Times New Roman,serif\" font-size=\"14.00\">samples = 11743</text>\r\n",
       "<text text-anchor=\"middle\" x=\"5577.5\" y=\"-215.8\" font-family=\"Times New Roman,serif\" font-size=\"14.00\">value = [7159, 4584]</text>\r\n",
       "<text text-anchor=\"middle\" x=\"5577.5\" y=\"-200.8\" font-family=\"Times New Roman,serif\" font-size=\"14.00\">class = 0</text>\r\n",
       "</g>\r\n",
       "<!-- 75&#45;&gt;83 -->\r\n",
       "<g id=\"edge83\" class=\"edge\"><title>75&#45;&gt;83</title>\r\n",
       "<path fill=\"none\" stroke=\"black\" d=\"M5229.46,-311.529C5306.73,-292.985 5425.02,-264.596 5501.82,-246.163\"/>\r\n",
       "<polygon fill=\"black\" stroke=\"black\" points=\"5503,-249.479 5511.91,-243.742 5501.37,-242.673 5503,-249.479\"/>\r\n",
       "</g>\r\n",
       "<!-- 77 -->\r\n",
       "<g id=\"node78\" class=\"node\"><title>77</title>\r\n",
       "<polygon fill=\"#8ec7f0\" stroke=\"black\" points=\"5151,-157 4978,-157 4978,-89 5151,-89 5151,-157\"/>\r\n",
       "<text text-anchor=\"middle\" x=\"5064.5\" y=\"-141.8\" font-family=\"Times New Roman,serif\" font-size=\"14.00\">age_range_unknown &lt;= 0.5</text>\r\n",
       "<text text-anchor=\"middle\" x=\"5064.5\" y=\"-126.8\" font-family=\"Times New Roman,serif\" font-size=\"14.00\">samples = 45082</text>\r\n",
       "<text text-anchor=\"middle\" x=\"5064.5\" y=\"-111.8\" font-family=\"Times New Roman,serif\" font-size=\"14.00\">value = [13496, 31586]</text>\r\n",
       "<text text-anchor=\"middle\" x=\"5064.5\" y=\"-96.8\" font-family=\"Times New Roman,serif\" font-size=\"14.00\">class = 1</text>\r\n",
       "</g>\r\n",
       "<!-- 76&#45;&gt;77 -->\r\n",
       "<g id=\"edge77\" class=\"edge\"><title>76&#45;&gt;77</title>\r\n",
       "<path fill=\"none\" stroke=\"black\" d=\"M5123.93,-192.884C5116.24,-183.976 5107.84,-174.235 5099.84,-164.957\"/>\r\n",
       "<polygon fill=\"black\" stroke=\"black\" points=\"5102.41,-162.585 5093.23,-157.299 5097.11,-167.157 5102.41,-162.585\"/>\r\n",
       "</g>\r\n",
       "<!-- 80 -->\r\n",
       "<g id=\"node81\" class=\"node\"><title>80</title>\r\n",
       "<polygon fill=\"#f5cdb0\" stroke=\"black\" points=\"5312,-157 5169,-157 5169,-89 5312,-89 5312,-157\"/>\r\n",
       "<text text-anchor=\"middle\" x=\"5240.5\" y=\"-141.8\" font-family=\"Times New Roman,serif\" font-size=\"14.00\">favourite_times &lt;= 0.5</text>\r\n",
       "<text text-anchor=\"middle\" x=\"5240.5\" y=\"-126.8\" font-family=\"Times New Roman,serif\" font-size=\"14.00\">samples = 8493</text>\r\n",
       "<text text-anchor=\"middle\" x=\"5240.5\" y=\"-111.8\" font-family=\"Times New Roman,serif\" font-size=\"14.00\">value = [5307, 3186]</text>\r\n",
       "<text text-anchor=\"middle\" x=\"5240.5\" y=\"-96.8\" font-family=\"Times New Roman,serif\" font-size=\"14.00\">class = 0</text>\r\n",
       "</g>\r\n",
       "<!-- 76&#45;&gt;80 -->\r\n",
       "<g id=\"edge80\" class=\"edge\"><title>76&#45;&gt;80</title>\r\n",
       "<path fill=\"none\" stroke=\"black\" d=\"M5181.07,-192.884C5188.76,-183.976 5197.16,-174.235 5205.16,-164.957\"/>\r\n",
       "<polygon fill=\"black\" stroke=\"black\" points=\"5207.89,-167.157 5211.77,-157.299 5202.59,-162.585 5207.89,-167.157\"/>\r\n",
       "</g>\r\n",
       "<!-- 78 -->\r\n",
       "<g id=\"node79\" class=\"node\"><title>78</title>\r\n",
       "<polygon fill=\"#74baed\" stroke=\"black\" points=\"4993.5,-53 4855.5,-53 4855.5,-0 4993.5,-0 4993.5,-53\"/>\r\n",
       "<text text-anchor=\"middle\" x=\"4924.5\" y=\"-37.8\" font-family=\"Times New Roman,serif\" font-size=\"14.00\">samples = 36513</text>\r\n",
       "<text text-anchor=\"middle\" x=\"4924.5\" y=\"-22.8\" font-family=\"Times New Roman,serif\" font-size=\"14.00\">value = [8356, 28157]</text>\r\n",
       "<text text-anchor=\"middle\" x=\"4924.5\" y=\"-7.8\" font-family=\"Times New Roman,serif\" font-size=\"14.00\">class = 1</text>\r\n",
       "</g>\r\n",
       "<!-- 77&#45;&gt;78 -->\r\n",
       "<g id=\"edge78\" class=\"edge\"><title>77&#45;&gt;78</title>\r\n",
       "<path fill=\"none\" stroke=\"black\" d=\"M5015.53,-88.9485C5001.17,-79.2516 4985.5,-68.6752 4971.27,-59.073\"/>\r\n",
       "<polygon fill=\"black\" stroke=\"black\" points=\"4972.88,-55.9305 4962.63,-53.2367 4968.96,-61.7325 4972.88,-55.9305\"/>\r\n",
       "</g>\r\n",
       "<!-- 79 -->\r\n",
       "<g id=\"node80\" class=\"node\"><title>79</title>\r\n",
       "<polygon fill=\"#f6d5bd\" stroke=\"black\" points=\"5143,-53 5012,-53 5012,-0 5143,-0 5143,-53\"/>\r\n",
       "<text text-anchor=\"middle\" x=\"5077.5\" y=\"-37.8\" font-family=\"Times New Roman,serif\" font-size=\"14.00\">samples = 8569</text>\r\n",
       "<text text-anchor=\"middle\" x=\"5077.5\" y=\"-22.8\" font-family=\"Times New Roman,serif\" font-size=\"14.00\">value = [5140, 3429]</text>\r\n",
       "<text text-anchor=\"middle\" x=\"5077.5\" y=\"-7.8\" font-family=\"Times New Roman,serif\" font-size=\"14.00\">class = 0</text>\r\n",
       "</g>\r\n",
       "<!-- 77&#45;&gt;79 -->\r\n",
       "<g id=\"edge79\" class=\"edge\"><title>77&#45;&gt;79</title>\r\n",
       "<path fill=\"none\" stroke=\"black\" d=\"M5069.05,-88.9485C5070.19,-80.6238 5071.43,-71.6509 5072.59,-63.2027\"/>\r\n",
       "<polygon fill=\"black\" stroke=\"black\" points=\"5076.06,-63.6204 5073.96,-53.2367 5069.13,-62.6664 5076.06,-63.6204\"/>\r\n",
       "</g>\r\n",
       "<!-- 81 -->\r\n",
       "<g id=\"node82\" class=\"node\"><title>81</title>\r\n",
       "<polygon fill=\"#f7d8c2\" stroke=\"black\" points=\"5292,-53 5161,-53 5161,-0 5292,-0 5292,-53\"/>\r\n",
       "<text text-anchor=\"middle\" x=\"5226.5\" y=\"-37.8\" font-family=\"Times New Roman,serif\" font-size=\"14.00\">samples = 6203</text>\r\n",
       "<text text-anchor=\"middle\" x=\"5226.5\" y=\"-22.8\" font-family=\"Times New Roman,serif\" font-size=\"14.00\">value = [3662, 2541]</text>\r\n",
       "<text text-anchor=\"middle\" x=\"5226.5\" y=\"-7.8\" font-family=\"Times New Roman,serif\" font-size=\"14.00\">class = 0</text>\r\n",
       "</g>\r\n",
       "<!-- 80&#45;&gt;81 -->\r\n",
       "<g id=\"edge81\" class=\"edge\"><title>80&#45;&gt;81</title>\r\n",
       "<path fill=\"none\" stroke=\"black\" d=\"M5235.6,-88.9485C5234.37,-80.6238 5233.04,-71.6509 5231.79,-63.2027\"/>\r\n",
       "<polygon fill=\"black\" stroke=\"black\" points=\"5235.24,-62.6158 5230.31,-53.2367 5228.32,-63.6417 5235.24,-62.6158\"/>\r\n",
       "</g>\r\n",
       "<!-- 82 -->\r\n",
       "<g id=\"node83\" class=\"node\"><title>82</title>\r\n",
       "<polygon fill=\"#efb287\" stroke=\"black\" points=\"5435,-53 5310,-53 5310,-0 5435,-0 5435,-53\"/>\r\n",
       "<text text-anchor=\"middle\" x=\"5372.5\" y=\"-37.8\" font-family=\"Times New Roman,serif\" font-size=\"14.00\">samples = 2290</text>\r\n",
       "<text text-anchor=\"middle\" x=\"5372.5\" y=\"-22.8\" font-family=\"Times New Roman,serif\" font-size=\"14.00\">value = [1645, 645]</text>\r\n",
       "<text text-anchor=\"middle\" x=\"5372.5\" y=\"-7.8\" font-family=\"Times New Roman,serif\" font-size=\"14.00\">class = 0</text>\r\n",
       "</g>\r\n",
       "<!-- 80&#45;&gt;82 -->\r\n",
       "<g id=\"edge82\" class=\"edge\"><title>80&#45;&gt;82</title>\r\n",
       "<path fill=\"none\" stroke=\"black\" d=\"M5286.67,-88.9485C5300.21,-79.2516 5314.99,-68.6752 5328.4,-59.073\"/>\r\n",
       "<polygon fill=\"black\" stroke=\"black\" points=\"5330.46,-61.9038 5336.55,-53.2367 5326.38,-56.212 5330.46,-61.9038\"/>\r\n",
       "</g>\r\n",
       "<!-- 84 -->\r\n",
       "<g id=\"node85\" class=\"node\"><title>84</title>\r\n",
       "<polygon fill=\"#fbece2\" stroke=\"black\" points=\"5649,-157 5506,-157 5506,-89 5649,-89 5649,-157\"/>\r\n",
       "<text text-anchor=\"middle\" x=\"5577.5\" y=\"-141.8\" font-family=\"Times New Roman,serif\" font-size=\"14.00\">favourite_times &lt;= 0.5</text>\r\n",
       "<text text-anchor=\"middle\" x=\"5577.5\" y=\"-126.8\" font-family=\"Times New Roman,serif\" font-size=\"14.00\">samples = 3838</text>\r\n",
       "<text text-anchor=\"middle\" x=\"5577.5\" y=\"-111.8\" font-family=\"Times New Roman,serif\" font-size=\"14.00\">value = [2072, 1766]</text>\r\n",
       "<text text-anchor=\"middle\" x=\"5577.5\" y=\"-96.8\" font-family=\"Times New Roman,serif\" font-size=\"14.00\">class = 0</text>\r\n",
       "</g>\r\n",
       "<!-- 83&#45;&gt;84 -->\r\n",
       "<g id=\"edge84\" class=\"edge\"><title>83&#45;&gt;84</title>\r\n",
       "<path fill=\"none\" stroke=\"black\" d=\"M5577.5,-192.884C5577.5,-184.778 5577.5,-175.982 5577.5,-167.472\"/>\r\n",
       "<polygon fill=\"black\" stroke=\"black\" points=\"5581,-167.299 5577.5,-157.299 5574,-167.299 5581,-167.299\"/>\r\n",
       "</g>\r\n",
       "<!-- 87 -->\r\n",
       "<g id=\"node88\" class=\"node\"><title>87</title>\r\n",
       "<polygon fill=\"#f3c7a7\" stroke=\"black\" points=\"5883.5,-157 5725.5,-157 5725.5,-89 5883.5,-89 5883.5,-157\"/>\r\n",
       "<text text-anchor=\"middle\" x=\"5804.5\" y=\"-141.8\" font-family=\"Times New Roman,serif\" font-size=\"14.00\">diff_item_review &lt;= 42.5</text>\r\n",
       "<text text-anchor=\"middle\" x=\"5804.5\" y=\"-126.8\" font-family=\"Times New Roman,serif\" font-size=\"14.00\">samples = 7905</text>\r\n",
       "<text text-anchor=\"middle\" x=\"5804.5\" y=\"-111.8\" font-family=\"Times New Roman,serif\" font-size=\"14.00\">value = [5087, 2818]</text>\r\n",
       "<text text-anchor=\"middle\" x=\"5804.5\" y=\"-96.8\" font-family=\"Times New Roman,serif\" font-size=\"14.00\">class = 0</text>\r\n",
       "</g>\r\n",
       "<!-- 83&#45;&gt;87 -->\r\n",
       "<g id=\"edge87\" class=\"edge\"><title>83&#45;&gt;87</title>\r\n",
       "<path fill=\"none\" stroke=\"black\" d=\"M5643.16,-196.497C5667.65,-185.493 5695.78,-172.854 5721.61,-161.244\"/>\r\n",
       "<polygon fill=\"black\" stroke=\"black\" points=\"5723.33,-164.309 5731.02,-157.017 5720.46,-157.924 5723.33,-164.309\"/>\r\n",
       "</g>\r\n",
       "<!-- 85 -->\r\n",
       "<g id=\"node86\" class=\"node\"><title>85</title>\r\n",
       "<polygon fill=\"#fef8f4\" stroke=\"black\" points=\"5584,-53 5453,-53 5453,-0 5584,-0 5584,-53\"/>\r\n",
       "<text text-anchor=\"middle\" x=\"5518.5\" y=\"-37.8\" font-family=\"Times New Roman,serif\" font-size=\"14.00\">samples = 2913</text>\r\n",
       "<text text-anchor=\"middle\" x=\"5518.5\" y=\"-22.8\" font-family=\"Times New Roman,serif\" font-size=\"14.00\">value = [1498, 1415]</text>\r\n",
       "<text text-anchor=\"middle\" x=\"5518.5\" y=\"-7.8\" font-family=\"Times New Roman,serif\" font-size=\"14.00\">class = 0</text>\r\n",
       "</g>\r\n",
       "<!-- 84&#45;&gt;85 -->\r\n",
       "<g id=\"edge85\" class=\"edge\"><title>84&#45;&gt;85</title>\r\n",
       "<path fill=\"none\" stroke=\"black\" d=\"M5556.86,-88.9485C5551.38,-80.1664 5545.45,-70.6629 5539.92,-61.815\"/>\r\n",
       "<polygon fill=\"black\" stroke=\"black\" points=\"5542.83,-59.8656 5534.57,-53.2367 5536.9,-63.5728 5542.83,-59.8656\"/>\r\n",
       "</g>\r\n",
       "<!-- 86 -->\r\n",
       "<g id=\"node87\" class=\"node\"><title>86</title>\r\n",
       "<polygon fill=\"#f5ceb2\" stroke=\"black\" points=\"5720.5,-53 5602.5,-53 5602.5,-0 5720.5,-0 5720.5,-53\"/>\r\n",
       "<text text-anchor=\"middle\" x=\"5661.5\" y=\"-37.8\" font-family=\"Times New Roman,serif\" font-size=\"14.00\">samples = 925</text>\r\n",
       "<text text-anchor=\"middle\" x=\"5661.5\" y=\"-22.8\" font-family=\"Times New Roman,serif\" font-size=\"14.00\">value = [574, 351]</text>\r\n",
       "<text text-anchor=\"middle\" x=\"5661.5\" y=\"-7.8\" font-family=\"Times New Roman,serif\" font-size=\"14.00\">class = 0</text>\r\n",
       "</g>\r\n",
       "<!-- 84&#45;&gt;86 -->\r\n",
       "<g id=\"edge86\" class=\"edge\"><title>84&#45;&gt;86</title>\r\n",
       "<path fill=\"none\" stroke=\"black\" d=\"M5606.88,-88.9485C5615.01,-79.8005 5623.84,-69.8697 5631.98,-60.7126\"/>\r\n",
       "<polygon fill=\"black\" stroke=\"black\" points=\"5634.6,-63.0361 5638.62,-53.2367 5629.36,-58.3855 5634.6,-63.0361\"/>\r\n",
       "</g>\r\n",
       "<!-- 88 -->\r\n",
       "<g id=\"node89\" class=\"node\"><title>88</title>\r\n",
       "<polygon fill=\"#f3c3a0\" stroke=\"black\" points=\"5870,-53 5739,-53 5739,-0 5870,-0 5870,-53\"/>\r\n",
       "<text text-anchor=\"middle\" x=\"5804.5\" y=\"-37.8\" font-family=\"Times New Roman,serif\" font-size=\"14.00\">samples = 7322</text>\r\n",
       "<text text-anchor=\"middle\" x=\"5804.5\" y=\"-22.8\" font-family=\"Times New Roman,serif\" font-size=\"14.00\">value = [4811, 2511]</text>\r\n",
       "<text text-anchor=\"middle\" x=\"5804.5\" y=\"-7.8\" font-family=\"Times New Roman,serif\" font-size=\"14.00\">class = 0</text>\r\n",
       "</g>\r\n",
       "<!-- 87&#45;&gt;88 -->\r\n",
       "<g id=\"edge88\" class=\"edge\"><title>87&#45;&gt;88</title>\r\n",
       "<path fill=\"none\" stroke=\"black\" d=\"M5804.5,-88.9485C5804.5,-80.7153 5804.5,-71.848 5804.5,-63.4814\"/>\r\n",
       "<polygon fill=\"black\" stroke=\"black\" points=\"5808,-63.2367 5804.5,-53.2367 5801,-63.2367 5808,-63.2367\"/>\r\n",
       "</g>\r\n",
       "<!-- 89 -->\r\n",
       "<g id=\"node90\" class=\"node\"><title>89</title>\r\n",
       "<polygon fill=\"#ebf5fc\" stroke=\"black\" points=\"6006.5,-53 5888.5,-53 5888.5,-0 6006.5,-0 6006.5,-53\"/>\r\n",
       "<text text-anchor=\"middle\" x=\"5947.5\" y=\"-37.8\" font-family=\"Times New Roman,serif\" font-size=\"14.00\">samples = 583</text>\r\n",
       "<text text-anchor=\"middle\" x=\"5947.5\" y=\"-22.8\" font-family=\"Times New Roman,serif\" font-size=\"14.00\">value = [276, 307]</text>\r\n",
       "<text text-anchor=\"middle\" x=\"5947.5\" y=\"-7.8\" font-family=\"Times New Roman,serif\" font-size=\"14.00\">class = 1</text>\r\n",
       "</g>\r\n",
       "<!-- 87&#45;&gt;89 -->\r\n",
       "<g id=\"edge89\" class=\"edge\"><title>87&#45;&gt;89</title>\r\n",
       "<path fill=\"none\" stroke=\"black\" d=\"M5854.51,-88.9485C5869.33,-79.1601 5885.49,-68.4756 5900.13,-58.8015\"/>\r\n",
       "<polygon fill=\"black\" stroke=\"black\" points=\"5902.14,-61.6701 5908.55,-53.2367 5898.28,-55.83 5902.14,-61.6701\"/>\r\n",
       "</g>\r\n",
       "<!-- 91 -->\r\n",
       "<g id=\"node92\" class=\"node\"><title>91</title>\r\n",
       "<polygon fill=\"#f7d9c4\" stroke=\"black\" points=\"6645,-365 6492,-365 6492,-297 6645,-297 6645,-365\"/>\r\n",
       "<text text-anchor=\"middle\" x=\"6568.5\" y=\"-349.8\" font-family=\"Times New Roman,serif\" font-size=\"14.00\">age_range_30&#45;34 &lt;= 0.5</text>\r\n",
       "<text text-anchor=\"middle\" x=\"6568.5\" y=\"-334.8\" font-family=\"Times New Roman,serif\" font-size=\"14.00\">samples = 11483</text>\r\n",
       "<text text-anchor=\"middle\" x=\"6568.5\" y=\"-319.8\" font-family=\"Times New Roman,serif\" font-size=\"14.00\">value = [6747, 4736]</text>\r\n",
       "<text text-anchor=\"middle\" x=\"6568.5\" y=\"-304.8\" font-family=\"Times New Roman,serif\" font-size=\"14.00\">class = 0</text>\r\n",
       "</g>\r\n",
       "<!-- 90&#45;&gt;91 -->\r\n",
       "<g id=\"edge91\" class=\"edge\"><title>90&#45;&gt;91</title>\r\n",
       "<path fill=\"none\" stroke=\"black\" d=\"M6568.5,-400.884C6568.5,-392.778 6568.5,-383.982 6568.5,-375.472\"/>\r\n",
       "<polygon fill=\"black\" stroke=\"black\" points=\"6572,-375.299 6568.5,-365.299 6565,-375.299 6572,-375.299\"/>\r\n",
       "</g>\r\n",
       "<!-- 106 -->\r\n",
       "<g id=\"node107\" class=\"node\"><title>106</title>\r\n",
       "<polygon fill=\"#ea985d\" stroke=\"black\" points=\"7392,-365 7267,-365 7267,-297 7392,-297 7392,-365\"/>\r\n",
       "<text text-anchor=\"middle\" x=\"7329.5\" y=\"-349.8\" font-family=\"Times New Roman,serif\" font-size=\"14.00\">one_clicks &lt;= 11.5</text>\r\n",
       "<text text-anchor=\"middle\" x=\"7329.5\" y=\"-334.8\" font-family=\"Times New Roman,serif\" font-size=\"14.00\">samples = 1523</text>\r\n",
       "<text text-anchor=\"middle\" x=\"7329.5\" y=\"-319.8\" font-family=\"Times New Roman,serif\" font-size=\"14.00\">value = [1290, 233]</text>\r\n",
       "<text text-anchor=\"middle\" x=\"7329.5\" y=\"-304.8\" font-family=\"Times New Roman,serif\" font-size=\"14.00\">class = 0</text>\r\n",
       "</g>\r\n",
       "<!-- 90&#45;&gt;106 -->\r\n",
       "<g id=\"edge106\" class=\"edge\"><title>90&#45;&gt;106</title>\r\n",
       "<path fill=\"none\" stroke=\"black\" d=\"M6655.06,-422.399C6806.22,-402.137 7115.65,-360.663 7256.62,-341.768\"/>\r\n",
       "<polygon fill=\"black\" stroke=\"black\" points=\"7257.44,-345.19 7266.89,-340.393 7256.51,-338.252 7257.44,-345.19\"/>\r\n",
       "</g>\r\n",
       "<!-- 92 -->\r\n",
       "<g id=\"node93\" class=\"node\"><title>92</title>\r\n",
       "<polygon fill=\"#fceee5\" stroke=\"black\" points=\"6529,-261 6376,-261 6376,-193 6529,-193 6529,-261\"/>\r\n",
       "<text text-anchor=\"middle\" x=\"6452.5\" y=\"-245.8\" font-family=\"Times New Roman,serif\" font-size=\"14.00\">age_range_25&#45;29 &lt;= 0.5</text>\r\n",
       "<text text-anchor=\"middle\" x=\"6452.5\" y=\"-230.8\" font-family=\"Times New Roman,serif\" font-size=\"14.00\">samples = 8956</text>\r\n",
       "<text text-anchor=\"middle\" x=\"6452.5\" y=\"-215.8\" font-family=\"Times New Roman,serif\" font-size=\"14.00\">value = [4794, 4162]</text>\r\n",
       "<text text-anchor=\"middle\" x=\"6452.5\" y=\"-200.8\" font-family=\"Times New Roman,serif\" font-size=\"14.00\">class = 0</text>\r\n",
       "</g>\r\n",
       "<!-- 91&#45;&gt;92 -->\r\n",
       "<g id=\"edge92\" class=\"edge\"><title>91&#45;&gt;92</title>\r\n",
       "<path fill=\"none\" stroke=\"black\" d=\"M6530.84,-296.884C6520.4,-287.709 6508.96,-277.65 6498.13,-268.123\"/>\r\n",
       "<polygon fill=\"black\" stroke=\"black\" points=\"6500.19,-265.274 6490.37,-261.299 6495.57,-270.531 6500.19,-265.274\"/>\r\n",
       "</g>\r\n",
       "<!-- 99 -->\r\n",
       "<g id=\"node100\" class=\"node\"><title>99</title>\r\n",
       "<polygon fill=\"#eda673\" stroke=\"black\" points=\"6770,-261 6627,-261 6627,-193 6770,-193 6770,-261\"/>\r\n",
       "<text text-anchor=\"middle\" x=\"6698.5\" y=\"-245.8\" font-family=\"Times New Roman,serif\" font-size=\"14.00\">favourite_times &lt;= 0.5</text>\r\n",
       "<text text-anchor=\"middle\" x=\"6698.5\" y=\"-230.8\" font-family=\"Times New Roman,serif\" font-size=\"14.00\">samples = 2527</text>\r\n",
       "<text text-anchor=\"middle\" x=\"6698.5\" y=\"-215.8\" font-family=\"Times New Roman,serif\" font-size=\"14.00\">value = [1953, 574]</text>\r\n",
       "<text text-anchor=\"middle\" x=\"6698.5\" y=\"-200.8\" font-family=\"Times New Roman,serif\" font-size=\"14.00\">class = 0</text>\r\n",
       "</g>\r\n",
       "<!-- 91&#45;&gt;99 -->\r\n",
       "<g id=\"edge99\" class=\"edge\"><title>91&#45;&gt;99</title>\r\n",
       "<path fill=\"none\" stroke=\"black\" d=\"M6610.71,-296.884C6622.63,-287.531 6635.72,-277.259 6648.07,-267.568\"/>\r\n",
       "<polygon fill=\"black\" stroke=\"black\" points=\"6650.35,-270.226 6656.06,-261.299 6646.03,-264.719 6650.35,-270.226\"/>\r\n",
       "</g>\r\n",
       "<!-- 93 -->\r\n",
       "<g id=\"node94\" class=\"node\"><title>93</title>\r\n",
       "<polygon fill=\"#cde6f8\" stroke=\"black\" points=\"6310,-157 6157,-157 6157,-89 6310,-89 6310,-157\"/>\r\n",
       "<text text-anchor=\"middle\" x=\"6233.5\" y=\"-141.8\" font-family=\"Times New Roman,serif\" font-size=\"14.00\">age_range_18&#45;24 &lt;= 0.5</text>\r\n",
       "<text text-anchor=\"middle\" x=\"6233.5\" y=\"-126.8\" font-family=\"Times New Roman,serif\" font-size=\"14.00\">samples = 5918</text>\r\n",
       "<text text-anchor=\"middle\" x=\"6233.5\" y=\"-111.8\" font-family=\"Times New Roman,serif\" font-size=\"14.00\">value = [2530, 3388]</text>\r\n",
       "<text text-anchor=\"middle\" x=\"6233.5\" y=\"-96.8\" font-family=\"Times New Roman,serif\" font-size=\"14.00\">class = 1</text>\r\n",
       "</g>\r\n",
       "<!-- 92&#45;&gt;93 -->\r\n",
       "<g id=\"edge93\" class=\"edge\"><title>92&#45;&gt;93</title>\r\n",
       "<path fill=\"none\" stroke=\"black\" d=\"M6381.4,-192.884C6359.87,-182.856 6336.07,-171.773 6313.98,-161.482\"/>\r\n",
       "<polygon fill=\"black\" stroke=\"black\" points=\"6315.16,-158.174 6304.62,-157.125 6312.21,-164.52 6315.16,-158.174\"/>\r\n",
       "</g>\r\n",
       "<!-- 96 -->\r\n",
       "<g id=\"node97\" class=\"node\"><title>96</title>\r\n",
       "<polygon fill=\"#eeac7d\" stroke=\"black\" points=\"6515,-157 6390,-157 6390,-89 6515,-89 6515,-157\"/>\r\n",
       "<text text-anchor=\"middle\" x=\"6452.5\" y=\"-141.8\" font-family=\"Times New Roman,serif\" font-size=\"14.00\">total_logs &lt;= 45.5</text>\r\n",
       "<text text-anchor=\"middle\" x=\"6452.5\" y=\"-126.8\" font-family=\"Times New Roman,serif\" font-size=\"14.00\">samples = 3038</text>\r\n",
       "<text text-anchor=\"middle\" x=\"6452.5\" y=\"-111.8\" font-family=\"Times New Roman,serif\" font-size=\"14.00\">value = [2264, 774]</text>\r\n",
       "<text text-anchor=\"middle\" x=\"6452.5\" y=\"-96.8\" font-family=\"Times New Roman,serif\" font-size=\"14.00\">class = 0</text>\r\n",
       "</g>\r\n",
       "<!-- 92&#45;&gt;96 -->\r\n",
       "<g id=\"edge96\" class=\"edge\"><title>92&#45;&gt;96</title>\r\n",
       "<path fill=\"none\" stroke=\"black\" d=\"M6452.5,-192.884C6452.5,-184.778 6452.5,-175.982 6452.5,-167.472\"/>\r\n",
       "<polygon fill=\"black\" stroke=\"black\" points=\"6456,-167.299 6452.5,-157.299 6449,-167.299 6456,-167.299\"/>\r\n",
       "</g>\r\n",
       "<!-- 94 -->\r\n",
       "<g id=\"node95\" class=\"node\"><title>94</title>\r\n",
       "<polygon fill=\"#9bcef2\" stroke=\"black\" points=\"6156,-53 6025,-53 6025,-0 6156,-0 6156,-53\"/>\r\n",
       "<text text-anchor=\"middle\" x=\"6090.5\" y=\"-37.8\" font-family=\"Times New Roman,serif\" font-size=\"14.00\">samples = 4877</text>\r\n",
       "<text text-anchor=\"middle\" x=\"6090.5\" y=\"-22.8\" font-family=\"Times New Roman,serif\" font-size=\"14.00\">value = [1618, 3259]</text>\r\n",
       "<text text-anchor=\"middle\" x=\"6090.5\" y=\"-7.8\" font-family=\"Times New Roman,serif\" font-size=\"14.00\">class = 1</text>\r\n",
       "</g>\r\n",
       "<!-- 93&#45;&gt;94 -->\r\n",
       "<g id=\"edge94\" class=\"edge\"><title>93&#45;&gt;94</title>\r\n",
       "<path fill=\"none\" stroke=\"black\" d=\"M6183.49,-88.9485C6168.67,-79.1601 6152.51,-68.4756 6137.87,-58.8015\"/>\r\n",
       "<polygon fill=\"black\" stroke=\"black\" points=\"6139.72,-55.83 6129.45,-53.2367 6135.86,-61.6701 6139.72,-55.83\"/>\r\n",
       "</g>\r\n",
       "<!-- 95 -->\r\n",
       "<g id=\"node96\" class=\"node\"><title>95</title>\r\n",
       "<polygon fill=\"#e99355\" stroke=\"black\" points=\"6292.5,-53 6174.5,-53 6174.5,-0 6292.5,-0 6292.5,-53\"/>\r\n",
       "<text text-anchor=\"middle\" x=\"6233.5\" y=\"-37.8\" font-family=\"Times New Roman,serif\" font-size=\"14.00\">samples = 1041</text>\r\n",
       "<text text-anchor=\"middle\" x=\"6233.5\" y=\"-22.8\" font-family=\"Times New Roman,serif\" font-size=\"14.00\">value = [912, 129]</text>\r\n",
       "<text text-anchor=\"middle\" x=\"6233.5\" y=\"-7.8\" font-family=\"Times New Roman,serif\" font-size=\"14.00\">class = 0</text>\r\n",
       "</g>\r\n",
       "<!-- 93&#45;&gt;95 -->\r\n",
       "<g id=\"edge95\" class=\"edge\"><title>93&#45;&gt;95</title>\r\n",
       "<path fill=\"none\" stroke=\"black\" d=\"M6233.5,-88.9485C6233.5,-80.7153 6233.5,-71.848 6233.5,-63.4814\"/>\r\n",
       "<polygon fill=\"black\" stroke=\"black\" points=\"6237,-63.2367 6233.5,-53.2367 6230,-63.2367 6237,-63.2367\"/>\r\n",
       "</g>\r\n",
       "<!-- 97 -->\r\n",
       "<g id=\"node98\" class=\"node\"><title>97</title>\r\n",
       "<polygon fill=\"#eda775\" stroke=\"black\" points=\"6436,-53 6311,-53 6311,-0 6436,-0 6436,-53\"/>\r\n",
       "<text text-anchor=\"middle\" x=\"6373.5\" y=\"-37.8\" font-family=\"Times New Roman,serif\" font-size=\"14.00\">samples = 2543</text>\r\n",
       "<text text-anchor=\"middle\" x=\"6373.5\" y=\"-22.8\" font-family=\"Times New Roman,serif\" font-size=\"14.00\">value = [1954, 589]</text>\r\n",
       "<text text-anchor=\"middle\" x=\"6373.5\" y=\"-7.8\" font-family=\"Times New Roman,serif\" font-size=\"14.00\">class = 0</text>\r\n",
       "</g>\r\n",
       "<!-- 96&#45;&gt;97 -->\r\n",
       "<g id=\"edge97\" class=\"edge\"><title>96&#45;&gt;97</title>\r\n",
       "<path fill=\"none\" stroke=\"black\" d=\"M6424.87,-88.9485C6417.3,-79.892 6409.09,-70.0682 6401.49,-60.9875\"/>\r\n",
       "<polygon fill=\"black\" stroke=\"black\" points=\"6404.11,-58.6641 6395.02,-53.2367 6398.74,-63.1538 6404.11,-58.6641\"/>\r\n",
       "</g>\r\n",
       "<!-- 98 -->\r\n",
       "<g id=\"node99\" class=\"node\"><title>98</title>\r\n",
       "<polygon fill=\"#f5ccaf\" stroke=\"black\" points=\"6572.5,-53 6454.5,-53 6454.5,-0 6572.5,-0 6572.5,-53\"/>\r\n",
       "<text text-anchor=\"middle\" x=\"6513.5\" y=\"-37.8\" font-family=\"Times New Roman,serif\" font-size=\"14.00\">samples = 495</text>\r\n",
       "<text text-anchor=\"middle\" x=\"6513.5\" y=\"-22.8\" font-family=\"Times New Roman,serif\" font-size=\"14.00\">value = [310, 185]</text>\r\n",
       "<text text-anchor=\"middle\" x=\"6513.5\" y=\"-7.8\" font-family=\"Times New Roman,serif\" font-size=\"14.00\">class = 0</text>\r\n",
       "</g>\r\n",
       "<!-- 96&#45;&gt;98 -->\r\n",
       "<g id=\"edge98\" class=\"edge\"><title>96&#45;&gt;98</title>\r\n",
       "<path fill=\"none\" stroke=\"black\" d=\"M6473.83,-88.9485C6479.5,-80.1664 6485.64,-70.6629 6491.35,-61.815\"/>\r\n",
       "<polygon fill=\"black\" stroke=\"black\" points=\"6494.4,-63.5365 6496.89,-53.2367 6488.52,-59.7402 6494.4,-63.5365\"/>\r\n",
       "</g>\r\n",
       "<!-- 100 -->\r\n",
       "<g id=\"node101\" class=\"node\"><title>100</title>\r\n",
       "<polygon fill=\"#eeab7c\" stroke=\"black\" points=\"6777.5,-157 6619.5,-157 6619.5,-89 6777.5,-89 6777.5,-157\"/>\r\n",
       "<text text-anchor=\"middle\" x=\"6698.5\" y=\"-141.8\" font-family=\"Times New Roman,serif\" font-size=\"14.00\">diff_item_review &lt;= 10.5</text>\r\n",
       "<text text-anchor=\"middle\" x=\"6698.5\" y=\"-126.8\" font-family=\"Times New Roman,serif\" font-size=\"14.00\">samples = 1917</text>\r\n",
       "<text text-anchor=\"middle\" x=\"6698.5\" y=\"-111.8\" font-family=\"Times New Roman,serif\" font-size=\"14.00\">value = [1435, 482]</text>\r\n",
       "<text text-anchor=\"middle\" x=\"6698.5\" y=\"-96.8\" font-family=\"Times New Roman,serif\" font-size=\"14.00\">class = 0</text>\r\n",
       "</g>\r\n",
       "<!-- 99&#45;&gt;100 -->\r\n",
       "<g id=\"edge100\" class=\"edge\"><title>99&#45;&gt;100</title>\r\n",
       "<path fill=\"none\" stroke=\"black\" d=\"M6698.5,-192.884C6698.5,-184.778 6698.5,-175.982 6698.5,-167.472\"/>\r\n",
       "<polygon fill=\"black\" stroke=\"black\" points=\"6702,-167.299 6698.5,-157.299 6695,-167.299 6702,-167.299\"/>\r\n",
       "</g>\r\n",
       "<!-- 103 -->\r\n",
       "<g id=\"node104\" class=\"node\"><title>103</title>\r\n",
       "<polygon fill=\"#ea975c\" stroke=\"black\" points=\"6993.5,-157 6843.5,-157 6843.5,-89 6993.5,-89 6993.5,-157\"/>\r\n",
       "<text text-anchor=\"middle\" x=\"6918.5\" y=\"-141.8\" font-family=\"Times New Roman,serif\" font-size=\"14.00\">favourite_times &lt;= 10.5</text>\r\n",
       "<text text-anchor=\"middle\" x=\"6918.5\" y=\"-126.8\" font-family=\"Times New Roman,serif\" font-size=\"14.00\">samples = 610</text>\r\n",
       "<text text-anchor=\"middle\" x=\"6918.5\" y=\"-111.8\" font-family=\"Times New Roman,serif\" font-size=\"14.00\">value = [518, 92]</text>\r\n",
       "<text text-anchor=\"middle\" x=\"6918.5\" y=\"-96.8\" font-family=\"Times New Roman,serif\" font-size=\"14.00\">class = 0</text>\r\n",
       "</g>\r\n",
       "<!-- 99&#45;&gt;103 -->\r\n",
       "<g id=\"edge103\" class=\"edge\"><title>99&#45;&gt;103</title>\r\n",
       "<path fill=\"none\" stroke=\"black\" d=\"M6769.93,-192.884C6791.65,-182.812 6815.67,-171.674 6837.95,-161.344\"/>\r\n",
       "<polygon fill=\"black\" stroke=\"black\" points=\"6839.45,-164.506 6847.05,-157.125 6836.51,-158.156 6839.45,-164.506\"/>\r\n",
       "</g>\r\n",
       "<!-- 101 -->\r\n",
       "<g id=\"node102\" class=\"node\"><title>101</title>\r\n",
       "<polygon fill=\"#efb286\" stroke=\"black\" points=\"6708.5,-53 6590.5,-53 6590.5,-0 6708.5,-0 6708.5,-53\"/>\r\n",
       "<text text-anchor=\"middle\" x=\"6649.5\" y=\"-37.8\" font-family=\"Times New Roman,serif\" font-size=\"14.00\">samples = 1238</text>\r\n",
       "<text text-anchor=\"middle\" x=\"6649.5\" y=\"-22.8\" font-family=\"Times New Roman,serif\" font-size=\"14.00\">value = [890, 348]</text>\r\n",
       "<text text-anchor=\"middle\" x=\"6649.5\" y=\"-7.8\" font-family=\"Times New Roman,serif\" font-size=\"14.00\">class = 0</text>\r\n",
       "</g>\r\n",
       "<!-- 100&#45;&gt;101 -->\r\n",
       "<g id=\"edge101\" class=\"edge\"><title>100&#45;&gt;101</title>\r\n",
       "<path fill=\"none\" stroke=\"black\" d=\"M6681.36,-88.9485C6676.9,-80.3494 6672.09,-71.0586 6667.58,-62.3689\"/>\r\n",
       "<polygon fill=\"black\" stroke=\"black\" points=\"6670.56,-60.5031 6662.84,-53.2367 6664.34,-63.7254 6670.56,-60.5031\"/>\r\n",
       "</g>\r\n",
       "<!-- 102 -->\r\n",
       "<g id=\"node103\" class=\"node\"><title>102</title>\r\n",
       "<polygon fill=\"#eba06a\" stroke=\"black\" points=\"6844.5,-53 6726.5,-53 6726.5,-0 6844.5,-0 6844.5,-53\"/>\r\n",
       "<text text-anchor=\"middle\" x=\"6785.5\" y=\"-37.8\" font-family=\"Times New Roman,serif\" font-size=\"14.00\">samples = 679</text>\r\n",
       "<text text-anchor=\"middle\" x=\"6785.5\" y=\"-22.8\" font-family=\"Times New Roman,serif\" font-size=\"14.00\">value = [545, 134]</text>\r\n",
       "<text text-anchor=\"middle\" x=\"6785.5\" y=\"-7.8\" font-family=\"Times New Roman,serif\" font-size=\"14.00\">class = 0</text>\r\n",
       "</g>\r\n",
       "<!-- 100&#45;&gt;102 -->\r\n",
       "<g id=\"edge102\" class=\"edge\"><title>100&#45;&gt;102</title>\r\n",
       "<path fill=\"none\" stroke=\"black\" d=\"M6728.93,-88.9485C6737.35,-79.8005 6746.49,-69.8697 6754.92,-60.7126\"/>\r\n",
       "<polygon fill=\"black\" stroke=\"black\" points=\"6757.61,-62.9643 6761.81,-53.2367 6752.46,-58.2231 6757.61,-62.9643\"/>\r\n",
       "</g>\r\n",
       "<!-- 104 -->\r\n",
       "<g id=\"node105\" class=\"node\"><title>104</title>\r\n",
       "<polygon fill=\"#e9965a\" stroke=\"black\" points=\"6974,-53 6863,-53 6863,-0 6974,-0 6974,-53\"/>\r\n",
       "<text text-anchor=\"middle\" x=\"6918.5\" y=\"-37.8\" font-family=\"Times New Roman,serif\" font-size=\"14.00\">samples = 595</text>\r\n",
       "<text text-anchor=\"middle\" x=\"6918.5\" y=\"-22.8\" font-family=\"Times New Roman,serif\" font-size=\"14.00\">value = [509, 86]</text>\r\n",
       "<text text-anchor=\"middle\" x=\"6918.5\" y=\"-7.8\" font-family=\"Times New Roman,serif\" font-size=\"14.00\">class = 0</text>\r\n",
       "</g>\r\n",
       "<!-- 103&#45;&gt;104 -->\r\n",
       "<g id=\"edge104\" class=\"edge\"><title>103&#45;&gt;104</title>\r\n",
       "<path fill=\"none\" stroke=\"black\" d=\"M6918.5,-88.9485C6918.5,-80.7153 6918.5,-71.848 6918.5,-63.4814\"/>\r\n",
       "<polygon fill=\"black\" stroke=\"black\" points=\"6922,-63.2367 6918.5,-53.2367 6915,-63.2367 6922,-63.2367\"/>\r\n",
       "</g>\r\n",
       "<!-- 105 -->\r\n",
       "<g id=\"node106\" class=\"node\"><title>105</title>\r\n",
       "<polygon fill=\"#f6d5bd\" stroke=\"black\" points=\"7083,-53 6992,-53 6992,-0 7083,-0 7083,-53\"/>\r\n",
       "<text text-anchor=\"middle\" x=\"7037.5\" y=\"-37.8\" font-family=\"Times New Roman,serif\" font-size=\"14.00\">samples = 15</text>\r\n",
       "<text text-anchor=\"middle\" x=\"7037.5\" y=\"-22.8\" font-family=\"Times New Roman,serif\" font-size=\"14.00\">value = [9, 6]</text>\r\n",
       "<text text-anchor=\"middle\" x=\"7037.5\" y=\"-7.8\" font-family=\"Times New Roman,serif\" font-size=\"14.00\">class = 0</text>\r\n",
       "</g>\r\n",
       "<!-- 103&#45;&gt;105 -->\r\n",
       "<g id=\"edge105\" class=\"edge\"><title>103&#45;&gt;105</title>\r\n",
       "<path fill=\"none\" stroke=\"black\" d=\"M6960.12,-88.9485C6972.1,-79.4346 6985.15,-69.074 6997.06,-59.6175\"/>\r\n",
       "<polygon fill=\"black\" stroke=\"black\" points=\"6999.44,-62.1965 7005.09,-53.2367 6995.08,-56.7147 6999.44,-62.1965\"/>\r\n",
       "</g>\r\n",
       "<!-- 107 -->\r\n",
       "<g id=\"node108\" class=\"node\"><title>107</title>\r\n",
       "<polygon fill=\"#eead7f\" stroke=\"black\" points=\"7396,-261 7263,-261 7263,-193 7396,-193 7396,-261\"/>\r\n",
       "<text text-anchor=\"middle\" x=\"7329.5\" y=\"-245.8\" font-family=\"Times New Roman,serif\" font-size=\"14.00\">browse_days &lt;= 1.5</text>\r\n",
       "<text text-anchor=\"middle\" x=\"7329.5\" y=\"-230.8\" font-family=\"Times New Roman,serif\" font-size=\"14.00\">samples = 349</text>\r\n",
       "<text text-anchor=\"middle\" x=\"7329.5\" y=\"-215.8\" font-family=\"Times New Roman,serif\" font-size=\"14.00\">value = [258, 91]</text>\r\n",
       "<text text-anchor=\"middle\" x=\"7329.5\" y=\"-200.8\" font-family=\"Times New Roman,serif\" font-size=\"14.00\">class = 0</text>\r\n",
       "</g>\r\n",
       "<!-- 106&#45;&gt;107 -->\r\n",
       "<g id=\"edge107\" class=\"edge\"><title>106&#45;&gt;107</title>\r\n",
       "<path fill=\"none\" stroke=\"black\" d=\"M7329.5,-296.884C7329.5,-288.778 7329.5,-279.982 7329.5,-271.472\"/>\r\n",
       "<polygon fill=\"black\" stroke=\"black\" points=\"7333,-271.299 7329.5,-261.299 7326,-271.299 7333,-271.299\"/>\r\n",
       "</g>\r\n",
       "<!-- 114 -->\r\n",
       "<g id=\"node115\" class=\"node\"><title>114</title>\r\n",
       "<polygon fill=\"#e99254\" stroke=\"black\" points=\"7755,-261 7612,-261 7612,-193 7755,-193 7755,-261\"/>\r\n",
       "<text text-anchor=\"middle\" x=\"7683.5\" y=\"-245.8\" font-family=\"Times New Roman,serif\" font-size=\"14.00\">favourite_times &lt;= 3.5</text>\r\n",
       "<text text-anchor=\"middle\" x=\"7683.5\" y=\"-230.8\" font-family=\"Times New Roman,serif\" font-size=\"14.00\">samples = 1174</text>\r\n",
       "<text text-anchor=\"middle\" x=\"7683.5\" y=\"-215.8\" font-family=\"Times New Roman,serif\" font-size=\"14.00\">value = [1032, 142]</text>\r\n",
       "<text text-anchor=\"middle\" x=\"7683.5\" y=\"-200.8\" font-family=\"Times New Roman,serif\" font-size=\"14.00\">class = 0</text>\r\n",
       "</g>\r\n",
       "<!-- 106&#45;&gt;114 -->\r\n",
       "<g id=\"edge114\" class=\"edge\"><title>106&#45;&gt;114</title>\r\n",
       "<path fill=\"none\" stroke=\"black\" d=\"M7392.38,-311.882C7450.87,-295.029 7538.34,-269.825 7602.13,-251.445\"/>\r\n",
       "<polygon fill=\"black\" stroke=\"black\" points=\"7603.12,-254.802 7611.76,-248.67 7601.18,-248.076 7603.12,-254.802\"/>\r\n",
       "</g>\r\n",
       "<!-- 108 -->\r\n",
       "<g id=\"node109\" class=\"node\"><title>108</title>\r\n",
       "<polygon fill=\"#f3c7a7\" stroke=\"black\" points=\"7321,-157 7176,-157 7176,-89 7321,-89 7321,-157\"/>\r\n",
       "<text text-anchor=\"middle\" x=\"7248.5\" y=\"-141.8\" font-family=\"Times New Roman,serif\" font-size=\"14.00\">diff_cat_review &lt;= 3.5</text>\r\n",
       "<text text-anchor=\"middle\" x=\"7248.5\" y=\"-126.8\" font-family=\"Times New Roman,serif\" font-size=\"14.00\">samples = 204</text>\r\n",
       "<text text-anchor=\"middle\" x=\"7248.5\" y=\"-111.8\" font-family=\"Times New Roman,serif\" font-size=\"14.00\">value = [131, 73]</text>\r\n",
       "<text text-anchor=\"middle\" x=\"7248.5\" y=\"-96.8\" font-family=\"Times New Roman,serif\" font-size=\"14.00\">class = 0</text>\r\n",
       "</g>\r\n",
       "<!-- 107&#45;&gt;108 -->\r\n",
       "<g id=\"edge108\" class=\"edge\"><title>107&#45;&gt;108</title>\r\n",
       "<path fill=\"none\" stroke=\"black\" d=\"M7303.2,-192.884C7296.2,-184.065 7288.55,-174.43 7281.25,-165.235\"/>\r\n",
       "<polygon fill=\"black\" stroke=\"black\" points=\"7283.9,-162.954 7274.94,-157.299 7278.42,-167.307 7283.9,-162.954\"/>\r\n",
       "</g>\r\n",
       "<!-- 111 -->\r\n",
       "<g id=\"node112\" class=\"node\"><title>111</title>\r\n",
       "<polygon fill=\"#e99355\" stroke=\"black\" points=\"7484,-157 7339,-157 7339,-89 7484,-89 7484,-157\"/>\r\n",
       "<text text-anchor=\"middle\" x=\"7411.5\" y=\"-141.8\" font-family=\"Times New Roman,serif\" font-size=\"14.00\">diff_cat_review &lt;= 3.5</text>\r\n",
       "<text text-anchor=\"middle\" x=\"7411.5\" y=\"-126.8\" font-family=\"Times New Roman,serif\" font-size=\"14.00\">samples = 145</text>\r\n",
       "<text text-anchor=\"middle\" x=\"7411.5\" y=\"-111.8\" font-family=\"Times New Roman,serif\" font-size=\"14.00\">value = [127, 18]</text>\r\n",
       "<text text-anchor=\"middle\" x=\"7411.5\" y=\"-96.8\" font-family=\"Times New Roman,serif\" font-size=\"14.00\">class = 0</text>\r\n",
       "</g>\r\n",
       "<!-- 107&#45;&gt;111 -->\r\n",
       "<g id=\"edge111\" class=\"edge\"><title>107&#45;&gt;111</title>\r\n",
       "<path fill=\"none\" stroke=\"black\" d=\"M7356.12,-192.884C7363.21,-184.065 7370.96,-174.43 7378.35,-165.235\"/>\r\n",
       "<polygon fill=\"black\" stroke=\"black\" points=\"7381.19,-167.286 7384.73,-157.299 7375.74,-162.9 7381.19,-167.286\"/>\r\n",
       "</g>\r\n",
       "<!-- 109 -->\r\n",
       "<g id=\"node110\" class=\"node\"><title>109</title>\r\n",
       "<polygon fill=\"#f9e2d1\" stroke=\"black\" points=\"7205.5,-53 7101.5,-53 7101.5,-0 7205.5,-0 7205.5,-53\"/>\r\n",
       "<text text-anchor=\"middle\" x=\"7153.5\" y=\"-37.8\" font-family=\"Times New Roman,serif\" font-size=\"14.00\">samples = 161</text>\r\n",
       "<text text-anchor=\"middle\" x=\"7153.5\" y=\"-22.8\" font-family=\"Times New Roman,serif\" font-size=\"14.00\">value = [91, 70]</text>\r\n",
       "<text text-anchor=\"middle\" x=\"7153.5\" y=\"-7.8\" font-family=\"Times New Roman,serif\" font-size=\"14.00\">class = 0</text>\r\n",
       "</g>\r\n",
       "<!-- 108&#45;&gt;109 -->\r\n",
       "<g id=\"edge109\" class=\"edge\"><title>108&#45;&gt;109</title>\r\n",
       "<path fill=\"none\" stroke=\"black\" d=\"M7215.27,-88.9485C7205.99,-79.709 7195.89,-69.671 7186.61,-60.4381\"/>\r\n",
       "<polygon fill=\"black\" stroke=\"black\" points=\"7188.93,-57.8077 7179.37,-53.2367 7183.99,-62.7705 7188.93,-57.8077\"/>\r\n",
       "</g>\r\n",
       "<!-- 110 -->\r\n",
       "<g id=\"node111\" class=\"node\"><title>110</title>\r\n",
       "<polygon fill=\"#e78a48\" stroke=\"black\" points=\"7321.5,-53 7223.5,-53 7223.5,-0 7321.5,-0 7321.5,-53\"/>\r\n",
       "<text text-anchor=\"middle\" x=\"7272.5\" y=\"-37.8\" font-family=\"Times New Roman,serif\" font-size=\"14.00\">samples = 43</text>\r\n",
       "<text text-anchor=\"middle\" x=\"7272.5\" y=\"-22.8\" font-family=\"Times New Roman,serif\" font-size=\"14.00\">value = [40, 3]</text>\r\n",
       "<text text-anchor=\"middle\" x=\"7272.5\" y=\"-7.8\" font-family=\"Times New Roman,serif\" font-size=\"14.00\">class = 0</text>\r\n",
       "</g>\r\n",
       "<!-- 108&#45;&gt;110 -->\r\n",
       "<g id=\"edge110\" class=\"edge\"><title>108&#45;&gt;110</title>\r\n",
       "<path fill=\"none\" stroke=\"black\" d=\"M7256.89,-88.9485C7259.01,-80.6238 7261.29,-71.6509 7263.43,-63.2027\"/>\r\n",
       "<polygon fill=\"black\" stroke=\"black\" points=\"7266.89,-63.7906 7265.96,-53.2367 7260.11,-62.0675 7266.89,-63.7906\"/>\r\n",
       "</g>\r\n",
       "<!-- 112 -->\r\n",
       "<g id=\"node113\" class=\"node\"><title>112</title>\r\n",
       "<polygon fill=\"#e68540\" stroke=\"black\" points=\"7437.5,-53 7339.5,-53 7339.5,-0 7437.5,-0 7437.5,-53\"/>\r\n",
       "<text text-anchor=\"middle\" x=\"7388.5\" y=\"-37.8\" font-family=\"Times New Roman,serif\" font-size=\"14.00\">samples = 88</text>\r\n",
       "<text text-anchor=\"middle\" x=\"7388.5\" y=\"-22.8\" font-family=\"Times New Roman,serif\" font-size=\"14.00\">value = [85, 3]</text>\r\n",
       "<text text-anchor=\"middle\" x=\"7388.5\" y=\"-7.8\" font-family=\"Times New Roman,serif\" font-size=\"14.00\">class = 0</text>\r\n",
       "</g>\r\n",
       "<!-- 111&#45;&gt;112 -->\r\n",
       "<g id=\"edge112\" class=\"edge\"><title>111&#45;&gt;112</title>\r\n",
       "<path fill=\"none\" stroke=\"black\" d=\"M7403.46,-88.9485C7401.43,-80.6238 7399.25,-71.6509 7397.19,-63.2027\"/>\r\n",
       "<polygon fill=\"black\" stroke=\"black\" points=\"7400.53,-62.1253 7394.76,-53.2367 7393.73,-63.7808 7400.53,-62.1253\"/>\r\n",
       "</g>\r\n",
       "<!-- 113 -->\r\n",
       "<g id=\"node114\" class=\"node\"><title>113</title>\r\n",
       "<polygon fill=\"#eeae80\" stroke=\"black\" points=\"7559.5,-53 7455.5,-53 7455.5,-0 7559.5,-0 7559.5,-53\"/>\r\n",
       "<text text-anchor=\"middle\" x=\"7507.5\" y=\"-37.8\" font-family=\"Times New Roman,serif\" font-size=\"14.00\">samples = 57</text>\r\n",
       "<text text-anchor=\"middle\" x=\"7507.5\" y=\"-22.8\" font-family=\"Times New Roman,serif\" font-size=\"14.00\">value = [42, 15]</text>\r\n",
       "<text text-anchor=\"middle\" x=\"7507.5\" y=\"-7.8\" font-family=\"Times New Roman,serif\" font-size=\"14.00\">class = 0</text>\r\n",
       "</g>\r\n",
       "<!-- 111&#45;&gt;113 -->\r\n",
       "<g id=\"edge113\" class=\"edge\"><title>111&#45;&gt;113</title>\r\n",
       "<path fill=\"none\" stroke=\"black\" d=\"M7445.08,-88.9485C7454.46,-79.709 7464.66,-69.671 7474.04,-60.4381\"/>\r\n",
       "<polygon fill=\"black\" stroke=\"black\" points=\"7476.68,-62.7462 7481.35,-53.2367 7471.77,-57.7576 7476.68,-62.7462\"/>\r\n",
       "</g>\r\n",
       "<!-- 115 -->\r\n",
       "<g id=\"node116\" class=\"node\"><title>115</title>\r\n",
       "<polygon fill=\"#e89050\" stroke=\"black\" points=\"7756,-157 7611,-157 7611,-89 7756,-89 7756,-157\"/>\r\n",
       "<text text-anchor=\"middle\" x=\"7683.5\" y=\"-141.8\" font-family=\"Times New Roman,serif\" font-size=\"14.00\">purchase_times &lt;= 2.5</text>\r\n",
       "<text text-anchor=\"middle\" x=\"7683.5\" y=\"-126.8\" font-family=\"Times New Roman,serif\" font-size=\"14.00\">samples = 1074</text>\r\n",
       "<text text-anchor=\"middle\" x=\"7683.5\" y=\"-111.8\" font-family=\"Times New Roman,serif\" font-size=\"14.00\">value = [962, 112]</text>\r\n",
       "<text text-anchor=\"middle\" x=\"7683.5\" y=\"-96.8\" font-family=\"Times New Roman,serif\" font-size=\"14.00\">class = 0</text>\r\n",
       "</g>\r\n",
       "<!-- 114&#45;&gt;115 -->\r\n",
       "<g id=\"edge115\" class=\"edge\"><title>114&#45;&gt;115</title>\r\n",
       "<path fill=\"none\" stroke=\"black\" d=\"M7683.5,-192.884C7683.5,-184.778 7683.5,-175.982 7683.5,-167.472\"/>\r\n",
       "<polygon fill=\"black\" stroke=\"black\" points=\"7687,-167.299 7683.5,-157.299 7680,-167.299 7687,-167.299\"/>\r\n",
       "</g>\r\n",
       "<!-- 118 -->\r\n",
       "<g id=\"node119\" class=\"node\"><title>118</title>\r\n",
       "<polygon fill=\"#f0b78e\" stroke=\"black\" points=\"7951.5,-157 7825.5,-157 7825.5,-89 7951.5,-89 7951.5,-157\"/>\r\n",
       "<text text-anchor=\"middle\" x=\"7888.5\" y=\"-141.8\" font-family=\"Times New Roman,serif\" font-size=\"14.00\">total_logs &lt;= 158.0</text>\r\n",
       "<text text-anchor=\"middle\" x=\"7888.5\" y=\"-126.8\" font-family=\"Times New Roman,serif\" font-size=\"14.00\">samples = 100</text>\r\n",
       "<text text-anchor=\"middle\" x=\"7888.5\" y=\"-111.8\" font-family=\"Times New Roman,serif\" font-size=\"14.00\">value = [70, 30]</text>\r\n",
       "<text text-anchor=\"middle\" x=\"7888.5\" y=\"-96.8\" font-family=\"Times New Roman,serif\" font-size=\"14.00\">class = 0</text>\r\n",
       "</g>\r\n",
       "<!-- 114&#45;&gt;118 -->\r\n",
       "<g id=\"edge118\" class=\"edge\"><title>114&#45;&gt;118</title>\r\n",
       "<path fill=\"none\" stroke=\"black\" d=\"M7750.06,-192.884C7771.23,-182.347 7794.75,-170.645 7816.31,-159.921\"/>\r\n",
       "<polygon fill=\"black\" stroke=\"black\" points=\"7818.02,-162.979 7825.41,-155.391 7814.9,-156.712 7818.02,-162.979\"/>\r\n",
       "</g>\r\n",
       "<!-- 116 -->\r\n",
       "<g id=\"node117\" class=\"node\"><title>116</title>\r\n",
       "<polygon fill=\"#e78c4a\" stroke=\"black\" points=\"7689,-53 7578,-53 7578,-0 7689,-0 7689,-53\"/>\r\n",
       "<text text-anchor=\"middle\" x=\"7633.5\" y=\"-37.8\" font-family=\"Times New Roman,serif\" font-size=\"14.00\">samples = 858</text>\r\n",
       "<text text-anchor=\"middle\" x=\"7633.5\" y=\"-22.8\" font-family=\"Times New Roman,serif\" font-size=\"14.00\">value = [790, 68]</text>\r\n",
       "<text text-anchor=\"middle\" x=\"7633.5\" y=\"-7.8\" font-family=\"Times New Roman,serif\" font-size=\"14.00\">class = 0</text>\r\n",
       "</g>\r\n",
       "<!-- 115&#45;&gt;116 -->\r\n",
       "<g id=\"edge116\" class=\"edge\"><title>115&#45;&gt;116</title>\r\n",
       "<path fill=\"none\" stroke=\"black\" d=\"M7666.01,-88.9485C7661.41,-80.2579 7656.44,-70.8608 7651.8,-62.0917\"/>\r\n",
       "<polygon fill=\"black\" stroke=\"black\" points=\"7654.89,-60.4389 7647.12,-53.2367 7648.7,-63.7126 7654.89,-60.4389\"/>\r\n",
       "</g>\r\n",
       "<!-- 117 -->\r\n",
       "<g id=\"node118\" class=\"node\"><title>117</title>\r\n",
       "<polygon fill=\"#eca16c\" stroke=\"black\" points=\"7818,-53 7707,-53 7707,-0 7818,-0 7818,-53\"/>\r\n",
       "<text text-anchor=\"middle\" x=\"7762.5\" y=\"-37.8\" font-family=\"Times New Roman,serif\" font-size=\"14.00\">samples = 216</text>\r\n",
       "<text text-anchor=\"middle\" x=\"7762.5\" y=\"-22.8\" font-family=\"Times New Roman,serif\" font-size=\"14.00\">value = [172, 44]</text>\r\n",
       "<text text-anchor=\"middle\" x=\"7762.5\" y=\"-7.8\" font-family=\"Times New Roman,serif\" font-size=\"14.00\">class = 0</text>\r\n",
       "</g>\r\n",
       "<!-- 115&#45;&gt;117 -->\r\n",
       "<g id=\"edge117\" class=\"edge\"><title>115&#45;&gt;117</title>\r\n",
       "<path fill=\"none\" stroke=\"black\" d=\"M7711.13,-88.9485C7718.7,-79.892 7726.91,-70.0682 7734.51,-60.9875\"/>\r\n",
       "<polygon fill=\"black\" stroke=\"black\" points=\"7737.26,-63.1538 7740.98,-53.2367 7731.89,-58.6641 7737.26,-63.1538\"/>\r\n",
       "</g>\r\n",
       "<!-- 119 -->\r\n",
       "<g id=\"node120\" class=\"node\"><title>119</title>\r\n",
       "<polygon fill=\"#eeab7b\" stroke=\"black\" points=\"7940.5,-53 7836.5,-53 7836.5,-0 7940.5,-0 7940.5,-53\"/>\r\n",
       "<text text-anchor=\"middle\" x=\"7888.5\" y=\"-37.8\" font-family=\"Times New Roman,serif\" font-size=\"14.00\">samples = 92</text>\r\n",
       "<text text-anchor=\"middle\" x=\"7888.5\" y=\"-22.8\" font-family=\"Times New Roman,serif\" font-size=\"14.00\">value = [69, 23]</text>\r\n",
       "<text text-anchor=\"middle\" x=\"7888.5\" y=\"-7.8\" font-family=\"Times New Roman,serif\" font-size=\"14.00\">class = 0</text>\r\n",
       "</g>\r\n",
       "<!-- 118&#45;&gt;119 -->\r\n",
       "<g id=\"edge119\" class=\"edge\"><title>118&#45;&gt;119</title>\r\n",
       "<path fill=\"none\" stroke=\"black\" d=\"M7888.5,-88.9485C7888.5,-80.7153 7888.5,-71.848 7888.5,-63.4814\"/>\r\n",
       "<polygon fill=\"black\" stroke=\"black\" points=\"7892,-63.2367 7888.5,-53.2367 7885,-63.2367 7892,-63.2367\"/>\r\n",
       "</g>\r\n",
       "<!-- 120 -->\r\n",
       "<g id=\"node121\" class=\"node\"><title>120</title>\r\n",
       "<polygon fill=\"#55abe9\" stroke=\"black\" points=\"8050,-53 7959,-53 7959,-0 8050,-0 8050,-53\"/>\r\n",
       "<text text-anchor=\"middle\" x=\"8004.5\" y=\"-37.8\" font-family=\"Times New Roman,serif\" font-size=\"14.00\">samples = 8</text>\r\n",
       "<text text-anchor=\"middle\" x=\"8004.5\" y=\"-22.8\" font-family=\"Times New Roman,serif\" font-size=\"14.00\">value = [1, 7]</text>\r\n",
       "<text text-anchor=\"middle\" x=\"8004.5\" y=\"-7.8\" font-family=\"Times New Roman,serif\" font-size=\"14.00\">class = 1</text>\r\n",
       "</g>\r\n",
       "<!-- 118&#45;&gt;120 -->\r\n",
       "<g id=\"edge120\" class=\"edge\"><title>118&#45;&gt;120</title>\r\n",
       "<path fill=\"none\" stroke=\"black\" d=\"M7929.07,-88.9485C7940.75,-79.4346 7953.47,-69.074 7965.08,-59.6175\"/>\r\n",
       "<polygon fill=\"black\" stroke=\"black\" points=\"7967.37,-62.2663 7972.91,-53.2367 7962.94,-56.8392 7967.37,-62.2663\"/>\r\n",
       "</g>\r\n",
       "</g>\r\n",
       "</svg>\r\n"
      ],
      "text/plain": [
       "<graphviz.files.Source at 0x2478513d6a0>"
      ]
     },
     "execution_count": 86,
     "metadata": {},
     "output_type": "execute_result"
    }
   ],
   "source": [
    "with open(\"tree.dot\") as f: \n",
    "    dot_graph = f.read() \n",
    "graphviz.Source(dot_graph)"
   ]
  },
  {
   "cell_type": "code",
   "execution_count": 87,
   "metadata": {
    "scrolled": true
   },
   "outputs": [
    {
     "data": {
      "text/plain": [
       "<BarContainer object of 19 artists>"
      ]
     },
     "execution_count": 87,
     "metadata": {},
     "output_type": "execute_result"
    },
    {
     "data": {
      "image/png": "[encoded data removed]",
      "text/plain": [
       "<Figure size 720x432 with 1 Axes>"
      ]
     },
     "metadata": {
      "needs_background": "light"
     },
     "output_type": "display_data"
    }
   ],
   "source": [
    "# plot feature importance\n",
    "fig = plt.figure(figsize=(10,6))\n",
    "plt.barh(X.columns.tolist(),height=0.5,width=tree.feature_importances_,align=\"center\")"
   ]
  },
  {
   "cell_type": "code",
   "execution_count": 88,
   "metadata": {},
   "outputs": [
    {
     "name": "stdout",
     "output_type": "stream",
     "text": [
      "Confusion matrix, without normalization\n",
      "[[46924 14304]\n",
      " [ 2788  1200]]\n",
      "Normalized confusion matrix\n",
      "[[0.77 0.23]\n",
      " [0.7  0.3 ]]\n"
     ]
    },
    {
     "data": {
      "image/png": "[encoded data removed]",
      "text/plain": [
       "<Figure size 432x288 with 2 Axes>"
      ]
     },
     "metadata": {
      "needs_background": "light"
     },
     "output_type": "display_data"
    },
    {
     "data": {
      "image/png": "[encoded data removed]",
      "text/plain": [
       "<Figure size 432x288 with 2 Axes>"
      ]
     },
     "metadata": {
      "needs_background": "light"
     },
     "output_type": "display_data"
    }
   ],
   "source": [
    "# Compute confusion matrix\n",
    "cnf_matrix = confusion_matrix(y_test, y_pred)\n",
    "np.set_printoptions(precision=2)\n",
    "\n",
    "# Plot non-normalized confusion matrix\n",
    "plt.figure()\n",
    "plot_confusion_matrix(cnf_matrix, classes=class_names,\n",
    "                      title='Confusion matrix, without normalization')\n",
    "#plt.savefig('figures/XX_cm_multi_class.png')\n",
    "\n",
    "# Plot normalized confusion matrix\n",
    "plt.figure()\n",
    "plot_confusion_matrix(cnf_matrix, classes=class_names, normalize=True,\n",
    "                      title='Normalized confusion matrix')\n",
    "#plt.savefig('figures/XX_cm_proportion_multi_class.png', bbox_inches=\"tight\")"
   ]
  },
  {
   "cell_type": "code",
   "execution_count": 89,
   "metadata": {},
   "outputs": [
    {
     "name": "stdout",
     "output_type": "stream",
     "text": [
      "              precision    recall  f1-score   support\n",
      "\n",
      "           0       0.94      0.77      0.85     61228\n",
      "           1       0.08      0.30      0.12      3988\n",
      "\n",
      "    accuracy                           0.74     65216\n",
      "   macro avg       0.51      0.53      0.48     65216\n",
      "weighted avg       0.89      0.74      0.80     65216\n",
      "\n"
     ]
    }
   ],
   "source": [
    "print(classification_report(y_test, y_pred))"
   ]
  },
  {
   "cell_type": "code",
   "execution_count": 90,
   "metadata": {},
   "outputs": [
    {
     "data": {
      "text/plain": [
       "0.06603992862992737"
      ]
     },
     "execution_count": 90,
     "metadata": {},
     "output_type": "execute_result"
    }
   ],
   "source": [
    "# plot Precision-Recall curve\n",
    "average_precision = average_precision_score(y_test, y_pred)\n",
    "average_precision"
   ]
  },
  {
   "cell_type": "code",
   "execution_count": 91,
   "metadata": {},
   "outputs": [
    {
     "data": {
      "text/plain": [
       "Text(0.5, 1.0, '2-class Precision-Recall curve: AP=0.07')"
      ]
     },
     "execution_count": 91,
     "metadata": {},
     "output_type": "execute_result"
    },
    {
     "data": {
      "image/png": "[encoded data removed]",
      "text/plain": [
       "<Figure size 432x288 with 1 Axes>"
      ]
     },
     "metadata": {
      "needs_background": "light"
     },
     "output_type": "display_data"
    }
   ],
   "source": [
    "disp = plot_precision_recall_curve(tree, X_test, y_test)\n",
    "disp.ax_.set_title('2-class Precision-Recall curve: '\n",
    "                   'AP={0:0.2f}'.format(average_precision))"
   ]
  },
  {
   "cell_type": "code",
   "execution_count": null,
   "metadata": {},
   "outputs": [],
   "source": []
  },
  {
   "cell_type": "code",
   "execution_count": null,
   "metadata": {},
   "outputs": [],
   "source": []
  },
  {
   "cell_type": "markdown",
   "metadata": {},
   "source": [
    "### 5.3 Random Forest"
   ]
  },
  {
   "cell_type": "code",
   "execution_count": 92,
   "metadata": {},
   "outputs": [
    {
     "name": "stdout",
     "output_type": "stream",
     "text": [
      "Accuracy on training set: 0.8030557914679558\n",
      "Accuracy on test set: 0.8253036064769381\n"
     ]
    }
   ],
   "source": [
    "from sklearn.ensemble import RandomForestClassifier\n",
    "forest = RandomForestClassifier(n_estimators=100, random_state=42) \n",
    "forest.fit(X_train, y_train)\n",
    "#Predict_proba = forest.predict_proba(X_test)\n",
    "\n",
    "y_pred = forest.predict(X_test)\n",
    "scores_forest_train = forest.score(X_train, y_train)\n",
    "scores_forest_test = forest.score(X_test, y_test)\n",
    "\n",
    "print(f'Accuracy on training set: {scores_forest_train}') \n",
    "print(f'Accuracy on test set: {scores_forest_test}')\n"
   ]
  },
  {
   "cell_type": "code",
   "execution_count": 93,
   "metadata": {},
   "outputs": [],
   "source": [
    "# from sklearn.ensemble import RandomForestClassifier\n",
    "# forest = RandomForestClassifier(oob_score=True, n_jobs=-1, n_estimators=1000, max_depth=10, max_features='sqrt', random_state=42) \n",
    "# forest.fit(X_train, y_train)\n",
    "# #Predict_proba = forest.predict_proba(X_test)\n",
    "\n",
    "# y_pred = forest.predict(X_test)\n",
    "# scores_forest_train = forest.score(X_train, y_train)\n",
    "# scores_forest_test = forest.score(X_test, y_test)\n",
    "\n",
    "# print(f'Accuracy on training set: {scores_forest_train}') \n",
    "# print(f'Accuracy on test set: {scores_forest_test}')"
   ]
  },
  {
   "cell_type": "code",
   "execution_count": 94,
   "metadata": {},
   "outputs": [
    {
     "data": {
      "text/plain": [
       "<BarContainer object of 19 artists>"
      ]
     },
     "execution_count": 94,
     "metadata": {},
     "output_type": "execute_result"
    },
    {
     "data": {
      "image/png": "[encoded data removed]",
      "text/plain": [
       "<Figure size 720x432 with 1 Axes>"
      ]
     },
     "metadata": {
      "needs_background": "light"
     },
     "output_type": "display_data"
    }
   ],
   "source": [
    "# plot feature importance\n",
    "fig = plt.figure(figsize=(10,6))\n",
    "plt.barh(X.columns.tolist(),height=0.5,width=forest.feature_importances_,align=\"center\")"
   ]
  },
  {
   "cell_type": "code",
   "execution_count": 95,
   "metadata": {},
   "outputs": [
    {
     "name": "stdout",
     "output_type": "stream",
     "text": [
      "Confusion matrix, without normalization\n",
      "[[53315  7913]\n",
      " [ 3480   508]]\n",
      "Normalized confusion matrix\n",
      "[[0.87 0.13]\n",
      " [0.87 0.13]]\n"
     ]
    },
    {
     "data": {
      "image/png": "[encoded data removed]",
      "text/plain": [
       "<Figure size 432x288 with 2 Axes>"
      ]
     },
     "metadata": {
      "needs_background": "light"
     },
     "output_type": "display_data"
    },
    {
     "data": {
      "image/png": "[encoded data removed]",
      "text/plain": [
       "<Figure size 432x288 with 2 Axes>"
      ]
     },
     "metadata": {
      "needs_background": "light"
     },
     "output_type": "display_data"
    }
   ],
   "source": [
    "# Compute confusion matrix\n",
    "cnf_matrix = confusion_matrix(y_test, y_pred)\n",
    "np.set_printoptions(precision=2)\n",
    "\n",
    "# Plot non-normalized confusion matrix\n",
    "plt.figure()\n",
    "plot_confusion_matrix(cnf_matrix, classes=class_names,\n",
    "                      title='Confusion matrix, without normalization')\n",
    "#plt.savefig('figures/XX_cm_multi_class.png')\n",
    "\n",
    "# Plot normalized confusion matrix\n",
    "plt.figure()\n",
    "plot_confusion_matrix(cnf_matrix, classes=class_names, normalize=True,\n",
    "                      title='Normalized confusion matrix')\n",
    "#plt.savefig('figures/XX_cm_proportion_multi_class.png', bbox_inches=\"tight\")"
   ]
  },
  {
   "cell_type": "code",
   "execution_count": 96,
   "metadata": {},
   "outputs": [
    {
     "name": "stdout",
     "output_type": "stream",
     "text": [
      "              precision    recall  f1-score   support\n",
      "\n",
      "           0       0.94      0.87      0.90     61228\n",
      "           1       0.06      0.13      0.08      3988\n",
      "\n",
      "    accuracy                           0.83     65216\n",
      "   macro avg       0.50      0.50      0.49     65216\n",
      "weighted avg       0.89      0.83      0.85     65216\n",
      "\n"
     ]
    }
   ],
   "source": [
    "print(classification_report(y_test, y_pred))"
   ]
  },
  {
   "cell_type": "code",
   "execution_count": 97,
   "metadata": {},
   "outputs": [
    {
     "data": {
      "text/plain": [
       "0.06104551438225384"
      ]
     },
     "execution_count": 97,
     "metadata": {},
     "output_type": "execute_result"
    }
   ],
   "source": [
    "# plot Precision-Recall curve\n",
    "average_precision = average_precision_score(y_test, y_pred)\n",
    "average_precision"
   ]
  },
  {
   "cell_type": "code",
   "execution_count": 98,
   "metadata": {},
   "outputs": [
    {
     "data": {
      "text/plain": [
       "Text(0.5, 1.0, '2-class Precision-Recall curve: AP=0.06')"
      ]
     },
     "execution_count": 98,
     "metadata": {},
     "output_type": "execute_result"
    },
    {
     "data": {
      "image/png": "[encoded data removed]",
      "text/plain": [
       "<Figure size 432x288 with 1 Axes>"
      ]
     },
     "metadata": {
      "needs_background": "light"
     },
     "output_type": "display_data"
    }
   ],
   "source": [
    "disp = plot_precision_recall_curve(forest, X_test, y_test)\n",
    "disp.ax_.set_title('2-class Precision-Recall curve: '\n",
    "                   'AP={0:0.2f}'.format(average_precision))"
   ]
  },
  {
   "cell_type": "code",
   "execution_count": null,
   "metadata": {},
   "outputs": [],
   "source": []
  },
  {
   "cell_type": "markdown",
   "metadata": {},
   "source": [
    "### 5.4 Gradient Boosting Tree"
   ]
  },
  {
   "cell_type": "code",
   "execution_count": 99,
   "metadata": {},
   "outputs": [
    {
     "name": "stdout",
     "output_type": "stream",
     "text": [
      "Accuracy on training set: 0.6811126717623746\n",
      "Accuracy on test set: 0.8847368743866536\n"
     ]
    }
   ],
   "source": [
    "from sklearn.ensemble import GradientBoostingClassifier\n",
    "gbt = GradientBoostingClassifier(random_state=42) \n",
    "gbt.fit(X_train, y_train)\n",
    "#Predict_proba = gbrt.predict_proba(X_test)\n",
    "\n",
    "y_pred = gbt.predict(X_test)\n",
    "scores_gbt_train = gbt.score(X_train, y_train)\n",
    "scores_gbt_test = gbt.score(X_test, y_test)\n",
    "\n",
    "print(f'Accuracy on training set: {scores_gbt_train}') \n",
    "print(f'Accuracy on test set: {scores_gbt_test}')"
   ]
  },
  {
   "cell_type": "code",
   "execution_count": 100,
   "metadata": {},
   "outputs": [
    {
     "data": {
      "text/plain": [
       "<BarContainer object of 19 artists>"
      ]
     },
     "execution_count": 100,
     "metadata": {},
     "output_type": "execute_result"
    },
    {
     "data": {
      "image/png": "[encoded data removed]",
      "text/plain": [
       "<Figure size 720x432 with 1 Axes>"
      ]
     },
     "metadata": {
      "needs_background": "light"
     },
     "output_type": "display_data"
    }
   ],
   "source": [
    "# plot feature importance\n",
    "fig = plt.figure(figsize=(10,6))\n",
    "plt.barh(X.columns.tolist(),height=0.5,width=gbt.feature_importances_,align=\"center\")"
   ]
  },
  {
   "cell_type": "code",
   "execution_count": 101,
   "metadata": {},
   "outputs": [
    {
     "name": "stdout",
     "output_type": "stream",
     "text": [
      "Confusion matrix, without normalization\n",
      "[[57419  3809]\n",
      " [ 3708   280]]\n",
      "Normalized confusion matrix\n",
      "[[0.94 0.06]\n",
      " [0.93 0.07]]\n"
     ]
    },
    {
     "data": {
      "image/png": "[encoded data removed]",
      "text/plain": [
       "<Figure size 432x288 with 2 Axes>"
      ]
     },
     "metadata": {
      "needs_background": "light"
     },
     "output_type": "display_data"
    },
    {
     "data": {
      "image/png": "[encoded data removed]",
      "text/plain": [
       "<Figure size 432x288 with 2 Axes>"
      ]
     },
     "metadata": {
      "needs_background": "light"
     },
     "output_type": "display_data"
    }
   ],
   "source": [
    "# Compute confusion matrix\n",
    "cnf_matrix = confusion_matrix(y_test, y_pred)\n",
    "np.set_printoptions(precision=2)\n",
    "\n",
    "# Plot non-normalized confusion matrix\n",
    "plt.figure()\n",
    "plot_confusion_matrix(cnf_matrix, classes=class_names,\n",
    "                      title='Confusion matrix, without normalization')\n",
    "#plt.savefig('figures/XX_cm_multi_class.png')\n",
    "\n",
    "# Plot normalized confusion matrix\n",
    "plt.figure()\n",
    "plot_confusion_matrix(cnf_matrix, classes=class_names, normalize=True,\n",
    "                      title='Normalized confusion matrix')\n",
    "#plt.savefig('figures/XX_cm_proportion_multi_class.png', bbox_inches=\"tight\")"
   ]
  },
  {
   "cell_type": "code",
   "execution_count": 102,
   "metadata": {},
   "outputs": [
    {
     "name": "stdout",
     "output_type": "stream",
     "text": [
      "              precision    recall  f1-score   support\n",
      "\n",
      "           0       0.94      0.94      0.94     61228\n",
      "           1       0.07      0.07      0.07      3988\n",
      "\n",
      "    accuracy                           0.88     65216\n",
      "   macro avg       0.50      0.50      0.50     65216\n",
      "weighted avg       0.89      0.88      0.89     65216\n",
      "\n"
     ]
    }
   ],
   "source": [
    "print(classification_report(y_test, y_pred))"
   ]
  },
  {
   "cell_type": "code",
   "execution_count": 103,
   "metadata": {},
   "outputs": [
    {
     "data": {
      "text/plain": [
       "0.06166498427468641"
      ]
     },
     "execution_count": 103,
     "metadata": {},
     "output_type": "execute_result"
    }
   ],
   "source": [
    "# plot Precision-Recall curve\n",
    "average_precision = average_precision_score(y_test, y_pred)\n",
    "average_precision"
   ]
  },
  {
   "cell_type": "code",
   "execution_count": 104,
   "metadata": {},
   "outputs": [
    {
     "data": {
      "text/plain": [
       "Text(0.5, 1.0, '2-class Precision-Recall curve: AP=0.06')"
      ]
     },
     "execution_count": 104,
     "metadata": {},
     "output_type": "execute_result"
    },
    {
     "data": {
      "image/png": "[encoded data removed]",
      "text/plain": [
       "<Figure size 432x288 with 1 Axes>"
      ]
     },
     "metadata": {
      "needs_background": "light"
     },
     "output_type": "display_data"
    }
   ],
   "source": [
    "disp = plot_precision_recall_curve(gbt, X_test, y_test)\n",
    "disp.ax_.set_title('2-class Precision-Recall curve: '\n",
    "                   'AP={0:0.2f}'.format(average_precision))"
   ]
  },
  {
   "cell_type": "markdown",
   "metadata": {},
   "source": [
    "### 5.5 Multilayer Perceptron"
   ]
  },
  {
   "cell_type": "code",
   "execution_count": 105,
   "metadata": {},
   "outputs": [
    {
     "data": {
      "text/plain": [
       "0.8757513493621197"
      ]
     },
     "execution_count": 105,
     "metadata": {},
     "output_type": "execute_result"
    }
   ],
   "source": [
    "from sklearn.neural_network import MLPClassifier\n",
    "mlp = MLPClassifier(solver='adam', activation='relu',alpha=0.1,random_state=42,hidden_layer_sizes=[10,5]).fit(X_train, y_train)\n",
    "y_pred = mlp.predict(X_test)\n",
    "#y_pred_proba = mlp.predict_proba(X_test)\n",
    "\n",
    "\n",
    "score_mlp = accuracy_score(y_test, y_pred)\n",
    "score_mlp"
   ]
  },
  {
   "cell_type": "code",
   "execution_count": 106,
   "metadata": {},
   "outputs": [
    {
     "data": {
      "text/plain": [
       "<matplotlib.colorbar.Colorbar at 0x24785007040>"
      ]
     },
     "execution_count": 106,
     "metadata": {},
     "output_type": "execute_result"
    },
    {
     "data": {
      "image/png": "[encoded data removed]",
      "text/plain": [
       "<Figure size 720x432 with 2 Axes>"
      ]
     },
     "metadata": {
      "needs_background": "light"
     },
     "output_type": "display_data"
    }
   ],
   "source": [
    "plt.figure(figsize=(10, 6))\n",
    "plt.imshow(mlp.coefs_[0], interpolation='none')\n",
    "plt.yticks(range(19), X.columns.tolist()) \n",
    "plt.xlabel(\"Columns in weight matrix\") \n",
    "plt.ylabel(\"Input feature\") \n",
    "plt.colorbar()"
   ]
  },
  {
   "cell_type": "code",
   "execution_count": 107,
   "metadata": {},
   "outputs": [
    {
     "name": "stdout",
     "output_type": "stream",
     "text": [
      "Confusion matrix, without normalization\n",
      "[[56765  4463]\n",
      " [ 3640   348]]\n",
      "Normalized confusion matrix\n",
      "[[0.93 0.07]\n",
      " [0.91 0.09]]\n"
     ]
    },
    {
     "data": {
      "image/png": "[encoded data removed]",
      "text/plain": [
       "<Figure size 432x288 with 2 Axes>"
      ]
     },
     "metadata": {
      "needs_background": "light"
     },
     "output_type": "display_data"
    },
    {
     "data": {
      "image/png": "[encoded data removed]",
      "text/plain": [
       "<Figure size 432x288 with 2 Axes>"
      ]
     },
     "metadata": {
      "needs_background": "light"
     },
     "output_type": "display_data"
    }
   ],
   "source": [
    "# Compute confusion matrix\n",
    "cnf_matrix = confusion_matrix(y_test, y_pred)\n",
    "np.set_printoptions(precision=2)\n",
    "\n",
    "# Plot non-normalized confusion matrix\n",
    "plt.figure()\n",
    "plot_confusion_matrix(cnf_matrix, classes=class_names,\n",
    "                      title='Confusion matrix, without normalization')\n",
    "#plt.savefig('figures/XX_cm_multi_class.png')\n",
    "\n",
    "# Plot normalized confusion matrix\n",
    "plt.figure()\n",
    "plot_confusion_matrix(cnf_matrix, classes=class_names, normalize=True,\n",
    "                      title='Normalized confusion matrix')\n",
    "#plt.savefig('figures/XX_cm_proportion_multi_class.png', bbox_inches=\"tight\")"
   ]
  },
  {
   "cell_type": "code",
   "execution_count": 108,
   "metadata": {},
   "outputs": [
    {
     "name": "stdout",
     "output_type": "stream",
     "text": [
      "              precision    recall  f1-score   support\n",
      "\n",
      "           0       0.94      0.93      0.93     61228\n",
      "           1       0.07      0.09      0.08      3988\n",
      "\n",
      "    accuracy                           0.88     65216\n",
      "   macro avg       0.51      0.51      0.51     65216\n",
      "weighted avg       0.89      0.88      0.88     65216\n",
      "\n"
     ]
    }
   ],
   "source": [
    "print(classification_report(y_test, y_pred))"
   ]
  },
  {
   "cell_type": "code",
   "execution_count": 109,
   "metadata": {},
   "outputs": [
    {
     "data": {
      "text/plain": [
       "0.062126538448482385"
      ]
     },
     "execution_count": 109,
     "metadata": {},
     "output_type": "execute_result"
    }
   ],
   "source": [
    "# plot Precision-Recall curve\n",
    "average_precision = average_precision_score(y_test, y_pred)\n",
    "average_precision"
   ]
  },
  {
   "cell_type": "code",
   "execution_count": 110,
   "metadata": {},
   "outputs": [
    {
     "data": {
      "text/plain": [
       "Text(0.5, 1.0, '2-class Precision-Recall curve: AP=0.06')"
      ]
     },
     "execution_count": 110,
     "metadata": {},
     "output_type": "execute_result"
    },
    {
     "data": {
      "image/png": "[encoded data removed]",
      "text/plain": [
       "<Figure size 432x288 with 1 Axes>"
      ]
     },
     "metadata": {
      "needs_background": "light"
     },
     "output_type": "display_data"
    }
   ],
   "source": [
    "disp = plot_precision_recall_curve(mlp, X_test, y_test)\n",
    "disp.ax_.set_title('2-class Precision-Recall curve: '\n",
    "                   'AP={0:0.2f}'.format(average_precision))"
   ]
  },
  {
   "cell_type": "markdown",
   "metadata": {},
   "source": [
    "### 5.6 Extreme Gradient Boosting"
   ]
  },
  {
   "cell_type": "code",
   "execution_count": 111,
   "metadata": {},
   "outputs": [
    {
     "name": "stdout",
     "output_type": "stream",
     "text": [
      "Requirement already satisfied: xgboost in c:\\users\\dnaan\\anaconda3\\lib\\site-packages (1.4.2)\n",
      "Requirement already satisfied: numpy in c:\\users\\dnaan\\anaconda3\\lib\\site-packages (from xgboost) (1.19.2)\n",
      "Requirement already satisfied: scipy in c:\\users\\dnaan\\anaconda3\\lib\\site-packages (from xgboost) (1.5.2)\n",
      "Note: you may need to restart the kernel to use updated packages.\n"
     ]
    }
   ],
   "source": [
    "pip install xgboost"
   ]
  },
  {
   "cell_type": "code",
   "execution_count": 112,
   "metadata": {},
   "outputs": [],
   "source": [
    "import xgboost as xgb"
   ]
  },
  {
   "cell_type": "code",
   "execution_count": 113,
   "metadata": {
    "scrolled": true
   },
   "outputs": [],
   "source": [
    "xgbmodel = xgb.XGBClassifier(max_depth=8, use_label_encoder=False, n_estimators=1000, min_child_weight=300, colsample_bytree=0.8, subsample=0.8, eta=0.3, seed=42)"
   ]
  },
  {
   "cell_type": "code",
   "execution_count": 114,
   "metadata": {},
   "outputs": [],
   "source": [
    "#xgbmodel.fit(X_train, y_train, eval_metric='auc', eval_set=[(X_train, y_train), (X_test, y_test)], verbose=True, early_stopping_rounds=10)"
   ]
  },
  {
   "cell_type": "code",
   "execution_count": 115,
   "metadata": {},
   "outputs": [],
   "source": [
    "X_train_1 = X_train.copy()\n",
    "y_train_1 = y_train.copy()\n",
    "X_test_1 = X_test.copy()\n",
    "y_test_1 = y_test.copy()"
   ]
  },
  {
   "cell_type": "code",
   "execution_count": 116,
   "metadata": {},
   "outputs": [],
   "source": [
    "X_train_1.rename(columns={'age_range_<18':'age_range_less18', 'age_range_>=50':'age_range_more50'}, inplace=True)\n",
    "X_test_1 = X_test_1.rename({'age_range_<18':'age_range_less18', 'age_range_>=50':'age_range_more50'}, inplace=True)"
   ]
  },
  {
   "cell_type": "code",
   "execution_count": 117,
   "metadata": {
    "scrolled": true
   },
   "outputs": [
    {
     "data": {
      "text/plain": [
       "XGBClassifier(base_score=0.5, booster='gbtree', colsample_bylevel=1,\n",
       "              colsample_bynode=1, colsample_bytree=0.8, eta=0.3, gamma=0,\n",
       "              gpu_id=-1, importance_type='gain', interaction_constraints='',\n",
       "              learning_rate=0.300000012, max_delta_step=0, max_depth=8,\n",
       "              min_child_weight=300, missing=nan, monotone_constraints='()',\n",
       "              n_estimators=1000, n_jobs=12, num_parallel_tree=1,\n",
       "              random_state=42, reg_alpha=0, reg_lambda=1, scale_pos_weight=1,\n",
       "              seed=42, subsample=0.8, tree_method='exact',\n",
       "              use_label_encoder=False, validate_parameters=1, verbosity=None)"
      ]
     },
     "execution_count": 117,
     "metadata": {},
     "output_type": "execute_result"
    }
   ],
   "source": [
    "xgbmodel.fit(X_train_1, y_train_1, eval_metric='auc', verbose=True)"
   ]
  },
  {
   "cell_type": "code",
   "execution_count": 118,
   "metadata": {},
   "outputs": [],
   "source": [
    "y_pred = xgbmodel.predict(X_test)"
   ]
  },
  {
   "cell_type": "code",
   "execution_count": 119,
   "metadata": {},
   "outputs": [
    {
     "name": "stdout",
     "output_type": "stream",
     "text": [
      "Confusion matrix, without normalization\n",
      "[[54012  7216]\n",
      " [ 3465   523]]\n",
      "Normalized confusion matrix\n",
      "[[0.88 0.12]\n",
      " [0.87 0.13]]\n"
     ]
    },
    {
     "data": {
      "image/png": "[encoded data removed]",
      "text/plain": [
       "<Figure size 432x288 with 2 Axes>"
      ]
     },
     "metadata": {
      "needs_background": "light"
     },
     "output_type": "display_data"
    },
    {
     "data": {
      "image/png": "[encoded data removed]",
      "text/plain": [
       "<Figure size 432x288 with 2 Axes>"
      ]
     },
     "metadata": {
      "needs_background": "light"
     },
     "output_type": "display_data"
    }
   ],
   "source": [
    "# Compute confusion matrix\n",
    "cnf_matrix = confusion_matrix(y_test, y_pred)\n",
    "np.set_printoptions(precision=2)\n",
    "\n",
    "# Plot non-normalized confusion matrix\n",
    "plt.figure()\n",
    "plot_confusion_matrix(cnf_matrix, classes=class_names,\n",
    "                      title='Confusion matrix, without normalization')\n",
    "#plt.savefig('figures/XX_cm_multi_class.png')\n",
    "\n",
    "# Plot normalized confusion matrix\n",
    "plt.figure()\n",
    "plot_confusion_matrix(cnf_matrix, classes=class_names, normalize=True,\n",
    "                      title='Normalized confusion matrix')\n",
    "#plt.savefig('figures/XX_cm_proportion_multi_class.png', bbox_inches=\"tight\")"
   ]
  },
  {
   "cell_type": "code",
   "execution_count": 120,
   "metadata": {},
   "outputs": [
    {
     "data": {
      "text/plain": [
       "0.5066444269766246"
      ]
     },
     "execution_count": 120,
     "metadata": {},
     "output_type": "execute_result"
    }
   ],
   "source": [
    "roc_auc_score(y_test, y_pred)"
   ]
  },
  {
   "cell_type": "code",
   "execution_count": 121,
   "metadata": {},
   "outputs": [
    {
     "name": "stdout",
     "output_type": "stream",
     "text": [
      "              precision    recall  f1-score   support\n",
      "\n",
      "           0       0.94      0.88      0.91     61228\n",
      "           1       0.07      0.13      0.09      3988\n",
      "\n",
      "    accuracy                           0.84     65216\n",
      "   macro avg       0.50      0.51      0.50     65216\n",
      "weighted avg       0.89      0.84      0.86     65216\n",
      "\n"
     ]
    }
   ],
   "source": [
    "print(classification_report(y_test, y_pred))"
   ]
  },
  {
   "cell_type": "code",
   "execution_count": 122,
   "metadata": {},
   "outputs": [
    {
     "data": {
      "text/plain": [
       "0.061993779031065996"
      ]
     },
     "execution_count": 122,
     "metadata": {},
     "output_type": "execute_result"
    }
   ],
   "source": [
    "# plot Precision-Recall curve\n",
    "average_precision = average_precision_score(y_test, y_pred)\n",
    "average_precision"
   ]
  },
  {
   "cell_type": "code",
   "execution_count": 123,
   "metadata": {},
   "outputs": [
    {
     "data": {
      "text/plain": [
       "Text(0.5, 1.0, '2-class Precision-Recall curve: AP=0.06')"
      ]
     },
     "execution_count": 123,
     "metadata": {},
     "output_type": "execute_result"
    },
    {
     "data": {
      "image/png": "[encoded data removed]",
      "text/plain": [
       "<Figure size 432x288 with 1 Axes>"
      ]
     },
     "metadata": {
      "needs_background": "light"
     },
     "output_type": "display_data"
    }
   ],
   "source": [
    "disp = plot_precision_recall_curve(xgbmodel, X_test, y_test)\n",
    "disp.ax_.set_title('2-class Precision-Recall curve: '\n",
    "                   'AP={0:0.2f}'.format(average_precision))"
   ]
  },
  {
   "cell_type": "markdown",
   "metadata": {},
   "source": [
    "1. upsampling only on training set, leave test set imblanced\n",
    "2. stratify the spit\n",
    "3. threshold tuning, change from 0.5 to lower\n",
    "4. tuning the GBT, hyperopt"
   ]
  },
  {
   "cell_type": "code",
   "execution_count": null,
   "metadata": {},
   "outputs": [],
   "source": []
  },
  {
   "cell_type": "code",
   "execution_count": null,
   "metadata": {},
   "outputs": [],
   "source": []
  }
 ],
 "metadata": {
  "kernelspec": {
   "display_name": "Python 3",
   "language": "python",
   "name": "python3"
  },
  "language_info": {
   "codemirror_mode": {
    "name": "ipython",
    "version": 3
   },
   "file_extension": ".py",
   "mimetype": "text/x-python",
   "name": "python",
   "nbconvert_exporter": "python",
   "pygments_lexer": "ipython3",
   "version": "3.8.5"
  }
 },
 "nbformat": 4,
 "nbformat_minor": 4
}
